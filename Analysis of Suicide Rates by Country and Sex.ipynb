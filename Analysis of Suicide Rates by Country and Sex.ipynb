{
 "cells": [
  {
   "cell_type": "markdown",
   "metadata": {},
   "source": [
    "\n",
    "![](http://cloud.millenniumpost.in/3852j9Wg4JQzOfJCYmAVLqrN5kPrjxtniGix1153101)"
   ]
  },
  {
   "cell_type": "markdown",
   "metadata": {},
   "source": [
    "# Analysis of Suicide Rates by Country and Sex"
   ]
  },
  {
   "cell_type": "markdown",
   "metadata": {},
   "source": [
    "- <a href='#1'>1. Introduction</a>  \n",
    "- <a href='#2'>2. Retrieving the Data</a>\n",
    "     - <a href='#2.1'>2.1 Importing Libraries</a>\n",
    "     - <a href='#2.2'>2.2 Loading the data</a>\n",
    "- <a href='#3'>3. Data Preparation</a>\n",
    "     - <a href='#3.1'>3.1 Merging the first two databases</a>\n",
    "     - <a href='#3.2'>3.2 Transforming data of the third database</a>\n",
    "     - <a href='#3.3'>3.3 Filling uniform data and fixing wrong data</a>     \n",
    "- <a href='#4'>4. Overview of the Data</a>\n",
    "     - <a href='#4.1'>4.1 Overview of the main database</a>\n",
    "     - <a href='#4.2'>4.2 Overview of the merged database</a>\n",
    "- <a href='#5'>5. Data Exploration</a>\n",
    "    - <a href='#5.1'>5.1 Top countries with the highest suicide rates</a>\n",
    "    - <a href='#5.2'>5.2 Top countries with the highest suicide rates for males</a>\n",
    "    - <a href='#5.3'>5.3 Top countries with the highest suicide rates for females</a>\n",
    "    - <a href='#5.4'>5.4 Top countries with the highest suicide rates by years</a>\n",
    "        - <a href='#5.4.1'>5.4.1 Top countries with highest suicide rate in one year</a>\n",
    "        - <a href='#5.4.2'>5.4.2 Highest Suicide Rates in 2015</a>\n",
    "        - <a href='#5.4.3'>5.4.3 Top countries with the highet suicide rates average since the 90's</a>\n",
    "    - <a href='#5.5'>5.5 Top countries with the highest or lowest male-female ratio of suicide rates</a>\n",
    "    - <a href='#5.6'>5.6 Further analysis on particular countries</a>   \n",
    "- <a href='#6'>6. Summary and Conculsions</a>\n",
    "    - <a href='#6.1'>6.1 Summary of the data presented in the notebook</a>\n",
    "    - <a href='#6.2'>6.2 Conclusions</a>"
   ]
  },
  {
   "cell_type": "markdown",
   "metadata": {},
   "source": [
    "# <a id='1'> 1. Introduction</a>"
   ]
  },
  {
   "cell_type": "markdown",
   "metadata": {},
   "source": [
    "Close to 800 000 people die due to suicide every year, which is one person every 40 seconds. Many more attempt suicide. Suicide occurs throughout the lifespan and is the second leading cause of death among 15-29 year olds globally.\n",
    "\n",
    "Suicide is a global phenomenon; in fact, 78% of suicides occurred in low- and middle-income countries in 2015. Suicide accounted for 1.4% of all deaths worldwide, making it the 17th leading cause of death in 2015. Effective and evidence-based interventions can be implemented at population, sub-population and individual levels to prevent suicide and suicide attempts.\n",
    "\n",
    "There are problems with availablity and accuracy of data about suicides. The data that will be explored and described in this notebook was obtained from several sources:\n",
    "\n",
    "• World Health Organization (WHO) dataset which contains entity wise suicide rates, crude suicide rates per gender and country which are age standardized which has a geographical coverage of 198 countries. The time spanning from 1950-2011.\n",
    "\n",
    "• Samaritans statistics report 2017 including data for 2013-2015, in order to reduce the time, it takes to register deaths, the maximum time between a death and registration is eight days.\n",
    "\n",
    "• American Association of Suicidology facts and statistics which are categorized by age, gender, region and ethnicity.\n",
    "\n",
    "The goal of this data exploration process is to visualize the trends and patterns by merging different datasets available regarding the subject matter from different organizations, and observing the changes in patterns over the years by country, sex and ethnicity."
   ]
  },
  {
   "cell_type": "markdown",
   "metadata": {},
   "source": [
    "# <a id='2'>2. Retrieving the Data</a>"
   ]
  },
  {
   "cell_type": "markdown",
   "metadata": {},
   "source": [
    "## <a id='2.1'>2.1 Importing Libraries</a>"
   ]
  },
  {
   "cell_type": "code",
   "execution_count": 1,
   "metadata": {
    "collapsed": true
   },
   "outputs": [],
   "source": [
    "import random\n",
    "import numpy as np\n",
    "import pandas as pd\n",
    "import matplotlib.pyplot as plt"
   ]
  },
  {
   "cell_type": "code",
   "execution_count": 2,
   "metadata": {
    "collapsed": true
   },
   "outputs": [],
   "source": [
    "import warnings\n",
    "warnings.filterwarnings('ignore') # Shuts down irrelevant userWarnings"
   ]
  },
  {
   "cell_type": "code",
   "execution_count": 3,
   "metadata": {},
   "outputs": [
    {
     "data": {
      "text/html": [
       "<script>requirejs.config({paths: { 'plotly': ['https://cdn.plot.ly/plotly-latest.min']},});if(!window.Plotly) {{require(['plotly'],function(plotly) {window.Plotly=plotly;});}}</script>"
      ],
      "text/vnd.plotly.v1+html": [
       "<script>requirejs.config({paths: { 'plotly': ['https://cdn.plot.ly/plotly-latest.min']},});if(!window.Plotly) {{require(['plotly'],function(plotly) {window.Plotly=plotly;});}}</script>"
      ]
     },
     "metadata": {},
     "output_type": "display_data"
    }
   ],
   "source": [
    "import plotly.offline as py\n",
    "from plotly.offline import init_notebook_mode, iplot\n",
    "init_notebook_mode(connected=True)\n",
    "import plotly.offline as offline\n",
    "import plotly.graph_objs as go"
   ]
  },
  {
   "cell_type": "markdown",
   "metadata": {},
   "source": [
    "## <a id='2.2'>2.2 Loading the data</a>"
   ]
  },
  {
   "cell_type": "code",
   "execution_count": 4,
   "metadata": {
    "collapsed": true
   },
   "outputs": [],
   "source": [
    "sui_sex_ratios = pd.read_csv(\"./Male-Female-Ratio-of-Suicide-Rates.csv\").sort_values(by='Entity', ascending=True)"
   ]
  },
  {
   "cell_type": "code",
   "execution_count": 5,
   "metadata": {
    "collapsed": true
   },
   "outputs": [],
   "source": [
    "sui_both = pd.read_csv(\"./suicide-rates-by-country.csv\").sort_values(by='Entity', ascending=True)"
   ]
  },
  {
   "cell_type": "code",
   "execution_count": 6,
   "metadata": {
    "collapsed": true
   },
   "outputs": [],
   "source": [
    "sui_all = pd.read_csv(\"./SDGSUICIDE.csv\")"
   ]
  },
  {
   "cell_type": "markdown",
   "metadata": {},
   "source": [
    "# <a id='3'>3. Data Preparation</a>"
   ]
  },
  {
   "cell_type": "markdown",
   "metadata": {},
   "source": [
    "## <a id='3.1'>3.1 Merging the first two databases</a>"
   ]
  },
  {
   "cell_type": "code",
   "execution_count": 7,
   "metadata": {
    "collapsed": true
   },
   "outputs": [],
   "source": [
    "# Generatina a merged dataset\n",
    "suicides_merge = pd.merge(sui_sex_ratios, sui_both, how='inner').sort_values(by='Entity', ascending=True)\n",
    "suicides_merge.columns = ['Country', 'Code', 'Year', 'Male-Female ratio', 'Total suicide rate']\n",
    "suicides_merge = suicides_merge.dropna()"
   ]
  },
  {
   "cell_type": "markdown",
   "metadata": {},
   "source": [
    "## <a id='3.2'>3.2 Transforming data of the third database</a>"
   ]
  },
  {
   "cell_type": "code",
   "execution_count": 8,
   "metadata": {
    "collapsed": true
   },
   "outputs": [],
   "source": [
    "sui_all.columns = sui_all.iloc[0].values\n",
    "for i in range (2, 6):\n",
    "    sui_all.columns.values[i] = str(int(sui_all.columns[i]))\n",
    "\n",
    "\n",
    "sui_all = sui_all.drop(0)\n",
    "sui_all.reset_index(drop = True, inplace = True)"
   ]
  },
  {
   "cell_type": "code",
   "execution_count": 9,
   "metadata": {
    "collapsed": true
   },
   "outputs": [],
   "source": [
    "suicides = pd.DataFrame(columns=['Country', 'Male suicide rate', 'Female suicide rate', 'Total suicide rate', 'Year'])\n",
    "Years = ['2000', '2005', '2010', '2015']\n",
    "\n",
    "deleted = []\n",
    "                  \n",
    "for year in Years:\n",
    "    both_df = sui_all[sui_all['Sex'].str.contains(\"Both sexes\")][['Country', year]]\n",
    "    male_df = sui_all[sui_all['Sex'].str.contains(\"Male\")][['Country', year]]\n",
    "    female_df = sui_all[sui_all['Sex'].str.contains(\"Female\")][['Country', year]]\n",
    "\n",
    "    both_df.reset_index(drop = True, inplace = True)\n",
    "    male_df.reset_index(drop = True, inplace = True)\n",
    "    female_df.reset_index(drop = True, inplace = True)\n",
    "    country_df = both_df['Country']\n",
    "\n",
    "    year_df = pd.concat([male_df,female_df,both_df], axis=1)\n",
    "    del year_df['Country'] # To get a dataframe without multiple 'Country' columns\n",
    "\n",
    "    year_df = pd.concat([country_df,year_df], axis=1)\n",
    "    \n",
    "    year_df['Year'] = year # To get a dataframe that includes Country and Year\n",
    "    year_df.columns = ['Country', 'Male suicide rate', 'Female suicide rate', 'Total suicide rate', 'Year']\n",
    "    year_df.replace([0, np.inf], np.nan)\n",
    "    year_df = year_df.dropna()\n",
    "    year_df['Male-Female ratio'] = year_df['Male suicide rate'] / year_df['Female suicide rate']\n",
    "    \n",
    "    suicides = pd.concat([suicides,year_df])\n",
    "suicides.reset_index(drop = True, inplace = True)"
   ]
  },
  {
   "cell_type": "markdown",
   "metadata": {},
   "source": [
    "## <a id='3.3'>3.3 Filling uniform data and fixing wrong data</a>"
   ]
  },
  {
   "cell_type": "code",
   "execution_count": 10,
   "metadata": {
    "collapsed": true
   },
   "outputs": [],
   "source": [
    "suicides = suicides.replace('Republic of Korea', 'South Korea')\n",
    "suicides = suicides.replace('Russian Federation', 'Russia')\n",
    "suicides = suicides.replace('Bolivia (Plurinational State of)', 'Bolivia')\n",
    "suicides = suicides.replace('Democratic People\\'s Republic of Korea', 'North Korea')\n",
    "suicides = suicides.replace('Republic of Moldova', 'Moldova')\n",
    "suicides = suicides.replace('United States of America', 'United States')\n",
    "suicides = suicides.replace('Czechia', 'Czech Republic')\n",
    "suicides = suicides.replace('Lao People\\'s Democratic Republic', 'Laos')\n",
    "suicides = suicides.replace('Micronesia (Federated States of)', 'Micronesia')\n",
    "suicides = suicides.replace('United Kingdom of Great Britain and Northern Ireland', 'United Kingdom')\n",
    "suicides = suicides.replace('The former Yugoslav republic of Macedonia', 'Macedonia')\n",
    "suicides = suicides.replace('Viet Nam', 'Vietnam')\n",
    "suicides = suicides.replace('United Republic of Tanzania', 'Tanzania')\n",
    "suicides = suicides.replace('Iran (Islamic Republic of)', 'Iran')\n",
    "suicides = suicides.replace('Venezuela (Bolivarian Republic of)', 'Venezuela')\n",
    "suicides = suicides.replace('Syrian Arab Republic', 'Syria')\n",
    "suicides = suicides.replace('Brunei Darussalam', 'Brunei')\n",
    "suicides = suicides.replace('Cabo Verde', 'Cape Verde')"
   ]
  },
  {
   "cell_type": "code",
   "execution_count": 11,
   "metadata": {
    "collapsed": true
   },
   "outputs": [],
   "source": [
    "suicides_merge = suicides_merge.replace('Democratic Republic of Congo', 'Democratic Republic of the Congo')\n",
    "suicides_merge = suicides_merge.replace('Timor', 'Timor-Leste')\n",
    "suicides_merge = suicides_merge.replace('Micronesia (country)', 'Micronesia')"
   ]
  },
  {
   "cell_type": "code",
   "execution_count": 12,
   "metadata": {
    "collapsed": true
   },
   "outputs": [],
   "source": [
    "countriesCodes = dict(zip(suicides_merge['Country'].tolist(), suicides_merge['Code'].tolist()))\n",
    "countriesNames = dict(zip(suicides_merge['Code'].tolist(), suicides_merge['Country'].tolist()))"
   ]
  },
  {
   "cell_type": "code",
   "execution_count": 13,
   "metadata": {
    "collapsed": true
   },
   "outputs": [],
   "source": [
    "newCodes = {'South Sudan':'SSD', 'Kiribati':'KIR', 'Montenegro':'MNE', 'Côte d\\'Ivoire':'CIV'}\n",
    "newNames = {'SSD':'South Sudan', 'KIR':'Kiribati', 'MNE':'Montenegro', 'CIV':'Côte d\\'Ivoire'}"
   ]
  },
  {
   "cell_type": "code",
   "execution_count": 14,
   "metadata": {
    "collapsed": true
   },
   "outputs": [],
   "source": [
    "countriesCodes = dict(countriesCodes, **newCodes)\n",
    "countriesNames = dict(countriesNames, **newNames)"
   ]
  },
  {
   "cell_type": "markdown",
   "metadata": {},
   "source": [
    "# <a id='4'>4. Overview of the Data</a>"
   ]
  },
  {
   "cell_type": "markdown",
   "metadata": {},
   "source": [
    "## <a id='4.1'>4.1 Overview of the main database</a>"
   ]
  },
  {
   "cell_type": "code",
   "execution_count": 15,
   "metadata": {},
   "outputs": [
    {
     "name": "stdout",
     "output_type": "stream",
     "text": [
      "Size of the database: (732, 6)\n"
     ]
    }
   ],
   "source": [
    "print(\"Size of the database:\", suicides.shape)"
   ]
  },
  {
   "cell_type": "code",
   "execution_count": 16,
   "metadata": {
    "scrolled": false
   },
   "outputs": [
    {
     "data": {
      "text/html": [
       "<div>\n",
       "<style>\n",
       "    .dataframe thead tr:only-child th {\n",
       "        text-align: right;\n",
       "    }\n",
       "\n",
       "    .dataframe thead th {\n",
       "        text-align: left;\n",
       "    }\n",
       "\n",
       "    .dataframe tbody tr th {\n",
       "        vertical-align: top;\n",
       "    }\n",
       "</style>\n",
       "<table border=\"1\" class=\"dataframe\">\n",
       "  <thead>\n",
       "    <tr style=\"text-align: right;\">\n",
       "      <th></th>\n",
       "      <th>Country</th>\n",
       "      <th>Female suicide rate</th>\n",
       "      <th>Male suicide rate</th>\n",
       "      <th>Male-Female ratio</th>\n",
       "      <th>Total suicide rate</th>\n",
       "      <th>Year</th>\n",
       "    </tr>\n",
       "  </thead>\n",
       "  <tbody>\n",
       "    <tr>\n",
       "      <th>0</th>\n",
       "      <td>Afghanistan</td>\n",
       "      <td>1.7</td>\n",
       "      <td>7.8</td>\n",
       "      <td>4.588235</td>\n",
       "      <td>4.8</td>\n",
       "      <td>2000</td>\n",
       "    </tr>\n",
       "    <tr>\n",
       "      <th>1</th>\n",
       "      <td>Albania</td>\n",
       "      <td>3.0</td>\n",
       "      <td>8.9</td>\n",
       "      <td>2.966667</td>\n",
       "      <td>6.0</td>\n",
       "      <td>2000</td>\n",
       "    </tr>\n",
       "    <tr>\n",
       "      <th>2</th>\n",
       "      <td>Algeria</td>\n",
       "      <td>2.0</td>\n",
       "      <td>4.0</td>\n",
       "      <td>2.000000</td>\n",
       "      <td>3.0</td>\n",
       "      <td>2000</td>\n",
       "    </tr>\n",
       "    <tr>\n",
       "      <th>3</th>\n",
       "      <td>Angola</td>\n",
       "      <td>9.3</td>\n",
       "      <td>27.8</td>\n",
       "      <td>2.989247</td>\n",
       "      <td>18.4</td>\n",
       "      <td>2000</td>\n",
       "    </tr>\n",
       "    <tr>\n",
       "      <th>4</th>\n",
       "      <td>Antigua and Barbuda</td>\n",
       "      <td>0.1</td>\n",
       "      <td>4.9</td>\n",
       "      <td>49.000000</td>\n",
       "      <td>2.3</td>\n",
       "      <td>2000</td>\n",
       "    </tr>\n",
       "  </tbody>\n",
       "</table>\n",
       "</div>"
      ],
      "text/plain": [
       "               Country  Female suicide rate  Male suicide rate  \\\n",
       "0          Afghanistan                  1.7                7.8   \n",
       "1              Albania                  3.0                8.9   \n",
       "2              Algeria                  2.0                4.0   \n",
       "3               Angola                  9.3               27.8   \n",
       "4  Antigua and Barbuda                  0.1                4.9   \n",
       "\n",
       "   Male-Female ratio  Total suicide rate  Year  \n",
       "0           4.588235                 4.8  2000  \n",
       "1           2.966667                 6.0  2000  \n",
       "2           2.000000                 3.0  2000  \n",
       "3           2.989247                18.4  2000  \n",
       "4          49.000000                 2.3  2000  "
      ]
     },
     "execution_count": 16,
     "metadata": {},
     "output_type": "execute_result"
    }
   ],
   "source": [
    "suicides.head()"
   ]
  },
  {
   "cell_type": "markdown",
   "metadata": {},
   "source": [
    "**Statistical information about the data**"
   ]
  },
  {
   "cell_type": "code",
   "execution_count": 17,
   "metadata": {
    "scrolled": true
   },
   "outputs": [
    {
     "data": {
      "text/html": [
       "<div>\n",
       "<style>\n",
       "    .dataframe thead tr:only-child th {\n",
       "        text-align: right;\n",
       "    }\n",
       "\n",
       "    .dataframe thead th {\n",
       "        text-align: left;\n",
       "    }\n",
       "\n",
       "    .dataframe tbody tr th {\n",
       "        vertical-align: top;\n",
       "    }\n",
       "</style>\n",
       "<table border=\"1\" class=\"dataframe\">\n",
       "  <thead>\n",
       "    <tr style=\"text-align: right;\">\n",
       "      <th></th>\n",
       "      <th>Female suicide rate</th>\n",
       "      <th>Male suicide rate</th>\n",
       "      <th>Male-Female ratio</th>\n",
       "      <th>Total suicide rate</th>\n",
       "    </tr>\n",
       "  </thead>\n",
       "  <tbody>\n",
       "    <tr>\n",
       "      <th>count</th>\n",
       "      <td>732.000000</td>\n",
       "      <td>732.000000</td>\n",
       "      <td>731.000000</td>\n",
       "      <td>732.000000</td>\n",
       "    </tr>\n",
       "    <tr>\n",
       "      <th>mean</th>\n",
       "      <td>5.386612</td>\n",
       "      <td>16.053279</td>\n",
       "      <td>inf</td>\n",
       "      <td>10.636749</td>\n",
       "    </tr>\n",
       "    <tr>\n",
       "      <th>std</th>\n",
       "      <td>3.663378</td>\n",
       "      <td>12.118047</td>\n",
       "      <td>NaN</td>\n",
       "      <td>7.319547</td>\n",
       "    </tr>\n",
       "    <tr>\n",
       "      <th>min</th>\n",
       "      <td>0.000000</td>\n",
       "      <td>0.000000</td>\n",
       "      <td>0.000000</td>\n",
       "      <td>0.000000</td>\n",
       "    </tr>\n",
       "    <tr>\n",
       "      <th>25%</th>\n",
       "      <td>2.700000</td>\n",
       "      <td>8.600000</td>\n",
       "      <td>2.310728</td>\n",
       "      <td>5.900000</td>\n",
       "    </tr>\n",
       "    <tr>\n",
       "      <th>50%</th>\n",
       "      <td>4.600000</td>\n",
       "      <td>13.100000</td>\n",
       "      <td>2.951220</td>\n",
       "      <td>8.800000</td>\n",
       "    </tr>\n",
       "    <tr>\n",
       "      <th>75%</th>\n",
       "      <td>7.100000</td>\n",
       "      <td>20.300000</td>\n",
       "      <td>3.790570</td>\n",
       "      <td>13.400000</td>\n",
       "    </tr>\n",
       "    <tr>\n",
       "      <th>max</th>\n",
       "      <td>22.900000</td>\n",
       "      <td>86.100000</td>\n",
       "      <td>inf</td>\n",
       "      <td>50.100000</td>\n",
       "    </tr>\n",
       "  </tbody>\n",
       "</table>\n",
       "</div>"
      ],
      "text/plain": [
       "       Female suicide rate  Male suicide rate  Male-Female ratio  \\\n",
       "count           732.000000         732.000000         731.000000   \n",
       "mean              5.386612          16.053279                inf   \n",
       "std               3.663378          12.118047                NaN   \n",
       "min               0.000000           0.000000           0.000000   \n",
       "25%               2.700000           8.600000           2.310728   \n",
       "50%               4.600000          13.100000           2.951220   \n",
       "75%               7.100000          20.300000           3.790570   \n",
       "max              22.900000          86.100000                inf   \n",
       "\n",
       "       Total suicide rate  \n",
       "count          732.000000  \n",
       "mean            10.636749  \n",
       "std              7.319547  \n",
       "min              0.000000  \n",
       "25%              5.900000  \n",
       "50%              8.800000  \n",
       "75%             13.400000  \n",
       "max             50.100000  "
      ]
     },
     "execution_count": 17,
     "metadata": {},
     "output_type": "execute_result"
    }
   ],
   "source": [
    "suicides.describe()"
   ]
  },
  {
   "cell_type": "markdown",
   "metadata": {},
   "source": [
    "**Information about the data types**"
   ]
  },
  {
   "cell_type": "code",
   "execution_count": 18,
   "metadata": {
    "scrolled": true
   },
   "outputs": [
    {
     "name": "stdout",
     "output_type": "stream",
     "text": [
      "<class 'pandas.core.frame.DataFrame'>\n",
      "RangeIndex: 732 entries, 0 to 731\n",
      "Data columns (total 6 columns):\n",
      "Country                732 non-null object\n",
      "Female suicide rate    732 non-null float64\n",
      "Male suicide rate      732 non-null float64\n",
      "Male-Female ratio      731 non-null float64\n",
      "Total suicide rate     732 non-null float64\n",
      "Year                   732 non-null object\n",
      "dtypes: float64(4), object(2)\n",
      "memory usage: 34.4+ KB\n"
     ]
    }
   ],
   "source": [
    "suicides.info()"
   ]
  },
  {
   "cell_type": "markdown",
   "metadata": {},
   "source": [
    "## <a id='4.2'>4.2 Overview of the merged database</a>"
   ]
  },
  {
   "cell_type": "code",
   "execution_count": 19,
   "metadata": {},
   "outputs": [
    {
     "name": "stdout",
     "output_type": "stream",
     "text": [
      "Size of the merged database: (2504, 5)\n"
     ]
    }
   ],
   "source": [
    "print(\"Size of the merged database:\", suicides_merge.shape)"
   ]
  },
  {
   "cell_type": "code",
   "execution_count": 20,
   "metadata": {
    "scrolled": false
   },
   "outputs": [
    {
     "data": {
      "text/html": [
       "<div>\n",
       "<style>\n",
       "    .dataframe thead tr:only-child th {\n",
       "        text-align: right;\n",
       "    }\n",
       "\n",
       "    .dataframe thead th {\n",
       "        text-align: left;\n",
       "    }\n",
       "\n",
       "    .dataframe tbody tr th {\n",
       "        vertical-align: top;\n",
       "    }\n",
       "</style>\n",
       "<table border=\"1\" class=\"dataframe\">\n",
       "  <thead>\n",
       "    <tr style=\"text-align: right;\">\n",
       "      <th></th>\n",
       "      <th>Country</th>\n",
       "      <th>Code</th>\n",
       "      <th>Year</th>\n",
       "      <th>Male-Female ratio</th>\n",
       "      <th>Total suicide rate</th>\n",
       "    </tr>\n",
       "  </thead>\n",
       "  <tbody>\n",
       "    <tr>\n",
       "      <th>0</th>\n",
       "      <td>Afghanistan</td>\n",
       "      <td>AFG</td>\n",
       "      <td>2004</td>\n",
       "      <td>0.566016</td>\n",
       "      <td>6.684385</td>\n",
       "    </tr>\n",
       "    <tr>\n",
       "      <th>1</th>\n",
       "      <td>Albania</td>\n",
       "      <td>ALB</td>\n",
       "      <td>2004</td>\n",
       "      <td>1.539476</td>\n",
       "      <td>7.699330</td>\n",
       "    </tr>\n",
       "    <tr>\n",
       "      <th>2</th>\n",
       "      <td>Algeria</td>\n",
       "      <td>DZA</td>\n",
       "      <td>2004</td>\n",
       "      <td>1.118298</td>\n",
       "      <td>4.848770</td>\n",
       "    </tr>\n",
       "    <tr>\n",
       "      <th>3</th>\n",
       "      <td>Andorra</td>\n",
       "      <td>AND</td>\n",
       "      <td>2004</td>\n",
       "      <td>2.772599</td>\n",
       "      <td>5.362179</td>\n",
       "    </tr>\n",
       "    <tr>\n",
       "      <th>4</th>\n",
       "      <td>Angola</td>\n",
       "      <td>AGO</td>\n",
       "      <td>2004</td>\n",
       "      <td>2.636721</td>\n",
       "      <td>14.554677</td>\n",
       "    </tr>\n",
       "  </tbody>\n",
       "</table>\n",
       "</div>"
      ],
      "text/plain": [
       "       Country Code  Year  Male-Female ratio  Total suicide rate\n",
       "0  Afghanistan  AFG  2004           0.566016            6.684385\n",
       "1      Albania  ALB  2004           1.539476            7.699330\n",
       "2      Algeria  DZA  2004           1.118298            4.848770\n",
       "3      Andorra  AND  2004           2.772599            5.362179\n",
       "4       Angola  AGO  2004           2.636721           14.554677"
      ]
     },
     "execution_count": 20,
     "metadata": {},
     "output_type": "execute_result"
    }
   ],
   "source": [
    "suicides_merge.head()"
   ]
  },
  {
   "cell_type": "markdown",
   "metadata": {},
   "source": [
    "**Statistical information about the data**"
   ]
  },
  {
   "cell_type": "code",
   "execution_count": 21,
   "metadata": {
    "scrolled": true
   },
   "outputs": [
    {
     "data": {
      "text/html": [
       "<div>\n",
       "<style>\n",
       "    .dataframe thead tr:only-child th {\n",
       "        text-align: right;\n",
       "    }\n",
       "\n",
       "    .dataframe thead th {\n",
       "        text-align: left;\n",
       "    }\n",
       "\n",
       "    .dataframe tbody tr th {\n",
       "        vertical-align: top;\n",
       "    }\n",
       "</style>\n",
       "<table border=\"1\" class=\"dataframe\">\n",
       "  <thead>\n",
       "    <tr style=\"text-align: right;\">\n",
       "      <th></th>\n",
       "      <th>Year</th>\n",
       "      <th>Male-Female ratio</th>\n",
       "      <th>Total suicide rate</th>\n",
       "    </tr>\n",
       "  </thead>\n",
       "  <tbody>\n",
       "    <tr>\n",
       "      <th>count</th>\n",
       "      <td>2504.00000</td>\n",
       "      <td>2504.000000</td>\n",
       "      <td>2504.000000</td>\n",
       "    </tr>\n",
       "    <tr>\n",
       "      <th>mean</th>\n",
       "      <td>1983.09385</td>\n",
       "      <td>3.532856</td>\n",
       "      <td>12.332456</td>\n",
       "    </tr>\n",
       "    <tr>\n",
       "      <th>std</th>\n",
       "      <td>15.28066</td>\n",
       "      <td>2.630555</td>\n",
       "      <td>7.864163</td>\n",
       "    </tr>\n",
       "    <tr>\n",
       "      <th>min</th>\n",
       "      <td>1950.00000</td>\n",
       "      <td>0.000000</td>\n",
       "      <td>0.038377</td>\n",
       "    </tr>\n",
       "    <tr>\n",
       "      <th>25%</th>\n",
       "      <td>1971.00000</td>\n",
       "      <td>2.477697</td>\n",
       "      <td>6.411563</td>\n",
       "    </tr>\n",
       "    <tr>\n",
       "      <th>50%</th>\n",
       "      <td>1986.00000</td>\n",
       "      <td>3.133253</td>\n",
       "      <td>11.043740</td>\n",
       "    </tr>\n",
       "    <tr>\n",
       "      <th>75%</th>\n",
       "      <td>1996.00000</td>\n",
       "      <td>4.156865</td>\n",
       "      <td>16.750988</td>\n",
       "    </tr>\n",
       "    <tr>\n",
       "      <th>max</th>\n",
       "      <td>2004.00000</td>\n",
       "      <td>104.514093</td>\n",
       "      <td>44.352120</td>\n",
       "    </tr>\n",
       "  </tbody>\n",
       "</table>\n",
       "</div>"
      ],
      "text/plain": [
       "             Year  Male-Female ratio  Total suicide rate\n",
       "count  2504.00000        2504.000000         2504.000000\n",
       "mean   1983.09385           3.532856           12.332456\n",
       "std      15.28066           2.630555            7.864163\n",
       "min    1950.00000           0.000000            0.038377\n",
       "25%    1971.00000           2.477697            6.411563\n",
       "50%    1986.00000           3.133253           11.043740\n",
       "75%    1996.00000           4.156865           16.750988\n",
       "max    2004.00000         104.514093           44.352120"
      ]
     },
     "execution_count": 21,
     "metadata": {},
     "output_type": "execute_result"
    }
   ],
   "source": [
    "suicides_merge.describe()"
   ]
  },
  {
   "cell_type": "markdown",
   "metadata": {},
   "source": [
    "**Information about the data types**"
   ]
  },
  {
   "cell_type": "code",
   "execution_count": 22,
   "metadata": {
    "scrolled": true
   },
   "outputs": [
    {
     "name": "stdout",
     "output_type": "stream",
     "text": [
      "<class 'pandas.core.frame.DataFrame'>\n",
      "Int64Index: 2504 entries, 0 to 2503\n",
      "Data columns (total 5 columns):\n",
      "Country               2504 non-null object\n",
      "Code                  2504 non-null object\n",
      "Year                  2504 non-null int64\n",
      "Male-Female ratio     2504 non-null float64\n",
      "Total suicide rate    2504 non-null float64\n",
      "dtypes: float64(2), int64(1), object(2)\n",
      "memory usage: 117.4+ KB\n"
     ]
    }
   ],
   "source": [
    "suicides_merge.info()"
   ]
  },
  {
   "cell_type": "markdown",
   "metadata": {},
   "source": [
    "# <a id='5'>5. Data Exploration</a>"
   ]
  },
  {
   "cell_type": "code",
   "execution_count": 23,
   "metadata": {
    "collapsed": true
   },
   "outputs": [],
   "source": [
    "mask2000 = suicides['Year'].astype(int) == 2000\n",
    "mask2005 = suicides['Year'].astype(int) == 2005\n",
    "mask2010 = suicides['Year'].astype(int) == 2010\n",
    "mask2015 = suicides['Year'].astype(int) == 2015\n",
    "maskSince1990 = suicides_merge['Year'].astype(int) >= 1990"
   ]
  },
  {
   "cell_type": "markdown",
   "metadata": {},
   "source": [
    "## <a id='5.1'>5.1 Top countries with the highest suicide rates</a>"
   ]
  },
  {
   "cell_type": "code",
   "execution_count": 24,
   "metadata": {
    "collapsed": true,
    "scrolled": false
   },
   "outputs": [],
   "source": [
    "total2000 = suicides[mask2000][['Country', 'Total suicide rate']].sort_values(by='Total suicide rate', ascending=False)\n",
    "total2005 = suicides[mask2005][['Country', 'Total suicide rate']].sort_values(by='Total suicide rate', ascending=False)\n",
    "total2010 = suicides[mask2010][['Country', 'Total suicide rate']].sort_values(by='Total suicide rate', ascending=False)\n",
    "total2015 = suicides[mask2015][['Country', 'Total suicide rate']].sort_values(by='Total suicide rate', ascending=False)"
   ]
  },
  {
   "cell_type": "code",
   "execution_count": 25,
   "metadata": {
    "scrolled": false
   },
   "outputs": [
    {
     "data": {
      "application/vnd.plotly.v1+json": {
       "data": [
        {
         "marker": {
          "color": "rgb(129, 67, 116)"
         },
         "name": "2000",
         "type": "bar",
         "x": [
          "Lithuania",
          "Belarus",
          "Kazakhstan",
          "Sri Lanka",
          "Mongolia",
          "Suriname",
          "Equatorial Guinea",
          "Guyana",
          "Poland",
          "South Korea"
         ],
         "y": [
          50.1,
          41.9,
          38,
          36.4,
          27.1,
          25.7,
          22.6,
          22.3,
          20.7,
          14.8
         ]
        },
        {
         "marker": {
          "color": "rgb(81, 163, 157)"
         },
         "name": "2005",
         "type": "bar",
         "x": [
          "Lithuania",
          "Belarus",
          "Mongolia",
          "Sri Lanka",
          "Kazakhstan",
          "Suriname",
          "South Korea",
          "Guyana",
          "Poland",
          "Equatorial Guinea"
         ],
         "y": [
          41.2,
          36.1,
          31.6,
          30.5,
          30.5,
          28.1,
          27.2,
          24,
          22.4,
          21.4
         ]
        },
        {
         "marker": {
          "color": "rgb( 183, 105, 92)"
         },
         "name": "2010",
         "type": "bar",
         "x": [
          "South Korea",
          "Lithuania",
          "Mongolia",
          "Sri Lanka",
          "Suriname",
          "Belarus",
          "Kazakhstan",
          "Guyana",
          "Equatorial Guinea",
          "Poland"
         ],
         "y": [
          34.1,
          33.9,
          32.9,
          28.6,
          28.1,
          27.9,
          26.6,
          25.8,
          23.3,
          23.1
         ]
        },
        {
         "marker": {
          "color": "rgb(205, 187, 121)"
         },
         "name": "2015",
         "type": "bar",
         "x": [
          "Sri Lanka",
          "Lithuania",
          "Guyana",
          "Mongolia",
          "South Korea",
          "Kazakhstan",
          "Suriname",
          "Belarus",
          "Equatorial Guinea",
          "Poland"
         ],
         "y": [
          35.3,
          32.7,
          29,
          28.3,
          28.3,
          27.5,
          26.6,
          22.8,
          22.6,
          22.3
         ]
        }
       ],
       "layout": {
        "bargap": 0.15,
        "bargroupgap": 0.1,
        "barmode": "group",
        "title": "Top countries with the highest suicide rates for both sexes",
        "xaxis": {
         "title": "Countries"
        },
        "yaxis": {
         "title": "Suicide rate (per 100,000 people)"
        }
       }
      },
      "text/html": [
       "<div id=\"6664adcc-eb5a-45ac-851d-d297cbf1168d\" style=\"height: 525px; width: 100%;\" class=\"plotly-graph-div\"></div><script type=\"text/javascript\">require([\"plotly\"], function(Plotly) { window.PLOTLYENV=window.PLOTLYENV || {};window.PLOTLYENV.BASE_URL=\"https://plot.ly\";Plotly.newPlot(\"6664adcc-eb5a-45ac-851d-d297cbf1168d\", [{\"type\": \"bar\", \"x\": [\"Lithuania\", \"Belarus\", \"Kazakhstan\", \"Sri Lanka\", \"Mongolia\", \"Suriname\", \"Equatorial Guinea\", \"Guyana\", \"Poland\", \"South Korea\"], \"y\": [50.1, 41.9, 38.0, 36.4, 27.1, 25.7, 22.6, 22.3, 20.7, 14.8], \"marker\": {\"color\": \"rgb(129, 67, 116)\"}, \"name\": \"2000\"}, {\"type\": \"bar\", \"x\": [\"Lithuania\", \"Belarus\", \"Mongolia\", \"Sri Lanka\", \"Kazakhstan\", \"Suriname\", \"South Korea\", \"Guyana\", \"Poland\", \"Equatorial Guinea\"], \"y\": [41.2, 36.1, 31.6, 30.5, 30.5, 28.1, 27.2, 24.0, 22.4, 21.4], \"marker\": {\"color\": \"rgb(81, 163, 157)\"}, \"name\": \"2005\"}, {\"type\": \"bar\", \"x\": [\"South Korea\", \"Lithuania\", \"Mongolia\", \"Sri Lanka\", \"Suriname\", \"Belarus\", \"Kazakhstan\", \"Guyana\", \"Equatorial Guinea\", \"Poland\"], \"y\": [34.1, 33.9, 32.9, 28.6, 28.1, 27.9, 26.6, 25.8, 23.3, 23.1], \"marker\": {\"color\": \"rgb( 183, 105, 92)\"}, \"name\": \"2010\"}, {\"type\": \"bar\", \"x\": [\"Sri Lanka\", \"Lithuania\", \"Guyana\", \"Mongolia\", \"South Korea\", \"Kazakhstan\", \"Suriname\", \"Belarus\", \"Equatorial Guinea\", \"Poland\"], \"y\": [35.3, 32.7, 29.0, 28.3, 28.3, 27.5, 26.6, 22.8, 22.6, 22.3], \"marker\": {\"color\": \"rgb(205, 187, 121)\"}, \"name\": \"2015\"}], {\"title\": \"Top countries with the highest suicide rates for both sexes\", \"xaxis\": {\"title\": \"Countries\"}, \"yaxis\": {\"title\": \"Suicide rate (per 100,000 people)\"}, \"barmode\": \"group\", \"bargap\": 0.15, \"bargroupgap\": 0.1}, {\"showLink\": true, \"linkText\": \"Export to plot.ly\"})});</script>"
      ],
      "text/vnd.plotly.v1+html": [
       "<div id=\"6664adcc-eb5a-45ac-851d-d297cbf1168d\" style=\"height: 525px; width: 100%;\" class=\"plotly-graph-div\"></div><script type=\"text/javascript\">require([\"plotly\"], function(Plotly) { window.PLOTLYENV=window.PLOTLYENV || {};window.PLOTLYENV.BASE_URL=\"https://plot.ly\";Plotly.newPlot(\"6664adcc-eb5a-45ac-851d-d297cbf1168d\", [{\"type\": \"bar\", \"x\": [\"Lithuania\", \"Belarus\", \"Kazakhstan\", \"Sri Lanka\", \"Mongolia\", \"Suriname\", \"Equatorial Guinea\", \"Guyana\", \"Poland\", \"South Korea\"], \"y\": [50.1, 41.9, 38.0, 36.4, 27.1, 25.7, 22.6, 22.3, 20.7, 14.8], \"marker\": {\"color\": \"rgb(129, 67, 116)\"}, \"name\": \"2000\"}, {\"type\": \"bar\", \"x\": [\"Lithuania\", \"Belarus\", \"Mongolia\", \"Sri Lanka\", \"Kazakhstan\", \"Suriname\", \"South Korea\", \"Guyana\", \"Poland\", \"Equatorial Guinea\"], \"y\": [41.2, 36.1, 31.6, 30.5, 30.5, 28.1, 27.2, 24.0, 22.4, 21.4], \"marker\": {\"color\": \"rgb(81, 163, 157)\"}, \"name\": \"2005\"}, {\"type\": \"bar\", \"x\": [\"South Korea\", \"Lithuania\", \"Mongolia\", \"Sri Lanka\", \"Suriname\", \"Belarus\", \"Kazakhstan\", \"Guyana\", \"Equatorial Guinea\", \"Poland\"], \"y\": [34.1, 33.9, 32.9, 28.6, 28.1, 27.9, 26.6, 25.8, 23.3, 23.1], \"marker\": {\"color\": \"rgb( 183, 105, 92)\"}, \"name\": \"2010\"}, {\"type\": \"bar\", \"x\": [\"Sri Lanka\", \"Lithuania\", \"Guyana\", \"Mongolia\", \"South Korea\", \"Kazakhstan\", \"Suriname\", \"Belarus\", \"Equatorial Guinea\", \"Poland\"], \"y\": [35.3, 32.7, 29.0, 28.3, 28.3, 27.5, 26.6, 22.8, 22.6, 22.3], \"marker\": {\"color\": \"rgb(205, 187, 121)\"}, \"name\": \"2015\"}], {\"title\": \"Top countries with the highest suicide rates for both sexes\", \"xaxis\": {\"title\": \"Countries\"}, \"yaxis\": {\"title\": \"Suicide rate (per 100,000 people)\"}, \"barmode\": \"group\", \"bargap\": 0.15, \"bargroupgap\": 0.1}, {\"showLink\": true, \"linkText\": \"Export to plot.ly\"})});</script>"
      ]
     },
     "metadata": {},
     "output_type": "display_data"
    }
   ],
   "source": [
    "t2000 = go.Bar(\n",
    "    x = total2000[total2000['Country'].isin(total2015['Country'].head(10))]['Country'].head(10),\n",
    "    y = total2000[total2000['Country'].isin(total2015['Country'].head(10))]['Total suicide rate'].head(10),\n",
    "    marker=dict(color='rgb(129, 67, 116)'),\n",
    "    name = '2000'\n",
    ")\n",
    "\n",
    "t2005 = go.Bar(\n",
    "    x = total2005[total2005['Country'].isin(total2015['Country'].head(10))]['Country'].head(10),\n",
    "    y = total2005[total2005['Country'].isin(total2015['Country'].head(10))]['Total suicide rate'].head(10),\n",
    "    marker=dict(color='rgb(81, 163, 157)'),\n",
    "    name = '2005'\n",
    ")\n",
    "\n",
    "t2010 = go.Bar(\n",
    "    x = total2010[total2010['Country'].isin(total2015['Country'].head(10))]['Country'].head(10),\n",
    "    y = total2010[total2010['Country'].isin(total2015['Country'].head(10))]['Total suicide rate'].head(10),\n",
    "    marker=dict(color='rgb( 183, 105, 92)'),\n",
    "    name = '2010'\n",
    ")\n",
    "\n",
    "t2015 = go.Bar(\n",
    "    x = total2015['Country'].head(10),\n",
    "    y = total2015['Total suicide rate'].head(10),\n",
    "    marker=dict(color='rgb(205, 187, 121)',\n",
    "    ),\n",
    "    name = '2015'\n",
    ")\n",
    "\n",
    "\n",
    "data = [t2000, t2005, t2010, t2015]\n",
    "\n",
    "layout = go.Layout(\n",
    "    title='Top countries with the highest suicide rates for both sexes',\n",
    "    xaxis={'title':'Countries'},\n",
    "    yaxis={'title':'Suicide rate (per 100,000 people)'},\n",
    "    barmode='group',\n",
    "    bargap=0.15,\n",
    "    bargroupgap=0.1\n",
    ")\n",
    "\n",
    "fig = go.Figure(data=data, layout=layout)\n",
    "py.iplot(fig, filename='basic-bar')"
   ]
  },
  {
   "cell_type": "markdown",
   "metadata": {},
   "source": [
    "**Top 10 countries with the highest suicide rates for both sexes:**\n",
    "\n",
    "*(Top 10 in 2015, although data is shown for 2000, 2005, 2010 and 2015 and ordered by the data from 2000)*\n",
    "\n",
    "* Lithuania\n",
    "* Belarus\n",
    "* Kazakhstan\n",
    "* Sri Lanka\n",
    "* Mongolia\n",
    "* Suriname\n",
    "* Equatorial Guinea\n",
    "* Guyana\n",
    "* Poland\n",
    "* South Korea"
   ]
  },
  {
   "cell_type": "markdown",
   "metadata": {},
   "source": [
    "## <a id='5.2'>5.2 Top countries with the highest suicide rates for males</a>"
   ]
  },
  {
   "cell_type": "code",
   "execution_count": 26,
   "metadata": {
    "collapsed": true
   },
   "outputs": [],
   "source": [
    "male2000 = suicides[mask2000][['Country', 'Male suicide rate']].sort_values(by='Male suicide rate', ascending=False)\n",
    "male2005 = suicides[mask2005][['Country', 'Male suicide rate']].sort_values(by='Male suicide rate', ascending=False)\n",
    "male2010 = suicides[mask2010][['Country', 'Male suicide rate']].sort_values(by='Male suicide rate', ascending=False)\n",
    "male2015 = suicides[mask2015][['Country', 'Male suicide rate']].sort_values(by='Male suicide rate', ascending=False)"
   ]
  },
  {
   "cell_type": "code",
   "execution_count": 27,
   "metadata": {
    "scrolled": false
   },
   "outputs": [
    {
     "data": {
      "application/vnd.plotly.v1+json": {
       "data": [
        {
         "marker": {
          "color": "rgb(55, 83, 109)"
         },
         "name": "2000",
         "type": "bar",
         "x": [
          "Lithuania",
          "Belarus",
          "Kazakhstan",
          "Latvia",
          "Sri Lanka",
          "Mongolia",
          "Suriname",
          "Poland",
          "Guyana",
          "South Korea"
         ],
         "y": [
          86.1,
          74.8,
          65.6,
          63.6,
          55.4,
          43.2,
          40.3,
          35.7,
          33.6,
          20.3
         ]
        },
        {
         "marker": {
          "color": "rgb(133, 133, 173)"
         },
         "name": "2005",
         "type": "bar",
         "x": [
          "Lithuania",
          "Belarus",
          "Mongolia",
          "Kazakhstan",
          "Latvia",
          "Sri Lanka",
          "Suriname",
          "Poland",
          "South Korea",
          "Guyana"
         ],
         "y": [
          72.7,
          63.6,
          53.3,
          53.1,
          47.5,
          46.6,
          45.8,
          39.6,
          36.4,
          35.9
         ]
        },
        {
         "marker": {
          "color": "rgb(101, 190, 190)"
         },
         "name": "2010",
         "type": "bar",
         "x": [
          "Lithuania",
          "Mongolia",
          "Belarus",
          "Sri Lanka",
          "South Korea",
          "Kazakhstan",
          "Suriname",
          "Latvia",
          "Poland",
          "Guyana"
         ],
         "y": [
          59.9,
          54.8,
          49.9,
          46.5,
          45.5,
          45.3,
          43.5,
          43.4,
          41.1,
          38.4
         ]
        },
        {
         "marker": {
          "color": "rgb(26, 118, 255)"
         },
         "name": "2015",
         "type": "bar",
         "x": [
          "Sri Lanka",
          "Lithuania",
          "Mongolia",
          "Kazakhstan",
          "Guyana",
          "Belarus",
          "Suriname",
          "South Korea",
          "Poland",
          "Latvia"
         ],
         "y": [
          58.7,
          58,
          47.8,
          46.8,
          42.4,
          41,
          40.5,
          40.4,
          39.2,
          39.1
         ]
        }
       ],
       "layout": {
        "bargap": 0.15,
        "bargroupgap": 0.1,
        "barmode": "group",
        "title": "Top countries with the highest suicide rates for males",
        "xaxis": {
         "title": "Countries"
        },
        "yaxis": {
         "title": "Suicide rate (per 100,000 people)"
        }
       }
      },
      "text/html": [
       "<div id=\"ec96e3f0-38dd-44c3-8665-4da5d61abbae\" style=\"height: 525px; width: 100%;\" class=\"plotly-graph-div\"></div><script type=\"text/javascript\">require([\"plotly\"], function(Plotly) { window.PLOTLYENV=window.PLOTLYENV || {};window.PLOTLYENV.BASE_URL=\"https://plot.ly\";Plotly.newPlot(\"ec96e3f0-38dd-44c3-8665-4da5d61abbae\", [{\"type\": \"bar\", \"x\": [\"Lithuania\", \"Belarus\", \"Kazakhstan\", \"Latvia\", \"Sri Lanka\", \"Mongolia\", \"Suriname\", \"Poland\", \"Guyana\", \"South Korea\"], \"y\": [86.1, 74.8, 65.6, 63.6, 55.4, 43.2, 40.3, 35.7, 33.6, 20.3], \"marker\": {\"color\": \"rgb(55, 83, 109)\"}, \"name\": \"2000\"}, {\"type\": \"bar\", \"x\": [\"Lithuania\", \"Belarus\", \"Mongolia\", \"Kazakhstan\", \"Latvia\", \"Sri Lanka\", \"Suriname\", \"Poland\", \"South Korea\", \"Guyana\"], \"y\": [72.7, 63.6, 53.3, 53.1, 47.5, 46.6, 45.8, 39.6, 36.4, 35.9], \"marker\": {\"color\": \"rgb(133, 133, 173)\"}, \"name\": \"2005\"}, {\"type\": \"bar\", \"x\": [\"Lithuania\", \"Mongolia\", \"Belarus\", \"Sri Lanka\", \"South Korea\", \"Kazakhstan\", \"Suriname\", \"Latvia\", \"Poland\", \"Guyana\"], \"y\": [59.9, 54.8, 49.9, 46.5, 45.5, 45.3, 43.5, 43.4, 41.1, 38.4], \"marker\": {\"color\": \"rgb(101, 190, 190)\"}, \"name\": \"2010\"}, {\"type\": \"bar\", \"x\": [\"Sri Lanka\", \"Lithuania\", \"Mongolia\", \"Kazakhstan\", \"Guyana\", \"Belarus\", \"Suriname\", \"South Korea\", \"Poland\", \"Latvia\"], \"y\": [58.7, 58.0, 47.8, 46.8, 42.4, 41.0, 40.5, 40.4, 39.2, 39.1], \"marker\": {\"color\": \"rgb(26, 118, 255)\"}, \"name\": \"2015\"}], {\"title\": \"Top countries with the highest suicide rates for males\", \"xaxis\": {\"title\": \"Countries\"}, \"yaxis\": {\"title\": \"Suicide rate (per 100,000 people)\"}, \"barmode\": \"group\", \"bargap\": 0.15, \"bargroupgap\": 0.1}, {\"showLink\": true, \"linkText\": \"Export to plot.ly\"})});</script>"
      ],
      "text/vnd.plotly.v1+html": [
       "<div id=\"ec96e3f0-38dd-44c3-8665-4da5d61abbae\" style=\"height: 525px; width: 100%;\" class=\"plotly-graph-div\"></div><script type=\"text/javascript\">require([\"plotly\"], function(Plotly) { window.PLOTLYENV=window.PLOTLYENV || {};window.PLOTLYENV.BASE_URL=\"https://plot.ly\";Plotly.newPlot(\"ec96e3f0-38dd-44c3-8665-4da5d61abbae\", [{\"type\": \"bar\", \"x\": [\"Lithuania\", \"Belarus\", \"Kazakhstan\", \"Latvia\", \"Sri Lanka\", \"Mongolia\", \"Suriname\", \"Poland\", \"Guyana\", \"South Korea\"], \"y\": [86.1, 74.8, 65.6, 63.6, 55.4, 43.2, 40.3, 35.7, 33.6, 20.3], \"marker\": {\"color\": \"rgb(55, 83, 109)\"}, \"name\": \"2000\"}, {\"type\": \"bar\", \"x\": [\"Lithuania\", \"Belarus\", \"Mongolia\", \"Kazakhstan\", \"Latvia\", \"Sri Lanka\", \"Suriname\", \"Poland\", \"South Korea\", \"Guyana\"], \"y\": [72.7, 63.6, 53.3, 53.1, 47.5, 46.6, 45.8, 39.6, 36.4, 35.9], \"marker\": {\"color\": \"rgb(133, 133, 173)\"}, \"name\": \"2005\"}, {\"type\": \"bar\", \"x\": [\"Lithuania\", \"Mongolia\", \"Belarus\", \"Sri Lanka\", \"South Korea\", \"Kazakhstan\", \"Suriname\", \"Latvia\", \"Poland\", \"Guyana\"], \"y\": [59.9, 54.8, 49.9, 46.5, 45.5, 45.3, 43.5, 43.4, 41.1, 38.4], \"marker\": {\"color\": \"rgb(101, 190, 190)\"}, \"name\": \"2010\"}, {\"type\": \"bar\", \"x\": [\"Sri Lanka\", \"Lithuania\", \"Mongolia\", \"Kazakhstan\", \"Guyana\", \"Belarus\", \"Suriname\", \"South Korea\", \"Poland\", \"Latvia\"], \"y\": [58.7, 58.0, 47.8, 46.8, 42.4, 41.0, 40.5, 40.4, 39.2, 39.1], \"marker\": {\"color\": \"rgb(26, 118, 255)\"}, \"name\": \"2015\"}], {\"title\": \"Top countries with the highest suicide rates for males\", \"xaxis\": {\"title\": \"Countries\"}, \"yaxis\": {\"title\": \"Suicide rate (per 100,000 people)\"}, \"barmode\": \"group\", \"bargap\": 0.15, \"bargroupgap\": 0.1}, {\"showLink\": true, \"linkText\": \"Export to plot.ly\"})});</script>"
      ]
     },
     "metadata": {},
     "output_type": "display_data"
    }
   ],
   "source": [
    "t2000 = go.Bar(\n",
    "    x = male2000[male2000['Country'].isin(male2015['Country'].head(10))]['Country'].head(10),\n",
    "    y = male2000[male2000['Country'].isin(male2015['Country'].head(10))]['Male suicide rate'].head(10),\n",
    "    marker=dict(color='rgb(55, 83, 109)'),\n",
    "    name = '2000'\n",
    ")\n",
    "\n",
    "t2005 = go.Bar(\n",
    "    x = male2005[male2005['Country'].isin(male2015['Country'].head(10))]['Country'].head(10),\n",
    "    y = male2005[male2005['Country'].isin(male2015['Country'].head(10))]['Male suicide rate'].head(10),\n",
    "    marker=dict(color='rgb(133, 133, 173)'),\n",
    "    name = '2005'\n",
    ")\n",
    "\n",
    "t2010 = go.Bar(\n",
    "    x = male2010[male2010['Country'].isin(male2015['Country'].head(10))]['Country'].head(10),\n",
    "    y = male2010[male2010['Country'].isin(male2015['Country'].head(10))]['Male suicide rate'].head(10),\n",
    "    marker=dict(color='rgb(101, 190, 190)'),\n",
    "    name = '2010'\n",
    ")\n",
    "\n",
    "t2015 = go.Bar(\n",
    "    x = male2015['Country'].head(10),\n",
    "    y = male2015['Male suicide rate'].head(10),\n",
    "    marker=dict(color='rgb(26, 118, 255)'),\n",
    "    name = '2015'\n",
    ")\n",
    "\n",
    "data = [t2000, t2005, t2010, t2015]\n",
    "\n",
    "layout = go.Layout(\n",
    "    title='Top countries with the highest suicide rates for males',\n",
    "    xaxis={'title':'Countries'},\n",
    "    yaxis={'title':'Suicide rate (per 100,000 people)'},\n",
    "    barmode='group',\n",
    "    bargap=0.15,\n",
    "    bargroupgap=0.1\n",
    ")\n",
    "\n",
    "fig = go.Figure(data=data, layout=layout)\n",
    "py.iplot(fig, filename='basic-bar')"
   ]
  },
  {
   "cell_type": "markdown",
   "metadata": {},
   "source": [
    "**Top 10 countries with the highest suicide rates for males:**\n",
    "\n",
    "*(Top 10 in 2015, although data is shown for 2000, 2005, 2010 and 2015 and ordered by the data from 2000)*\n",
    "\n",
    "* Lithuania\n",
    "* Belarus\n",
    "* Kazakhstan\n",
    "* Latvia\n",
    "* Sri Lanka\n",
    "* Mongolia\n",
    "* Suriname\n",
    "* Poland\n",
    "* Guyana\n",
    "* South Korea"
   ]
  },
  {
   "cell_type": "markdown",
   "metadata": {},
   "source": [
    "## <a id='5.3'>5.3 Top countries with the highest suicide rates for females</a>"
   ]
  },
  {
   "cell_type": "code",
   "execution_count": 28,
   "metadata": {
    "collapsed": true
   },
   "outputs": [],
   "source": [
    "female2000 = suicides[mask2000][['Country', 'Female suicide rate']].sort_values(by='Female suicide rate', ascending=False)\n",
    "female2005 = suicides[mask2005][['Country', 'Female suicide rate']].sort_values(by='Female suicide rate', ascending=False)\n",
    "female2010 = suicides[mask2010][['Country', 'Female suicide rate']].sort_values(by='Female suicide rate', ascending=False)\n",
    "female2015 = suicides[mask2015][['Country', 'Female suicide rate']].sort_values(by='Female suicide rate', ascending=False)"
   ]
  },
  {
   "cell_type": "code",
   "execution_count": 29,
   "metadata": {
    "scrolled": false
   },
   "outputs": [
    {
     "data": {
      "application/vnd.plotly.v1+json": {
       "data": [
        {
         "marker": {
          "color": "rgb(170, 0, 120)"
         },
         "name": "2000",
         "type": "bar",
         "x": [
          "Sri Lanka",
          "North Korea",
          "India",
          "Bolivia",
          "Japan",
          "Belgium",
          "Guyana",
          "Suriname",
          "Angola",
          "South Korea"
         ],
         "y": [
          17.5,
          16.8,
          16.6,
          16.3,
          13.8,
          13.2,
          11,
          10.7,
          9.3,
          9.3
         ]
        },
        {
         "marker": {
          "color": "rgb(198, 141, 227)"
         },
         "name": "2005",
         "type": "bar",
         "x": [
          "North Korea",
          "South Korea",
          "India",
          "Bolivia",
          "Sri Lanka",
          "Japan",
          "Guyana",
          "Belgium",
          "Angola",
          "Suriname"
         ],
         "y": [
          20.6,
          18,
          16.6,
          16.1,
          14.9,
          13.4,
          12.2,
          11.3,
          10.6,
          10.3
         ]
        },
        {
         "marker": {
          "color": "rgb(94, 154, 242)"
         },
         "name": "2010",
         "type": "bar",
         "x": [
          "South Korea",
          "North Korea",
          "India",
          "Bolivia",
          "Japan",
          "Guyana",
          "Suriname",
          "Belgium",
          "Sri Lanka",
          "Angola"
         ],
         "y": [
          22.9,
          18.8,
          16,
          14.6,
          13.9,
          13.2,
          12.5,
          12.1,
          11.7,
          11.5
         ]
        },
        {
         "marker": {
          "color": "rgb(0, 0, 120)"
         },
         "name": "2015",
         "type": "bar",
         "x": [
          "South Korea",
          "Guyana",
          "North Korea",
          "India",
          "Sri Lanka",
          "Bolivia",
          "Suriname",
          "Japan",
          "Belgium",
          "Angola"
         ],
         "y": [
          16.4,
          15.5,
          15.4,
          14.3,
          13.6,
          13.1,
          12.7,
          12.4,
          12.4,
          11.6
         ]
        }
       ],
       "layout": {
        "bargap": 0.15,
        "bargroupgap": 0.1,
        "barmode": "group",
        "title": "Top countries with the highest suicide rates for females",
        "xaxis": {
         "title": "Countries"
        },
        "yaxis": {
         "title": "Suicide rate (per 100,000 people)"
        }
       }
      },
      "text/html": [
       "<div id=\"de0f8649-1efa-4764-a7ef-54209e598293\" style=\"height: 525px; width: 100%;\" class=\"plotly-graph-div\"></div><script type=\"text/javascript\">require([\"plotly\"], function(Plotly) { window.PLOTLYENV=window.PLOTLYENV || {};window.PLOTLYENV.BASE_URL=\"https://plot.ly\";Plotly.newPlot(\"de0f8649-1efa-4764-a7ef-54209e598293\", [{\"type\": \"bar\", \"x\": [\"Sri Lanka\", \"North Korea\", \"India\", \"Bolivia\", \"Japan\", \"Belgium\", \"Guyana\", \"Suriname\", \"Angola\", \"South Korea\"], \"y\": [17.5, 16.8, 16.6, 16.3, 13.8, 13.2, 11.0, 10.7, 9.3, 9.3], \"marker\": {\"color\": \"rgb(170, 0, 120)\"}, \"name\": \"2000\"}, {\"type\": \"bar\", \"x\": [\"North Korea\", \"South Korea\", \"India\", \"Bolivia\", \"Sri Lanka\", \"Japan\", \"Guyana\", \"Belgium\", \"Angola\", \"Suriname\"], \"y\": [20.6, 18.0, 16.6, 16.1, 14.9, 13.4, 12.2, 11.3, 10.6, 10.3], \"marker\": {\"color\": \"rgb(198, 141, 227)\"}, \"name\": \"2005\"}, {\"type\": \"bar\", \"x\": [\"South Korea\", \"North Korea\", \"India\", \"Bolivia\", \"Japan\", \"Guyana\", \"Suriname\", \"Belgium\", \"Sri Lanka\", \"Angola\"], \"y\": [22.9, 18.8, 16.0, 14.6, 13.9, 13.2, 12.5, 12.1, 11.7, 11.5], \"marker\": {\"color\": \"rgb(94, 154, 242)\"}, \"name\": \"2010\"}, {\"type\": \"bar\", \"x\": [\"South Korea\", \"Guyana\", \"North Korea\", \"India\", \"Sri Lanka\", \"Bolivia\", \"Suriname\", \"Japan\", \"Belgium\", \"Angola\"], \"y\": [16.4, 15.5, 15.4, 14.3, 13.6, 13.1, 12.7, 12.4, 12.4, 11.6], \"marker\": {\"color\": \"rgb(0, 0, 120)\"}, \"name\": \"2015\"}], {\"title\": \"Top countries with the highest suicide rates for females\", \"xaxis\": {\"title\": \"Countries\"}, \"yaxis\": {\"title\": \"Suicide rate (per 100,000 people)\"}, \"barmode\": \"group\", \"bargap\": 0.15, \"bargroupgap\": 0.1}, {\"showLink\": true, \"linkText\": \"Export to plot.ly\"})});</script>"
      ],
      "text/vnd.plotly.v1+html": [
       "<div id=\"de0f8649-1efa-4764-a7ef-54209e598293\" style=\"height: 525px; width: 100%;\" class=\"plotly-graph-div\"></div><script type=\"text/javascript\">require([\"plotly\"], function(Plotly) { window.PLOTLYENV=window.PLOTLYENV || {};window.PLOTLYENV.BASE_URL=\"https://plot.ly\";Plotly.newPlot(\"de0f8649-1efa-4764-a7ef-54209e598293\", [{\"type\": \"bar\", \"x\": [\"Sri Lanka\", \"North Korea\", \"India\", \"Bolivia\", \"Japan\", \"Belgium\", \"Guyana\", \"Suriname\", \"Angola\", \"South Korea\"], \"y\": [17.5, 16.8, 16.6, 16.3, 13.8, 13.2, 11.0, 10.7, 9.3, 9.3], \"marker\": {\"color\": \"rgb(170, 0, 120)\"}, \"name\": \"2000\"}, {\"type\": \"bar\", \"x\": [\"North Korea\", \"South Korea\", \"India\", \"Bolivia\", \"Sri Lanka\", \"Japan\", \"Guyana\", \"Belgium\", \"Angola\", \"Suriname\"], \"y\": [20.6, 18.0, 16.6, 16.1, 14.9, 13.4, 12.2, 11.3, 10.6, 10.3], \"marker\": {\"color\": \"rgb(198, 141, 227)\"}, \"name\": \"2005\"}, {\"type\": \"bar\", \"x\": [\"South Korea\", \"North Korea\", \"India\", \"Bolivia\", \"Japan\", \"Guyana\", \"Suriname\", \"Belgium\", \"Sri Lanka\", \"Angola\"], \"y\": [22.9, 18.8, 16.0, 14.6, 13.9, 13.2, 12.5, 12.1, 11.7, 11.5], \"marker\": {\"color\": \"rgb(94, 154, 242)\"}, \"name\": \"2010\"}, {\"type\": \"bar\", \"x\": [\"South Korea\", \"Guyana\", \"North Korea\", \"India\", \"Sri Lanka\", \"Bolivia\", \"Suriname\", \"Japan\", \"Belgium\", \"Angola\"], \"y\": [16.4, 15.5, 15.4, 14.3, 13.6, 13.1, 12.7, 12.4, 12.4, 11.6], \"marker\": {\"color\": \"rgb(0, 0, 120)\"}, \"name\": \"2015\"}], {\"title\": \"Top countries with the highest suicide rates for females\", \"xaxis\": {\"title\": \"Countries\"}, \"yaxis\": {\"title\": \"Suicide rate (per 100,000 people)\"}, \"barmode\": \"group\", \"bargap\": 0.15, \"bargroupgap\": 0.1}, {\"showLink\": true, \"linkText\": \"Export to plot.ly\"})});</script>"
      ]
     },
     "metadata": {},
     "output_type": "display_data"
    }
   ],
   "source": [
    "t2000 = go.Bar(\n",
    "    x = female2000[female2000['Country'].isin(female2015['Country'].head(10))]['Country'].head(10),\n",
    "    y = female2000[female2000['Country'].isin(female2015['Country'].head(10))]['Female suicide rate'].head(10),\n",
    "    marker=dict(color='rgb(170, 0, 120)'),\n",
    "    name = '2000'\n",
    ")\n",
    "\n",
    "t2005 = go.Bar(\n",
    "    x = female2005[female2005['Country'].isin(female2015['Country'].head(10))]['Country'].head(10),\n",
    "    y = female2005[female2005['Country'].isin(female2015['Country'].head(10))]['Female suicide rate'].head(10),\n",
    "    marker=dict(color='rgb(198, 141, 227)'),\n",
    "    name = '2005'\n",
    ")\n",
    "\n",
    "t2010 = go.Bar(\n",
    "    x = female2010[female2010['Country'].isin(female2015['Country'].head(10))]['Country'].head(10),\n",
    "    y = female2010[female2010['Country'].isin(female2015['Country'].head(10))]['Female suicide rate'].head(10),\n",
    "    marker=dict(color='rgb(94, 154, 242)'),\n",
    "    name = '2010'\n",
    ")\n",
    "\n",
    "t2015 = go.Bar(\n",
    "    x = female2015['Country'].head(10),\n",
    "    y = female2015['Female suicide rate'].head(10),\n",
    "    marker=dict(color='rgb(0, 0, 120)'),\n",
    "    name = '2015'\n",
    ")\n",
    "\n",
    "data = [t2000, t2005, t2010, t2015]\n",
    "\n",
    "layout = go.Layout(\n",
    "    title='Top countries with the highest suicide rates for females',\n",
    "    xaxis={'title':'Countries'},\n",
    "    yaxis={'title':'Suicide rate (per 100,000 people)'},\n",
    "    barmode='group',\n",
    "    bargap=0.15,\n",
    "    bargroupgap=0.1\n",
    ")\n",
    "\n",
    "fig = go.Figure(data=data, layout=layout)\n",
    "py.iplot(fig, filename='basic-bar')"
   ]
  },
  {
   "cell_type": "markdown",
   "metadata": {},
   "source": [
    "**Top 10 countries with the highest suicide rates for females:**\n",
    "\n",
    "*(Top 10 in 2015, although data is shown for 2000, 2005, 2010 and 2015 and ordered by the data from 2000)*\n",
    "\n",
    "* Sri Lanka\n",
    "* North Korea\n",
    "* India\n",
    "* Bolivia\n",
    "* Japan\n",
    "* Belguim\n",
    "* Guyana\n",
    "* Suriname\n",
    "* Angola\n",
    "* South Korea\n",
    "\n",
    "These are slightly different countries than those we've seen for males and for both sexes summed up."
   ]
  },
  {
   "cell_type": "markdown",
   "metadata": {},
   "source": [
    "## <a id='5.4'>5.4 Top countries with the highest suicide rates by years</a>"
   ]
  },
  {
   "cell_type": "code",
   "execution_count": 30,
   "metadata": {
    "collapsed": true
   },
   "outputs": [],
   "source": [
    "rate2000 = suicides[mask2000].sort_values(by='Total suicide rate', ascending=False)\n",
    "rate2005 = suicides[mask2005].sort_values(by='Total suicide rate', ascending=False)\n",
    "rate2010 = suicides[mask2010].sort_values(by='Total suicide rate', ascending=False)\n",
    "rate2015 = suicides[mask2015].sort_values(by='Total suicide rate', ascending=False)"
   ]
  },
  {
   "cell_type": "markdown",
   "metadata": {},
   "source": [
    "### <a id='5.4.1'>5.4.1 Top countries with highest suicide rate in one year</a>"
   ]
  },
  {
   "cell_type": "markdown",
   "metadata": {},
   "source": [
    "**Countries with highest suicide rates in 2015**"
   ]
  },
  {
   "cell_type": "code",
   "execution_count": 31,
   "metadata": {},
   "outputs": [
    {
     "data": {
      "application/vnd.plotly.v1+json": {
       "data": [
        {
         "marker": {
          "color": "rgb(53, 183, 85)"
         },
         "name": "Both Sexes",
         "type": "bar",
         "x": [
          "Sri Lanka",
          "Lithuania",
          "Guyana",
          "Mongolia",
          "South Korea",
          "Kazakhstan",
          "Suriname",
          "Belarus",
          "Equatorial Guinea",
          "Poland",
          "Latvia",
          "Hungary",
          "Slovenia",
          "Angola",
          "Belgium"
         ],
         "y": [
          35.3,
          32.7,
          29,
          28.3,
          28.3,
          27.5,
          26.6,
          22.8,
          22.6,
          22.3,
          21.7,
          21.6,
          21.4,
          20.5,
          20.5
         ]
        },
        {
         "marker": {
          "color": "rgb(26, 118, 255)"
         },
         "name": "Male",
         "type": "bar",
         "x": [
          "Sri Lanka",
          "Lithuania",
          "Guyana",
          "Mongolia",
          "South Korea",
          "Kazakhstan",
          "Suriname",
          "Belarus",
          "Equatorial Guinea",
          "Poland",
          "Latvia",
          "Hungary",
          "Slovenia",
          "Angola",
          "Belgium"
         ],
         "y": [
          58.7,
          58,
          42.4,
          47.8,
          40.4,
          46.8,
          40.5,
          41,
          33.3,
          39.2,
          39.1,
          33.8,
          33.9,
          29.5,
          29
         ]
        },
        {
         "marker": {
          "color": "rgb(255, 25, 64)"
         },
         "name": "Female",
         "type": "bar",
         "x": [
          "Sri Lanka",
          "Lithuania",
          "Guyana",
          "Mongolia",
          "South Korea",
          "Kazakhstan",
          "Suriname",
          "Belarus",
          "Equatorial Guinea",
          "Poland",
          "Latvia",
          "Hungary",
          "Slovenia",
          "Angola",
          "Belgium"
         ],
         "y": [
          13.6,
          11.2,
          15.5,
          9.1,
          16.4,
          9.6,
          12.7,
          7,
          11.3,
          6.4,
          6.9,
          10.5,
          9.1,
          11.6,
          12.4
         ]
        }
       ],
       "layout": {
        "bargap": 0.15,
        "bargroupgap": 0.1,
        "barmode": "group",
        "title": "Top countries with the highest suicide rates in 2015",
        "xaxis": {
         "title": "Countries"
        },
        "yaxis": {
         "title": "Suicide rate (per 100,000 people)"
        }
       }
      },
      "text/html": [
       "<div id=\"f1840fa7-66f7-4539-98fe-20b836b5e69f\" style=\"height: 525px; width: 100%;\" class=\"plotly-graph-div\"></div><script type=\"text/javascript\">require([\"plotly\"], function(Plotly) { window.PLOTLYENV=window.PLOTLYENV || {};window.PLOTLYENV.BASE_URL=\"https://plot.ly\";Plotly.newPlot(\"f1840fa7-66f7-4539-98fe-20b836b5e69f\", [{\"type\": \"bar\", \"x\": [\"Sri Lanka\", \"Lithuania\", \"Guyana\", \"Mongolia\", \"South Korea\", \"Kazakhstan\", \"Suriname\", \"Belarus\", \"Equatorial Guinea\", \"Poland\", \"Latvia\", \"Hungary\", \"Slovenia\", \"Angola\", \"Belgium\"], \"y\": [35.3, 32.7, 29.0, 28.3, 28.3, 27.5, 26.6, 22.8, 22.6, 22.3, 21.7, 21.6, 21.4, 20.5, 20.5], \"marker\": {\"color\": \"rgb(53, 183, 85)\"}, \"name\": \"Both Sexes\"}, {\"type\": \"bar\", \"x\": [\"Sri Lanka\", \"Lithuania\", \"Guyana\", \"Mongolia\", \"South Korea\", \"Kazakhstan\", \"Suriname\", \"Belarus\", \"Equatorial Guinea\", \"Poland\", \"Latvia\", \"Hungary\", \"Slovenia\", \"Angola\", \"Belgium\"], \"y\": [58.7, 58.0, 42.4, 47.8, 40.4, 46.8, 40.5, 41.0, 33.3, 39.2, 39.1, 33.8, 33.9, 29.5, 29.0], \"marker\": {\"color\": \"rgb(26, 118, 255)\"}, \"name\": \"Male\"}, {\"type\": \"bar\", \"x\": [\"Sri Lanka\", \"Lithuania\", \"Guyana\", \"Mongolia\", \"South Korea\", \"Kazakhstan\", \"Suriname\", \"Belarus\", \"Equatorial Guinea\", \"Poland\", \"Latvia\", \"Hungary\", \"Slovenia\", \"Angola\", \"Belgium\"], \"y\": [13.6, 11.2, 15.5, 9.1, 16.4, 9.6, 12.7, 7.0, 11.3, 6.4, 6.9, 10.5, 9.1, 11.6, 12.4], \"marker\": {\"color\": \"rgb(255, 25, 64)\"}, \"name\": \"Female\"}], {\"title\": \"Top countries with the highest suicide rates in 2015\", \"xaxis\": {\"title\": \"Countries\"}, \"yaxis\": {\"title\": \"Suicide rate (per 100,000 people)\"}, \"barmode\": \"group\", \"bargap\": 0.15, \"bargroupgap\": 0.1}, {\"showLink\": true, \"linkText\": \"Export to plot.ly\"})});</script>"
      ],
      "text/vnd.plotly.v1+html": [
       "<div id=\"f1840fa7-66f7-4539-98fe-20b836b5e69f\" style=\"height: 525px; width: 100%;\" class=\"plotly-graph-div\"></div><script type=\"text/javascript\">require([\"plotly\"], function(Plotly) { window.PLOTLYENV=window.PLOTLYENV || {};window.PLOTLYENV.BASE_URL=\"https://plot.ly\";Plotly.newPlot(\"f1840fa7-66f7-4539-98fe-20b836b5e69f\", [{\"type\": \"bar\", \"x\": [\"Sri Lanka\", \"Lithuania\", \"Guyana\", \"Mongolia\", \"South Korea\", \"Kazakhstan\", \"Suriname\", \"Belarus\", \"Equatorial Guinea\", \"Poland\", \"Latvia\", \"Hungary\", \"Slovenia\", \"Angola\", \"Belgium\"], \"y\": [35.3, 32.7, 29.0, 28.3, 28.3, 27.5, 26.6, 22.8, 22.6, 22.3, 21.7, 21.6, 21.4, 20.5, 20.5], \"marker\": {\"color\": \"rgb(53, 183, 85)\"}, \"name\": \"Both Sexes\"}, {\"type\": \"bar\", \"x\": [\"Sri Lanka\", \"Lithuania\", \"Guyana\", \"Mongolia\", \"South Korea\", \"Kazakhstan\", \"Suriname\", \"Belarus\", \"Equatorial Guinea\", \"Poland\", \"Latvia\", \"Hungary\", \"Slovenia\", \"Angola\", \"Belgium\"], \"y\": [58.7, 58.0, 42.4, 47.8, 40.4, 46.8, 40.5, 41.0, 33.3, 39.2, 39.1, 33.8, 33.9, 29.5, 29.0], \"marker\": {\"color\": \"rgb(26, 118, 255)\"}, \"name\": \"Male\"}, {\"type\": \"bar\", \"x\": [\"Sri Lanka\", \"Lithuania\", \"Guyana\", \"Mongolia\", \"South Korea\", \"Kazakhstan\", \"Suriname\", \"Belarus\", \"Equatorial Guinea\", \"Poland\", \"Latvia\", \"Hungary\", \"Slovenia\", \"Angola\", \"Belgium\"], \"y\": [13.6, 11.2, 15.5, 9.1, 16.4, 9.6, 12.7, 7.0, 11.3, 6.4, 6.9, 10.5, 9.1, 11.6, 12.4], \"marker\": {\"color\": \"rgb(255, 25, 64)\"}, \"name\": \"Female\"}], {\"title\": \"Top countries with the highest suicide rates in 2015\", \"xaxis\": {\"title\": \"Countries\"}, \"yaxis\": {\"title\": \"Suicide rate (per 100,000 people)\"}, \"barmode\": \"group\", \"bargap\": 0.15, \"bargroupgap\": 0.1}, {\"showLink\": true, \"linkText\": \"Export to plot.ly\"})});</script>"
      ]
     },
     "metadata": {},
     "output_type": "display_data"
    }
   ],
   "source": [
    "total = go.Bar(\n",
    "    x = rate2015['Country'].head(15),\n",
    "    y = rate2015['Total suicide rate'].head(15),\n",
    "    marker=dict(color='rgb(53, 183, 85)'),\n",
    "    name = 'Both Sexes'\n",
    ")\n",
    "\n",
    "male = go.Bar(\n",
    "    x = rate2015['Country'].head(15),\n",
    "    y = rate2015['Male suicide rate'].head(15),\n",
    "    marker=dict(color='rgb(26, 118, 255)'),\n",
    "    name = 'Male'\n",
    ")\n",
    "\n",
    "female = go.Bar(\n",
    "    x = rate2015['Country'].head(15),\n",
    "    y = rate2015['Female suicide rate'].head(15),\n",
    "    marker=dict(color='rgb(255, 25, 64)'),\n",
    "    name = 'Female'\n",
    ")\n",
    "\n",
    "data = [total, male, female]\n",
    "\n",
    "layout = go.Layout(\n",
    "    title='Top countries with the highest suicide rates in 2015',\n",
    "    xaxis={'title':'Countries'},\n",
    "    yaxis={'title':'Suicide rate (per 100,000 people)'},\n",
    "    barmode='group',\n",
    "    bargap=0.15,\n",
    "    bargroupgap=0.1\n",
    ")\n",
    "\n",
    "fig = go.Figure(data=data, layout=layout)\n",
    "py.iplot(fig, filename='basic-bar')"
   ]
  },
  {
   "cell_type": "markdown",
   "metadata": {},
   "source": [
    "**Countries with highest suicide rates in 2010**"
   ]
  },
  {
   "cell_type": "code",
   "execution_count": 32,
   "metadata": {},
   "outputs": [
    {
     "data": {
      "application/vnd.plotly.v1+json": {
       "data": [
        {
         "marker": {
          "color": "rgb(53, 183, 85)"
         },
         "name": "Both Sexes",
         "type": "bar",
         "x": [
          "South Korea",
          "Lithuania",
          "Mongolia",
          "Sri Lanka",
          "Suriname",
          "Belarus",
          "Kazakhstan",
          "Guyana",
          "Russia",
          "Hungary",
          "Japan",
          "Equatorial Guinea",
          "Latvia",
          "Poland",
          "Ukraine"
         ],
         "y": [
          34.1,
          33.9,
          32.9,
          28.6,
          28.1,
          27.9,
          26.6,
          25.8,
          25.7,
          25.5,
          24.3,
          23.3,
          23.2,
          23.1,
          22.5
         ]
        },
        {
         "marker": {
          "color": "rgb(26, 118, 255)"
         },
         "name": "Male",
         "type": "bar",
         "x": [
          "South Korea",
          "Lithuania",
          "Mongolia",
          "Sri Lanka",
          "Suriname",
          "Belarus",
          "Kazakhstan",
          "Guyana",
          "Russia",
          "Hungary",
          "Japan",
          "Equatorial Guinea",
          "Latvia",
          "Poland",
          "Ukraine"
         ],
         "y": [
          45.5,
          59.9,
          54.8,
          46.5,
          43.5,
          49.9,
          45.3,
          38.4,
          45.6,
          41.6,
          35.2,
          34.5,
          43.4,
          41.1,
          40.1
         ]
        },
        {
         "marker": {
          "color": "rgb(255, 25, 64)"
         },
         "name": "Female",
         "type": "bar",
         "x": [
          "South Korea",
          "Lithuania",
          "Mongolia",
          "Sri Lanka",
          "Suriname",
          "Belarus",
          "Kazakhstan",
          "Guyana",
          "Russia",
          "Hungary",
          "Japan",
          "Equatorial Guinea",
          "Latvia",
          "Poland",
          "Ukraine"
         ],
         "y": [
          22.9,
          11.7,
          11.4,
          11.7,
          12.5,
          8.8,
          9.3,
          13.2,
          8.5,
          11,
          13.9,
          11.6,
          6.1,
          6.1,
          7.4
         ]
        }
       ],
       "layout": {
        "bargap": 0.15,
        "bargroupgap": 0.1,
        "barmode": "group",
        "title": "Top countries with the highest suicide rates in 2010",
        "xaxis": {
         "title": "Countries"
        },
        "yaxis": {
         "title": "Suicide rate (per 100,000 people)"
        }
       }
      },
      "text/html": [
       "<div id=\"f3500e1e-f703-4c44-9042-bc616a7ffb54\" style=\"height: 525px; width: 100%;\" class=\"plotly-graph-div\"></div><script type=\"text/javascript\">require([\"plotly\"], function(Plotly) { window.PLOTLYENV=window.PLOTLYENV || {};window.PLOTLYENV.BASE_URL=\"https://plot.ly\";Plotly.newPlot(\"f3500e1e-f703-4c44-9042-bc616a7ffb54\", [{\"type\": \"bar\", \"x\": [\"South Korea\", \"Lithuania\", \"Mongolia\", \"Sri Lanka\", \"Suriname\", \"Belarus\", \"Kazakhstan\", \"Guyana\", \"Russia\", \"Hungary\", \"Japan\", \"Equatorial Guinea\", \"Latvia\", \"Poland\", \"Ukraine\"], \"y\": [34.1, 33.9, 32.9, 28.6, 28.1, 27.9, 26.6, 25.8, 25.7, 25.5, 24.3, 23.3, 23.2, 23.1, 22.5], \"marker\": {\"color\": \"rgb(53, 183, 85)\"}, \"name\": \"Both Sexes\"}, {\"type\": \"bar\", \"x\": [\"South Korea\", \"Lithuania\", \"Mongolia\", \"Sri Lanka\", \"Suriname\", \"Belarus\", \"Kazakhstan\", \"Guyana\", \"Russia\", \"Hungary\", \"Japan\", \"Equatorial Guinea\", \"Latvia\", \"Poland\", \"Ukraine\"], \"y\": [45.5, 59.9, 54.8, 46.5, 43.5, 49.9, 45.3, 38.4, 45.6, 41.6, 35.2, 34.5, 43.4, 41.1, 40.1], \"marker\": {\"color\": \"rgb(26, 118, 255)\"}, \"name\": \"Male\"}, {\"type\": \"bar\", \"x\": [\"South Korea\", \"Lithuania\", \"Mongolia\", \"Sri Lanka\", \"Suriname\", \"Belarus\", \"Kazakhstan\", \"Guyana\", \"Russia\", \"Hungary\", \"Japan\", \"Equatorial Guinea\", \"Latvia\", \"Poland\", \"Ukraine\"], \"y\": [22.9, 11.7, 11.4, 11.7, 12.5, 8.8, 9.3, 13.2, 8.5, 11.0, 13.9, 11.6, 6.1, 6.1, 7.4], \"marker\": {\"color\": \"rgb(255, 25, 64)\"}, \"name\": \"Female\"}], {\"title\": \"Top countries with the highest suicide rates in 2010\", \"xaxis\": {\"title\": \"Countries\"}, \"yaxis\": {\"title\": \"Suicide rate (per 100,000 people)\"}, \"barmode\": \"group\", \"bargap\": 0.15, \"bargroupgap\": 0.1}, {\"showLink\": true, \"linkText\": \"Export to plot.ly\"})});</script>"
      ],
      "text/vnd.plotly.v1+html": [
       "<div id=\"f3500e1e-f703-4c44-9042-bc616a7ffb54\" style=\"height: 525px; width: 100%;\" class=\"plotly-graph-div\"></div><script type=\"text/javascript\">require([\"plotly\"], function(Plotly) { window.PLOTLYENV=window.PLOTLYENV || {};window.PLOTLYENV.BASE_URL=\"https://plot.ly\";Plotly.newPlot(\"f3500e1e-f703-4c44-9042-bc616a7ffb54\", [{\"type\": \"bar\", \"x\": [\"South Korea\", \"Lithuania\", \"Mongolia\", \"Sri Lanka\", \"Suriname\", \"Belarus\", \"Kazakhstan\", \"Guyana\", \"Russia\", \"Hungary\", \"Japan\", \"Equatorial Guinea\", \"Latvia\", \"Poland\", \"Ukraine\"], \"y\": [34.1, 33.9, 32.9, 28.6, 28.1, 27.9, 26.6, 25.8, 25.7, 25.5, 24.3, 23.3, 23.2, 23.1, 22.5], \"marker\": {\"color\": \"rgb(53, 183, 85)\"}, \"name\": \"Both Sexes\"}, {\"type\": \"bar\", \"x\": [\"South Korea\", \"Lithuania\", \"Mongolia\", \"Sri Lanka\", \"Suriname\", \"Belarus\", \"Kazakhstan\", \"Guyana\", \"Russia\", \"Hungary\", \"Japan\", \"Equatorial Guinea\", \"Latvia\", \"Poland\", \"Ukraine\"], \"y\": [45.5, 59.9, 54.8, 46.5, 43.5, 49.9, 45.3, 38.4, 45.6, 41.6, 35.2, 34.5, 43.4, 41.1, 40.1], \"marker\": {\"color\": \"rgb(26, 118, 255)\"}, \"name\": \"Male\"}, {\"type\": \"bar\", \"x\": [\"South Korea\", \"Lithuania\", \"Mongolia\", \"Sri Lanka\", \"Suriname\", \"Belarus\", \"Kazakhstan\", \"Guyana\", \"Russia\", \"Hungary\", \"Japan\", \"Equatorial Guinea\", \"Latvia\", \"Poland\", \"Ukraine\"], \"y\": [22.9, 11.7, 11.4, 11.7, 12.5, 8.8, 9.3, 13.2, 8.5, 11.0, 13.9, 11.6, 6.1, 6.1, 7.4], \"marker\": {\"color\": \"rgb(255, 25, 64)\"}, \"name\": \"Female\"}], {\"title\": \"Top countries with the highest suicide rates in 2010\", \"xaxis\": {\"title\": \"Countries\"}, \"yaxis\": {\"title\": \"Suicide rate (per 100,000 people)\"}, \"barmode\": \"group\", \"bargap\": 0.15, \"bargroupgap\": 0.1}, {\"showLink\": true, \"linkText\": \"Export to plot.ly\"})});</script>"
      ]
     },
     "metadata": {},
     "output_type": "display_data"
    }
   ],
   "source": [
    "total = go.Bar(\n",
    "    x = rate2010['Country'].head(15),\n",
    "    y = rate2010['Total suicide rate'].head(15),\n",
    "    marker=dict(color='rgb(53, 183, 85)'),\n",
    "    name = 'Both Sexes'\n",
    ")\n",
    "\n",
    "male = go.Bar(\n",
    "    x = rate2010['Country'].head(15),\n",
    "    y = rate2010['Male suicide rate'].head(15),\n",
    "    marker=dict(color='rgb(26, 118, 255)'),\n",
    "    name = 'Male'\n",
    ")\n",
    "\n",
    "female = go.Bar(\n",
    "    x = rate2010['Country'].head(15),\n",
    "    y = rate2010['Female suicide rate'].head(15),\n",
    "    marker=dict(color='rgb(255, 25, 64)'),\n",
    "    name = 'Female'\n",
    ")\n",
    "\n",
    "data = [total, male, female]\n",
    "\n",
    "layout = go.Layout(\n",
    "    title='Top countries with the highest suicide rates in 2010',\n",
    "    xaxis={'title':'Countries'},\n",
    "    yaxis={'title':'Suicide rate (per 100,000 people)'},\n",
    "    barmode='group',\n",
    "    bargap=0.15,\n",
    "    bargroupgap=0.1\n",
    ")\n",
    "\n",
    "fig = go.Figure(data=data, layout=layout)\n",
    "py.iplot(fig, filename='basic-bar')"
   ]
  },
  {
   "cell_type": "markdown",
   "metadata": {},
   "source": [
    "**Countries with highest suicide rates in 2005**"
   ]
  },
  {
   "cell_type": "code",
   "execution_count": 33,
   "metadata": {},
   "outputs": [
    {
     "data": {
      "application/vnd.plotly.v1+json": {
       "data": [
        {
         "marker": {
          "color": "rgb(53, 183, 85)"
         },
         "name": "Both Sexes",
         "type": "bar",
         "x": [
          "Lithuania",
          "Belarus",
          "Russia",
          "Mongolia",
          "Sri Lanka",
          "Kazakhstan",
          "Suriname",
          "Latvia",
          "South Korea",
          "Slovenia",
          "Hungary",
          "Ukraine",
          "Japan",
          "Guyana",
          "Estonia"
         ],
         "y": [
          41.2,
          36.1,
          33.6,
          31.6,
          30.5,
          30.5,
          28.1,
          27.5,
          27.2,
          26.5,
          26.3,
          26,
          24.7,
          24,
          23.4
         ]
        },
        {
         "marker": {
          "color": "rgb(26, 118, 255)"
         },
         "name": "Male",
         "type": "bar",
         "x": [
          "Lithuania",
          "Belarus",
          "Russia",
          "Mongolia",
          "Sri Lanka",
          "Kazakhstan",
          "Suriname",
          "Latvia",
          "South Korea",
          "Slovenia",
          "Hungary",
          "Ukraine",
          "Japan",
          "Guyana",
          "Estonia"
         ],
         "y": [
          72.7,
          63.6,
          59.8,
          53.3,
          46.6,
          53.1,
          45.8,
          47.5,
          36.4,
          41.7,
          42.7,
          46.9,
          36.6,
          35.9,
          40.6
         ]
        },
        {
         "marker": {
          "color": "rgb(255, 25, 64)"
         },
         "name": "Female",
         "type": "bar",
         "x": [
          "Lithuania",
          "Belarus",
          "Russia",
          "Mongolia",
          "Sri Lanka",
          "Kazakhstan",
          "Suriname",
          "Latvia",
          "South Korea",
          "Slovenia",
          "Hungary",
          "Ukraine",
          "Japan",
          "Guyana",
          "Estonia"
         ],
         "y": [
          13.8,
          12,
          10.8,
          10.2,
          14.9,
          9.5,
          10.3,
          10.5,
          18,
          12,
          11.6,
          8,
          13.4,
          12.2,
          8.5
         ]
        }
       ],
       "layout": {
        "bargap": 0.15,
        "bargroupgap": 0.1,
        "barmode": "group",
        "title": "Top countries with the highest suicide rates in 2005",
        "xaxis": {
         "title": "Countries"
        },
        "yaxis": {
         "title": "Suicide rate (per 100,000 people)"
        }
       }
      },
      "text/html": [
       "<div id=\"244a555a-5fab-468f-af4d-9ae016e8ad2f\" style=\"height: 525px; width: 100%;\" class=\"plotly-graph-div\"></div><script type=\"text/javascript\">require([\"plotly\"], function(Plotly) { window.PLOTLYENV=window.PLOTLYENV || {};window.PLOTLYENV.BASE_URL=\"https://plot.ly\";Plotly.newPlot(\"244a555a-5fab-468f-af4d-9ae016e8ad2f\", [{\"type\": \"bar\", \"x\": [\"Lithuania\", \"Belarus\", \"Russia\", \"Mongolia\", \"Sri Lanka\", \"Kazakhstan\", \"Suriname\", \"Latvia\", \"South Korea\", \"Slovenia\", \"Hungary\", \"Ukraine\", \"Japan\", \"Guyana\", \"Estonia\"], \"y\": [41.2, 36.1, 33.6, 31.6, 30.5, 30.5, 28.1, 27.5, 27.2, 26.5, 26.3, 26.0, 24.7, 24.0, 23.4], \"marker\": {\"color\": \"rgb(53, 183, 85)\"}, \"name\": \"Both Sexes\"}, {\"type\": \"bar\", \"x\": [\"Lithuania\", \"Belarus\", \"Russia\", \"Mongolia\", \"Sri Lanka\", \"Kazakhstan\", \"Suriname\", \"Latvia\", \"South Korea\", \"Slovenia\", \"Hungary\", \"Ukraine\", \"Japan\", \"Guyana\", \"Estonia\"], \"y\": [72.7, 63.6, 59.8, 53.3, 46.6, 53.1, 45.8, 47.5, 36.4, 41.7, 42.7, 46.9, 36.6, 35.9, 40.6], \"marker\": {\"color\": \"rgb(26, 118, 255)\"}, \"name\": \"Male\"}, {\"type\": \"bar\", \"x\": [\"Lithuania\", \"Belarus\", \"Russia\", \"Mongolia\", \"Sri Lanka\", \"Kazakhstan\", \"Suriname\", \"Latvia\", \"South Korea\", \"Slovenia\", \"Hungary\", \"Ukraine\", \"Japan\", \"Guyana\", \"Estonia\"], \"y\": [13.8, 12.0, 10.8, 10.2, 14.9, 9.5, 10.3, 10.5, 18.0, 12.0, 11.6, 8.0, 13.4, 12.2, 8.5], \"marker\": {\"color\": \"rgb(255, 25, 64)\"}, \"name\": \"Female\"}], {\"title\": \"Top countries with the highest suicide rates in 2005\", \"xaxis\": {\"title\": \"Countries\"}, \"yaxis\": {\"title\": \"Suicide rate (per 100,000 people)\"}, \"barmode\": \"group\", \"bargap\": 0.15, \"bargroupgap\": 0.1}, {\"showLink\": true, \"linkText\": \"Export to plot.ly\"})});</script>"
      ],
      "text/vnd.plotly.v1+html": [
       "<div id=\"244a555a-5fab-468f-af4d-9ae016e8ad2f\" style=\"height: 525px; width: 100%;\" class=\"plotly-graph-div\"></div><script type=\"text/javascript\">require([\"plotly\"], function(Plotly) { window.PLOTLYENV=window.PLOTLYENV || {};window.PLOTLYENV.BASE_URL=\"https://plot.ly\";Plotly.newPlot(\"244a555a-5fab-468f-af4d-9ae016e8ad2f\", [{\"type\": \"bar\", \"x\": [\"Lithuania\", \"Belarus\", \"Russia\", \"Mongolia\", \"Sri Lanka\", \"Kazakhstan\", \"Suriname\", \"Latvia\", \"South Korea\", \"Slovenia\", \"Hungary\", \"Ukraine\", \"Japan\", \"Guyana\", \"Estonia\"], \"y\": [41.2, 36.1, 33.6, 31.6, 30.5, 30.5, 28.1, 27.5, 27.2, 26.5, 26.3, 26.0, 24.7, 24.0, 23.4], \"marker\": {\"color\": \"rgb(53, 183, 85)\"}, \"name\": \"Both Sexes\"}, {\"type\": \"bar\", \"x\": [\"Lithuania\", \"Belarus\", \"Russia\", \"Mongolia\", \"Sri Lanka\", \"Kazakhstan\", \"Suriname\", \"Latvia\", \"South Korea\", \"Slovenia\", \"Hungary\", \"Ukraine\", \"Japan\", \"Guyana\", \"Estonia\"], \"y\": [72.7, 63.6, 59.8, 53.3, 46.6, 53.1, 45.8, 47.5, 36.4, 41.7, 42.7, 46.9, 36.6, 35.9, 40.6], \"marker\": {\"color\": \"rgb(26, 118, 255)\"}, \"name\": \"Male\"}, {\"type\": \"bar\", \"x\": [\"Lithuania\", \"Belarus\", \"Russia\", \"Mongolia\", \"Sri Lanka\", \"Kazakhstan\", \"Suriname\", \"Latvia\", \"South Korea\", \"Slovenia\", \"Hungary\", \"Ukraine\", \"Japan\", \"Guyana\", \"Estonia\"], \"y\": [13.8, 12.0, 10.8, 10.2, 14.9, 9.5, 10.3, 10.5, 18.0, 12.0, 11.6, 8.0, 13.4, 12.2, 8.5], \"marker\": {\"color\": \"rgb(255, 25, 64)\"}, \"name\": \"Female\"}], {\"title\": \"Top countries with the highest suicide rates in 2005\", \"xaxis\": {\"title\": \"Countries\"}, \"yaxis\": {\"title\": \"Suicide rate (per 100,000 people)\"}, \"barmode\": \"group\", \"bargap\": 0.15, \"bargroupgap\": 0.1}, {\"showLink\": true, \"linkText\": \"Export to plot.ly\"})});</script>"
      ]
     },
     "metadata": {},
     "output_type": "display_data"
    }
   ],
   "source": [
    "total = go.Bar(\n",
    "    x = rate2005['Country'].head(15),\n",
    "    y = rate2005['Total suicide rate'].head(15),\n",
    "    marker=dict(color='rgb(53, 183, 85)'),\n",
    "    name = 'Both Sexes'\n",
    ")\n",
    "\n",
    "male = go.Bar(\n",
    "    x = rate2005['Country'].head(15),\n",
    "    y = rate2005['Male suicide rate'].head(15),\n",
    "    marker=dict(color='rgb(26, 118, 255)'),\n",
    "    name = 'Male'\n",
    ")\n",
    "\n",
    "female = go.Bar(\n",
    "    x = rate2005['Country'].head(15),\n",
    "    y = rate2005['Female suicide rate'].head(15),\n",
    "    marker=dict(color='rgb(255, 25, 64)'),\n",
    "    name = 'Female'\n",
    ")\n",
    "\n",
    "data = [total, male, female]\n",
    "\n",
    "layout = go.Layout(\n",
    "    title='Top countries with the highest suicide rates in 2005',\n",
    "    xaxis={'title':'Countries'},\n",
    "    yaxis={'title':'Suicide rate (per 100,000 people)'},\n",
    "    barmode='group',\n",
    "    bargap=0.15,\n",
    "    bargroupgap=0.1\n",
    ")\n",
    "\n",
    "fig = go.Figure(data=data, layout=layout)\n",
    "py.iplot(fig, filename='basic-bar')"
   ]
  },
  {
   "cell_type": "markdown",
   "metadata": {},
   "source": [
    "**Countries with highest suicide rates in 2000**"
   ]
  },
  {
   "cell_type": "code",
   "execution_count": 34,
   "metadata": {
    "scrolled": false
   },
   "outputs": [
    {
     "data": {
      "application/vnd.plotly.v1+json": {
       "data": [
        {
         "marker": {
          "color": "rgb(53, 183, 85)"
         },
         "name": "Both Sexes",
         "type": "bar",
         "x": [
          "Lithuania",
          "Belarus",
          "Russia",
          "Kazakhstan",
          "Ukraine",
          "Latvia",
          "Sri Lanka",
          "Hungary",
          "Slovenia",
          "Estonia",
          "Mongolia",
          "Suriname",
          "Japan",
          "Finland",
          "Bolivia"
         ],
         "y": [
          50.1,
          41.9,
          38.7,
          38,
          37,
          36.5,
          36.4,
          32.4,
          31.8,
          29.9,
          27.1,
          25.7,
          24.4,
          24.3,
          23.5
         ]
        },
        {
         "marker": {
          "color": "rgb(26, 118, 255)"
         },
         "name": "Male",
         "type": "bar",
         "x": [
          "Lithuania",
          "Belarus",
          "Russia",
          "Kazakhstan",
          "Ukraine",
          "Latvia",
          "Sri Lanka",
          "Hungary",
          "Slovenia",
          "Estonia",
          "Mongolia",
          "Suriname",
          "Japan",
          "Finland",
          "Bolivia"
         ],
         "y": [
          86.1,
          74.8,
          68.6,
          65.6,
          64.7,
          63.6,
          55.4,
          51.1,
          47.5,
          49.5,
          43.2,
          40.3,
          35.5,
          37,
          30.6
         ]
        },
        {
         "marker": {
          "color": "rgb(255, 25, 64)"
         },
         "name": "Female",
         "type": "bar",
         "x": [
          "Lithuania",
          "Belarus",
          "Russia",
          "Kazakhstan",
          "Ukraine",
          "Latvia",
          "Sri Lanka",
          "Hungary",
          "Slovenia",
          "Estonia",
          "Mongolia",
          "Suriname",
          "Japan",
          "Finland",
          "Bolivia"
         ],
         "y": [
          18.4,
          12.8,
          12.4,
          12.5,
          12.8,
          13.3,
          17.5,
          15.3,
          16.8,
          12.8,
          11,
          10.7,
          13.8,
          12.2,
          16.3
         ]
        }
       ],
       "layout": {
        "bargap": 0.15,
        "bargroupgap": 0.1,
        "barmode": "group",
        "title": "Top countries with the highest suicide rates in 2000",
        "xaxis": {
         "title": "Countries"
        },
        "yaxis": {
         "title": "Suicide rate (per 100,000 people)"
        }
       }
      },
      "text/html": [
       "<div id=\"e04b1d07-32c4-4ac6-be2e-e5df77f2267b\" style=\"height: 525px; width: 100%;\" class=\"plotly-graph-div\"></div><script type=\"text/javascript\">require([\"plotly\"], function(Plotly) { window.PLOTLYENV=window.PLOTLYENV || {};window.PLOTLYENV.BASE_URL=\"https://plot.ly\";Plotly.newPlot(\"e04b1d07-32c4-4ac6-be2e-e5df77f2267b\", [{\"type\": \"bar\", \"x\": [\"Lithuania\", \"Belarus\", \"Russia\", \"Kazakhstan\", \"Ukraine\", \"Latvia\", \"Sri Lanka\", \"Hungary\", \"Slovenia\", \"Estonia\", \"Mongolia\", \"Suriname\", \"Japan\", \"Finland\", \"Bolivia\"], \"y\": [50.1, 41.9, 38.7, 38.0, 37.0, 36.5, 36.4, 32.4, 31.8, 29.9, 27.1, 25.7, 24.4, 24.3, 23.5], \"marker\": {\"color\": \"rgb(53, 183, 85)\"}, \"name\": \"Both Sexes\"}, {\"type\": \"bar\", \"x\": [\"Lithuania\", \"Belarus\", \"Russia\", \"Kazakhstan\", \"Ukraine\", \"Latvia\", \"Sri Lanka\", \"Hungary\", \"Slovenia\", \"Estonia\", \"Mongolia\", \"Suriname\", \"Japan\", \"Finland\", \"Bolivia\"], \"y\": [86.1, 74.8, 68.6, 65.6, 64.7, 63.6, 55.4, 51.1, 47.5, 49.5, 43.2, 40.3, 35.5, 37.0, 30.6], \"marker\": {\"color\": \"rgb(26, 118, 255)\"}, \"name\": \"Male\"}, {\"type\": \"bar\", \"x\": [\"Lithuania\", \"Belarus\", \"Russia\", \"Kazakhstan\", \"Ukraine\", \"Latvia\", \"Sri Lanka\", \"Hungary\", \"Slovenia\", \"Estonia\", \"Mongolia\", \"Suriname\", \"Japan\", \"Finland\", \"Bolivia\"], \"y\": [18.4, 12.8, 12.4, 12.5, 12.8, 13.3, 17.5, 15.3, 16.8, 12.8, 11.0, 10.7, 13.8, 12.2, 16.3], \"marker\": {\"color\": \"rgb(255, 25, 64)\"}, \"name\": \"Female\"}], {\"title\": \"Top countries with the highest suicide rates in 2000\", \"xaxis\": {\"title\": \"Countries\"}, \"yaxis\": {\"title\": \"Suicide rate (per 100,000 people)\"}, \"barmode\": \"group\", \"bargap\": 0.15, \"bargroupgap\": 0.1}, {\"showLink\": true, \"linkText\": \"Export to plot.ly\"})});</script>"
      ],
      "text/vnd.plotly.v1+html": [
       "<div id=\"e04b1d07-32c4-4ac6-be2e-e5df77f2267b\" style=\"height: 525px; width: 100%;\" class=\"plotly-graph-div\"></div><script type=\"text/javascript\">require([\"plotly\"], function(Plotly) { window.PLOTLYENV=window.PLOTLYENV || {};window.PLOTLYENV.BASE_URL=\"https://plot.ly\";Plotly.newPlot(\"e04b1d07-32c4-4ac6-be2e-e5df77f2267b\", [{\"type\": \"bar\", \"x\": [\"Lithuania\", \"Belarus\", \"Russia\", \"Kazakhstan\", \"Ukraine\", \"Latvia\", \"Sri Lanka\", \"Hungary\", \"Slovenia\", \"Estonia\", \"Mongolia\", \"Suriname\", \"Japan\", \"Finland\", \"Bolivia\"], \"y\": [50.1, 41.9, 38.7, 38.0, 37.0, 36.5, 36.4, 32.4, 31.8, 29.9, 27.1, 25.7, 24.4, 24.3, 23.5], \"marker\": {\"color\": \"rgb(53, 183, 85)\"}, \"name\": \"Both Sexes\"}, {\"type\": \"bar\", \"x\": [\"Lithuania\", \"Belarus\", \"Russia\", \"Kazakhstan\", \"Ukraine\", \"Latvia\", \"Sri Lanka\", \"Hungary\", \"Slovenia\", \"Estonia\", \"Mongolia\", \"Suriname\", \"Japan\", \"Finland\", \"Bolivia\"], \"y\": [86.1, 74.8, 68.6, 65.6, 64.7, 63.6, 55.4, 51.1, 47.5, 49.5, 43.2, 40.3, 35.5, 37.0, 30.6], \"marker\": {\"color\": \"rgb(26, 118, 255)\"}, \"name\": \"Male\"}, {\"type\": \"bar\", \"x\": [\"Lithuania\", \"Belarus\", \"Russia\", \"Kazakhstan\", \"Ukraine\", \"Latvia\", \"Sri Lanka\", \"Hungary\", \"Slovenia\", \"Estonia\", \"Mongolia\", \"Suriname\", \"Japan\", \"Finland\", \"Bolivia\"], \"y\": [18.4, 12.8, 12.4, 12.5, 12.8, 13.3, 17.5, 15.3, 16.8, 12.8, 11.0, 10.7, 13.8, 12.2, 16.3], \"marker\": {\"color\": \"rgb(255, 25, 64)\"}, \"name\": \"Female\"}], {\"title\": \"Top countries with the highest suicide rates in 2000\", \"xaxis\": {\"title\": \"Countries\"}, \"yaxis\": {\"title\": \"Suicide rate (per 100,000 people)\"}, \"barmode\": \"group\", \"bargap\": 0.15, \"bargroupgap\": 0.1}, {\"showLink\": true, \"linkText\": \"Export to plot.ly\"})});</script>"
      ]
     },
     "metadata": {},
     "output_type": "display_data"
    }
   ],
   "source": [
    "total = go.Bar(\n",
    "    x = rate2000['Country'].head(15),\n",
    "    y = rate2000['Total suicide rate'].head(15),\n",
    "    marker=dict(color='rgb(53, 183, 85)'),\n",
    "    name = 'Both Sexes'\n",
    ")\n",
    "\n",
    "male = go.Bar(\n",
    "    x = rate2000['Country'].head(15),\n",
    "    y = rate2000['Male suicide rate'].head(15),\n",
    "    marker=dict(color='rgb(26, 118, 255)'),\n",
    "    name = 'Male'\n",
    ")\n",
    "\n",
    "female = go.Bar(\n",
    "    x = rate2000['Country'].head(15),\n",
    "    y = rate2000['Female suicide rate'].head(15),\n",
    "    marker=dict(color='rgb(255, 25, 64)'),\n",
    "    name = 'Female'\n",
    ")\n",
    "\n",
    "data = [total, male, female]\n",
    "\n",
    "layout = go.Layout(\n",
    "    title='Top countries with the highest suicide rates in 2000',\n",
    "    xaxis={'title':'Countries'},\n",
    "    yaxis={'title':'Suicide rate (per 100,000 people)'},\n",
    "    barmode='group',\n",
    "    bargap=0.15,\n",
    "    bargroupgap=0.1\n",
    ")\n",
    "\n",
    "fig = go.Figure(data=data, layout=layout)\n",
    "py.iplot(fig, filename='basic-bar')"
   ]
  },
  {
   "cell_type": "markdown",
   "metadata": {},
   "source": [
    "### <a id='5.4.2'>5.4.2 Highest Suicide Rates in 2015</a>"
   ]
  },
  {
   "cell_type": "code",
   "execution_count": 35,
   "metadata": {
    "collapsed": true
   },
   "outputs": [],
   "source": [
    "total2015['Code'] = \"\"\n",
    "for i in range(len(total2015)):\n",
    "    country = total2015.iloc[i]['Country']\n",
    "    if country in countriesCodes.keys():\n",
    "        total2015['Code'].iloc[i] = countriesCodes[country]\n",
    "    else:\n",
    "        total2015['Code'].iloc[i] = np.nan\n",
    "total2015 = total2015.dropna()"
   ]
  },
  {
   "cell_type": "code",
   "execution_count": 36,
   "metadata": {
    "collapsed": true
   },
   "outputs": [],
   "source": [
    "male2015['Code'] = \"\"\n",
    "for i in range(len(male2015)):\n",
    "    country = male2015.iloc[i]['Country']\n",
    "    if country in countriesCodes.keys():\n",
    "        male2015['Code'].iloc[i] = countriesCodes[country]\n",
    "    else:\n",
    "        male2015['Code'].iloc[i] = np.nan\n",
    "male2015 = male2015.dropna()"
   ]
  },
  {
   "cell_type": "code",
   "execution_count": 37,
   "metadata": {
    "collapsed": true
   },
   "outputs": [],
   "source": [
    "female2015['Code'] = \"\"\n",
    "for i in range(len(male2015)):\n",
    "    country = female2015.iloc[i]['Country']\n",
    "    if country in countriesCodes.keys():\n",
    "        female2015['Code'].iloc[i] = countriesCodes[country]\n",
    "    else:\n",
    "        female2015['Code'].iloc[i] = np.nan\n",
    "female2015 = female2015.dropna()"
   ]
  },
  {
   "cell_type": "markdown",
   "metadata": {},
   "source": [
    "**Countries with the highest suicide rates in 2015 for both sexes**"
   ]
  },
  {
   "cell_type": "code",
   "execution_count": 38,
   "metadata": {
    "scrolled": false
   },
   "outputs": [
    {
     "data": {
      "application/vnd.plotly.v1+json": {
       "data": [
        {
         "marker": {
          "color": "rgb(255, 210, 119)",
          "line": {
           "color": "rgb(206, 142, 12)",
           "width": 1.5
          }
         },
         "opacity": 0.6,
         "type": "bar",
         "x": [
          "Sri Lanka",
          "Lithuania",
          "Guyana",
          "Mongolia",
          "South Korea",
          "Kazakhstan",
          "Suriname",
          "Belarus",
          "Equatorial Guinea",
          "Poland",
          "Latvia",
          "Hungary",
          "Slovenia",
          "Angola",
          "Belgium",
          "Ukraine",
          "Russia",
          "Japan",
          "Estonia",
          "Bolivia",
          "Côte d'Ivoire",
          "Croatia",
          "Central African Republic",
          "Serbia",
          "Uruguay",
          "France",
          "Austria",
          "Finland",
          "Thailand",
          "Bulgaria"
         ],
         "y": [
          35.3,
          32.7,
          29,
          28.3,
          28.3,
          27.5,
          26.6,
          22.8,
          22.6,
          22.3,
          21.7,
          21.6,
          21.4,
          20.5,
          20.5,
          20.1,
          20.1,
          19.7,
          18.9,
          18.7,
          18.1,
          17.5,
          17.4,
          17,
          17,
          16.9,
          16.4,
          16.3,
          16,
          15.9
         ]
        }
       ],
       "layout": {
        "title": "Top countries with the highest suicide rates in 2015 for both sexes",
        "xaxis": {
         "title": "Countries"
        },
        "yaxis": {
         "title": "Total suicide rate (per 100,000 people)"
        }
       }
      },
      "text/html": [
       "<div id=\"f7fae2f4-4b4c-469c-8a90-bf1df7074fbb\" style=\"height: 525px; width: 100%;\" class=\"plotly-graph-div\"></div><script type=\"text/javascript\">require([\"plotly\"], function(Plotly) { window.PLOTLYENV=window.PLOTLYENV || {};window.PLOTLYENV.BASE_URL=\"https://plot.ly\";Plotly.newPlot(\"f7fae2f4-4b4c-469c-8a90-bf1df7074fbb\", [{\"type\": \"bar\", \"x\": [\"Sri Lanka\", \"Lithuania\", \"Guyana\", \"Mongolia\", \"South Korea\", \"Kazakhstan\", \"Suriname\", \"Belarus\", \"Equatorial Guinea\", \"Poland\", \"Latvia\", \"Hungary\", \"Slovenia\", \"Angola\", \"Belgium\", \"Ukraine\", \"Russia\", \"Japan\", \"Estonia\", \"Bolivia\", \"C\\u00f4te d'Ivoire\", \"Croatia\", \"Central African Republic\", \"Serbia\", \"Uruguay\", \"France\", \"Austria\", \"Finland\", \"Thailand\", \"Bulgaria\"], \"y\": [35.3, 32.7, 29.0, 28.3, 28.3, 27.5, 26.6, 22.8, 22.6, 22.3, 21.7, 21.6, 21.4, 20.5, 20.5, 20.1, 20.1, 19.7, 18.9, 18.7, 18.1, 17.5, 17.4, 17.0, 17.0, 16.9, 16.4, 16.3, 16.0, 15.9], \"marker\": {\"color\": \"rgb(255, 210, 119)\", \"line\": {\"color\": \"rgb(206, 142, 12)\", \"width\": 1.5}}, \"opacity\": 0.6}], {\"title\": \"Top countries with the highest suicide rates in 2015 for both sexes\", \"xaxis\": {\"title\": \"Countries\"}, \"yaxis\": {\"title\": \"Total suicide rate (per 100,000 people)\"}}, {\"showLink\": true, \"linkText\": \"Export to plot.ly\"})});</script>"
      ],
      "text/vnd.plotly.v1+html": [
       "<div id=\"f7fae2f4-4b4c-469c-8a90-bf1df7074fbb\" style=\"height: 525px; width: 100%;\" class=\"plotly-graph-div\"></div><script type=\"text/javascript\">require([\"plotly\"], function(Plotly) { window.PLOTLYENV=window.PLOTLYENV || {};window.PLOTLYENV.BASE_URL=\"https://plot.ly\";Plotly.newPlot(\"f7fae2f4-4b4c-469c-8a90-bf1df7074fbb\", [{\"type\": \"bar\", \"x\": [\"Sri Lanka\", \"Lithuania\", \"Guyana\", \"Mongolia\", \"South Korea\", \"Kazakhstan\", \"Suriname\", \"Belarus\", \"Equatorial Guinea\", \"Poland\", \"Latvia\", \"Hungary\", \"Slovenia\", \"Angola\", \"Belgium\", \"Ukraine\", \"Russia\", \"Japan\", \"Estonia\", \"Bolivia\", \"C\\u00f4te d'Ivoire\", \"Croatia\", \"Central African Republic\", \"Serbia\", \"Uruguay\", \"France\", \"Austria\", \"Finland\", \"Thailand\", \"Bulgaria\"], \"y\": [35.3, 32.7, 29.0, 28.3, 28.3, 27.5, 26.6, 22.8, 22.6, 22.3, 21.7, 21.6, 21.4, 20.5, 20.5, 20.1, 20.1, 19.7, 18.9, 18.7, 18.1, 17.5, 17.4, 17.0, 17.0, 16.9, 16.4, 16.3, 16.0, 15.9], \"marker\": {\"color\": \"rgb(255, 210, 119)\", \"line\": {\"color\": \"rgb(206, 142, 12)\", \"width\": 1.5}}, \"opacity\": 0.6}], {\"title\": \"Top countries with the highest suicide rates in 2015 for both sexes\", \"xaxis\": {\"title\": \"Countries\"}, \"yaxis\": {\"title\": \"Total suicide rate (per 100,000 people)\"}}, {\"showLink\": true, \"linkText\": \"Export to plot.ly\"})});</script>"
      ]
     },
     "metadata": {},
     "output_type": "display_data"
    }
   ],
   "source": [
    "data = [go.Bar(\n",
    "    x = total2015['Country'].head(30),\n",
    "    y = total2015['Total suicide rate'].head(30),\n",
    "    marker=dict(color='rgb(255, 210, 119)', line=dict(color='rgb(206, 142, 12)', width=1.5)),opacity=0.6 \n",
    ")]\n",
    "\n",
    "layout = go.Layout(\n",
    "    title='Top countries with the highest suicide rates in 2015 for both sexes',\n",
    "    xaxis={'title':'Countries'},\n",
    "    yaxis={'title':'Total suicide rate (per 100,000 people)'}\n",
    ")\n",
    "\n",
    "fig = go.Figure(data=data, layout=layout)\n",
    "py.iplot(fig, filename='basic-bar')"
   ]
  },
  {
   "cell_type": "markdown",
   "metadata": {},
   "source": [
    "**Top 5 Countries with the highest suicide rates for both sexes in 2015:**\n",
    "* Sri Lanka - 35.3\n",
    "* Lithuania - 32.7\n",
    "* Guyana - 29\n",
    "* Mongolia - 28.3\n",
    "* South Korea - 28.3"
   ]
  },
  {
   "cell_type": "markdown",
   "metadata": {},
   "source": [
    "**Countries with the lowest suicide rates in 2015 for both sexes**"
   ]
  },
  {
   "cell_type": "code",
   "execution_count": 39,
   "metadata": {},
   "outputs": [
    {
     "data": {
      "application/vnd.plotly.v1+json": {
       "data": [
        {
         "marker": {
          "color": "rgb(198, 141, 227)",
          "line": {
           "color": "rgb(127, 20, 181)",
           "width": 1.5
          }
         },
         "opacity": 0.6,
         "type": "bar",
         "x": [
          "Albania",
          "Greece",
          "Myanmar",
          "Niger",
          "Kuwait",
          "Tajikistan",
          "Honduras",
          "Iran",
          "Tonga",
          "Philippines",
          "Saudi Arabia",
          "Azerbaijan",
          "Jordan",
          "Algeria",
          "Lebanon",
          "Venezuela",
          "Iraq",
          "Indonesia",
          "United Arab Emirates",
          "Syria",
          "Saint Vincent and the Grenadines",
          "Egypt",
          "Guatemala",
          "Pakistan",
          "Sao Tome and Principe",
          "Bahamas",
          "Jamaica",
          "Brunei",
          "Grenada",
          "Barbados"
         ],
         "y": [
          4.3,
          4.3,
          4.3,
          4.1,
          4,
          4,
          3.6,
          3.6,
          3.5,
          3.4,
          3.4,
          3.3,
          3.2,
          3.1,
          3.1,
          3,
          3,
          2.9,
          2.9,
          2.7,
          2.7,
          2.6,
          2.5,
          2.1,
          2,
          1.8,
          1.4,
          1.3,
          0.5,
          0.4
         ]
        }
       ],
       "layout": {
        "title": "Top countries with the lowest suicide rates in 2015 for both sexes",
        "xaxis": {
         "title": "Countries"
        },
        "yaxis": {
         "title": "Total suicide rate (per 100,000 people)"
        }
       }
      },
      "text/html": [
       "<div id=\"30afa4a1-51dd-44f4-9e77-bb155611ce02\" style=\"height: 525px; width: 100%;\" class=\"plotly-graph-div\"></div><script type=\"text/javascript\">require([\"plotly\"], function(Plotly) { window.PLOTLYENV=window.PLOTLYENV || {};window.PLOTLYENV.BASE_URL=\"https://plot.ly\";Plotly.newPlot(\"30afa4a1-51dd-44f4-9e77-bb155611ce02\", [{\"type\": \"bar\", \"x\": [\"Albania\", \"Greece\", \"Myanmar\", \"Niger\", \"Kuwait\", \"Tajikistan\", \"Honduras\", \"Iran\", \"Tonga\", \"Philippines\", \"Saudi Arabia\", \"Azerbaijan\", \"Jordan\", \"Algeria\", \"Lebanon\", \"Venezuela\", \"Iraq\", \"Indonesia\", \"United Arab Emirates\", \"Syria\", \"Saint Vincent and the Grenadines\", \"Egypt\", \"Guatemala\", \"Pakistan\", \"Sao Tome and Principe\", \"Bahamas\", \"Jamaica\", \"Brunei\", \"Grenada\", \"Barbados\"], \"y\": [4.3, 4.3, 4.3, 4.1, 4.0, 4.0, 3.6, 3.6, 3.5, 3.4, 3.4, 3.3, 3.2, 3.1, 3.1, 3.0, 3.0, 2.9, 2.9, 2.7, 2.7, 2.6, 2.5, 2.1, 2.0, 1.8, 1.4, 1.3, 0.5, 0.4], \"marker\": {\"color\": \"rgb(198, 141, 227)\", \"line\": {\"color\": \"rgb(127, 20, 181)\", \"width\": 1.5}}, \"opacity\": 0.6}], {\"title\": \"Top countries with the lowest suicide rates in 2015 for both sexes\", \"xaxis\": {\"title\": \"Countries\"}, \"yaxis\": {\"title\": \"Total suicide rate (per 100,000 people)\"}}, {\"showLink\": true, \"linkText\": \"Export to plot.ly\"})});</script>"
      ],
      "text/vnd.plotly.v1+html": [
       "<div id=\"30afa4a1-51dd-44f4-9e77-bb155611ce02\" style=\"height: 525px; width: 100%;\" class=\"plotly-graph-div\"></div><script type=\"text/javascript\">require([\"plotly\"], function(Plotly) { window.PLOTLYENV=window.PLOTLYENV || {};window.PLOTLYENV.BASE_URL=\"https://plot.ly\";Plotly.newPlot(\"30afa4a1-51dd-44f4-9e77-bb155611ce02\", [{\"type\": \"bar\", \"x\": [\"Albania\", \"Greece\", \"Myanmar\", \"Niger\", \"Kuwait\", \"Tajikistan\", \"Honduras\", \"Iran\", \"Tonga\", \"Philippines\", \"Saudi Arabia\", \"Azerbaijan\", \"Jordan\", \"Algeria\", \"Lebanon\", \"Venezuela\", \"Iraq\", \"Indonesia\", \"United Arab Emirates\", \"Syria\", \"Saint Vincent and the Grenadines\", \"Egypt\", \"Guatemala\", \"Pakistan\", \"Sao Tome and Principe\", \"Bahamas\", \"Jamaica\", \"Brunei\", \"Grenada\", \"Barbados\"], \"y\": [4.3, 4.3, 4.3, 4.1, 4.0, 4.0, 3.6, 3.6, 3.5, 3.4, 3.4, 3.3, 3.2, 3.1, 3.1, 3.0, 3.0, 2.9, 2.9, 2.7, 2.7, 2.6, 2.5, 2.1, 2.0, 1.8, 1.4, 1.3, 0.5, 0.4], \"marker\": {\"color\": \"rgb(198, 141, 227)\", \"line\": {\"color\": \"rgb(127, 20, 181)\", \"width\": 1.5}}, \"opacity\": 0.6}], {\"title\": \"Top countries with the lowest suicide rates in 2015 for both sexes\", \"xaxis\": {\"title\": \"Countries\"}, \"yaxis\": {\"title\": \"Total suicide rate (per 100,000 people)\"}}, {\"showLink\": true, \"linkText\": \"Export to plot.ly\"})});</script>"
      ]
     },
     "metadata": {},
     "output_type": "display_data"
    }
   ],
   "source": [
    "data = [go.Bar(\n",
    "    x = total2015['Country'].tail(30),\n",
    "    y = total2015['Total suicide rate'].tail(30),\n",
    "    marker=dict(color='rgb(198, 141, 227)', line=dict(color='rgb(127, 20, 181)', width=1.5)),opacity=0.6 \n",
    ")]\n",
    "\n",
    "layout = go.Layout(\n",
    "    title='Top countries with the lowest suicide rates in 2015 for both sexes',\n",
    "    xaxis={'title':'Countries'},\n",
    "    yaxis={'title':'Total suicide rate (per 100,000 people)'}\n",
    ")\n",
    "\n",
    "fig = go.Figure(data=data, layout=layout)\n",
    "py.iplot(fig, filename='basic-bar')"
   ]
  },
  {
   "cell_type": "markdown",
   "metadata": {},
   "source": [
    "**Top 5 Countries with the lowest suicide rates for both sexes in 2015:**\n",
    "* Barbados - 0.4\n",
    "* Grenda - 0.5\n",
    "* Brunei - 1.3\n",
    "* Jamaica - 1.4\n",
    "* The Bahamas - 1.8"
   ]
  },
  {
   "cell_type": "markdown",
   "metadata": {},
   "source": [
    "**A choropleth map visualizes the suicide rates in 2015 for both sexes throughout the world**"
   ]
  },
  {
   "cell_type": "code",
   "execution_count": 40,
   "metadata": {},
   "outputs": [
    {
     "data": {
      "application/vnd.plotly.v1+json": {
       "data": [
        {
         "autocolorscale": false,
         "colorbar": {
          "autotick": false,
          "title": "Suicide rate (per 100K)"
         },
         "colorscale": [
          [
           0,
           "rgb(255, 60, 20)"
          ],
          [
           0.25,
           "rgb(255, 100, 20)"
          ],
          [
           0.5,
           "rgb(255, 140, 20)"
          ],
          [
           0.75,
           "rgb(255, 200, 20)"
          ],
          [
           1,
           "rgb(225, 255, 150)"
          ]
         ],
         "locations": [
          "LKA",
          "LTU",
          "GUY",
          "MNG",
          "KOR",
          "KAZ",
          "SUR",
          "BLR",
          "GNQ",
          "POL",
          "LVA",
          "HUN",
          "SVN",
          "AGO",
          "BEL",
          "UKR",
          "RUS",
          "JPN",
          "EST",
          "BOL",
          "CIV",
          "HRV",
          "CAF",
          "SRB",
          "URY",
          "FRA",
          "AUT",
          "FIN",
          "THA",
          "BGR",
          "PRK",
          "IND",
          "SWE",
          "SLE",
          "CHE",
          "MDA",
          "SWZ",
          "TTO",
          "USA",
          "KIR",
          "ARG",
          "CUB",
          "PRT",
          "CZE",
          "DEU",
          "ISL",
          "NZL",
          "SVK",
          "LAO",
          "CAN",
          "DNK",
          "KHM",
          "CMR",
          "NLD",
          "AUS",
          "IRL",
          "ROU",
          "BTN",
          "FSM",
          "HTI",
          "SLV",
          "LUX",
          "MNE",
          "NOR",
          "GAB",
          "ZAF",
          "ZWE",
          "LSO",
          "PNG",
          "PRY",
          "SDN",
          "TKM",
          "CHN",
          "SGP",
          "NGA",
          "CHL",
          "COD",
          "BWA",
          "COG",
          "NIC",
          "TGO",
          "BEN",
          "UZB",
          "MUS",
          "SYC",
          "BFA",
          "TCD",
          "TUR",
          "MDV",
          "DJI",
          "CPV",
          "RWA",
          "GBR",
          "ESP",
          "FJI",
          "MOZ",
          "ETH",
          "YEM",
          "MKD",
          "BDI",
          "SLB",
          "ITA",
          "CRI",
          "NAM",
          "GIN",
          "ECU",
          "VNM",
          "COM",
          "KGZ",
          "BLZ",
          "UGA",
          "TLS",
          "TZA",
          "GHA",
          "DOM",
          "LCA",
          "ERI",
          "GEO",
          "BHR",
          "KEN",
          "SSD",
          "ZMB",
          "QAT",
          "LBR",
          "GNB",
          "BRA",
          "GMB",
          "SEN",
          "COL",
          "BIH",
          "NPL",
          "MLT",
          "MRT",
          "PER",
          "VUT",
          "MYS",
          "MLI",
          "WSM",
          "OMN",
          "TUN",
          "AFG",
          "LBY",
          "ISR",
          "PAN",
          "BGD",
          "MWI",
          "ARM",
          "SOM",
          "MEX",
          "MAR",
          "MDG",
          "CYP",
          "ALB",
          "GRC",
          "MMR",
          "NER",
          "KWT",
          "TJK",
          "HND",
          "IRN",
          "TON",
          "PHL",
          "SAU",
          "AZE",
          "JOR",
          "DZA",
          "LBN",
          "VEN",
          "IRQ",
          "IDN",
          "ARE",
          "SYR",
          "VCT",
          "EGY",
          "GTM",
          "PAK",
          "STP",
          "BHS",
          "JAM",
          "BRN",
          "GRD",
          "BRB"
         ],
         "marker": {
          "line": {
           "color": "rgb(240, 240, 240)",
           "width": 1.5
          }
         },
         "reversescale": true,
         "text": [
          "Sri Lanka",
          "Lithuania",
          "Guyana",
          "Mongolia",
          "South Korea",
          "Kazakhstan",
          "Suriname",
          "Belarus",
          "Equatorial Guinea",
          "Poland",
          "Latvia",
          "Hungary",
          "Slovenia",
          "Angola",
          "Belgium",
          "Ukraine",
          "Russia",
          "Japan",
          "Estonia",
          "Bolivia",
          "Côte d'Ivoire",
          "Croatia",
          "Central African Republic",
          "Serbia",
          "Uruguay",
          "France",
          "Austria",
          "Finland",
          "Thailand",
          "Bulgaria",
          "North Korea",
          "India",
          "Sweden",
          "Sierra Leone",
          "Switzerland",
          "Moldova",
          "Swaziland",
          "Trinidad and Tobago",
          "United States",
          "Kiribati",
          "Argentina",
          "Cuba",
          "Portugal",
          "Czech Republic",
          "Germany",
          "Iceland",
          "New Zealand",
          "Slovakia",
          "Laos",
          "Canada",
          "Denmark",
          "Cambodia",
          "Cameroon",
          "Netherlands",
          "Australia",
          "Ireland",
          "Romania",
          "Bhutan",
          "Micronesia",
          "Haiti",
          "El Salvador",
          "Luxembourg",
          "Montenegro",
          "Norway",
          "Gabon",
          "South Africa",
          "Zimbabwe",
          "Lesotho",
          "Papua New Guinea",
          "Paraguay",
          "Sudan",
          "Turkmenistan",
          "China",
          "Singapore",
          "Nigeria",
          "Chile",
          "Democratic Republic of the Congo",
          "Botswana",
          "Congo",
          "Nicaragua",
          "Togo",
          "Benin",
          "Uzbekistan",
          "Mauritius",
          "Seychelles",
          "Burkina Faso",
          "Chad",
          "Turkey",
          "Maldives",
          "Djibouti",
          "Cape Verde",
          "Rwanda",
          "United Kingdom",
          "Spain",
          "Fiji",
          "Mozambique",
          "Ethiopia",
          "Yemen",
          "Macedonia",
          "Burundi",
          "Solomon Islands",
          "Italy",
          "Costa Rica",
          "Namibia",
          "Guinea",
          "Ecuador",
          "Vietnam",
          "Comoros",
          "Kyrgyzstan",
          "Belize",
          "Uganda",
          "Timor-Leste",
          "Tanzania",
          "Ghana",
          "Dominican Republic",
          "Saint Lucia",
          "Eritrea",
          "Georgia",
          "Bahrain",
          "Kenya",
          "South Sudan",
          "Zambia",
          "Qatar",
          "Liberia",
          "Guinea-Bissau",
          "Brazil",
          "Gambia",
          "Senegal",
          "Colombia",
          "Bosnia and Herzegovina",
          "Nepal",
          "Malta",
          "Mauritania",
          "Peru",
          "Vanuatu",
          "Malaysia",
          "Mali",
          "Samoa",
          "Oman",
          "Tunisia",
          "Afghanistan",
          "Libya",
          "Israel",
          "Panama",
          "Bangladesh",
          "Malawi",
          "Armenia",
          "Somalia",
          "Mexico",
          "Morocco",
          "Madagascar",
          "Cyprus",
          "Albania",
          "Greece",
          "Myanmar",
          "Niger",
          "Kuwait",
          "Tajikistan",
          "Honduras",
          "Iran",
          "Tonga",
          "Philippines",
          "Saudi Arabia",
          "Azerbaijan",
          "Jordan",
          "Algeria",
          "Lebanon",
          "Venezuela",
          "Iraq",
          "Indonesia",
          "United Arab Emirates",
          "Syria",
          "Saint Vincent and the Grenadines",
          "Egypt",
          "Guatemala",
          "Pakistan",
          "Sao Tome and Principe",
          "Bahamas",
          "Jamaica",
          "Brunei",
          "Grenada",
          "Barbados"
         ],
         "type": "choropleth",
         "z": [
          35.3,
          32.7,
          29,
          28.3,
          28.3,
          27.5,
          26.6,
          22.8,
          22.6,
          22.3,
          21.7,
          21.6,
          21.4,
          20.5,
          20.5,
          20.1,
          20.1,
          19.7,
          18.9,
          18.7,
          18.1,
          17.5,
          17.4,
          17,
          17,
          16.9,
          16.4,
          16.3,
          16,
          15.9,
          15.8,
          15.7,
          15.4,
          15.4,
          15.1,
          14.8,
          14.7,
          14.6,
          14.3,
          14.3,
          14.2,
          14.1,
          13.7,
          13.7,
          13.4,
          13.1,
          12.6,
          12.5,
          12.3,
          12.3,
          12.3,
          11.9,
          11.9,
          11.9,
          11.8,
          11.7,
          11.7,
          11.7,
          11.2,
          11.2,
          11.1,
          11.1,
          11,
          10.9,
          10.9,
          10.7,
          10.5,
          10.4,
          10.3,
          10.3,
          10.2,
          10,
          10,
          9.9,
          9.9,
          9.9,
          9.8,
          9.7,
          9.6,
          9.5,
          9.5,
          9.4,
          9.3,
          9.3,
          9.3,
          9.2,
          8.8,
          8.7,
          8.6,
          8.6,
          8.5,
          8.5,
          8.5,
          8.5,
          8.5,
          8.4,
          8.4,
          8.2,
          8.1,
          8,
          7.9,
          7.9,
          7.7,
          7.7,
          7.7,
          7.5,
          7.4,
          7.4,
          7.4,
          7.3,
          7.2,
          7.1,
          7,
          6.9,
          6.8,
          6.8,
          6.7,
          6.7,
          6.5,
          6.5,
          6.4,
          6.4,
          6.4,
          6.3,
          6.3,
          6.3,
          6.2,
          6.1,
          6.1,
          6,
          6,
          6,
          5.9,
          5.8,
          5.8,
          5.8,
          5.7,
          5.7,
          5.6,
          5.5,
          5.5,
          5.5,
          5.5,
          5.5,
          5.5,
          5.5,
          5.4,
          5.4,
          5,
          4.8,
          4.7,
          4.7,
          4.3,
          4.3,
          4.3,
          4.1,
          4,
          4,
          3.6,
          3.6,
          3.5,
          3.4,
          3.4,
          3.3,
          3.2,
          3.1,
          3.1,
          3,
          3,
          2.9,
          2.9,
          2.7,
          2.7,
          2.6,
          2.5,
          2.1,
          2,
          1.8,
          1.4,
          1.3,
          0.5,
          0.4
         ]
        }
       ],
       "layout": {
        "geo": {
         "projection": {
          "type": "Mercator"
         },
         "showcoastlines": false,
         "showframe": false
        },
        "title": "Suicide rates in 2015 - Both sexes"
       }
      },
      "text/html": [
       "<div id=\"6fe590e6-923e-4969-a3ab-d8c28a61921b\" style=\"height: 525px; width: 100%;\" class=\"plotly-graph-div\"></div><script type=\"text/javascript\">require([\"plotly\"], function(Plotly) { window.PLOTLYENV=window.PLOTLYENV || {};window.PLOTLYENV.BASE_URL=\"https://plot.ly\";Plotly.newPlot(\"6fe590e6-923e-4969-a3ab-d8c28a61921b\", [{\"type\": \"choropleth\", \"locations\": [\"LKA\", \"LTU\", \"GUY\", \"MNG\", \"KOR\", \"KAZ\", \"SUR\", \"BLR\", \"GNQ\", \"POL\", \"LVA\", \"HUN\", \"SVN\", \"AGO\", \"BEL\", \"UKR\", \"RUS\", \"JPN\", \"EST\", \"BOL\", \"CIV\", \"HRV\", \"CAF\", \"SRB\", \"URY\", \"FRA\", \"AUT\", \"FIN\", \"THA\", \"BGR\", \"PRK\", \"IND\", \"SWE\", \"SLE\", \"CHE\", \"MDA\", \"SWZ\", \"TTO\", \"USA\", \"KIR\", \"ARG\", \"CUB\", \"PRT\", \"CZE\", \"DEU\", \"ISL\", \"NZL\", \"SVK\", \"LAO\", \"CAN\", \"DNK\", \"KHM\", \"CMR\", \"NLD\", \"AUS\", \"IRL\", \"ROU\", \"BTN\", \"FSM\", \"HTI\", \"SLV\", \"LUX\", \"MNE\", \"NOR\", \"GAB\", \"ZAF\", \"ZWE\", \"LSO\", \"PNG\", \"PRY\", \"SDN\", \"TKM\", \"CHN\", \"SGP\", \"NGA\", \"CHL\", \"COD\", \"BWA\", \"COG\", \"NIC\", \"TGO\", \"BEN\", \"UZB\", \"MUS\", \"SYC\", \"BFA\", \"TCD\", \"TUR\", \"MDV\", \"DJI\", \"CPV\", \"RWA\", \"GBR\", \"ESP\", \"FJI\", \"MOZ\", \"ETH\", \"YEM\", \"MKD\", \"BDI\", \"SLB\", \"ITA\", \"CRI\", \"NAM\", \"GIN\", \"ECU\", \"VNM\", \"COM\", \"KGZ\", \"BLZ\", \"UGA\", \"TLS\", \"TZA\", \"GHA\", \"DOM\", \"LCA\", \"ERI\", \"GEO\", \"BHR\", \"KEN\", \"SSD\", \"ZMB\", \"QAT\", \"LBR\", \"GNB\", \"BRA\", \"GMB\", \"SEN\", \"COL\", \"BIH\", \"NPL\", \"MLT\", \"MRT\", \"PER\", \"VUT\", \"MYS\", \"MLI\", \"WSM\", \"OMN\", \"TUN\", \"AFG\", \"LBY\", \"ISR\", \"PAN\", \"BGD\", \"MWI\", \"ARM\", \"SOM\", \"MEX\", \"MAR\", \"MDG\", \"CYP\", \"ALB\", \"GRC\", \"MMR\", \"NER\", \"KWT\", \"TJK\", \"HND\", \"IRN\", \"TON\", \"PHL\", \"SAU\", \"AZE\", \"JOR\", \"DZA\", \"LBN\", \"VEN\", \"IRQ\", \"IDN\", \"ARE\", \"SYR\", \"VCT\", \"EGY\", \"GTM\", \"PAK\", \"STP\", \"BHS\", \"JAM\", \"BRN\", \"GRD\", \"BRB\"], \"z\": [35.3, 32.7, 29.0, 28.3, 28.3, 27.5, 26.6, 22.8, 22.6, 22.3, 21.7, 21.6, 21.4, 20.5, 20.5, 20.1, 20.1, 19.7, 18.9, 18.7, 18.1, 17.5, 17.4, 17.0, 17.0, 16.9, 16.4, 16.3, 16.0, 15.9, 15.8, 15.7, 15.4, 15.4, 15.1, 14.8, 14.7, 14.6, 14.3, 14.3, 14.2, 14.1, 13.7, 13.7, 13.4, 13.1, 12.6, 12.5, 12.3, 12.3, 12.3, 11.9, 11.9, 11.9, 11.8, 11.7, 11.7, 11.7, 11.2, 11.2, 11.1, 11.1, 11.0, 10.9, 10.9, 10.7, 10.5, 10.4, 10.3, 10.3, 10.2, 10.0, 10.0, 9.9, 9.9, 9.9, 9.8, 9.7, 9.6, 9.5, 9.5, 9.4, 9.3, 9.3, 9.3, 9.2, 8.8, 8.7, 8.6, 8.6, 8.5, 8.5, 8.5, 8.5, 8.5, 8.4, 8.4, 8.2, 8.1, 8.0, 7.9, 7.9, 7.7, 7.7, 7.7, 7.5, 7.4, 7.4, 7.4, 7.3, 7.2, 7.1, 7.0, 6.9, 6.8, 6.8, 6.7, 6.7, 6.5, 6.5, 6.4, 6.4, 6.4, 6.3, 6.3, 6.3, 6.2, 6.1, 6.1, 6.0, 6.0, 6.0, 5.9, 5.8, 5.8, 5.8, 5.7, 5.7, 5.6, 5.5, 5.5, 5.5, 5.5, 5.5, 5.5, 5.5, 5.4, 5.4, 5.0, 4.8, 4.7, 4.7, 4.3, 4.3, 4.3, 4.1, 4.0, 4.0, 3.6, 3.6, 3.5, 3.4, 3.4, 3.3, 3.2, 3.1, 3.1, 3.0, 3.0, 2.9, 2.9, 2.7, 2.7, 2.6, 2.5, 2.1, 2.0, 1.8, 1.4, 1.3, 0.5, 0.4], \"text\": [\"Sri Lanka\", \"Lithuania\", \"Guyana\", \"Mongolia\", \"South Korea\", \"Kazakhstan\", \"Suriname\", \"Belarus\", \"Equatorial Guinea\", \"Poland\", \"Latvia\", \"Hungary\", \"Slovenia\", \"Angola\", \"Belgium\", \"Ukraine\", \"Russia\", \"Japan\", \"Estonia\", \"Bolivia\", \"C\\u00f4te d'Ivoire\", \"Croatia\", \"Central African Republic\", \"Serbia\", \"Uruguay\", \"France\", \"Austria\", \"Finland\", \"Thailand\", \"Bulgaria\", \"North Korea\", \"India\", \"Sweden\", \"Sierra Leone\", \"Switzerland\", \"Moldova\", \"Swaziland\", \"Trinidad and Tobago\", \"United States\", \"Kiribati\", \"Argentina\", \"Cuba\", \"Portugal\", \"Czech Republic\", \"Germany\", \"Iceland\", \"New Zealand\", \"Slovakia\", \"Laos\", \"Canada\", \"Denmark\", \"Cambodia\", \"Cameroon\", \"Netherlands\", \"Australia\", \"Ireland\", \"Romania\", \"Bhutan\", \"Micronesia\", \"Haiti\", \"El Salvador\", \"Luxembourg\", \"Montenegro\", \"Norway\", \"Gabon\", \"South Africa\", \"Zimbabwe\", \"Lesotho\", \"Papua New Guinea\", \"Paraguay\", \"Sudan\", \"Turkmenistan\", \"China\", \"Singapore\", \"Nigeria\", \"Chile\", \"Democratic Republic of the Congo\", \"Botswana\", \"Congo\", \"Nicaragua\", \"Togo\", \"Benin\", \"Uzbekistan\", \"Mauritius\", \"Seychelles\", \"Burkina Faso\", \"Chad\", \"Turkey\", \"Maldives\", \"Djibouti\", \"Cape Verde\", \"Rwanda\", \"United Kingdom\", \"Spain\", \"Fiji\", \"Mozambique\", \"Ethiopia\", \"Yemen\", \"Macedonia\", \"Burundi\", \"Solomon Islands\", \"Italy\", \"Costa Rica\", \"Namibia\", \"Guinea\", \"Ecuador\", \"Vietnam\", \"Comoros\", \"Kyrgyzstan\", \"Belize\", \"Uganda\", \"Timor-Leste\", \"Tanzania\", \"Ghana\", \"Dominican Republic\", \"Saint Lucia\", \"Eritrea\", \"Georgia\", \"Bahrain\", \"Kenya\", \"South Sudan\", \"Zambia\", \"Qatar\", \"Liberia\", \"Guinea-Bissau\", \"Brazil\", \"Gambia\", \"Senegal\", \"Colombia\", \"Bosnia and Herzegovina\", \"Nepal\", \"Malta\", \"Mauritania\", \"Peru\", \"Vanuatu\", \"Malaysia\", \"Mali\", \"Samoa\", \"Oman\", \"Tunisia\", \"Afghanistan\", \"Libya\", \"Israel\", \"Panama\", \"Bangladesh\", \"Malawi\", \"Armenia\", \"Somalia\", \"Mexico\", \"Morocco\", \"Madagascar\", \"Cyprus\", \"Albania\", \"Greece\", \"Myanmar\", \"Niger\", \"Kuwait\", \"Tajikistan\", \"Honduras\", \"Iran\", \"Tonga\", \"Philippines\", \"Saudi Arabia\", \"Azerbaijan\", \"Jordan\", \"Algeria\", \"Lebanon\", \"Venezuela\", \"Iraq\", \"Indonesia\", \"United Arab Emirates\", \"Syria\", \"Saint Vincent and the Grenadines\", \"Egypt\", \"Guatemala\", \"Pakistan\", \"Sao Tome and Principe\", \"Bahamas\", \"Jamaica\", \"Brunei\", \"Grenada\", \"Barbados\"], \"colorscale\": [[0, \"rgb(255, 60, 20)\"], [0.25, \"rgb(255, 100, 20)\"], [0.5, \"rgb(255, 140, 20)\"], [0.75, \"rgb(255, 200, 20)\"], [1, \"rgb(225, 255, 150)\"]], \"autocolorscale\": false, \"reversescale\": true, \"marker\": {\"line\": {\"color\": \"rgb(240, 240, 240)\", \"width\": 1.5}}, \"colorbar\": {\"autotick\": false, \"title\": \"Suicide rate (per 100K)\"}}], {\"title\": \"Suicide rates in 2015 - Both sexes\", \"geo\": {\"showframe\": false, \"showcoastlines\": false, \"projection\": {\"type\": \"Mercator\"}}}, {\"showLink\": true, \"linkText\": \"Export to plot.ly\"})});</script>"
      ],
      "text/vnd.plotly.v1+html": [
       "<div id=\"6fe590e6-923e-4969-a3ab-d8c28a61921b\" style=\"height: 525px; width: 100%;\" class=\"plotly-graph-div\"></div><script type=\"text/javascript\">require([\"plotly\"], function(Plotly) { window.PLOTLYENV=window.PLOTLYENV || {};window.PLOTLYENV.BASE_URL=\"https://plot.ly\";Plotly.newPlot(\"6fe590e6-923e-4969-a3ab-d8c28a61921b\", [{\"type\": \"choropleth\", \"locations\": [\"LKA\", \"LTU\", \"GUY\", \"MNG\", \"KOR\", \"KAZ\", \"SUR\", \"BLR\", \"GNQ\", \"POL\", \"LVA\", \"HUN\", \"SVN\", \"AGO\", \"BEL\", \"UKR\", \"RUS\", \"JPN\", \"EST\", \"BOL\", \"CIV\", \"HRV\", \"CAF\", \"SRB\", \"URY\", \"FRA\", \"AUT\", \"FIN\", \"THA\", \"BGR\", \"PRK\", \"IND\", \"SWE\", \"SLE\", \"CHE\", \"MDA\", \"SWZ\", \"TTO\", \"USA\", \"KIR\", \"ARG\", \"CUB\", \"PRT\", \"CZE\", \"DEU\", \"ISL\", \"NZL\", \"SVK\", \"LAO\", \"CAN\", \"DNK\", \"KHM\", \"CMR\", \"NLD\", \"AUS\", \"IRL\", \"ROU\", \"BTN\", \"FSM\", \"HTI\", \"SLV\", \"LUX\", \"MNE\", \"NOR\", \"GAB\", \"ZAF\", \"ZWE\", \"LSO\", \"PNG\", \"PRY\", \"SDN\", \"TKM\", \"CHN\", \"SGP\", \"NGA\", \"CHL\", \"COD\", \"BWA\", \"COG\", \"NIC\", \"TGO\", \"BEN\", \"UZB\", \"MUS\", \"SYC\", \"BFA\", \"TCD\", \"TUR\", \"MDV\", \"DJI\", \"CPV\", \"RWA\", \"GBR\", \"ESP\", \"FJI\", \"MOZ\", \"ETH\", \"YEM\", \"MKD\", \"BDI\", \"SLB\", \"ITA\", \"CRI\", \"NAM\", \"GIN\", \"ECU\", \"VNM\", \"COM\", \"KGZ\", \"BLZ\", \"UGA\", \"TLS\", \"TZA\", \"GHA\", \"DOM\", \"LCA\", \"ERI\", \"GEO\", \"BHR\", \"KEN\", \"SSD\", \"ZMB\", \"QAT\", \"LBR\", \"GNB\", \"BRA\", \"GMB\", \"SEN\", \"COL\", \"BIH\", \"NPL\", \"MLT\", \"MRT\", \"PER\", \"VUT\", \"MYS\", \"MLI\", \"WSM\", \"OMN\", \"TUN\", \"AFG\", \"LBY\", \"ISR\", \"PAN\", \"BGD\", \"MWI\", \"ARM\", \"SOM\", \"MEX\", \"MAR\", \"MDG\", \"CYP\", \"ALB\", \"GRC\", \"MMR\", \"NER\", \"KWT\", \"TJK\", \"HND\", \"IRN\", \"TON\", \"PHL\", \"SAU\", \"AZE\", \"JOR\", \"DZA\", \"LBN\", \"VEN\", \"IRQ\", \"IDN\", \"ARE\", \"SYR\", \"VCT\", \"EGY\", \"GTM\", \"PAK\", \"STP\", \"BHS\", \"JAM\", \"BRN\", \"GRD\", \"BRB\"], \"z\": [35.3, 32.7, 29.0, 28.3, 28.3, 27.5, 26.6, 22.8, 22.6, 22.3, 21.7, 21.6, 21.4, 20.5, 20.5, 20.1, 20.1, 19.7, 18.9, 18.7, 18.1, 17.5, 17.4, 17.0, 17.0, 16.9, 16.4, 16.3, 16.0, 15.9, 15.8, 15.7, 15.4, 15.4, 15.1, 14.8, 14.7, 14.6, 14.3, 14.3, 14.2, 14.1, 13.7, 13.7, 13.4, 13.1, 12.6, 12.5, 12.3, 12.3, 12.3, 11.9, 11.9, 11.9, 11.8, 11.7, 11.7, 11.7, 11.2, 11.2, 11.1, 11.1, 11.0, 10.9, 10.9, 10.7, 10.5, 10.4, 10.3, 10.3, 10.2, 10.0, 10.0, 9.9, 9.9, 9.9, 9.8, 9.7, 9.6, 9.5, 9.5, 9.4, 9.3, 9.3, 9.3, 9.2, 8.8, 8.7, 8.6, 8.6, 8.5, 8.5, 8.5, 8.5, 8.5, 8.4, 8.4, 8.2, 8.1, 8.0, 7.9, 7.9, 7.7, 7.7, 7.7, 7.5, 7.4, 7.4, 7.4, 7.3, 7.2, 7.1, 7.0, 6.9, 6.8, 6.8, 6.7, 6.7, 6.5, 6.5, 6.4, 6.4, 6.4, 6.3, 6.3, 6.3, 6.2, 6.1, 6.1, 6.0, 6.0, 6.0, 5.9, 5.8, 5.8, 5.8, 5.7, 5.7, 5.6, 5.5, 5.5, 5.5, 5.5, 5.5, 5.5, 5.5, 5.4, 5.4, 5.0, 4.8, 4.7, 4.7, 4.3, 4.3, 4.3, 4.1, 4.0, 4.0, 3.6, 3.6, 3.5, 3.4, 3.4, 3.3, 3.2, 3.1, 3.1, 3.0, 3.0, 2.9, 2.9, 2.7, 2.7, 2.6, 2.5, 2.1, 2.0, 1.8, 1.4, 1.3, 0.5, 0.4], \"text\": [\"Sri Lanka\", \"Lithuania\", \"Guyana\", \"Mongolia\", \"South Korea\", \"Kazakhstan\", \"Suriname\", \"Belarus\", \"Equatorial Guinea\", \"Poland\", \"Latvia\", \"Hungary\", \"Slovenia\", \"Angola\", \"Belgium\", \"Ukraine\", \"Russia\", \"Japan\", \"Estonia\", \"Bolivia\", \"C\\u00f4te d'Ivoire\", \"Croatia\", \"Central African Republic\", \"Serbia\", \"Uruguay\", \"France\", \"Austria\", \"Finland\", \"Thailand\", \"Bulgaria\", \"North Korea\", \"India\", \"Sweden\", \"Sierra Leone\", \"Switzerland\", \"Moldova\", \"Swaziland\", \"Trinidad and Tobago\", \"United States\", \"Kiribati\", \"Argentina\", \"Cuba\", \"Portugal\", \"Czech Republic\", \"Germany\", \"Iceland\", \"New Zealand\", \"Slovakia\", \"Laos\", \"Canada\", \"Denmark\", \"Cambodia\", \"Cameroon\", \"Netherlands\", \"Australia\", \"Ireland\", \"Romania\", \"Bhutan\", \"Micronesia\", \"Haiti\", \"El Salvador\", \"Luxembourg\", \"Montenegro\", \"Norway\", \"Gabon\", \"South Africa\", \"Zimbabwe\", \"Lesotho\", \"Papua New Guinea\", \"Paraguay\", \"Sudan\", \"Turkmenistan\", \"China\", \"Singapore\", \"Nigeria\", \"Chile\", \"Democratic Republic of the Congo\", \"Botswana\", \"Congo\", \"Nicaragua\", \"Togo\", \"Benin\", \"Uzbekistan\", \"Mauritius\", \"Seychelles\", \"Burkina Faso\", \"Chad\", \"Turkey\", \"Maldives\", \"Djibouti\", \"Cape Verde\", \"Rwanda\", \"United Kingdom\", \"Spain\", \"Fiji\", \"Mozambique\", \"Ethiopia\", \"Yemen\", \"Macedonia\", \"Burundi\", \"Solomon Islands\", \"Italy\", \"Costa Rica\", \"Namibia\", \"Guinea\", \"Ecuador\", \"Vietnam\", \"Comoros\", \"Kyrgyzstan\", \"Belize\", \"Uganda\", \"Timor-Leste\", \"Tanzania\", \"Ghana\", \"Dominican Republic\", \"Saint Lucia\", \"Eritrea\", \"Georgia\", \"Bahrain\", \"Kenya\", \"South Sudan\", \"Zambia\", \"Qatar\", \"Liberia\", \"Guinea-Bissau\", \"Brazil\", \"Gambia\", \"Senegal\", \"Colombia\", \"Bosnia and Herzegovina\", \"Nepal\", \"Malta\", \"Mauritania\", \"Peru\", \"Vanuatu\", \"Malaysia\", \"Mali\", \"Samoa\", \"Oman\", \"Tunisia\", \"Afghanistan\", \"Libya\", \"Israel\", \"Panama\", \"Bangladesh\", \"Malawi\", \"Armenia\", \"Somalia\", \"Mexico\", \"Morocco\", \"Madagascar\", \"Cyprus\", \"Albania\", \"Greece\", \"Myanmar\", \"Niger\", \"Kuwait\", \"Tajikistan\", \"Honduras\", \"Iran\", \"Tonga\", \"Philippines\", \"Saudi Arabia\", \"Azerbaijan\", \"Jordan\", \"Algeria\", \"Lebanon\", \"Venezuela\", \"Iraq\", \"Indonesia\", \"United Arab Emirates\", \"Syria\", \"Saint Vincent and the Grenadines\", \"Egypt\", \"Guatemala\", \"Pakistan\", \"Sao Tome and Principe\", \"Bahamas\", \"Jamaica\", \"Brunei\", \"Grenada\", \"Barbados\"], \"colorscale\": [[0, \"rgb(255, 60, 20)\"], [0.25, \"rgb(255, 100, 20)\"], [0.5, \"rgb(255, 140, 20)\"], [0.75, \"rgb(255, 200, 20)\"], [1, \"rgb(225, 255, 150)\"]], \"autocolorscale\": false, \"reversescale\": true, \"marker\": {\"line\": {\"color\": \"rgb(240, 240, 240)\", \"width\": 1.5}}, \"colorbar\": {\"autotick\": false, \"title\": \"Suicide rate (per 100K)\"}}], {\"title\": \"Suicide rates in 2015 - Both sexes\", \"geo\": {\"showframe\": false, \"showcoastlines\": false, \"projection\": {\"type\": \"Mercator\"}}}, {\"showLink\": true, \"linkText\": \"Export to plot.ly\"})});</script>"
      ]
     },
     "metadata": {},
     "output_type": "display_data"
    }
   ],
   "source": [
    "data = [ dict(\n",
    "        type = 'choropleth',\n",
    "        locations = total2015['Code'],\n",
    "        z = total2015['Total suicide rate'],\n",
    "        text = total2015['Country'],\n",
    "        colorscale = [[0,\"rgb(255, 60, 20)\"],[0.25,\"rgb(255, 100, 20)\"],[0.5,\"rgb(255, 140, 20)\"],[0.75,\"rgb(255, 200, 20)\"],[1,\"rgb(225, 255, 150)\"]],\n",
    "        autocolorscale = False,\n",
    "        reversescale = True,\n",
    "        marker = dict(\n",
    "            line = dict (\n",
    "                color = 'rgb(240, 240, 240)',\n",
    "                width = 1.5\n",
    "            ) ),\n",
    "        colorbar = dict(\n",
    "            autotick = False,\n",
    "            title = 'Suicide rate (per 100K)'),\n",
    "      ) ]\n",
    "\n",
    "layout = dict(\n",
    "    title = 'Suicide rates in 2015 - Both sexes',\n",
    "    geo = dict(\n",
    "        showframe = False,\n",
    "        showcoastlines = False,\n",
    "        projection = dict(\n",
    "            type = 'Mercator'\n",
    "        )\n",
    "    )\n",
    "    \n",
    ")\n",
    "\n",
    "fig = dict( data=data, layout=layout )\n",
    "py.iplot( fig, validate=False, filename='world-countries.json')"
   ]
  },
  {
   "cell_type": "markdown",
   "metadata": {},
   "source": [
    "**Countries with the highest suicide rates in 2015 for males**"
   ]
  },
  {
   "cell_type": "code",
   "execution_count": 41,
   "metadata": {
    "scrolled": false
   },
   "outputs": [
    {
     "data": {
      "application/vnd.plotly.v1+json": {
       "data": [
        {
         "marker": {
          "color": "rgb(126, 229, 212)",
          "line": {
           "color": "rgb(12, 104, 89)",
           "width": 1.5
          }
         },
         "opacity": 0.6,
         "type": "bar",
         "x": [
          "Sri Lanka",
          "Lithuania",
          "Mongolia",
          "Kazakhstan",
          "Guyana",
          "Belarus",
          "Suriname",
          "South Korea",
          "Poland",
          "Latvia",
          "Russia",
          "Ukraine",
          "Slovenia",
          "Hungary",
          "Equatorial Guinea",
          "Estonia",
          "Angola",
          "Belgium",
          "Uruguay",
          "Japan",
          "Central African Republic",
          "Croatia",
          "Côte d'Ivoire",
          "Serbia",
          "Moldova",
          "Austria",
          "Bulgaria",
          "France",
          "Finland",
          "Trinidad and Tobago"
         ],
         "y": [
          58.7,
          58,
          47.8,
          46.8,
          42.4,
          41,
          40.5,
          40.4,
          39.2,
          39.1,
          35.8,
          34,
          33.9,
          33.8,
          33.3,
          32.1,
          29.5,
          29,
          27.4,
          27.3,
          26.8,
          26.4,
          26.1,
          26,
          25.8,
          25.3,
          24.8,
          24.7,
          24.6,
          24.6
         ]
        }
       ],
       "layout": {
        "title": "Top countries with the highest suicide rates in 2015 for males",
        "xaxis": {
         "title": "Countries"
        },
        "yaxis": {
         "title": "Male suicide rate (per 100,000 people)"
        }
       }
      },
      "text/html": [
       "<div id=\"2b0bd8b1-d27d-4eef-8af5-219938dbeb78\" style=\"height: 525px; width: 100%;\" class=\"plotly-graph-div\"></div><script type=\"text/javascript\">require([\"plotly\"], function(Plotly) { window.PLOTLYENV=window.PLOTLYENV || {};window.PLOTLYENV.BASE_URL=\"https://plot.ly\";Plotly.newPlot(\"2b0bd8b1-d27d-4eef-8af5-219938dbeb78\", [{\"type\": \"bar\", \"x\": [\"Sri Lanka\", \"Lithuania\", \"Mongolia\", \"Kazakhstan\", \"Guyana\", \"Belarus\", \"Suriname\", \"South Korea\", \"Poland\", \"Latvia\", \"Russia\", \"Ukraine\", \"Slovenia\", \"Hungary\", \"Equatorial Guinea\", \"Estonia\", \"Angola\", \"Belgium\", \"Uruguay\", \"Japan\", \"Central African Republic\", \"Croatia\", \"C\\u00f4te d'Ivoire\", \"Serbia\", \"Moldova\", \"Austria\", \"Bulgaria\", \"France\", \"Finland\", \"Trinidad and Tobago\"], \"y\": [58.7, 58.0, 47.8, 46.8, 42.4, 41.0, 40.5, 40.4, 39.2, 39.1, 35.8, 34.0, 33.9, 33.8, 33.3, 32.1, 29.5, 29.0, 27.4, 27.3, 26.8, 26.4, 26.1, 26.0, 25.8, 25.3, 24.8, 24.7, 24.6, 24.6], \"marker\": {\"color\": \"rgb(126, 229, 212)\", \"line\": {\"color\": \"rgb(12, 104, 89)\", \"width\": 1.5}}, \"opacity\": 0.6}], {\"title\": \"Top countries with the highest suicide rates in 2015 for males\", \"xaxis\": {\"title\": \"Countries\"}, \"yaxis\": {\"title\": \"Male suicide rate (per 100,000 people)\"}}, {\"showLink\": true, \"linkText\": \"Export to plot.ly\"})});</script>"
      ],
      "text/vnd.plotly.v1+html": [
       "<div id=\"2b0bd8b1-d27d-4eef-8af5-219938dbeb78\" style=\"height: 525px; width: 100%;\" class=\"plotly-graph-div\"></div><script type=\"text/javascript\">require([\"plotly\"], function(Plotly) { window.PLOTLYENV=window.PLOTLYENV || {};window.PLOTLYENV.BASE_URL=\"https://plot.ly\";Plotly.newPlot(\"2b0bd8b1-d27d-4eef-8af5-219938dbeb78\", [{\"type\": \"bar\", \"x\": [\"Sri Lanka\", \"Lithuania\", \"Mongolia\", \"Kazakhstan\", \"Guyana\", \"Belarus\", \"Suriname\", \"South Korea\", \"Poland\", \"Latvia\", \"Russia\", \"Ukraine\", \"Slovenia\", \"Hungary\", \"Equatorial Guinea\", \"Estonia\", \"Angola\", \"Belgium\", \"Uruguay\", \"Japan\", \"Central African Republic\", \"Croatia\", \"C\\u00f4te d'Ivoire\", \"Serbia\", \"Moldova\", \"Austria\", \"Bulgaria\", \"France\", \"Finland\", \"Trinidad and Tobago\"], \"y\": [58.7, 58.0, 47.8, 46.8, 42.4, 41.0, 40.5, 40.4, 39.2, 39.1, 35.8, 34.0, 33.9, 33.8, 33.3, 32.1, 29.5, 29.0, 27.4, 27.3, 26.8, 26.4, 26.1, 26.0, 25.8, 25.3, 24.8, 24.7, 24.6, 24.6], \"marker\": {\"color\": \"rgb(126, 229, 212)\", \"line\": {\"color\": \"rgb(12, 104, 89)\", \"width\": 1.5}}, \"opacity\": 0.6}], {\"title\": \"Top countries with the highest suicide rates in 2015 for males\", \"xaxis\": {\"title\": \"Countries\"}, \"yaxis\": {\"title\": \"Male suicide rate (per 100,000 people)\"}}, {\"showLink\": true, \"linkText\": \"Export to plot.ly\"})});</script>"
      ]
     },
     "metadata": {},
     "output_type": "display_data"
    }
   ],
   "source": [
    "data = [go.Bar(\n",
    "    x = male2015['Country'].head(30),\n",
    "    y = male2015['Male suicide rate'].head(30),\n",
    "    marker=dict(color='rgb(126, 229, 212)', line=dict(color='rgb(12, 104, 89)', width=1.5)),opacity=0.6 \n",
    ")]\n",
    "\n",
    "layout = go.Layout(\n",
    "    title='Top countries with the highest suicide rates in 2015 for males',\n",
    "    xaxis={'title':'Countries'},\n",
    "    yaxis={'title':'Male suicide rate (per 100,000 people)'}\n",
    ")\n",
    "\n",
    "fig = go.Figure(data=data, layout=layout)\n",
    "py.iplot(fig, filename='basic-bar')"
   ]
  },
  {
   "cell_type": "markdown",
   "metadata": {},
   "source": [
    "**Top 5 Countries with the highest suicide rates for males in 2015:**\n",
    "* Sri Lanka - 58.7\n",
    "* Lithuania - 58\n",
    "* Mongolia - 47.8\n",
    "* Kazakhstan - 46.8\n",
    "* Guyana - 42.4"
   ]
  },
  {
   "cell_type": "markdown",
   "metadata": {},
   "source": [
    "**A choropleth map visualizes the suicide rates in 2015 for males in countries throughout the world**"
   ]
  },
  {
   "cell_type": "code",
   "execution_count": 42,
   "metadata": {},
   "outputs": [
    {
     "data": {
      "application/vnd.plotly.v1+json": {
       "data": [
        {
         "autocolorscale": false,
         "colorbar": {
          "autotick": false,
          "title": "Suicide rate (per 100K)"
         },
         "colorscale": [
          [
           0,
           "rgb(255, 60, 20)"
          ],
          [
           0.25,
           "rgb(255, 100, 20)"
          ],
          [
           0.5,
           "rgb(255, 140, 20)"
          ],
          [
           0.75,
           "rgb(255, 200, 20)"
          ],
          [
           1,
           "rgb(225, 255, 150)"
          ]
         ],
         "locations": [
          "LKA",
          "LTU",
          "MNG",
          "KAZ",
          "GUY",
          "BLR",
          "SUR",
          "KOR",
          "POL",
          "LVA",
          "RUS",
          "UKR",
          "SVN",
          "HUN",
          "GNQ",
          "EST",
          "AGO",
          "BEL",
          "URY",
          "JPN",
          "CAF",
          "HRV",
          "CIV",
          "SRB",
          "MDA",
          "AUT",
          "BGR",
          "FRA",
          "FIN",
          "TTO",
          "BOL",
          "ARG",
          "CZE",
          "THA",
          "KIR",
          "CUB",
          "SVK",
          "USA",
          "SWZ",
          "PRT",
          "SWE",
          "SLE",
          "CHE",
          "ROU",
          "DEU",
          "IRL",
          "NZL",
          "ISL",
          "SLV",
          "CMR",
          "CAN",
          "DNK",
          "AUS",
          "ZAF",
          "IND",
          "CHL",
          "SYC",
          "HTI",
          "PRK",
          "NLD",
          "KHM",
          "GAB",
          "ZWE",
          "RWA",
          "LAO",
          "FSM",
          "TKM",
          "PNG",
          "MUS",
          "MNE",
          "NOR",
          "BWA",
          "LUX",
          "LSO",
          "NIC",
          "SDN",
          "COG",
          "PRY",
          "TGO",
          "COD",
          "BTN",
          "SGP",
          "NGA",
          "UZB",
          "GBR",
          "BEN",
          "CRI",
          "ETH",
          "ESP",
          "TCD",
          "TUR",
          "FJI",
          "ITA",
          "BLZ",
          "MOZ",
          "LCA",
          "BDI",
          "BFA",
          "MKD",
          "DJI",
          "NAM",
          "KGZ",
          "CPV",
          "GEO",
          "SLB",
          "ECU",
          "VNM",
          "DOM",
          "GHA",
          "MDV",
          "YEM",
          "TZA",
          "ERI",
          "GIN",
          "KEN",
          "COL",
          "MLT",
          "ZMB",
          "UGA",
          "PAN",
          "BRA",
          "LBR",
          "COM",
          "TLS",
          "SEN",
          "BIH",
          "BHR",
          "SSD",
          "GNB",
          "WSM",
          "PER",
          "ARM",
          "CHN",
          "VUT",
          "ISR",
          "MYS",
          "QAT",
          "MWI",
          "GMB",
          "LBY",
          "AFG",
          "MRT",
          "CYP",
          "MEX",
          "OMN",
          "SOM",
          "MLI",
          "GRC",
          "MDG",
          "NPL",
          "TUN",
          "MAR",
          "ALB",
          "TJK",
          "NER",
          "KWT",
          "MMR",
          "AZE",
          "PHL",
          "DZA",
          "VCT",
          "VEN",
          "BGD",
          "HND",
          "SAU",
          "JOR",
          "SYR",
          "IRN",
          "IDN",
          "LBN",
          "TON",
          "EGY",
          "ARE",
          "GTM",
          "IRQ",
          "BHS",
          "STP",
          "JAM",
          "PAK",
          "BRN",
          "BRB",
          "GRD"
         ],
         "marker": {
          "line": {
           "color": "rgb(240, 240, 240)",
           "width": 1.5
          }
         },
         "reversescale": true,
         "text": [
          "Sri Lanka",
          "Lithuania",
          "Mongolia",
          "Kazakhstan",
          "Guyana",
          "Belarus",
          "Suriname",
          "South Korea",
          "Poland",
          "Latvia",
          "Russia",
          "Ukraine",
          "Slovenia",
          "Hungary",
          "Equatorial Guinea",
          "Estonia",
          "Angola",
          "Belgium",
          "Uruguay",
          "Japan",
          "Central African Republic",
          "Croatia",
          "Côte d'Ivoire",
          "Serbia",
          "Moldova",
          "Austria",
          "Bulgaria",
          "France",
          "Finland",
          "Trinidad and Tobago",
          "Bolivia",
          "Argentina",
          "Czech Republic",
          "Thailand",
          "Kiribati",
          "Cuba",
          "Slovakia",
          "United States",
          "Swaziland",
          "Portugal",
          "Sweden",
          "Sierra Leone",
          "Switzerland",
          "Romania",
          "Germany",
          "Ireland",
          "New Zealand",
          "Iceland",
          "El Salvador",
          "Cameroon",
          "Canada",
          "Denmark",
          "Australia",
          "South Africa",
          "India",
          "Chile",
          "Seychelles",
          "Haiti",
          "North Korea",
          "Netherlands",
          "Cambodia",
          "Gabon",
          "Zimbabwe",
          "Rwanda",
          "Laos",
          "Micronesia",
          "Turkmenistan",
          "Papua New Guinea",
          "Mauritius",
          "Montenegro",
          "Norway",
          "Botswana",
          "Luxembourg",
          "Lesotho",
          "Nicaragua",
          "Sudan",
          "Congo",
          "Paraguay",
          "Togo",
          "Democratic Republic of the Congo",
          "Bhutan",
          "Singapore",
          "Nigeria",
          "Uzbekistan",
          "United Kingdom",
          "Benin",
          "Costa Rica",
          "Ethiopia",
          "Spain",
          "Chad",
          "Turkey",
          "Fiji",
          "Italy",
          "Belize",
          "Mozambique",
          "Saint Lucia",
          "Burundi",
          "Burkina Faso",
          "Macedonia",
          "Djibouti",
          "Namibia",
          "Kyrgyzstan",
          "Cape Verde",
          "Georgia",
          "Solomon Islands",
          "Ecuador",
          "Vietnam",
          "Dominican Republic",
          "Ghana",
          "Maldives",
          "Yemen",
          "Tanzania",
          "Eritrea",
          "Guinea",
          "Kenya",
          "Colombia",
          "Malta",
          "Zambia",
          "Uganda",
          "Panama",
          "Brazil",
          "Liberia",
          "Comoros",
          "Timor-Leste",
          "Senegal",
          "Bosnia and Herzegovina",
          "Bahrain",
          "South Sudan",
          "Guinea-Bissau",
          "Samoa",
          "Peru",
          "Armenia",
          "China",
          "Vanuatu",
          "Israel",
          "Malaysia",
          "Qatar",
          "Malawi",
          "Gambia",
          "Libya",
          "Afghanistan",
          "Mauritania",
          "Cyprus",
          "Mexico",
          "Oman",
          "Somalia",
          "Mali",
          "Greece",
          "Madagascar",
          "Nepal",
          "Tunisia",
          "Morocco",
          "Albania",
          "Tajikistan",
          "Niger",
          "Kuwait",
          "Myanmar",
          "Azerbaijan",
          "Philippines",
          "Algeria",
          "Saint Vincent and the Grenadines",
          "Venezuela",
          "Bangladesh",
          "Honduras",
          "Saudi Arabia",
          "Jordan",
          "Syria",
          "Iran",
          "Indonesia",
          "Lebanon",
          "Tonga",
          "Egypt",
          "United Arab Emirates",
          "Guatemala",
          "Iraq",
          "Bahamas",
          "Sao Tome and Principe",
          "Jamaica",
          "Pakistan",
          "Brunei",
          "Barbados",
          "Grenada"
         ],
         "type": "choropleth",
         "z": [
          58.7,
          58,
          47.8,
          46.8,
          42.4,
          41,
          40.5,
          40.4,
          39.2,
          39.1,
          35.8,
          34,
          33.9,
          33.8,
          33.3,
          32.1,
          29.5,
          29,
          27.4,
          27.3,
          26.8,
          26.4,
          26.1,
          26,
          25.8,
          25.3,
          24.8,
          24.7,
          24.6,
          24.6,
          24.3,
          23.9,
          22.7,
          22.6,
          22.5,
          22.3,
          22.3,
          22.1,
          22,
          21.9,
          21.2,
          21,
          20.8,
          20.5,
          19.9,
          19,
          18.9,
          18.7,
          18.3,
          18.3,
          18.1,
          17.6,
          17.2,
          17.1,
          17.1,
          16.6,
          16.4,
          16.4,
          16.3,
          16,
          16,
          15.7,
          15.6,
          15.5,
          15.4,
          15.3,
          15.2,
          15.1,
          15.1,
          15,
          14.9,
          14.8,
          14.8,
          14.8,
          14.8,
          14.7,
          14.3,
          14,
          13.8,
          13.7,
          13.7,
          13.6,
          13.6,
          13.3,
          13.3,
          13.2,
          13.2,
          13.1,
          13.1,
          12.9,
          12.9,
          12.8,
          12.5,
          12.4,
          12.3,
          12.2,
          12.2,
          12.2,
          12.1,
          11.8,
          11.7,
          11.7,
          11.6,
          11.5,
          11.3,
          11.2,
          11.2,
          11.2,
          10.9,
          10.7,
          10.6,
          10.4,
          10.4,
          10.4,
          10.3,
          10.2,
          10,
          9.9,
          9.9,
          9.9,
          9.8,
          9.7,
          9.6,
          9.5,
          9.3,
          9.3,
          9.1,
          9,
          8.9,
          8.9,
          8.8,
          8.8,
          8.7,
          8.7,
          8.6,
          8.6,
          8.5,
          8.5,
          8.4,
          8.4,
          8.3,
          8.3,
          8,
          7.9,
          7.8,
          7.7,
          7.6,
          7.1,
          6.9,
          6.5,
          6.5,
          6.3,
          5.9,
          5.8,
          5.5,
          5.4,
          5.4,
          5.3,
          5,
          5,
          4.9,
          4.9,
          4.6,
          4.6,
          4.5,
          4.4,
          4.3,
          4.3,
          4.2,
          4.1,
          4.1,
          3.7,
          3.6,
          3.4,
          3.4,
          3.2,
          2.7,
          2.6,
          2.2,
          1.6,
          0.6,
          0
         ]
        }
       ],
       "layout": {
        "geo": {
         "projection": {
          "type": "Mercator"
         },
         "showcoastlines": false,
         "showframe": false
        },
        "title": "Suicide rates in 2015 - Males"
       }
      },
      "text/html": [
       "<div id=\"97cf6ee2-f242-450c-aca4-fb7f43026e34\" style=\"height: 525px; width: 100%;\" class=\"plotly-graph-div\"></div><script type=\"text/javascript\">require([\"plotly\"], function(Plotly) { window.PLOTLYENV=window.PLOTLYENV || {};window.PLOTLYENV.BASE_URL=\"https://plot.ly\";Plotly.newPlot(\"97cf6ee2-f242-450c-aca4-fb7f43026e34\", [{\"type\": \"choropleth\", \"locations\": [\"LKA\", \"LTU\", \"MNG\", \"KAZ\", \"GUY\", \"BLR\", \"SUR\", \"KOR\", \"POL\", \"LVA\", \"RUS\", \"UKR\", \"SVN\", \"HUN\", \"GNQ\", \"EST\", \"AGO\", \"BEL\", \"URY\", \"JPN\", \"CAF\", \"HRV\", \"CIV\", \"SRB\", \"MDA\", \"AUT\", \"BGR\", \"FRA\", \"FIN\", \"TTO\", \"BOL\", \"ARG\", \"CZE\", \"THA\", \"KIR\", \"CUB\", \"SVK\", \"USA\", \"SWZ\", \"PRT\", \"SWE\", \"SLE\", \"CHE\", \"ROU\", \"DEU\", \"IRL\", \"NZL\", \"ISL\", \"SLV\", \"CMR\", \"CAN\", \"DNK\", \"AUS\", \"ZAF\", \"IND\", \"CHL\", \"SYC\", \"HTI\", \"PRK\", \"NLD\", \"KHM\", \"GAB\", \"ZWE\", \"RWA\", \"LAO\", \"FSM\", \"TKM\", \"PNG\", \"MUS\", \"MNE\", \"NOR\", \"BWA\", \"LUX\", \"LSO\", \"NIC\", \"SDN\", \"COG\", \"PRY\", \"TGO\", \"COD\", \"BTN\", \"SGP\", \"NGA\", \"UZB\", \"GBR\", \"BEN\", \"CRI\", \"ETH\", \"ESP\", \"TCD\", \"TUR\", \"FJI\", \"ITA\", \"BLZ\", \"MOZ\", \"LCA\", \"BDI\", \"BFA\", \"MKD\", \"DJI\", \"NAM\", \"KGZ\", \"CPV\", \"GEO\", \"SLB\", \"ECU\", \"VNM\", \"DOM\", \"GHA\", \"MDV\", \"YEM\", \"TZA\", \"ERI\", \"GIN\", \"KEN\", \"COL\", \"MLT\", \"ZMB\", \"UGA\", \"PAN\", \"BRA\", \"LBR\", \"COM\", \"TLS\", \"SEN\", \"BIH\", \"BHR\", \"SSD\", \"GNB\", \"WSM\", \"PER\", \"ARM\", \"CHN\", \"VUT\", \"ISR\", \"MYS\", \"QAT\", \"MWI\", \"GMB\", \"LBY\", \"AFG\", \"MRT\", \"CYP\", \"MEX\", \"OMN\", \"SOM\", \"MLI\", \"GRC\", \"MDG\", \"NPL\", \"TUN\", \"MAR\", \"ALB\", \"TJK\", \"NER\", \"KWT\", \"MMR\", \"AZE\", \"PHL\", \"DZA\", \"VCT\", \"VEN\", \"BGD\", \"HND\", \"SAU\", \"JOR\", \"SYR\", \"IRN\", \"IDN\", \"LBN\", \"TON\", \"EGY\", \"ARE\", \"GTM\", \"IRQ\", \"BHS\", \"STP\", \"JAM\", \"PAK\", \"BRN\", \"BRB\", \"GRD\"], \"z\": [58.7, 58.0, 47.8, 46.8, 42.4, 41.0, 40.5, 40.4, 39.2, 39.1, 35.8, 34.0, 33.9, 33.8, 33.3, 32.1, 29.5, 29.0, 27.4, 27.3, 26.8, 26.4, 26.1, 26.0, 25.8, 25.3, 24.8, 24.7, 24.6, 24.6, 24.3, 23.9, 22.7, 22.6, 22.5, 22.3, 22.3, 22.1, 22.0, 21.9, 21.2, 21.0, 20.8, 20.5, 19.9, 19.0, 18.9, 18.7, 18.3, 18.3, 18.1, 17.6, 17.2, 17.1, 17.1, 16.6, 16.4, 16.4, 16.3, 16.0, 16.0, 15.7, 15.6, 15.5, 15.4, 15.3, 15.2, 15.1, 15.1, 15.0, 14.9, 14.8, 14.8, 14.8, 14.8, 14.7, 14.3, 14.0, 13.8, 13.7, 13.7, 13.6, 13.6, 13.3, 13.3, 13.2, 13.2, 13.1, 13.1, 12.9, 12.9, 12.8, 12.5, 12.4, 12.3, 12.2, 12.2, 12.2, 12.1, 11.8, 11.7, 11.7, 11.6, 11.5, 11.3, 11.2, 11.2, 11.2, 10.9, 10.7, 10.6, 10.4, 10.4, 10.4, 10.3, 10.2, 10.0, 9.9, 9.9, 9.9, 9.8, 9.7, 9.6, 9.5, 9.3, 9.3, 9.1, 9.0, 8.9, 8.9, 8.8, 8.8, 8.7, 8.7, 8.6, 8.6, 8.5, 8.5, 8.4, 8.4, 8.3, 8.3, 8.0, 7.9, 7.8, 7.7, 7.6, 7.1, 6.9, 6.5, 6.5, 6.3, 5.9, 5.8, 5.5, 5.4, 5.4, 5.3, 5.0, 5.0, 4.9, 4.9, 4.6, 4.6, 4.5, 4.4, 4.3, 4.3, 4.2, 4.1, 4.1, 3.7, 3.6, 3.4, 3.4, 3.2, 2.7, 2.6, 2.2, 1.6, 0.6, 0.0], \"text\": [\"Sri Lanka\", \"Lithuania\", \"Mongolia\", \"Kazakhstan\", \"Guyana\", \"Belarus\", \"Suriname\", \"South Korea\", \"Poland\", \"Latvia\", \"Russia\", \"Ukraine\", \"Slovenia\", \"Hungary\", \"Equatorial Guinea\", \"Estonia\", \"Angola\", \"Belgium\", \"Uruguay\", \"Japan\", \"Central African Republic\", \"Croatia\", \"C\\u00f4te d'Ivoire\", \"Serbia\", \"Moldova\", \"Austria\", \"Bulgaria\", \"France\", \"Finland\", \"Trinidad and Tobago\", \"Bolivia\", \"Argentina\", \"Czech Republic\", \"Thailand\", \"Kiribati\", \"Cuba\", \"Slovakia\", \"United States\", \"Swaziland\", \"Portugal\", \"Sweden\", \"Sierra Leone\", \"Switzerland\", \"Romania\", \"Germany\", \"Ireland\", \"New Zealand\", \"Iceland\", \"El Salvador\", \"Cameroon\", \"Canada\", \"Denmark\", \"Australia\", \"South Africa\", \"India\", \"Chile\", \"Seychelles\", \"Haiti\", \"North Korea\", \"Netherlands\", \"Cambodia\", \"Gabon\", \"Zimbabwe\", \"Rwanda\", \"Laos\", \"Micronesia\", \"Turkmenistan\", \"Papua New Guinea\", \"Mauritius\", \"Montenegro\", \"Norway\", \"Botswana\", \"Luxembourg\", \"Lesotho\", \"Nicaragua\", \"Sudan\", \"Congo\", \"Paraguay\", \"Togo\", \"Democratic Republic of the Congo\", \"Bhutan\", \"Singapore\", \"Nigeria\", \"Uzbekistan\", \"United Kingdom\", \"Benin\", \"Costa Rica\", \"Ethiopia\", \"Spain\", \"Chad\", \"Turkey\", \"Fiji\", \"Italy\", \"Belize\", \"Mozambique\", \"Saint Lucia\", \"Burundi\", \"Burkina Faso\", \"Macedonia\", \"Djibouti\", \"Namibia\", \"Kyrgyzstan\", \"Cape Verde\", \"Georgia\", \"Solomon Islands\", \"Ecuador\", \"Vietnam\", \"Dominican Republic\", \"Ghana\", \"Maldives\", \"Yemen\", \"Tanzania\", \"Eritrea\", \"Guinea\", \"Kenya\", \"Colombia\", \"Malta\", \"Zambia\", \"Uganda\", \"Panama\", \"Brazil\", \"Liberia\", \"Comoros\", \"Timor-Leste\", \"Senegal\", \"Bosnia and Herzegovina\", \"Bahrain\", \"South Sudan\", \"Guinea-Bissau\", \"Samoa\", \"Peru\", \"Armenia\", \"China\", \"Vanuatu\", \"Israel\", \"Malaysia\", \"Qatar\", \"Malawi\", \"Gambia\", \"Libya\", \"Afghanistan\", \"Mauritania\", \"Cyprus\", \"Mexico\", \"Oman\", \"Somalia\", \"Mali\", \"Greece\", \"Madagascar\", \"Nepal\", \"Tunisia\", \"Morocco\", \"Albania\", \"Tajikistan\", \"Niger\", \"Kuwait\", \"Myanmar\", \"Azerbaijan\", \"Philippines\", \"Algeria\", \"Saint Vincent and the Grenadines\", \"Venezuela\", \"Bangladesh\", \"Honduras\", \"Saudi Arabia\", \"Jordan\", \"Syria\", \"Iran\", \"Indonesia\", \"Lebanon\", \"Tonga\", \"Egypt\", \"United Arab Emirates\", \"Guatemala\", \"Iraq\", \"Bahamas\", \"Sao Tome and Principe\", \"Jamaica\", \"Pakistan\", \"Brunei\", \"Barbados\", \"Grenada\"], \"colorscale\": [[0, \"rgb(255, 60, 20)\"], [0.25, \"rgb(255, 100, 20)\"], [0.5, \"rgb(255, 140, 20)\"], [0.75, \"rgb(255, 200, 20)\"], [1, \"rgb(225, 255, 150)\"]], \"autocolorscale\": false, \"reversescale\": true, \"marker\": {\"line\": {\"color\": \"rgb(240, 240, 240)\", \"width\": 1.5}}, \"colorbar\": {\"autotick\": false, \"title\": \"Suicide rate (per 100K)\"}}], {\"title\": \"Suicide rates in 2015 - Males\", \"geo\": {\"showframe\": false, \"showcoastlines\": false, \"projection\": {\"type\": \"Mercator\"}}}, {\"showLink\": true, \"linkText\": \"Export to plot.ly\"})});</script>"
      ],
      "text/vnd.plotly.v1+html": [
       "<div id=\"97cf6ee2-f242-450c-aca4-fb7f43026e34\" style=\"height: 525px; width: 100%;\" class=\"plotly-graph-div\"></div><script type=\"text/javascript\">require([\"plotly\"], function(Plotly) { window.PLOTLYENV=window.PLOTLYENV || {};window.PLOTLYENV.BASE_URL=\"https://plot.ly\";Plotly.newPlot(\"97cf6ee2-f242-450c-aca4-fb7f43026e34\", [{\"type\": \"choropleth\", \"locations\": [\"LKA\", \"LTU\", \"MNG\", \"KAZ\", \"GUY\", \"BLR\", \"SUR\", \"KOR\", \"POL\", \"LVA\", \"RUS\", \"UKR\", \"SVN\", \"HUN\", \"GNQ\", \"EST\", \"AGO\", \"BEL\", \"URY\", \"JPN\", \"CAF\", \"HRV\", \"CIV\", \"SRB\", \"MDA\", \"AUT\", \"BGR\", \"FRA\", \"FIN\", \"TTO\", \"BOL\", \"ARG\", \"CZE\", \"THA\", \"KIR\", \"CUB\", \"SVK\", \"USA\", \"SWZ\", \"PRT\", \"SWE\", \"SLE\", \"CHE\", \"ROU\", \"DEU\", \"IRL\", \"NZL\", \"ISL\", \"SLV\", \"CMR\", \"CAN\", \"DNK\", \"AUS\", \"ZAF\", \"IND\", \"CHL\", \"SYC\", \"HTI\", \"PRK\", \"NLD\", \"KHM\", \"GAB\", \"ZWE\", \"RWA\", \"LAO\", \"FSM\", \"TKM\", \"PNG\", \"MUS\", \"MNE\", \"NOR\", \"BWA\", \"LUX\", \"LSO\", \"NIC\", \"SDN\", \"COG\", \"PRY\", \"TGO\", \"COD\", \"BTN\", \"SGP\", \"NGA\", \"UZB\", \"GBR\", \"BEN\", \"CRI\", \"ETH\", \"ESP\", \"TCD\", \"TUR\", \"FJI\", \"ITA\", \"BLZ\", \"MOZ\", \"LCA\", \"BDI\", \"BFA\", \"MKD\", \"DJI\", \"NAM\", \"KGZ\", \"CPV\", \"GEO\", \"SLB\", \"ECU\", \"VNM\", \"DOM\", \"GHA\", \"MDV\", \"YEM\", \"TZA\", \"ERI\", \"GIN\", \"KEN\", \"COL\", \"MLT\", \"ZMB\", \"UGA\", \"PAN\", \"BRA\", \"LBR\", \"COM\", \"TLS\", \"SEN\", \"BIH\", \"BHR\", \"SSD\", \"GNB\", \"WSM\", \"PER\", \"ARM\", \"CHN\", \"VUT\", \"ISR\", \"MYS\", \"QAT\", \"MWI\", \"GMB\", \"LBY\", \"AFG\", \"MRT\", \"CYP\", \"MEX\", \"OMN\", \"SOM\", \"MLI\", \"GRC\", \"MDG\", \"NPL\", \"TUN\", \"MAR\", \"ALB\", \"TJK\", \"NER\", \"KWT\", \"MMR\", \"AZE\", \"PHL\", \"DZA\", \"VCT\", \"VEN\", \"BGD\", \"HND\", \"SAU\", \"JOR\", \"SYR\", \"IRN\", \"IDN\", \"LBN\", \"TON\", \"EGY\", \"ARE\", \"GTM\", \"IRQ\", \"BHS\", \"STP\", \"JAM\", \"PAK\", \"BRN\", \"BRB\", \"GRD\"], \"z\": [58.7, 58.0, 47.8, 46.8, 42.4, 41.0, 40.5, 40.4, 39.2, 39.1, 35.8, 34.0, 33.9, 33.8, 33.3, 32.1, 29.5, 29.0, 27.4, 27.3, 26.8, 26.4, 26.1, 26.0, 25.8, 25.3, 24.8, 24.7, 24.6, 24.6, 24.3, 23.9, 22.7, 22.6, 22.5, 22.3, 22.3, 22.1, 22.0, 21.9, 21.2, 21.0, 20.8, 20.5, 19.9, 19.0, 18.9, 18.7, 18.3, 18.3, 18.1, 17.6, 17.2, 17.1, 17.1, 16.6, 16.4, 16.4, 16.3, 16.0, 16.0, 15.7, 15.6, 15.5, 15.4, 15.3, 15.2, 15.1, 15.1, 15.0, 14.9, 14.8, 14.8, 14.8, 14.8, 14.7, 14.3, 14.0, 13.8, 13.7, 13.7, 13.6, 13.6, 13.3, 13.3, 13.2, 13.2, 13.1, 13.1, 12.9, 12.9, 12.8, 12.5, 12.4, 12.3, 12.2, 12.2, 12.2, 12.1, 11.8, 11.7, 11.7, 11.6, 11.5, 11.3, 11.2, 11.2, 11.2, 10.9, 10.7, 10.6, 10.4, 10.4, 10.4, 10.3, 10.2, 10.0, 9.9, 9.9, 9.9, 9.8, 9.7, 9.6, 9.5, 9.3, 9.3, 9.1, 9.0, 8.9, 8.9, 8.8, 8.8, 8.7, 8.7, 8.6, 8.6, 8.5, 8.5, 8.4, 8.4, 8.3, 8.3, 8.0, 7.9, 7.8, 7.7, 7.6, 7.1, 6.9, 6.5, 6.5, 6.3, 5.9, 5.8, 5.5, 5.4, 5.4, 5.3, 5.0, 5.0, 4.9, 4.9, 4.6, 4.6, 4.5, 4.4, 4.3, 4.3, 4.2, 4.1, 4.1, 3.7, 3.6, 3.4, 3.4, 3.2, 2.7, 2.6, 2.2, 1.6, 0.6, 0.0], \"text\": [\"Sri Lanka\", \"Lithuania\", \"Mongolia\", \"Kazakhstan\", \"Guyana\", \"Belarus\", \"Suriname\", \"South Korea\", \"Poland\", \"Latvia\", \"Russia\", \"Ukraine\", \"Slovenia\", \"Hungary\", \"Equatorial Guinea\", \"Estonia\", \"Angola\", \"Belgium\", \"Uruguay\", \"Japan\", \"Central African Republic\", \"Croatia\", \"C\\u00f4te d'Ivoire\", \"Serbia\", \"Moldova\", \"Austria\", \"Bulgaria\", \"France\", \"Finland\", \"Trinidad and Tobago\", \"Bolivia\", \"Argentina\", \"Czech Republic\", \"Thailand\", \"Kiribati\", \"Cuba\", \"Slovakia\", \"United States\", \"Swaziland\", \"Portugal\", \"Sweden\", \"Sierra Leone\", \"Switzerland\", \"Romania\", \"Germany\", \"Ireland\", \"New Zealand\", \"Iceland\", \"El Salvador\", \"Cameroon\", \"Canada\", \"Denmark\", \"Australia\", \"South Africa\", \"India\", \"Chile\", \"Seychelles\", \"Haiti\", \"North Korea\", \"Netherlands\", \"Cambodia\", \"Gabon\", \"Zimbabwe\", \"Rwanda\", \"Laos\", \"Micronesia\", \"Turkmenistan\", \"Papua New Guinea\", \"Mauritius\", \"Montenegro\", \"Norway\", \"Botswana\", \"Luxembourg\", \"Lesotho\", \"Nicaragua\", \"Sudan\", \"Congo\", \"Paraguay\", \"Togo\", \"Democratic Republic of the Congo\", \"Bhutan\", \"Singapore\", \"Nigeria\", \"Uzbekistan\", \"United Kingdom\", \"Benin\", \"Costa Rica\", \"Ethiopia\", \"Spain\", \"Chad\", \"Turkey\", \"Fiji\", \"Italy\", \"Belize\", \"Mozambique\", \"Saint Lucia\", \"Burundi\", \"Burkina Faso\", \"Macedonia\", \"Djibouti\", \"Namibia\", \"Kyrgyzstan\", \"Cape Verde\", \"Georgia\", \"Solomon Islands\", \"Ecuador\", \"Vietnam\", \"Dominican Republic\", \"Ghana\", \"Maldives\", \"Yemen\", \"Tanzania\", \"Eritrea\", \"Guinea\", \"Kenya\", \"Colombia\", \"Malta\", \"Zambia\", \"Uganda\", \"Panama\", \"Brazil\", \"Liberia\", \"Comoros\", \"Timor-Leste\", \"Senegal\", \"Bosnia and Herzegovina\", \"Bahrain\", \"South Sudan\", \"Guinea-Bissau\", \"Samoa\", \"Peru\", \"Armenia\", \"China\", \"Vanuatu\", \"Israel\", \"Malaysia\", \"Qatar\", \"Malawi\", \"Gambia\", \"Libya\", \"Afghanistan\", \"Mauritania\", \"Cyprus\", \"Mexico\", \"Oman\", \"Somalia\", \"Mali\", \"Greece\", \"Madagascar\", \"Nepal\", \"Tunisia\", \"Morocco\", \"Albania\", \"Tajikistan\", \"Niger\", \"Kuwait\", \"Myanmar\", \"Azerbaijan\", \"Philippines\", \"Algeria\", \"Saint Vincent and the Grenadines\", \"Venezuela\", \"Bangladesh\", \"Honduras\", \"Saudi Arabia\", \"Jordan\", \"Syria\", \"Iran\", \"Indonesia\", \"Lebanon\", \"Tonga\", \"Egypt\", \"United Arab Emirates\", \"Guatemala\", \"Iraq\", \"Bahamas\", \"Sao Tome and Principe\", \"Jamaica\", \"Pakistan\", \"Brunei\", \"Barbados\", \"Grenada\"], \"colorscale\": [[0, \"rgb(255, 60, 20)\"], [0.25, \"rgb(255, 100, 20)\"], [0.5, \"rgb(255, 140, 20)\"], [0.75, \"rgb(255, 200, 20)\"], [1, \"rgb(225, 255, 150)\"]], \"autocolorscale\": false, \"reversescale\": true, \"marker\": {\"line\": {\"color\": \"rgb(240, 240, 240)\", \"width\": 1.5}}, \"colorbar\": {\"autotick\": false, \"title\": \"Suicide rate (per 100K)\"}}], {\"title\": \"Suicide rates in 2015 - Males\", \"geo\": {\"showframe\": false, \"showcoastlines\": false, \"projection\": {\"type\": \"Mercator\"}}}, {\"showLink\": true, \"linkText\": \"Export to plot.ly\"})});</script>"
      ]
     },
     "metadata": {},
     "output_type": "display_data"
    }
   ],
   "source": [
    "data = [ dict(\n",
    "        type = 'choropleth',\n",
    "        locations = male2015['Code'],\n",
    "        z = male2015['Male suicide rate'],\n",
    "        text = male2015['Country'],\n",
    "        colorscale = [[0,\"rgb(255, 60, 20)\"],[0.25,\"rgb(255, 100, 20)\"],[0.5,\"rgb(255, 140, 20)\"],[0.75,\"rgb(255, 200, 20)\"],[1,\"rgb(225, 255, 150)\"]],\n",
    "        autocolorscale = False,\n",
    "        reversescale = True,\n",
    "        marker = dict(\n",
    "            line = dict (\n",
    "                color = 'rgb(240, 240, 240)',\n",
    "                width = 1.5\n",
    "            ) ),\n",
    "        colorbar = dict(\n",
    "            autotick = False,\n",
    "            title = 'Suicide rate (per 100K)'),\n",
    "      ) ]\n",
    "\n",
    "layout = dict(\n",
    "    title = 'Suicide rates in 2015 - Males',\n",
    "    geo = dict(\n",
    "        showframe = False,\n",
    "        showcoastlines = False,\n",
    "        projection = dict(\n",
    "            type = 'Mercator'\n",
    "        )\n",
    "    )\n",
    "    \n",
    ")\n",
    "\n",
    "fig = dict( data=data, layout=layout )\n",
    "py.iplot( fig, validate=False, filename='world-countries.json')"
   ]
  },
  {
   "cell_type": "markdown",
   "metadata": {},
   "source": [
    "**Countries with the highest suicide rates in 2015 for females**"
   ]
  },
  {
   "cell_type": "code",
   "execution_count": 43,
   "metadata": {
    "scrolled": false
   },
   "outputs": [
    {
     "data": {
      "application/vnd.plotly.v1+json": {
       "data": [
        {
         "marker": {
          "color": "rgb(255, 165, 210)",
          "line": {
           "color": "rgb(150, 24, 87)",
           "width": 1.5
          }
         },
         "opacity": 0.6,
         "type": "bar",
         "x": [
          "South Korea",
          "Guyana",
          "North Korea",
          "India",
          "Sri Lanka",
          "Bolivia",
          "Suriname",
          "Japan",
          "Belgium",
          "Angola",
          "China",
          "Equatorial Guinea",
          "Lithuania",
          "Hungary",
          "Côte d'Ivoire",
          "Sierra Leone",
          "Switzerland",
          "Kazakhstan",
          "Sweden",
          "Thailand",
          "Bhutan",
          "France",
          "Laos",
          "Croatia",
          "Mongolia",
          "Slovenia",
          "Serbia",
          "Central African Republic",
          "Finland",
          "Ukraine"
         ],
         "y": [
          16.4,
          15.5,
          15.4,
          14.3,
          13.6,
          13.1,
          12.7,
          12.4,
          12.4,
          11.6,
          11.5,
          11.3,
          11.2,
          10.5,
          9.8,
          9.8,
          9.6,
          9.6,
          9.5,
          9.5,
          9.4,
          9.4,
          9.2,
          9.2,
          9.1,
          9.1,
          8.4,
          8.2,
          8.2,
          8.2
         ]
        }
       ],
       "layout": {
        "title": "Top countries with the highest suicide rates in 2015 for females",
        "xaxis": {
         "title": "Countries"
        },
        "yaxis": {
         "title": "Female suicide rate (per 100,000 people)"
        }
       }
      },
      "text/html": [
       "<div id=\"975e891e-56d2-4628-a115-2cf38fbf6743\" style=\"height: 525px; width: 100%;\" class=\"plotly-graph-div\"></div><script type=\"text/javascript\">require([\"plotly\"], function(Plotly) { window.PLOTLYENV=window.PLOTLYENV || {};window.PLOTLYENV.BASE_URL=\"https://plot.ly\";Plotly.newPlot(\"975e891e-56d2-4628-a115-2cf38fbf6743\", [{\"type\": \"bar\", \"x\": [\"South Korea\", \"Guyana\", \"North Korea\", \"India\", \"Sri Lanka\", \"Bolivia\", \"Suriname\", \"Japan\", \"Belgium\", \"Angola\", \"China\", \"Equatorial Guinea\", \"Lithuania\", \"Hungary\", \"C\\u00f4te d'Ivoire\", \"Sierra Leone\", \"Switzerland\", \"Kazakhstan\", \"Sweden\", \"Thailand\", \"Bhutan\", \"France\", \"Laos\", \"Croatia\", \"Mongolia\", \"Slovenia\", \"Serbia\", \"Central African Republic\", \"Finland\", \"Ukraine\"], \"y\": [16.4, 15.5, 15.4, 14.3, 13.6, 13.1, 12.7, 12.4, 12.4, 11.6, 11.5, 11.3, 11.2, 10.5, 9.8, 9.8, 9.6, 9.6, 9.5, 9.5, 9.4, 9.4, 9.2, 9.2, 9.1, 9.1, 8.4, 8.2, 8.2, 8.2], \"marker\": {\"color\": \"rgb(255, 165, 210)\", \"line\": {\"color\": \"rgb(150, 24, 87)\", \"width\": 1.5}}, \"opacity\": 0.6}], {\"title\": \"Top countries with the highest suicide rates in 2015 for females\", \"xaxis\": {\"title\": \"Countries\"}, \"yaxis\": {\"title\": \"Female suicide rate (per 100,000 people)\"}}, {\"showLink\": true, \"linkText\": \"Export to plot.ly\"})});</script>"
      ],
      "text/vnd.plotly.v1+html": [
       "<div id=\"975e891e-56d2-4628-a115-2cf38fbf6743\" style=\"height: 525px; width: 100%;\" class=\"plotly-graph-div\"></div><script type=\"text/javascript\">require([\"plotly\"], function(Plotly) { window.PLOTLYENV=window.PLOTLYENV || {};window.PLOTLYENV.BASE_URL=\"https://plot.ly\";Plotly.newPlot(\"975e891e-56d2-4628-a115-2cf38fbf6743\", [{\"type\": \"bar\", \"x\": [\"South Korea\", \"Guyana\", \"North Korea\", \"India\", \"Sri Lanka\", \"Bolivia\", \"Suriname\", \"Japan\", \"Belgium\", \"Angola\", \"China\", \"Equatorial Guinea\", \"Lithuania\", \"Hungary\", \"C\\u00f4te d'Ivoire\", \"Sierra Leone\", \"Switzerland\", \"Kazakhstan\", \"Sweden\", \"Thailand\", \"Bhutan\", \"France\", \"Laos\", \"Croatia\", \"Mongolia\", \"Slovenia\", \"Serbia\", \"Central African Republic\", \"Finland\", \"Ukraine\"], \"y\": [16.4, 15.5, 15.4, 14.3, 13.6, 13.1, 12.7, 12.4, 12.4, 11.6, 11.5, 11.3, 11.2, 10.5, 9.8, 9.8, 9.6, 9.6, 9.5, 9.5, 9.4, 9.4, 9.2, 9.2, 9.1, 9.1, 8.4, 8.2, 8.2, 8.2], \"marker\": {\"color\": \"rgb(255, 165, 210)\", \"line\": {\"color\": \"rgb(150, 24, 87)\", \"width\": 1.5}}, \"opacity\": 0.6}], {\"title\": \"Top countries with the highest suicide rates in 2015 for females\", \"xaxis\": {\"title\": \"Countries\"}, \"yaxis\": {\"title\": \"Female suicide rate (per 100,000 people)\"}}, {\"showLink\": true, \"linkText\": \"Export to plot.ly\"})});</script>"
      ]
     },
     "metadata": {},
     "output_type": "display_data"
    }
   ],
   "source": [
    "data = [go.Bar(\n",
    "    x = female2015['Country'].head(30),\n",
    "    y = female2015['Female suicide rate'].head(30),\n",
    "    marker=dict(color='rgb(255, 165, 210)', line=dict(color='rgb(150, 24, 87)', width=1.5)),opacity=0.6 \n",
    ")]\n",
    "\n",
    "layout = go.Layout(\n",
    "    title='Top countries with the highest suicide rates in 2015 for females',\n",
    "    xaxis={'title':'Countries'},\n",
    "    yaxis={'title':'Female suicide rate (per 100,000 people)'}\n",
    ")\n",
    "\n",
    "fig = go.Figure(data=data, layout=layout)\n",
    "py.iplot(fig, filename='basic-bar')"
   ]
  },
  {
   "cell_type": "markdown",
   "metadata": {},
   "source": [
    "**Top 5 Countries with the highest suicide rates for females in 2015:**\n",
    "* South Korea - 16.4\n",
    "* Guyana - 15.5\n",
    "* North Korea - 15.4\n",
    "* India - 14.3\n",
    "* Sri Lanka - 13.6\n",
    "\n",
    "We see that the highest males suicide rates can reach up to 4 times the highest females suicide rates."
   ]
  },
  {
   "cell_type": "markdown",
   "metadata": {},
   "source": [
    "**A choropleth map visualizes the suicide rates in 2015 for females in countries throughout the world**"
   ]
  },
  {
   "cell_type": "code",
   "execution_count": 44,
   "metadata": {},
   "outputs": [
    {
     "data": {
      "application/vnd.plotly.v1+json": {
       "data": [
        {
         "autocolorscale": false,
         "colorbar": {
          "autotick": false,
          "title": "Suicide rate (per 100K)"
         },
         "colorscale": [
          [
           0,
           "rgb(255, 60, 20)"
          ],
          [
           0.25,
           "rgb(255, 100, 20)"
          ],
          [
           0.5,
           "rgb(255, 140, 20)"
          ],
          [
           0.75,
           "rgb(255, 200, 20)"
          ],
          [
           1,
           "rgb(225, 255, 150)"
          ]
         ],
         "locations": [
          "KOR",
          "GUY",
          "PRK",
          "IND",
          "LKA",
          "BOL",
          "SUR",
          "JPN",
          "BEL",
          "AGO",
          "CHN",
          "GNQ",
          "LTU",
          "HUN",
          "CIV",
          "SLE",
          "CHE",
          "KAZ",
          "SWE",
          "THA",
          "BTN",
          "FRA",
          "LAO",
          "HRV",
          "MNG",
          "SVN",
          "SRB",
          "CAF",
          "FIN",
          "UKR",
          "KHM",
          "NLD",
          "AUT",
          "BGR",
          "SWZ",
          "ISL",
          "EST",
          "LUX",
          "URY",
          "MNE",
          "DEU",
          "FSM",
          "BLR",
          "NOR",
          "DNK",
          "LVA",
          "MDV",
          "NZL",
          "USA",
          "CAN",
          "BGD",
          "RUS",
          "SGP",
          "PRY",
          "POL",
          "BFA",
          "AUS",
          "KIR",
          "PRT",
          "HTI",
          "GAB",
          "NGA",
          "LSO",
          "COD",
          "YEM",
          "CUB",
          "SDN",
          "ZWE",
          "CMR",
          "CPV",
          "UZB",
          "BEN",
          "NPL",
          "TGO",
          "DJI",
          "PNG",
          "COM",
          "TKM",
          "GIN",
          "CZE",
          "ARG",
          "TTO",
          "COG",
          "SLV",
          "TUR",
          "MOZ",
          "ZAF",
          "TCD",
          "BWA",
          "TLS",
          "MDA",
          "IRL",
          "NIC",
          "SLB",
          "UGA",
          "TUN",
          "ESP",
          "MKD",
          "FJI",
          "GMB",
          "BDI",
          "NAM",
          "ECU",
          "MLI",
          "ETH",
          "GBR",
          "VNM",
          "SSD",
          "GNB",
          "MUS",
          "ROU",
          "TZA",
          "ITA",
          "MRT",
          "CHL",
          "SVK",
          "MAR",
          "MMR",
          "KGZ",
          "ERI",
          "SEN",
          "SOM",
          "BRA",
          "GHA",
          "MYS",
          "TON",
          "ZMB",
          "PER",
          "LBR",
          "VUT",
          "IRN",
          "KEN",
          "NER",
          "ALB",
          "IRQ",
          "BIH",
          "AFG",
          "LBY",
          "DOM",
          "HND",
          "MWI",
          "WSM",
          "MDG",
          "ARM",
          "BHR",
          "ISR",
          "BLZ",
          "GEO",
          "COL",
          "TJK",
          "CRI",
          "KWT",
          "LBN",
          "MLT",
          "SYC",
          "RWA",
          "MEX",
          "JOR",
          "PAK",
          "SAU",
          "GRC",
          "PHL",
          "LCA",
          "GTM",
          "IDN",
          "EGY",
          "STP",
          "CYP",
          "OMN",
          "DZA",
          "AZE",
          "PAN",
          "VEN",
          "GRD",
          "SYR",
          "BRN",
          "QAT",
          "ARE",
          "VCT",
          "BHS",
          "JAM",
          "BRB",
          ""
         ],
         "marker": {
          "line": {
           "color": "rgb(240, 240, 240)",
           "width": 1.5
          }
         },
         "reversescale": true,
         "text": [
          "South Korea",
          "Guyana",
          "North Korea",
          "India",
          "Sri Lanka",
          "Bolivia",
          "Suriname",
          "Japan",
          "Belgium",
          "Angola",
          "China",
          "Equatorial Guinea",
          "Lithuania",
          "Hungary",
          "Côte d'Ivoire",
          "Sierra Leone",
          "Switzerland",
          "Kazakhstan",
          "Sweden",
          "Thailand",
          "Bhutan",
          "France",
          "Laos",
          "Croatia",
          "Mongolia",
          "Slovenia",
          "Serbia",
          "Central African Republic",
          "Finland",
          "Ukraine",
          "Cambodia",
          "Netherlands",
          "Austria",
          "Bulgaria",
          "Swaziland",
          "Iceland",
          "Estonia",
          "Luxembourg",
          "Uruguay",
          "Montenegro",
          "Germany",
          "Micronesia",
          "Belarus",
          "Norway",
          "Denmark",
          "Latvia",
          "Maldives",
          "New Zealand",
          "United States",
          "Canada",
          "Bangladesh",
          "Russia",
          "Singapore",
          "Paraguay",
          "Poland",
          "Burkina Faso",
          "Australia",
          "Kiribati",
          "Portugal",
          "Haiti",
          "Gabon",
          "Nigeria",
          "Lesotho",
          "Democratic Republic of the Congo",
          "Yemen",
          "Cuba",
          "Sudan",
          "Zimbabwe",
          "Cameroon",
          "Cape Verde",
          "Uzbekistan",
          "Benin",
          "Nepal",
          "Togo",
          "Djibouti",
          "Papua New Guinea",
          "Comoros",
          "Turkmenistan",
          "Guinea",
          "Czech Republic",
          "Argentina",
          "Trinidad and Tobago",
          "Congo",
          "El Salvador",
          "Turkey",
          "Mozambique",
          "South Africa",
          "Chad",
          "Botswana",
          "Timor-Leste",
          "Moldova",
          "Ireland",
          "Nicaragua",
          "Solomon Islands",
          "Uganda",
          "Tunisia",
          "Spain",
          "Macedonia",
          "Fiji",
          "Gambia",
          "Burundi",
          "Namibia",
          "Ecuador",
          "Mali",
          "Ethiopia",
          "United Kingdom",
          "Vietnam",
          "South Sudan",
          "Guinea-Bissau",
          "Mauritius",
          "Romania",
          "Tanzania",
          "Italy",
          "Mauritania",
          "Chile",
          "Slovakia",
          "Morocco",
          "Myanmar",
          "Kyrgyzstan",
          "Eritrea",
          "Senegal",
          "Somalia",
          "Brazil",
          "Ghana",
          "Malaysia",
          "Tonga",
          "Zambia",
          "Peru",
          "Liberia",
          "Vanuatu",
          "Iran",
          "Kenya",
          "Niger",
          "Albania",
          "Iraq",
          "Bosnia and Herzegovina",
          "Afghanistan",
          "Libya",
          "Dominican Republic",
          "Honduras",
          "Malawi",
          "Samoa",
          "Madagascar",
          "Armenia",
          "Bahrain",
          "Israel",
          "Belize",
          "Georgia",
          "Colombia",
          "Tajikistan",
          "Costa Rica",
          "Kuwait",
          "Lebanon",
          "Malta",
          "Seychelles",
          "Rwanda",
          "Mexico",
          "Jordan",
          "Pakistan",
          "Saudi Arabia",
          "Greece",
          "Philippines",
          "Saint Lucia",
          "Guatemala",
          "Indonesia",
          "Egypt",
          "Sao Tome and Principe",
          "Cyprus",
          "Oman",
          "Algeria",
          "Azerbaijan",
          "Panama",
          "Venezuela",
          "Grenada",
          "Syria",
          "Brunei",
          "Qatar",
          "United Arab Emirates",
          "Saint Vincent and the Grenadines",
          "Bahamas",
          "Jamaica",
          "Barbados",
          "Antigua and Barbuda"
         ],
         "type": "choropleth",
         "z": [
          16.4,
          15.5,
          15.4,
          14.3,
          13.6,
          13.1,
          12.7,
          12.4,
          12.4,
          11.6,
          11.5,
          11.3,
          11.2,
          10.5,
          9.8,
          9.8,
          9.6,
          9.6,
          9.5,
          9.5,
          9.4,
          9.4,
          9.2,
          9.2,
          9.1,
          9.1,
          8.4,
          8.2,
          8.2,
          8.2,
          8.1,
          8,
          7.8,
          7.6,
          7.5,
          7.5,
          7.4,
          7.4,
          7.3,
          7.1,
          7.1,
          7,
          7,
          6.9,
          6.9,
          6.9,
          6.6,
          6.6,
          6.6,
          6.5,
          6.5,
          6.5,
          6.4,
          6.4,
          6.4,
          6.3,
          6.3,
          6.3,
          6.2,
          6.1,
          6.1,
          6.1,
          6,
          5.9,
          5.8,
          5.7,
          5.7,
          5.6,
          5.6,
          5.6,
          5.5,
          5.5,
          5.5,
          5.4,
          5.4,
          5.3,
          5.2,
          5.1,
          5,
          5,
          4.9,
          4.8,
          4.8,
          4.7,
          4.7,
          4.6,
          4.6,
          4.6,
          4.6,
          4.6,
          4.6,
          4.5,
          4.4,
          4.4,
          4.4,
          4.4,
          4.1,
          4.1,
          4.1,
          4.1,
          3.9,
          3.8,
          3.8,
          3.8,
          3.8,
          3.8,
          3.7,
          3.7,
          3.7,
          3.7,
          3.6,
          3.6,
          3.6,
          3.5,
          3.5,
          3.4,
          3.3,
          3.2,
          3.2,
          3,
          3,
          3,
          2.9,
          2.9,
          2.9,
          2.9,
          2.9,
          2.8,
          2.8,
          2.8,
          2.8,
          2.7,
          2.7,
          2.7,
          2.7,
          2.7,
          2.6,
          2.6,
          2.5,
          2.5,
          2.5,
          2.4,
          2.4,
          2.4,
          2.4,
          2.4,
          2.3,
          2.3,
          2.2,
          2.2,
          2.1,
          2.1,
          2.1,
          2.1,
          2.1,
          2.1,
          2.1,
          2,
          2,
          1.9,
          1.7,
          1.7,
          1.6,
          1.6,
          1.5,
          1.4,
          1.3,
          1.2,
          1.2,
          1.2,
          1.2,
          1.1,
          1,
          1,
          1,
          0.9,
          0.9,
          0.8,
          0.4,
          0.4,
          0.3,
          0.3,
          0
         ]
        }
       ],
       "layout": {
        "geo": {
         "projection": {
          "type": "Mercator"
         },
         "showcoastlines": false,
         "showframe": false
        },
        "title": "Suicide rates in 2015 - Females"
       }
      },
      "text/html": [
       "<div id=\"609fbae9-3bf6-4328-938d-f2a07837456f\" style=\"height: 525px; width: 100%;\" class=\"plotly-graph-div\"></div><script type=\"text/javascript\">require([\"plotly\"], function(Plotly) { window.PLOTLYENV=window.PLOTLYENV || {};window.PLOTLYENV.BASE_URL=\"https://plot.ly\";Plotly.newPlot(\"609fbae9-3bf6-4328-938d-f2a07837456f\", [{\"type\": \"choropleth\", \"locations\": [\"KOR\", \"GUY\", \"PRK\", \"IND\", \"LKA\", \"BOL\", \"SUR\", \"JPN\", \"BEL\", \"AGO\", \"CHN\", \"GNQ\", \"LTU\", \"HUN\", \"CIV\", \"SLE\", \"CHE\", \"KAZ\", \"SWE\", \"THA\", \"BTN\", \"FRA\", \"LAO\", \"HRV\", \"MNG\", \"SVN\", \"SRB\", \"CAF\", \"FIN\", \"UKR\", \"KHM\", \"NLD\", \"AUT\", \"BGR\", \"SWZ\", \"ISL\", \"EST\", \"LUX\", \"URY\", \"MNE\", \"DEU\", \"FSM\", \"BLR\", \"NOR\", \"DNK\", \"LVA\", \"MDV\", \"NZL\", \"USA\", \"CAN\", \"BGD\", \"RUS\", \"SGP\", \"PRY\", \"POL\", \"BFA\", \"AUS\", \"KIR\", \"PRT\", \"HTI\", \"GAB\", \"NGA\", \"LSO\", \"COD\", \"YEM\", \"CUB\", \"SDN\", \"ZWE\", \"CMR\", \"CPV\", \"UZB\", \"BEN\", \"NPL\", \"TGO\", \"DJI\", \"PNG\", \"COM\", \"TKM\", \"GIN\", \"CZE\", \"ARG\", \"TTO\", \"COG\", \"SLV\", \"TUR\", \"MOZ\", \"ZAF\", \"TCD\", \"BWA\", \"TLS\", \"MDA\", \"IRL\", \"NIC\", \"SLB\", \"UGA\", \"TUN\", \"ESP\", \"MKD\", \"FJI\", \"GMB\", \"BDI\", \"NAM\", \"ECU\", \"MLI\", \"ETH\", \"GBR\", \"VNM\", \"SSD\", \"GNB\", \"MUS\", \"ROU\", \"TZA\", \"ITA\", \"MRT\", \"CHL\", \"SVK\", \"MAR\", \"MMR\", \"KGZ\", \"ERI\", \"SEN\", \"SOM\", \"BRA\", \"GHA\", \"MYS\", \"TON\", \"ZMB\", \"PER\", \"LBR\", \"VUT\", \"IRN\", \"KEN\", \"NER\", \"ALB\", \"IRQ\", \"BIH\", \"AFG\", \"LBY\", \"DOM\", \"HND\", \"MWI\", \"WSM\", \"MDG\", \"ARM\", \"BHR\", \"ISR\", \"BLZ\", \"GEO\", \"COL\", \"TJK\", \"CRI\", \"KWT\", \"LBN\", \"MLT\", \"SYC\", \"RWA\", \"MEX\", \"JOR\", \"PAK\", \"SAU\", \"GRC\", \"PHL\", \"LCA\", \"GTM\", \"IDN\", \"EGY\", \"STP\", \"CYP\", \"OMN\", \"DZA\", \"AZE\", \"PAN\", \"VEN\", \"GRD\", \"SYR\", \"BRN\", \"QAT\", \"ARE\", \"VCT\", \"BHS\", \"JAM\", \"BRB\", \"\"], \"z\": [16.4, 15.5, 15.4, 14.3, 13.6, 13.1, 12.7, 12.4, 12.4, 11.6, 11.5, 11.3, 11.2, 10.5, 9.8, 9.8, 9.6, 9.6, 9.5, 9.5, 9.4, 9.4, 9.2, 9.2, 9.1, 9.1, 8.4, 8.2, 8.2, 8.2, 8.1, 8.0, 7.8, 7.6, 7.5, 7.5, 7.4, 7.4, 7.3, 7.1, 7.1, 7.0, 7.0, 6.9, 6.9, 6.9, 6.6, 6.6, 6.6, 6.5, 6.5, 6.5, 6.4, 6.4, 6.4, 6.3, 6.3, 6.3, 6.2, 6.1, 6.1, 6.1, 6.0, 5.9, 5.8, 5.7, 5.7, 5.6, 5.6, 5.6, 5.5, 5.5, 5.5, 5.4, 5.4, 5.3, 5.2, 5.1, 5.0, 5.0, 4.9, 4.8, 4.8, 4.7, 4.7, 4.6, 4.6, 4.6, 4.6, 4.6, 4.6, 4.5, 4.4, 4.4, 4.4, 4.4, 4.1, 4.1, 4.1, 4.1, 3.9, 3.8, 3.8, 3.8, 3.8, 3.8, 3.7, 3.7, 3.7, 3.7, 3.6, 3.6, 3.6, 3.5, 3.5, 3.4, 3.3, 3.2, 3.2, 3.0, 3.0, 3.0, 2.9, 2.9, 2.9, 2.9, 2.9, 2.8, 2.8, 2.8, 2.8, 2.7, 2.7, 2.7, 2.7, 2.7, 2.6, 2.6, 2.5, 2.5, 2.5, 2.4, 2.4, 2.4, 2.4, 2.4, 2.3, 2.3, 2.2, 2.2, 2.1, 2.1, 2.1, 2.1, 2.1, 2.1, 2.1, 2.0, 2.0, 1.9, 1.7, 1.7, 1.6, 1.6, 1.5, 1.4, 1.3, 1.2, 1.2, 1.2, 1.2, 1.1, 1.0, 1.0, 1.0, 0.9, 0.9, 0.8, 0.4, 0.4, 0.3, 0.3, 0.0], \"text\": [\"South Korea\", \"Guyana\", \"North Korea\", \"India\", \"Sri Lanka\", \"Bolivia\", \"Suriname\", \"Japan\", \"Belgium\", \"Angola\", \"China\", \"Equatorial Guinea\", \"Lithuania\", \"Hungary\", \"C\\u00f4te d'Ivoire\", \"Sierra Leone\", \"Switzerland\", \"Kazakhstan\", \"Sweden\", \"Thailand\", \"Bhutan\", \"France\", \"Laos\", \"Croatia\", \"Mongolia\", \"Slovenia\", \"Serbia\", \"Central African Republic\", \"Finland\", \"Ukraine\", \"Cambodia\", \"Netherlands\", \"Austria\", \"Bulgaria\", \"Swaziland\", \"Iceland\", \"Estonia\", \"Luxembourg\", \"Uruguay\", \"Montenegro\", \"Germany\", \"Micronesia\", \"Belarus\", \"Norway\", \"Denmark\", \"Latvia\", \"Maldives\", \"New Zealand\", \"United States\", \"Canada\", \"Bangladesh\", \"Russia\", \"Singapore\", \"Paraguay\", \"Poland\", \"Burkina Faso\", \"Australia\", \"Kiribati\", \"Portugal\", \"Haiti\", \"Gabon\", \"Nigeria\", \"Lesotho\", \"Democratic Republic of the Congo\", \"Yemen\", \"Cuba\", \"Sudan\", \"Zimbabwe\", \"Cameroon\", \"Cape Verde\", \"Uzbekistan\", \"Benin\", \"Nepal\", \"Togo\", \"Djibouti\", \"Papua New Guinea\", \"Comoros\", \"Turkmenistan\", \"Guinea\", \"Czech Republic\", \"Argentina\", \"Trinidad and Tobago\", \"Congo\", \"El Salvador\", \"Turkey\", \"Mozambique\", \"South Africa\", \"Chad\", \"Botswana\", \"Timor-Leste\", \"Moldova\", \"Ireland\", \"Nicaragua\", \"Solomon Islands\", \"Uganda\", \"Tunisia\", \"Spain\", \"Macedonia\", \"Fiji\", \"Gambia\", \"Burundi\", \"Namibia\", \"Ecuador\", \"Mali\", \"Ethiopia\", \"United Kingdom\", \"Vietnam\", \"South Sudan\", \"Guinea-Bissau\", \"Mauritius\", \"Romania\", \"Tanzania\", \"Italy\", \"Mauritania\", \"Chile\", \"Slovakia\", \"Morocco\", \"Myanmar\", \"Kyrgyzstan\", \"Eritrea\", \"Senegal\", \"Somalia\", \"Brazil\", \"Ghana\", \"Malaysia\", \"Tonga\", \"Zambia\", \"Peru\", \"Liberia\", \"Vanuatu\", \"Iran\", \"Kenya\", \"Niger\", \"Albania\", \"Iraq\", \"Bosnia and Herzegovina\", \"Afghanistan\", \"Libya\", \"Dominican Republic\", \"Honduras\", \"Malawi\", \"Samoa\", \"Madagascar\", \"Armenia\", \"Bahrain\", \"Israel\", \"Belize\", \"Georgia\", \"Colombia\", \"Tajikistan\", \"Costa Rica\", \"Kuwait\", \"Lebanon\", \"Malta\", \"Seychelles\", \"Rwanda\", \"Mexico\", \"Jordan\", \"Pakistan\", \"Saudi Arabia\", \"Greece\", \"Philippines\", \"Saint Lucia\", \"Guatemala\", \"Indonesia\", \"Egypt\", \"Sao Tome and Principe\", \"Cyprus\", \"Oman\", \"Algeria\", \"Azerbaijan\", \"Panama\", \"Venezuela\", \"Grenada\", \"Syria\", \"Brunei\", \"Qatar\", \"United Arab Emirates\", \"Saint Vincent and the Grenadines\", \"Bahamas\", \"Jamaica\", \"Barbados\", \"Antigua and Barbuda\"], \"colorscale\": [[0, \"rgb(255, 60, 20)\"], [0.25, \"rgb(255, 100, 20)\"], [0.5, \"rgb(255, 140, 20)\"], [0.75, \"rgb(255, 200, 20)\"], [1, \"rgb(225, 255, 150)\"]], \"autocolorscale\": false, \"reversescale\": true, \"marker\": {\"line\": {\"color\": \"rgb(240, 240, 240)\", \"width\": 1.5}}, \"colorbar\": {\"autotick\": false, \"title\": \"Suicide rate (per 100K)\"}}], {\"title\": \"Suicide rates in 2015 - Females\", \"geo\": {\"showframe\": false, \"showcoastlines\": false, \"projection\": {\"type\": \"Mercator\"}}}, {\"showLink\": true, \"linkText\": \"Export to plot.ly\"})});</script>"
      ],
      "text/vnd.plotly.v1+html": [
       "<div id=\"609fbae9-3bf6-4328-938d-f2a07837456f\" style=\"height: 525px; width: 100%;\" class=\"plotly-graph-div\"></div><script type=\"text/javascript\">require([\"plotly\"], function(Plotly) { window.PLOTLYENV=window.PLOTLYENV || {};window.PLOTLYENV.BASE_URL=\"https://plot.ly\";Plotly.newPlot(\"609fbae9-3bf6-4328-938d-f2a07837456f\", [{\"type\": \"choropleth\", \"locations\": [\"KOR\", \"GUY\", \"PRK\", \"IND\", \"LKA\", \"BOL\", \"SUR\", \"JPN\", \"BEL\", \"AGO\", \"CHN\", \"GNQ\", \"LTU\", \"HUN\", \"CIV\", \"SLE\", \"CHE\", \"KAZ\", \"SWE\", \"THA\", \"BTN\", \"FRA\", \"LAO\", \"HRV\", \"MNG\", \"SVN\", \"SRB\", \"CAF\", \"FIN\", \"UKR\", \"KHM\", \"NLD\", \"AUT\", \"BGR\", \"SWZ\", \"ISL\", \"EST\", \"LUX\", \"URY\", \"MNE\", \"DEU\", \"FSM\", \"BLR\", \"NOR\", \"DNK\", \"LVA\", \"MDV\", \"NZL\", \"USA\", \"CAN\", \"BGD\", \"RUS\", \"SGP\", \"PRY\", \"POL\", \"BFA\", \"AUS\", \"KIR\", \"PRT\", \"HTI\", \"GAB\", \"NGA\", \"LSO\", \"COD\", \"YEM\", \"CUB\", \"SDN\", \"ZWE\", \"CMR\", \"CPV\", \"UZB\", \"BEN\", \"NPL\", \"TGO\", \"DJI\", \"PNG\", \"COM\", \"TKM\", \"GIN\", \"CZE\", \"ARG\", \"TTO\", \"COG\", \"SLV\", \"TUR\", \"MOZ\", \"ZAF\", \"TCD\", \"BWA\", \"TLS\", \"MDA\", \"IRL\", \"NIC\", \"SLB\", \"UGA\", \"TUN\", \"ESP\", \"MKD\", \"FJI\", \"GMB\", \"BDI\", \"NAM\", \"ECU\", \"MLI\", \"ETH\", \"GBR\", \"VNM\", \"SSD\", \"GNB\", \"MUS\", \"ROU\", \"TZA\", \"ITA\", \"MRT\", \"CHL\", \"SVK\", \"MAR\", \"MMR\", \"KGZ\", \"ERI\", \"SEN\", \"SOM\", \"BRA\", \"GHA\", \"MYS\", \"TON\", \"ZMB\", \"PER\", \"LBR\", \"VUT\", \"IRN\", \"KEN\", \"NER\", \"ALB\", \"IRQ\", \"BIH\", \"AFG\", \"LBY\", \"DOM\", \"HND\", \"MWI\", \"WSM\", \"MDG\", \"ARM\", \"BHR\", \"ISR\", \"BLZ\", \"GEO\", \"COL\", \"TJK\", \"CRI\", \"KWT\", \"LBN\", \"MLT\", \"SYC\", \"RWA\", \"MEX\", \"JOR\", \"PAK\", \"SAU\", \"GRC\", \"PHL\", \"LCA\", \"GTM\", \"IDN\", \"EGY\", \"STP\", \"CYP\", \"OMN\", \"DZA\", \"AZE\", \"PAN\", \"VEN\", \"GRD\", \"SYR\", \"BRN\", \"QAT\", \"ARE\", \"VCT\", \"BHS\", \"JAM\", \"BRB\", \"\"], \"z\": [16.4, 15.5, 15.4, 14.3, 13.6, 13.1, 12.7, 12.4, 12.4, 11.6, 11.5, 11.3, 11.2, 10.5, 9.8, 9.8, 9.6, 9.6, 9.5, 9.5, 9.4, 9.4, 9.2, 9.2, 9.1, 9.1, 8.4, 8.2, 8.2, 8.2, 8.1, 8.0, 7.8, 7.6, 7.5, 7.5, 7.4, 7.4, 7.3, 7.1, 7.1, 7.0, 7.0, 6.9, 6.9, 6.9, 6.6, 6.6, 6.6, 6.5, 6.5, 6.5, 6.4, 6.4, 6.4, 6.3, 6.3, 6.3, 6.2, 6.1, 6.1, 6.1, 6.0, 5.9, 5.8, 5.7, 5.7, 5.6, 5.6, 5.6, 5.5, 5.5, 5.5, 5.4, 5.4, 5.3, 5.2, 5.1, 5.0, 5.0, 4.9, 4.8, 4.8, 4.7, 4.7, 4.6, 4.6, 4.6, 4.6, 4.6, 4.6, 4.5, 4.4, 4.4, 4.4, 4.4, 4.1, 4.1, 4.1, 4.1, 3.9, 3.8, 3.8, 3.8, 3.8, 3.8, 3.7, 3.7, 3.7, 3.7, 3.6, 3.6, 3.6, 3.5, 3.5, 3.4, 3.3, 3.2, 3.2, 3.0, 3.0, 3.0, 2.9, 2.9, 2.9, 2.9, 2.9, 2.8, 2.8, 2.8, 2.8, 2.7, 2.7, 2.7, 2.7, 2.7, 2.6, 2.6, 2.5, 2.5, 2.5, 2.4, 2.4, 2.4, 2.4, 2.4, 2.3, 2.3, 2.2, 2.2, 2.1, 2.1, 2.1, 2.1, 2.1, 2.1, 2.1, 2.0, 2.0, 1.9, 1.7, 1.7, 1.6, 1.6, 1.5, 1.4, 1.3, 1.2, 1.2, 1.2, 1.2, 1.1, 1.0, 1.0, 1.0, 0.9, 0.9, 0.8, 0.4, 0.4, 0.3, 0.3, 0.0], \"text\": [\"South Korea\", \"Guyana\", \"North Korea\", \"India\", \"Sri Lanka\", \"Bolivia\", \"Suriname\", \"Japan\", \"Belgium\", \"Angola\", \"China\", \"Equatorial Guinea\", \"Lithuania\", \"Hungary\", \"C\\u00f4te d'Ivoire\", \"Sierra Leone\", \"Switzerland\", \"Kazakhstan\", \"Sweden\", \"Thailand\", \"Bhutan\", \"France\", \"Laos\", \"Croatia\", \"Mongolia\", \"Slovenia\", \"Serbia\", \"Central African Republic\", \"Finland\", \"Ukraine\", \"Cambodia\", \"Netherlands\", \"Austria\", \"Bulgaria\", \"Swaziland\", \"Iceland\", \"Estonia\", \"Luxembourg\", \"Uruguay\", \"Montenegro\", \"Germany\", \"Micronesia\", \"Belarus\", \"Norway\", \"Denmark\", \"Latvia\", \"Maldives\", \"New Zealand\", \"United States\", \"Canada\", \"Bangladesh\", \"Russia\", \"Singapore\", \"Paraguay\", \"Poland\", \"Burkina Faso\", \"Australia\", \"Kiribati\", \"Portugal\", \"Haiti\", \"Gabon\", \"Nigeria\", \"Lesotho\", \"Democratic Republic of the Congo\", \"Yemen\", \"Cuba\", \"Sudan\", \"Zimbabwe\", \"Cameroon\", \"Cape Verde\", \"Uzbekistan\", \"Benin\", \"Nepal\", \"Togo\", \"Djibouti\", \"Papua New Guinea\", \"Comoros\", \"Turkmenistan\", \"Guinea\", \"Czech Republic\", \"Argentina\", \"Trinidad and Tobago\", \"Congo\", \"El Salvador\", \"Turkey\", \"Mozambique\", \"South Africa\", \"Chad\", \"Botswana\", \"Timor-Leste\", \"Moldova\", \"Ireland\", \"Nicaragua\", \"Solomon Islands\", \"Uganda\", \"Tunisia\", \"Spain\", \"Macedonia\", \"Fiji\", \"Gambia\", \"Burundi\", \"Namibia\", \"Ecuador\", \"Mali\", \"Ethiopia\", \"United Kingdom\", \"Vietnam\", \"South Sudan\", \"Guinea-Bissau\", \"Mauritius\", \"Romania\", \"Tanzania\", \"Italy\", \"Mauritania\", \"Chile\", \"Slovakia\", \"Morocco\", \"Myanmar\", \"Kyrgyzstan\", \"Eritrea\", \"Senegal\", \"Somalia\", \"Brazil\", \"Ghana\", \"Malaysia\", \"Tonga\", \"Zambia\", \"Peru\", \"Liberia\", \"Vanuatu\", \"Iran\", \"Kenya\", \"Niger\", \"Albania\", \"Iraq\", \"Bosnia and Herzegovina\", \"Afghanistan\", \"Libya\", \"Dominican Republic\", \"Honduras\", \"Malawi\", \"Samoa\", \"Madagascar\", \"Armenia\", \"Bahrain\", \"Israel\", \"Belize\", \"Georgia\", \"Colombia\", \"Tajikistan\", \"Costa Rica\", \"Kuwait\", \"Lebanon\", \"Malta\", \"Seychelles\", \"Rwanda\", \"Mexico\", \"Jordan\", \"Pakistan\", \"Saudi Arabia\", \"Greece\", \"Philippines\", \"Saint Lucia\", \"Guatemala\", \"Indonesia\", \"Egypt\", \"Sao Tome and Principe\", \"Cyprus\", \"Oman\", \"Algeria\", \"Azerbaijan\", \"Panama\", \"Venezuela\", \"Grenada\", \"Syria\", \"Brunei\", \"Qatar\", \"United Arab Emirates\", \"Saint Vincent and the Grenadines\", \"Bahamas\", \"Jamaica\", \"Barbados\", \"Antigua and Barbuda\"], \"colorscale\": [[0, \"rgb(255, 60, 20)\"], [0.25, \"rgb(255, 100, 20)\"], [0.5, \"rgb(255, 140, 20)\"], [0.75, \"rgb(255, 200, 20)\"], [1, \"rgb(225, 255, 150)\"]], \"autocolorscale\": false, \"reversescale\": true, \"marker\": {\"line\": {\"color\": \"rgb(240, 240, 240)\", \"width\": 1.5}}, \"colorbar\": {\"autotick\": false, \"title\": \"Suicide rate (per 100K)\"}}], {\"title\": \"Suicide rates in 2015 - Females\", \"geo\": {\"showframe\": false, \"showcoastlines\": false, \"projection\": {\"type\": \"Mercator\"}}}, {\"showLink\": true, \"linkText\": \"Export to plot.ly\"})});</script>"
      ]
     },
     "metadata": {},
     "output_type": "display_data"
    }
   ],
   "source": [
    "data = [ dict(\n",
    "        type = 'choropleth',\n",
    "        locations = female2015['Code'],\n",
    "        z = female2015['Female suicide rate'],\n",
    "        text = female2015['Country'],\n",
    "        colorscale = [[0,\"rgb(255, 60, 20)\"],[0.25,\"rgb(255, 100, 20)\"],[0.5,\"rgb(255, 140, 20)\"],[0.75,\"rgb(255, 200, 20)\"],[1,\"rgb(225, 255, 150)\"]],\n",
    "        autocolorscale = False,\n",
    "        reversescale = True,\n",
    "        marker = dict(\n",
    "            line = dict (\n",
    "                color = 'rgb(240, 240, 240)',\n",
    "                width = 1.5\n",
    "            ) ),\n",
    "        colorbar = dict(\n",
    "            autotick = False,\n",
    "            title = 'Suicide rate (per 100K)'),\n",
    "      ) ]\n",
    "\n",
    "layout = dict(\n",
    "    title = 'Suicide rates in 2015 - Females',\n",
    "    geo = dict(\n",
    "        showframe = False,\n",
    "        showcoastlines = False,\n",
    "        projection = dict(\n",
    "            type = 'Mercator'\n",
    "        )\n",
    "    )\n",
    "    \n",
    ")\n",
    "\n",
    "fig = dict( data=data, layout=layout )\n",
    "py.iplot( fig, validate=False, filename='world-countries.json')"
   ]
  },
  {
   "cell_type": "markdown",
   "metadata": {},
   "source": [
    "### <a id='5.4.3'>5.4.3 Top countries with the highet suicide rates average since the 90's</a>"
   ]
  },
  {
   "cell_type": "code",
   "execution_count": 45,
   "metadata": {
    "collapsed": true
   },
   "outputs": [],
   "source": [
    "totalSince1990 = suicides_merge[maskSince1990][['Country', 'Total suicide rate']].groupby('Country', as_index=False).mean().sort_values(by='Total suicide rate', ascending=False)\n",
    "mapSince1990 = suicides_merge[maskSince1990][['Code', 'Total suicide rate']].groupby('Code', as_index=False).mean()"
   ]
  },
  {
   "cell_type": "code",
   "execution_count": 46,
   "metadata": {
    "collapsed": true
   },
   "outputs": [],
   "source": [
    "mapSince1990['Country'] = \"\"\n",
    "for i in range(len(mapSince1990)):\n",
    "    mapSince1990['Country'].iloc[i] = countriesNames[mapSince1990.iloc[i]['Code']]"
   ]
  },
  {
   "cell_type": "markdown",
   "metadata": {},
   "source": [
    "**Countries with the highest suicide rates average since the 90's - both sexes**"
   ]
  },
  {
   "cell_type": "code",
   "execution_count": 47,
   "metadata": {
    "scrolled": false
   },
   "outputs": [
    {
     "data": {
      "application/vnd.plotly.v1+json": {
       "data": [
        {
         "marker": {
          "color": "rgb(255, 210, 119)",
          "line": {
           "color": "rgb(206, 142, 12)",
           "width": 1.5
          }
         },
         "opacity": 0.6,
         "type": "bar",
         "x": [
          "Lithuania",
          "Guyana",
          "Russia",
          "Somalia",
          "Latvia",
          "Estonia",
          "Sri Lanka",
          "Belarus",
          "Kazakhstan",
          "Hungary",
          "Laos",
          "Slovenia",
          "Ukraine",
          "Finland",
          "Maldives",
          "Suriname",
          "USSR",
          "Cote d'Ivoire",
          "East Germany",
          "India",
          "Croatia",
          "Iraq",
          "China",
          "Austria",
          "Belgium",
          "Moldova",
          "Cuba",
          "Switzerland",
          "Japan",
          "France"
         ],
         "y": [
          38.31954333333333,
          35.75287247,
          33.001859333333336,
          29.86416435,
          29.01957214285714,
          28.817933999999997,
          28.10404587,
          27.969270175000002,
          27.419405714285713,
          26.872607999999996,
          26.21919823,
          24.60413533333333,
          22.93214,
          22.470269999999996,
          22.35347939,
          20.747430800000004,
          20.62313,
          20.31793022,
          19.00906,
          18.58382607,
          17.855272666666664,
          17.03264618,
          16.91324806,
          16.575674,
          16.393891111111106,
          16.254592,
          16.24715076923077,
          16.171852500000004,
          15.982587999999998,
          15.788080000000003
         ]
        }
       ],
       "layout": {
        "title": "Top countries with the highest suicide rates average since the 90's for both sexes",
        "xaxis": {
         "title": "Countries"
        },
        "yaxis": {
         "title": "Total suicide rate (per 100,000 people)"
        }
       }
      },
      "text/html": [
       "<div id=\"88881aa3-913c-4eb2-a943-6a38b473ed51\" style=\"height: 525px; width: 100%;\" class=\"plotly-graph-div\"></div><script type=\"text/javascript\">require([\"plotly\"], function(Plotly) { window.PLOTLYENV=window.PLOTLYENV || {};window.PLOTLYENV.BASE_URL=\"https://plot.ly\";Plotly.newPlot(\"88881aa3-913c-4eb2-a943-6a38b473ed51\", [{\"type\": \"bar\", \"x\": [\"Lithuania\", \"Guyana\", \"Russia\", \"Somalia\", \"Latvia\", \"Estonia\", \"Sri Lanka\", \"Belarus\", \"Kazakhstan\", \"Hungary\", \"Laos\", \"Slovenia\", \"Ukraine\", \"Finland\", \"Maldives\", \"Suriname\", \"USSR\", \"Cote d'Ivoire\", \"East Germany\", \"India\", \"Croatia\", \"Iraq\", \"China\", \"Austria\", \"Belgium\", \"Moldova\", \"Cuba\", \"Switzerland\", \"Japan\", \"France\"], \"y\": [38.31954333333333, 35.75287247, 33.001859333333336, 29.86416435, 29.01957214285714, 28.817933999999997, 28.10404587, 27.969270175000002, 27.419405714285713, 26.872607999999996, 26.21919823, 24.60413533333333, 22.93214, 22.470269999999996, 22.35347939, 20.747430800000004, 20.62313, 20.31793022, 19.00906, 18.58382607, 17.855272666666664, 17.03264618, 16.91324806, 16.575674, 16.393891111111106, 16.254592, 16.24715076923077, 16.171852500000004, 15.982587999999998, 15.788080000000003], \"marker\": {\"color\": \"rgb(255, 210, 119)\", \"line\": {\"color\": \"rgb(206, 142, 12)\", \"width\": 1.5}}, \"opacity\": 0.6}], {\"title\": \"Top countries with the highest suicide rates average since the 90's for both sexes\", \"xaxis\": {\"title\": \"Countries\"}, \"yaxis\": {\"title\": \"Total suicide rate (per 100,000 people)\"}}, {\"showLink\": true, \"linkText\": \"Export to plot.ly\"})});</script>"
      ],
      "text/vnd.plotly.v1+html": [
       "<div id=\"88881aa3-913c-4eb2-a943-6a38b473ed51\" style=\"height: 525px; width: 100%;\" class=\"plotly-graph-div\"></div><script type=\"text/javascript\">require([\"plotly\"], function(Plotly) { window.PLOTLYENV=window.PLOTLYENV || {};window.PLOTLYENV.BASE_URL=\"https://plot.ly\";Plotly.newPlot(\"88881aa3-913c-4eb2-a943-6a38b473ed51\", [{\"type\": \"bar\", \"x\": [\"Lithuania\", \"Guyana\", \"Russia\", \"Somalia\", \"Latvia\", \"Estonia\", \"Sri Lanka\", \"Belarus\", \"Kazakhstan\", \"Hungary\", \"Laos\", \"Slovenia\", \"Ukraine\", \"Finland\", \"Maldives\", \"Suriname\", \"USSR\", \"Cote d'Ivoire\", \"East Germany\", \"India\", \"Croatia\", \"Iraq\", \"China\", \"Austria\", \"Belgium\", \"Moldova\", \"Cuba\", \"Switzerland\", \"Japan\", \"France\"], \"y\": [38.31954333333333, 35.75287247, 33.001859333333336, 29.86416435, 29.01957214285714, 28.817933999999997, 28.10404587, 27.969270175000002, 27.419405714285713, 26.872607999999996, 26.21919823, 24.60413533333333, 22.93214, 22.470269999999996, 22.35347939, 20.747430800000004, 20.62313, 20.31793022, 19.00906, 18.58382607, 17.855272666666664, 17.03264618, 16.91324806, 16.575674, 16.393891111111106, 16.254592, 16.24715076923077, 16.171852500000004, 15.982587999999998, 15.788080000000003], \"marker\": {\"color\": \"rgb(255, 210, 119)\", \"line\": {\"color\": \"rgb(206, 142, 12)\", \"width\": 1.5}}, \"opacity\": 0.6}], {\"title\": \"Top countries with the highest suicide rates average since the 90's for both sexes\", \"xaxis\": {\"title\": \"Countries\"}, \"yaxis\": {\"title\": \"Total suicide rate (per 100,000 people)\"}}, {\"showLink\": true, \"linkText\": \"Export to plot.ly\"})});</script>"
      ]
     },
     "metadata": {},
     "output_type": "display_data"
    }
   ],
   "source": [
    "data = [go.Bar(\n",
    "    x = totalSince1990['Country'].head(30),\n",
    "    y = totalSince1990['Total suicide rate'].head(30),\n",
    "    marker=dict(color='rgb(255, 210, 119)', line=dict(color='rgb(206, 142, 12)', width=1.5)),opacity=0.6 \n",
    ")]\n",
    "\n",
    "layout = go.Layout(\n",
    "    title='Top countries with the highest suicide rates average since the 90\\'s for both sexes',\n",
    "    xaxis={'title':'Countries'},\n",
    "    yaxis={'title':'Total suicide rate (per 100,000 people)'}\n",
    ")\n",
    "\n",
    "fig = go.Figure(data=data, layout=layout)\n",
    "py.iplot(fig, filename='basic-bar')"
   ]
  },
  {
   "cell_type": "markdown",
   "metadata": {},
   "source": [
    "**Top 5 Countries with the highest suicide rates average since the 90's for both sexes:**\n",
    "* Lithuania - 38.32\n",
    "* Guyana - 35.75\n",
    "* Russia - 33\n",
    "* Somalia - 29.86\n",
    "* Latvia - 29\n",
    "\n",
    "*(The average is calculated only for years for which data was provided)*"
   ]
  },
  {
   "cell_type": "markdown",
   "metadata": {},
   "source": [
    "**Countries with the lowest suicide rates average since the 90's - both sexes**"
   ]
  },
  {
   "cell_type": "code",
   "execution_count": 48,
   "metadata": {
    "scrolled": false
   },
   "outputs": [
    {
     "data": {
      "application/vnd.plotly.v1+json": {
       "data": [
        {
         "marker": {
          "color": "rgb(198, 141, 227)",
          "line": {
           "color": "rgb(127, 20, 181)",
           "width": 1.5
          }
         },
         "opacity": 0.6,
         "type": "bar",
         "x": [
          "Nauru",
          "Fiji",
          "Armenia",
          "Oman",
          "Mexico",
          "Grenada",
          "Turkey",
          "Bahamas",
          "Bahrain",
          "Georgia",
          "Paraguay",
          "Tunisia",
          "Barbados",
          "Greece",
          "Tajikistan",
          "Qatar",
          "Guatemala",
          "Morocco",
          "Bolivia",
          "Peru",
          "Philippines",
          "Haiti",
          "Kuwait",
          "United Arab Emirates",
          "Azerbaijan",
          "Brunei",
          "Egypt",
          "Cyprus",
          "Syria",
          "Jordan"
         ],
         "y": [
          4.079525471,
          3.94025898,
          3.7415878769999997,
          3.7167394160000002,
          3.6133237999999994,
          3.576478243,
          3.56332469,
          3.374415874,
          3.27212610625,
          3.263013759916667,
          3.2533662727272725,
          3.146814108,
          3.1086025239999997,
          2.8288687333333344,
          2.648980856,
          2.515720844,
          2.3863947333333333,
          2.109413624,
          2.034178495,
          1.658907771,
          1.6527155213,
          1.519248009,
          1.3998658347272726,
          1.392950654,
          1.3714372530833332,
          1.3700015540000001,
          0.9389165154999999,
          0.6143094,
          0.5235275629999999,
          0.201448724
         ]
        }
       ],
       "layout": {
        "title": "Top countries with the lowest suicide rates average since the 90's for both sexes",
        "xaxis": {
         "title": "Countries"
        },
        "yaxis": {
         "title": "Total suicide rate (per 100,000 people)"
        }
       }
      },
      "text/html": [
       "<div id=\"c1d1423a-1fc2-4bd4-80a1-bd7dc08a5444\" style=\"height: 525px; width: 100%;\" class=\"plotly-graph-div\"></div><script type=\"text/javascript\">require([\"plotly\"], function(Plotly) { window.PLOTLYENV=window.PLOTLYENV || {};window.PLOTLYENV.BASE_URL=\"https://plot.ly\";Plotly.newPlot(\"c1d1423a-1fc2-4bd4-80a1-bd7dc08a5444\", [{\"type\": \"bar\", \"x\": [\"Nauru\", \"Fiji\", \"Armenia\", \"Oman\", \"Mexico\", \"Grenada\", \"Turkey\", \"Bahamas\", \"Bahrain\", \"Georgia\", \"Paraguay\", \"Tunisia\", \"Barbados\", \"Greece\", \"Tajikistan\", \"Qatar\", \"Guatemala\", \"Morocco\", \"Bolivia\", \"Peru\", \"Philippines\", \"Haiti\", \"Kuwait\", \"United Arab Emirates\", \"Azerbaijan\", \"Brunei\", \"Egypt\", \"Cyprus\", \"Syria\", \"Jordan\"], \"y\": [4.079525471, 3.94025898, 3.7415878769999997, 3.7167394160000002, 3.6133237999999994, 3.576478243, 3.56332469, 3.374415874, 3.27212610625, 3.263013759916667, 3.2533662727272725, 3.146814108, 3.1086025239999997, 2.8288687333333344, 2.648980856, 2.515720844, 2.3863947333333333, 2.109413624, 2.034178495, 1.658907771, 1.6527155213, 1.519248009, 1.3998658347272726, 1.392950654, 1.3714372530833332, 1.3700015540000001, 0.9389165154999999, 0.6143094, 0.5235275629999999, 0.201448724], \"marker\": {\"color\": \"rgb(198, 141, 227)\", \"line\": {\"color\": \"rgb(127, 20, 181)\", \"width\": 1.5}}, \"opacity\": 0.6}], {\"title\": \"Top countries with the lowest suicide rates average since the 90's for both sexes\", \"xaxis\": {\"title\": \"Countries\"}, \"yaxis\": {\"title\": \"Total suicide rate (per 100,000 people)\"}}, {\"showLink\": true, \"linkText\": \"Export to plot.ly\"})});</script>"
      ],
      "text/vnd.plotly.v1+html": [
       "<div id=\"c1d1423a-1fc2-4bd4-80a1-bd7dc08a5444\" style=\"height: 525px; width: 100%;\" class=\"plotly-graph-div\"></div><script type=\"text/javascript\">require([\"plotly\"], function(Plotly) { window.PLOTLYENV=window.PLOTLYENV || {};window.PLOTLYENV.BASE_URL=\"https://plot.ly\";Plotly.newPlot(\"c1d1423a-1fc2-4bd4-80a1-bd7dc08a5444\", [{\"type\": \"bar\", \"x\": [\"Nauru\", \"Fiji\", \"Armenia\", \"Oman\", \"Mexico\", \"Grenada\", \"Turkey\", \"Bahamas\", \"Bahrain\", \"Georgia\", \"Paraguay\", \"Tunisia\", \"Barbados\", \"Greece\", \"Tajikistan\", \"Qatar\", \"Guatemala\", \"Morocco\", \"Bolivia\", \"Peru\", \"Philippines\", \"Haiti\", \"Kuwait\", \"United Arab Emirates\", \"Azerbaijan\", \"Brunei\", \"Egypt\", \"Cyprus\", \"Syria\", \"Jordan\"], \"y\": [4.079525471, 3.94025898, 3.7415878769999997, 3.7167394160000002, 3.6133237999999994, 3.576478243, 3.56332469, 3.374415874, 3.27212610625, 3.263013759916667, 3.2533662727272725, 3.146814108, 3.1086025239999997, 2.8288687333333344, 2.648980856, 2.515720844, 2.3863947333333333, 2.109413624, 2.034178495, 1.658907771, 1.6527155213, 1.519248009, 1.3998658347272726, 1.392950654, 1.3714372530833332, 1.3700015540000001, 0.9389165154999999, 0.6143094, 0.5235275629999999, 0.201448724], \"marker\": {\"color\": \"rgb(198, 141, 227)\", \"line\": {\"color\": \"rgb(127, 20, 181)\", \"width\": 1.5}}, \"opacity\": 0.6}], {\"title\": \"Top countries with the lowest suicide rates average since the 90's for both sexes\", \"xaxis\": {\"title\": \"Countries\"}, \"yaxis\": {\"title\": \"Total suicide rate (per 100,000 people)\"}}, {\"showLink\": true, \"linkText\": \"Export to plot.ly\"})});</script>"
      ]
     },
     "metadata": {},
     "output_type": "display_data"
    }
   ],
   "source": [
    "data = [go.Bar(\n",
    "    x = totalSince1990['Country'].tail(30),\n",
    "    y = totalSince1990['Total suicide rate'].tail(30),\n",
    "    marker=dict(color='rgb(198, 141, 227)', line=dict(color='rgb(127, 20, 181)', width=1.5)),opacity=0.6 \n",
    ")]\n",
    "\n",
    "layout = go.Layout(\n",
    "    title='Top countries with the lowest suicide rates average since the 90\\'s for both sexes',\n",
    "    xaxis={'title':'Countries'},\n",
    "    yaxis={'title':'Total suicide rate (per 100,000 people)'}\n",
    ")\n",
    "\n",
    "fig = go.Figure(data=data, layout=layout)\n",
    "py.iplot(fig, filename='basic-bar')"
   ]
  },
  {
   "cell_type": "markdown",
   "metadata": {},
   "source": [
    "**Top 5 Countries with the lowest suicide rates average since the 90's for both sexes:**\n",
    "* Jordan - 0.2\n",
    "* Syria - 0.52\n",
    "* Cyprus - 0.61\n",
    "* Egypt - 0.94\n",
    "* Brunei - 1.37\n",
    "\n",
    "*(The average is calculated only for years for which data was provided)*"
   ]
  },
  {
   "cell_type": "markdown",
   "metadata": {},
   "source": [
    "**A choropleth map visualizes the suicide rates average since the 90's in countries throughout the world**"
   ]
  },
  {
   "cell_type": "code",
   "execution_count": 49,
   "metadata": {},
   "outputs": [
    {
     "data": {
      "application/vnd.plotly.v1+json": {
       "data": [
        {
         "autocolorscale": false,
         "colorbar": {
          "autotick": false,
          "title": "Suicide rate (per 100K)"
         },
         "colorscale": [
          [
           0,
           "rgb(255, 60, 20)"
          ],
          [
           0.25,
           "rgb(255, 100, 20)"
          ],
          [
           0.5,
           "rgb(255, 140, 20)"
          ],
          [
           0.75,
           "rgb(255, 200, 20)"
          ],
          [
           1,
           "rgb(225, 255, 150)"
          ]
         ],
         "locations": [
          "AFG",
          "AGO",
          "ALB",
          "AND",
          "ARE",
          "ARG",
          "ARM",
          "AUS",
          "AUT",
          "AZE",
          "BDI",
          "BEL",
          "BEN",
          "BFA",
          "BGD",
          "BGR",
          "BHR",
          "BHS",
          "BIH",
          "BLR",
          "BLZ",
          "BOL",
          "BRA",
          "BRB",
          "BRN",
          "BTN",
          "BWA",
          "CAF",
          "CAN",
          "CHE",
          "CHL",
          "CHN",
          "CIV",
          "CMR",
          "COD",
          "COG",
          "COK",
          "COL",
          "COM",
          "CPV",
          "CRI",
          "CUB",
          "CYP",
          "CZE",
          "DEU",
          "DJI",
          "DMA",
          "DNK",
          "DOM",
          "DZA",
          "ECU",
          "EGY",
          "ERI",
          "ESP",
          "EST",
          "ETH",
          "FIN",
          "FJI",
          "FRA",
          "FSM",
          "GAB",
          "GBR",
          "GEO",
          "GHA",
          "GIN",
          "GMB",
          "GNB",
          "GNQ",
          "GRC",
          "GRD",
          "GTM",
          "GUY",
          "HND",
          "HRV",
          "HTI",
          "HUN",
          "IDN",
          "IND",
          "IRL",
          "IRN",
          "IRQ",
          "ISL",
          "ISR",
          "ITA",
          "JAM",
          "JOR",
          "JPN",
          "KAZ",
          "KEN",
          "KGZ",
          "KHM",
          "KOR",
          "KWT",
          "LAO",
          "LBN",
          "LBR",
          "LBY",
          "LCA",
          "LKA",
          "LSO",
          "LTU",
          "LUX",
          "LVA",
          "MAR",
          "MCO",
          "MDA",
          "MDG",
          "MDV",
          "MEX",
          "MHL",
          "MKD",
          "MLI",
          "MLT",
          "MMR",
          "MNG",
          "MOZ",
          "MRT",
          "MUS",
          "MWI",
          "MYS",
          "NAM",
          "NER",
          "NGA",
          "NIC",
          "NIU",
          "NLD",
          "NOR",
          "NPL",
          "NRU",
          "NZL",
          "OMN",
          "OWID_CZS",
          "OWID_GDR",
          "OWID_GFR",
          "OWID_SRM",
          "OWID_USS",
          "OWID_YGS",
          "PAK",
          "PAN",
          "PER",
          "PHL",
          "PLW",
          "PNG",
          "POL",
          "PRK",
          "PRT",
          "PRY",
          "QAT",
          "ROU",
          "RUS",
          "RWA",
          "SAU",
          "SDN",
          "SEN",
          "SGP",
          "SLB",
          "SLE",
          "SLV",
          "SMR",
          "SOM",
          "SRB",
          "STP",
          "SUR",
          "SVK",
          "SVN",
          "SWE",
          "SWZ",
          "SYC",
          "SYR",
          "TCD",
          "TGO",
          "THA",
          "TJK",
          "TKM",
          "TLS",
          "TON",
          "TTO",
          "TUN",
          "TUR",
          "TUV",
          "TZA",
          "UGA",
          "UKR",
          "URY",
          "USA",
          "UZB",
          "VCT",
          "VEN",
          "VNM",
          "VUT",
          "WSM",
          "YEM",
          "ZAF",
          "ZMB",
          "ZWE"
         ],
         "marker": {
          "line": {
           "color": "rgb(240, 240, 240)",
           "width": 1.5
          }
         },
         "reversescale": true,
         "text": [
          "Afghanistan",
          "Angola",
          "Albania",
          "Andorra",
          "United Arab Emirates",
          "Argentina",
          "Armenia",
          "Australia",
          "Austria",
          "Azerbaijan",
          "Burundi",
          "Belgium",
          "Benin",
          "Burkina Faso",
          "Bangladesh",
          "Bulgaria",
          "Bahrain",
          "Bahamas",
          "Bosnia and Herzegovina",
          "Belarus",
          "Belize",
          "Bolivia",
          "Brazil",
          "Barbados",
          "Brunei",
          "Bhutan",
          "Botswana",
          "Central African Republic",
          "Canada",
          "Switzerland",
          "Chile",
          "China",
          "Côte d'Ivoire",
          "Cameroon",
          "Democratic Republic of the Congo",
          "Congo",
          "Cook Islands",
          "Colombia",
          "Comoros",
          "Cape Verde",
          "Costa Rica",
          "Cuba",
          "Cyprus",
          "Czech Republic",
          "Germany",
          "Djibouti",
          "Dominica",
          "Denmark",
          "Dominican Republic",
          "Algeria",
          "Ecuador",
          "Egypt",
          "Eritrea",
          "Spain",
          "Estonia",
          "Ethiopia",
          "Finland",
          "Fiji",
          "France",
          "Micronesia",
          "Gabon",
          "United Kingdom",
          "Georgia",
          "Ghana",
          "Guinea",
          "Gambia",
          "Guinea-Bissau",
          "Equatorial Guinea",
          "Greece",
          "Grenada",
          "Guatemala",
          "Guyana",
          "Honduras",
          "Croatia",
          "Haiti",
          "Hungary",
          "Indonesia",
          "India",
          "Ireland",
          "Iran",
          "Iraq",
          "Iceland",
          "Israel",
          "Italy",
          "Jamaica",
          "Jordan",
          "Japan",
          "Kazakhstan",
          "Kenya",
          "Kyrgyzstan",
          "Cambodia",
          "South Korea",
          "Kuwait",
          "Laos",
          "Lebanon",
          "Liberia",
          "Libya",
          "Saint Lucia",
          "Sri Lanka",
          "Lesotho",
          "Lithuania",
          "Luxembourg",
          "Latvia",
          "Morocco",
          "Monaco",
          "Moldova",
          "Madagascar",
          "Maldives",
          "Mexico",
          "Marshall Islands",
          "Macedonia",
          "Mali",
          "Malta",
          "Myanmar",
          "Mongolia",
          "Mozambique",
          "Mauritania",
          "Mauritius",
          "Malawi",
          "Malaysia",
          "Namibia",
          "Niger",
          "Nigeria",
          "Nicaragua",
          "Niue",
          "Netherlands",
          "Norway",
          "Nepal",
          "Nauru",
          "New Zealand",
          "Oman",
          "Czechoslovakia",
          "East Germany",
          "West Germany",
          "Serbia and Montenegro",
          "USSR",
          "Yugoslavia",
          "Pakistan",
          "Panama",
          "Peru",
          "Philippines",
          "Palau",
          "Papua New Guinea",
          "Poland",
          "North Korea",
          "Portugal",
          "Paraguay",
          "Qatar",
          "Romania",
          "Russia",
          "Rwanda",
          "Saudi Arabia",
          "Sudan",
          "Senegal",
          "Singapore",
          "Solomon Islands",
          "Sierra Leone",
          "El Salvador",
          "San Marino",
          "Somalia",
          "Serbia",
          "Sao Tome and Principe",
          "Suriname",
          "Slovakia",
          "Slovenia",
          "Sweden",
          "Swaziland",
          "Seychelles",
          "Syria",
          "Chad",
          "Togo",
          "Thailand",
          "Tajikistan",
          "Turkmenistan",
          "Timor-Leste",
          "Tonga",
          "Trinidad and Tobago",
          "Tunisia",
          "Turkey",
          "Tuvalu",
          "Tanzania",
          "Uganda",
          "Ukraine",
          "Uruguay",
          "United States",
          "Uzbekistan",
          "Saint Vincent and the Grenadines",
          "Venezuela",
          "Vietnam",
          "Vanuatu",
          "Samoa",
          "Yemen",
          "South Africa",
          "Zambia",
          "Zimbabwe"
         ],
         "type": "choropleth",
         "z": [
          6.684385300000001,
          14.55467701,
          7.699329852999999,
          5.362178802,
          1.392950654,
          7.146458999999999,
          3.7415878769999997,
          11.803908866666665,
          16.575674,
          1.3714372530833332,
          14.68093586,
          16.393891111111106,
          6.057739735,
          8.204221725,
          14.53835678,
          12.869724733333335,
          3.27212610625,
          3.374415874,
          11.124855233333333,
          27.969270175000002,
          9.388795853,
          2.034178495,
          4.338099466666666,
          3.1086025239999997,
          1.3700015540000001,
          15.54260254,
          11.21397018,
          13.54841995,
          11.508385333333331,
          16.171852500000004,
          7.697656266666667,
          16.91324806,
          20.31793022,
          7.214220524,
          14.71302032,
          9.873761177,
          4.373364925,
          4.398683285714285,
          4.751083851000001,
          5.633333682999999,
          6.3989082,
          16.24715076923077,
          0.6143094,
          14.185573333333334,
          11.582775666666668,
          4.993475913999999,
          5.835250854,
          13.577972466666669,
          6.519536972,
          4.848769665,
          8.504684447999999,
          0.9389165154999999,
          8.913362503,
          6.33322553846154,
          28.817933999999997,
          10.07194233,
          22.470269999999996,
          3.94025898,
          15.788080000000003,
          4.762269974,
          7.745064735,
          6.6884619333333335,
          3.263013759916667,
          6.288554668,
          7.443826199,
          6.449156761,
          7.563692092999999,
          10.12934971,
          2.8288687333333344,
          3.576478243,
          2.3863947333333333,
          35.75287247,
          7.060184479,
          17.855272666666664,
          1.519248009,
          26.872607999999996,
          11.39611149,
          18.58382607,
          11.098975133333335,
          6.021882057000001,
          17.03264618,
          11.42618084,
          6.559577,
          5.8431027753333336,
          4.417507172,
          0.201448724,
          15.982587999999998,
          27.419405714285713,
          10.93771839,
          13.980782333333334,
          4.961071491,
          13.15628157142857,
          1.3998658347272726,
          26.21919823,
          5.83831501,
          7.1848526,
          4.667024612,
          8.21094799,
          28.10404587,
          7.858619213,
          38.31954333333333,
          12.40591812,
          29.01957214285714,
          2.109413624,
          11.1510725,
          16.254592,
          5.767406464,
          22.35347939,
          3.6133237999999994,
          7.2023835179999995,
          7.134693090142859,
          8.262892723,
          4.551121235,
          10.11499691,
          13.08961582,
          10.55037498,
          6.882952212999999,
          11.959259333333334,
          10.17173481,
          8.2110672,
          8.021969795,
          9.257975578,
          7.631049633,
          12.12226868,
          4.217076302,
          8.4087998,
          11.7469036,
          11.65520954,
          4.079525471,
          13.216668666666667,
          3.7167394160000002,
          15.737335,
          19.00906,
          12.3628,
          13.748669765714286,
          20.62313,
          13.880889999999999,
          12.86981487,
          5.697234555555555,
          1.658907771,
          1.6527155213,
          5.554276466,
          11.95694065,
          13.56396230769231,
          4.735673428,
          6.2108215648666665,
          3.2533662727272725,
          2.515720844,
          10.888048571428572,
          33.001859333333336,
          13.11794853,
          6.401537895,
          9.709555626,
          6.81143856,
          9.850740466666666,
          4.484752655,
          11.98049736,
          8.42265892,
          6.087670803,
          29.86416435,
          14.579984285714286,
          10.49314976,
          20.747430800000004,
          11.939203846153845,
          24.60413533333333,
          12.004606666666668,
          12.87222195,
          9.507927895,
          0.5235275629999999,
          8.283070563999999,
          6.369887829,
          9.847459792999999,
          2.648980856,
          8.936760322000001,
          9.633114815,
          4.527851582,
          13.52806477285714,
          3.146814108,
          3.56332469,
          7.934811592000001,
          12.41118145,
          12.28912163,
          22.93214,
          12.94325572727273,
          10.520761933333334,
          8.1968972,
          9.593027115,
          5.594994230769231,
          11.65332222,
          4.983421803,
          5.5423235889999996,
          6.265789032000001,
          15.714571,
          12.01903629,
          13.90526676
         ]
        }
       ],
       "layout": {
        "geo": {
         "projection": {
          "type": "Mercator"
         },
         "showcoastlines": false,
         "showframe": false
        },
        "title": "Suicide rates average since the 90's"
       }
      },
      "text/html": [
       "<div id=\"76d5b032-8a19-4f6e-a007-e849911cf0c1\" style=\"height: 525px; width: 100%;\" class=\"plotly-graph-div\"></div><script type=\"text/javascript\">require([\"plotly\"], function(Plotly) { window.PLOTLYENV=window.PLOTLYENV || {};window.PLOTLYENV.BASE_URL=\"https://plot.ly\";Plotly.newPlot(\"76d5b032-8a19-4f6e-a007-e849911cf0c1\", [{\"type\": \"choropleth\", \"locations\": [\"AFG\", \"AGO\", \"ALB\", \"AND\", \"ARE\", \"ARG\", \"ARM\", \"AUS\", \"AUT\", \"AZE\", \"BDI\", \"BEL\", \"BEN\", \"BFA\", \"BGD\", \"BGR\", \"BHR\", \"BHS\", \"BIH\", \"BLR\", \"BLZ\", \"BOL\", \"BRA\", \"BRB\", \"BRN\", \"BTN\", \"BWA\", \"CAF\", \"CAN\", \"CHE\", \"CHL\", \"CHN\", \"CIV\", \"CMR\", \"COD\", \"COG\", \"COK\", \"COL\", \"COM\", \"CPV\", \"CRI\", \"CUB\", \"CYP\", \"CZE\", \"DEU\", \"DJI\", \"DMA\", \"DNK\", \"DOM\", \"DZA\", \"ECU\", \"EGY\", \"ERI\", \"ESP\", \"EST\", \"ETH\", \"FIN\", \"FJI\", \"FRA\", \"FSM\", \"GAB\", \"GBR\", \"GEO\", \"GHA\", \"GIN\", \"GMB\", \"GNB\", \"GNQ\", \"GRC\", \"GRD\", \"GTM\", \"GUY\", \"HND\", \"HRV\", \"HTI\", \"HUN\", \"IDN\", \"IND\", \"IRL\", \"IRN\", \"IRQ\", \"ISL\", \"ISR\", \"ITA\", \"JAM\", \"JOR\", \"JPN\", \"KAZ\", \"KEN\", \"KGZ\", \"KHM\", \"KOR\", \"KWT\", \"LAO\", \"LBN\", \"LBR\", \"LBY\", \"LCA\", \"LKA\", \"LSO\", \"LTU\", \"LUX\", \"LVA\", \"MAR\", \"MCO\", \"MDA\", \"MDG\", \"MDV\", \"MEX\", \"MHL\", \"MKD\", \"MLI\", \"MLT\", \"MMR\", \"MNG\", \"MOZ\", \"MRT\", \"MUS\", \"MWI\", \"MYS\", \"NAM\", \"NER\", \"NGA\", \"NIC\", \"NIU\", \"NLD\", \"NOR\", \"NPL\", \"NRU\", \"NZL\", \"OMN\", \"OWID_CZS\", \"OWID_GDR\", \"OWID_GFR\", \"OWID_SRM\", \"OWID_USS\", \"OWID_YGS\", \"PAK\", \"PAN\", \"PER\", \"PHL\", \"PLW\", \"PNG\", \"POL\", \"PRK\", \"PRT\", \"PRY\", \"QAT\", \"ROU\", \"RUS\", \"RWA\", \"SAU\", \"SDN\", \"SEN\", \"SGP\", \"SLB\", \"SLE\", \"SLV\", \"SMR\", \"SOM\", \"SRB\", \"STP\", \"SUR\", \"SVK\", \"SVN\", \"SWE\", \"SWZ\", \"SYC\", \"SYR\", \"TCD\", \"TGO\", \"THA\", \"TJK\", \"TKM\", \"TLS\", \"TON\", \"TTO\", \"TUN\", \"TUR\", \"TUV\", \"TZA\", \"UGA\", \"UKR\", \"URY\", \"USA\", \"UZB\", \"VCT\", \"VEN\", \"VNM\", \"VUT\", \"WSM\", \"YEM\", \"ZAF\", \"ZMB\", \"ZWE\"], \"z\": [6.684385300000001, 14.55467701, 7.699329852999999, 5.362178802, 1.392950654, 7.146458999999999, 3.7415878769999997, 11.803908866666665, 16.575674, 1.3714372530833332, 14.68093586, 16.393891111111106, 6.057739735, 8.204221725, 14.53835678, 12.869724733333335, 3.27212610625, 3.374415874, 11.124855233333333, 27.969270175000002, 9.388795853, 2.034178495, 4.338099466666666, 3.1086025239999997, 1.3700015540000001, 15.54260254, 11.21397018, 13.54841995, 11.508385333333331, 16.171852500000004, 7.697656266666667, 16.91324806, 20.31793022, 7.214220524, 14.71302032, 9.873761177, 4.373364925, 4.398683285714285, 4.751083851000001, 5.633333682999999, 6.3989082, 16.24715076923077, 0.6143094, 14.185573333333334, 11.582775666666668, 4.993475913999999, 5.835250854, 13.577972466666669, 6.519536972, 4.848769665, 8.504684447999999, 0.9389165154999999, 8.913362503, 6.33322553846154, 28.817933999999997, 10.07194233, 22.470269999999996, 3.94025898, 15.788080000000003, 4.762269974, 7.745064735, 6.6884619333333335, 3.263013759916667, 6.288554668, 7.443826199, 6.449156761, 7.563692092999999, 10.12934971, 2.8288687333333344, 3.576478243, 2.3863947333333333, 35.75287247, 7.060184479, 17.855272666666664, 1.519248009, 26.872607999999996, 11.39611149, 18.58382607, 11.098975133333335, 6.021882057000001, 17.03264618, 11.42618084, 6.559577, 5.8431027753333336, 4.417507172, 0.201448724, 15.982587999999998, 27.419405714285713, 10.93771839, 13.980782333333334, 4.961071491, 13.15628157142857, 1.3998658347272726, 26.21919823, 5.83831501, 7.1848526, 4.667024612, 8.21094799, 28.10404587, 7.858619213, 38.31954333333333, 12.40591812, 29.01957214285714, 2.109413624, 11.1510725, 16.254592, 5.767406464, 22.35347939, 3.6133237999999994, 7.2023835179999995, 7.134693090142859, 8.262892723, 4.551121235, 10.11499691, 13.08961582, 10.55037498, 6.882952212999999, 11.959259333333334, 10.17173481, 8.2110672, 8.021969795, 9.257975578, 7.631049633, 12.12226868, 4.217076302, 8.4087998, 11.7469036, 11.65520954, 4.079525471, 13.216668666666667, 3.7167394160000002, 15.737335, 19.00906, 12.3628, 13.748669765714286, 20.62313, 13.880889999999999, 12.86981487, 5.697234555555555, 1.658907771, 1.6527155213, 5.554276466, 11.95694065, 13.56396230769231, 4.735673428, 6.2108215648666665, 3.2533662727272725, 2.515720844, 10.888048571428572, 33.001859333333336, 13.11794853, 6.401537895, 9.709555626, 6.81143856, 9.850740466666666, 4.484752655, 11.98049736, 8.42265892, 6.087670803, 29.86416435, 14.579984285714286, 10.49314976, 20.747430800000004, 11.939203846153845, 24.60413533333333, 12.004606666666668, 12.87222195, 9.507927895, 0.5235275629999999, 8.283070563999999, 6.369887829, 9.847459792999999, 2.648980856, 8.936760322000001, 9.633114815, 4.527851582, 13.52806477285714, 3.146814108, 3.56332469, 7.934811592000001, 12.41118145, 12.28912163, 22.93214, 12.94325572727273, 10.520761933333334, 8.1968972, 9.593027115, 5.594994230769231, 11.65332222, 4.983421803, 5.5423235889999996, 6.265789032000001, 15.714571, 12.01903629, 13.90526676], \"text\": [\"Afghanistan\", \"Angola\", \"Albania\", \"Andorra\", \"United Arab Emirates\", \"Argentina\", \"Armenia\", \"Australia\", \"Austria\", \"Azerbaijan\", \"Burundi\", \"Belgium\", \"Benin\", \"Burkina Faso\", \"Bangladesh\", \"Bulgaria\", \"Bahrain\", \"Bahamas\", \"Bosnia and Herzegovina\", \"Belarus\", \"Belize\", \"Bolivia\", \"Brazil\", \"Barbados\", \"Brunei\", \"Bhutan\", \"Botswana\", \"Central African Republic\", \"Canada\", \"Switzerland\", \"Chile\", \"China\", \"C\\u00f4te d'Ivoire\", \"Cameroon\", \"Democratic Republic of the Congo\", \"Congo\", \"Cook Islands\", \"Colombia\", \"Comoros\", \"Cape Verde\", \"Costa Rica\", \"Cuba\", \"Cyprus\", \"Czech Republic\", \"Germany\", \"Djibouti\", \"Dominica\", \"Denmark\", \"Dominican Republic\", \"Algeria\", \"Ecuador\", \"Egypt\", \"Eritrea\", \"Spain\", \"Estonia\", \"Ethiopia\", \"Finland\", \"Fiji\", \"France\", \"Micronesia\", \"Gabon\", \"United Kingdom\", \"Georgia\", \"Ghana\", \"Guinea\", \"Gambia\", \"Guinea-Bissau\", \"Equatorial Guinea\", \"Greece\", \"Grenada\", \"Guatemala\", \"Guyana\", \"Honduras\", \"Croatia\", \"Haiti\", \"Hungary\", \"Indonesia\", \"India\", \"Ireland\", \"Iran\", \"Iraq\", \"Iceland\", \"Israel\", \"Italy\", \"Jamaica\", \"Jordan\", \"Japan\", \"Kazakhstan\", \"Kenya\", \"Kyrgyzstan\", \"Cambodia\", \"South Korea\", \"Kuwait\", \"Laos\", \"Lebanon\", \"Liberia\", \"Libya\", \"Saint Lucia\", \"Sri Lanka\", \"Lesotho\", \"Lithuania\", \"Luxembourg\", \"Latvia\", \"Morocco\", \"Monaco\", \"Moldova\", \"Madagascar\", \"Maldives\", \"Mexico\", \"Marshall Islands\", \"Macedonia\", \"Mali\", \"Malta\", \"Myanmar\", \"Mongolia\", \"Mozambique\", \"Mauritania\", \"Mauritius\", \"Malawi\", \"Malaysia\", \"Namibia\", \"Niger\", \"Nigeria\", \"Nicaragua\", \"Niue\", \"Netherlands\", \"Norway\", \"Nepal\", \"Nauru\", \"New Zealand\", \"Oman\", \"Czechoslovakia\", \"East Germany\", \"West Germany\", \"Serbia and Montenegro\", \"USSR\", \"Yugoslavia\", \"Pakistan\", \"Panama\", \"Peru\", \"Philippines\", \"Palau\", \"Papua New Guinea\", \"Poland\", \"North Korea\", \"Portugal\", \"Paraguay\", \"Qatar\", \"Romania\", \"Russia\", \"Rwanda\", \"Saudi Arabia\", \"Sudan\", \"Senegal\", \"Singapore\", \"Solomon Islands\", \"Sierra Leone\", \"El Salvador\", \"San Marino\", \"Somalia\", \"Serbia\", \"Sao Tome and Principe\", \"Suriname\", \"Slovakia\", \"Slovenia\", \"Sweden\", \"Swaziland\", \"Seychelles\", \"Syria\", \"Chad\", \"Togo\", \"Thailand\", \"Tajikistan\", \"Turkmenistan\", \"Timor-Leste\", \"Tonga\", \"Trinidad and Tobago\", \"Tunisia\", \"Turkey\", \"Tuvalu\", \"Tanzania\", \"Uganda\", \"Ukraine\", \"Uruguay\", \"United States\", \"Uzbekistan\", \"Saint Vincent and the Grenadines\", \"Venezuela\", \"Vietnam\", \"Vanuatu\", \"Samoa\", \"Yemen\", \"South Africa\", \"Zambia\", \"Zimbabwe\"], \"colorscale\": [[0, \"rgb(255, 60, 20)\"], [0.25, \"rgb(255, 100, 20)\"], [0.5, \"rgb(255, 140, 20)\"], [0.75, \"rgb(255, 200, 20)\"], [1, \"rgb(225, 255, 150)\"]], \"autocolorscale\": false, \"reversescale\": true, \"marker\": {\"line\": {\"color\": \"rgb(240, 240, 240)\", \"width\": 1.5}}, \"colorbar\": {\"autotick\": false, \"title\": \"Suicide rate (per 100K)\"}}], {\"title\": \"Suicide rates average since the 90's\", \"geo\": {\"showframe\": false, \"showcoastlines\": false, \"projection\": {\"type\": \"Mercator\"}}}, {\"showLink\": true, \"linkText\": \"Export to plot.ly\"})});</script>"
      ],
      "text/vnd.plotly.v1+html": [
       "<div id=\"76d5b032-8a19-4f6e-a007-e849911cf0c1\" style=\"height: 525px; width: 100%;\" class=\"plotly-graph-div\"></div><script type=\"text/javascript\">require([\"plotly\"], function(Plotly) { window.PLOTLYENV=window.PLOTLYENV || {};window.PLOTLYENV.BASE_URL=\"https://plot.ly\";Plotly.newPlot(\"76d5b032-8a19-4f6e-a007-e849911cf0c1\", [{\"type\": \"choropleth\", \"locations\": [\"AFG\", \"AGO\", \"ALB\", \"AND\", \"ARE\", \"ARG\", \"ARM\", \"AUS\", \"AUT\", \"AZE\", \"BDI\", \"BEL\", \"BEN\", \"BFA\", \"BGD\", \"BGR\", \"BHR\", \"BHS\", \"BIH\", \"BLR\", \"BLZ\", \"BOL\", \"BRA\", \"BRB\", \"BRN\", \"BTN\", \"BWA\", \"CAF\", \"CAN\", \"CHE\", \"CHL\", \"CHN\", \"CIV\", \"CMR\", \"COD\", \"COG\", \"COK\", \"COL\", \"COM\", \"CPV\", \"CRI\", \"CUB\", \"CYP\", \"CZE\", \"DEU\", \"DJI\", \"DMA\", \"DNK\", \"DOM\", \"DZA\", \"ECU\", \"EGY\", \"ERI\", \"ESP\", \"EST\", \"ETH\", \"FIN\", \"FJI\", \"FRA\", \"FSM\", \"GAB\", \"GBR\", \"GEO\", \"GHA\", \"GIN\", \"GMB\", \"GNB\", \"GNQ\", \"GRC\", \"GRD\", \"GTM\", \"GUY\", \"HND\", \"HRV\", \"HTI\", \"HUN\", \"IDN\", \"IND\", \"IRL\", \"IRN\", \"IRQ\", \"ISL\", \"ISR\", \"ITA\", \"JAM\", \"JOR\", \"JPN\", \"KAZ\", \"KEN\", \"KGZ\", \"KHM\", \"KOR\", \"KWT\", \"LAO\", \"LBN\", \"LBR\", \"LBY\", \"LCA\", \"LKA\", \"LSO\", \"LTU\", \"LUX\", \"LVA\", \"MAR\", \"MCO\", \"MDA\", \"MDG\", \"MDV\", \"MEX\", \"MHL\", \"MKD\", \"MLI\", \"MLT\", \"MMR\", \"MNG\", \"MOZ\", \"MRT\", \"MUS\", \"MWI\", \"MYS\", \"NAM\", \"NER\", \"NGA\", \"NIC\", \"NIU\", \"NLD\", \"NOR\", \"NPL\", \"NRU\", \"NZL\", \"OMN\", \"OWID_CZS\", \"OWID_GDR\", \"OWID_GFR\", \"OWID_SRM\", \"OWID_USS\", \"OWID_YGS\", \"PAK\", \"PAN\", \"PER\", \"PHL\", \"PLW\", \"PNG\", \"POL\", \"PRK\", \"PRT\", \"PRY\", \"QAT\", \"ROU\", \"RUS\", \"RWA\", \"SAU\", \"SDN\", \"SEN\", \"SGP\", \"SLB\", \"SLE\", \"SLV\", \"SMR\", \"SOM\", \"SRB\", \"STP\", \"SUR\", \"SVK\", \"SVN\", \"SWE\", \"SWZ\", \"SYC\", \"SYR\", \"TCD\", \"TGO\", \"THA\", \"TJK\", \"TKM\", \"TLS\", \"TON\", \"TTO\", \"TUN\", \"TUR\", \"TUV\", \"TZA\", \"UGA\", \"UKR\", \"URY\", \"USA\", \"UZB\", \"VCT\", \"VEN\", \"VNM\", \"VUT\", \"WSM\", \"YEM\", \"ZAF\", \"ZMB\", \"ZWE\"], \"z\": [6.684385300000001, 14.55467701, 7.699329852999999, 5.362178802, 1.392950654, 7.146458999999999, 3.7415878769999997, 11.803908866666665, 16.575674, 1.3714372530833332, 14.68093586, 16.393891111111106, 6.057739735, 8.204221725, 14.53835678, 12.869724733333335, 3.27212610625, 3.374415874, 11.124855233333333, 27.969270175000002, 9.388795853, 2.034178495, 4.338099466666666, 3.1086025239999997, 1.3700015540000001, 15.54260254, 11.21397018, 13.54841995, 11.508385333333331, 16.171852500000004, 7.697656266666667, 16.91324806, 20.31793022, 7.214220524, 14.71302032, 9.873761177, 4.373364925, 4.398683285714285, 4.751083851000001, 5.633333682999999, 6.3989082, 16.24715076923077, 0.6143094, 14.185573333333334, 11.582775666666668, 4.993475913999999, 5.835250854, 13.577972466666669, 6.519536972, 4.848769665, 8.504684447999999, 0.9389165154999999, 8.913362503, 6.33322553846154, 28.817933999999997, 10.07194233, 22.470269999999996, 3.94025898, 15.788080000000003, 4.762269974, 7.745064735, 6.6884619333333335, 3.263013759916667, 6.288554668, 7.443826199, 6.449156761, 7.563692092999999, 10.12934971, 2.8288687333333344, 3.576478243, 2.3863947333333333, 35.75287247, 7.060184479, 17.855272666666664, 1.519248009, 26.872607999999996, 11.39611149, 18.58382607, 11.098975133333335, 6.021882057000001, 17.03264618, 11.42618084, 6.559577, 5.8431027753333336, 4.417507172, 0.201448724, 15.982587999999998, 27.419405714285713, 10.93771839, 13.980782333333334, 4.961071491, 13.15628157142857, 1.3998658347272726, 26.21919823, 5.83831501, 7.1848526, 4.667024612, 8.21094799, 28.10404587, 7.858619213, 38.31954333333333, 12.40591812, 29.01957214285714, 2.109413624, 11.1510725, 16.254592, 5.767406464, 22.35347939, 3.6133237999999994, 7.2023835179999995, 7.134693090142859, 8.262892723, 4.551121235, 10.11499691, 13.08961582, 10.55037498, 6.882952212999999, 11.959259333333334, 10.17173481, 8.2110672, 8.021969795, 9.257975578, 7.631049633, 12.12226868, 4.217076302, 8.4087998, 11.7469036, 11.65520954, 4.079525471, 13.216668666666667, 3.7167394160000002, 15.737335, 19.00906, 12.3628, 13.748669765714286, 20.62313, 13.880889999999999, 12.86981487, 5.697234555555555, 1.658907771, 1.6527155213, 5.554276466, 11.95694065, 13.56396230769231, 4.735673428, 6.2108215648666665, 3.2533662727272725, 2.515720844, 10.888048571428572, 33.001859333333336, 13.11794853, 6.401537895, 9.709555626, 6.81143856, 9.850740466666666, 4.484752655, 11.98049736, 8.42265892, 6.087670803, 29.86416435, 14.579984285714286, 10.49314976, 20.747430800000004, 11.939203846153845, 24.60413533333333, 12.004606666666668, 12.87222195, 9.507927895, 0.5235275629999999, 8.283070563999999, 6.369887829, 9.847459792999999, 2.648980856, 8.936760322000001, 9.633114815, 4.527851582, 13.52806477285714, 3.146814108, 3.56332469, 7.934811592000001, 12.41118145, 12.28912163, 22.93214, 12.94325572727273, 10.520761933333334, 8.1968972, 9.593027115, 5.594994230769231, 11.65332222, 4.983421803, 5.5423235889999996, 6.265789032000001, 15.714571, 12.01903629, 13.90526676], \"text\": [\"Afghanistan\", \"Angola\", \"Albania\", \"Andorra\", \"United Arab Emirates\", \"Argentina\", \"Armenia\", \"Australia\", \"Austria\", \"Azerbaijan\", \"Burundi\", \"Belgium\", \"Benin\", \"Burkina Faso\", \"Bangladesh\", \"Bulgaria\", \"Bahrain\", \"Bahamas\", \"Bosnia and Herzegovina\", \"Belarus\", \"Belize\", \"Bolivia\", \"Brazil\", \"Barbados\", \"Brunei\", \"Bhutan\", \"Botswana\", \"Central African Republic\", \"Canada\", \"Switzerland\", \"Chile\", \"China\", \"C\\u00f4te d'Ivoire\", \"Cameroon\", \"Democratic Republic of the Congo\", \"Congo\", \"Cook Islands\", \"Colombia\", \"Comoros\", \"Cape Verde\", \"Costa Rica\", \"Cuba\", \"Cyprus\", \"Czech Republic\", \"Germany\", \"Djibouti\", \"Dominica\", \"Denmark\", \"Dominican Republic\", \"Algeria\", \"Ecuador\", \"Egypt\", \"Eritrea\", \"Spain\", \"Estonia\", \"Ethiopia\", \"Finland\", \"Fiji\", \"France\", \"Micronesia\", \"Gabon\", \"United Kingdom\", \"Georgia\", \"Ghana\", \"Guinea\", \"Gambia\", \"Guinea-Bissau\", \"Equatorial Guinea\", \"Greece\", \"Grenada\", \"Guatemala\", \"Guyana\", \"Honduras\", \"Croatia\", \"Haiti\", \"Hungary\", \"Indonesia\", \"India\", \"Ireland\", \"Iran\", \"Iraq\", \"Iceland\", \"Israel\", \"Italy\", \"Jamaica\", \"Jordan\", \"Japan\", \"Kazakhstan\", \"Kenya\", \"Kyrgyzstan\", \"Cambodia\", \"South Korea\", \"Kuwait\", \"Laos\", \"Lebanon\", \"Liberia\", \"Libya\", \"Saint Lucia\", \"Sri Lanka\", \"Lesotho\", \"Lithuania\", \"Luxembourg\", \"Latvia\", \"Morocco\", \"Monaco\", \"Moldova\", \"Madagascar\", \"Maldives\", \"Mexico\", \"Marshall Islands\", \"Macedonia\", \"Mali\", \"Malta\", \"Myanmar\", \"Mongolia\", \"Mozambique\", \"Mauritania\", \"Mauritius\", \"Malawi\", \"Malaysia\", \"Namibia\", \"Niger\", \"Nigeria\", \"Nicaragua\", \"Niue\", \"Netherlands\", \"Norway\", \"Nepal\", \"Nauru\", \"New Zealand\", \"Oman\", \"Czechoslovakia\", \"East Germany\", \"West Germany\", \"Serbia and Montenegro\", \"USSR\", \"Yugoslavia\", \"Pakistan\", \"Panama\", \"Peru\", \"Philippines\", \"Palau\", \"Papua New Guinea\", \"Poland\", \"North Korea\", \"Portugal\", \"Paraguay\", \"Qatar\", \"Romania\", \"Russia\", \"Rwanda\", \"Saudi Arabia\", \"Sudan\", \"Senegal\", \"Singapore\", \"Solomon Islands\", \"Sierra Leone\", \"El Salvador\", \"San Marino\", \"Somalia\", \"Serbia\", \"Sao Tome and Principe\", \"Suriname\", \"Slovakia\", \"Slovenia\", \"Sweden\", \"Swaziland\", \"Seychelles\", \"Syria\", \"Chad\", \"Togo\", \"Thailand\", \"Tajikistan\", \"Turkmenistan\", \"Timor-Leste\", \"Tonga\", \"Trinidad and Tobago\", \"Tunisia\", \"Turkey\", \"Tuvalu\", \"Tanzania\", \"Uganda\", \"Ukraine\", \"Uruguay\", \"United States\", \"Uzbekistan\", \"Saint Vincent and the Grenadines\", \"Venezuela\", \"Vietnam\", \"Vanuatu\", \"Samoa\", \"Yemen\", \"South Africa\", \"Zambia\", \"Zimbabwe\"], \"colorscale\": [[0, \"rgb(255, 60, 20)\"], [0.25, \"rgb(255, 100, 20)\"], [0.5, \"rgb(255, 140, 20)\"], [0.75, \"rgb(255, 200, 20)\"], [1, \"rgb(225, 255, 150)\"]], \"autocolorscale\": false, \"reversescale\": true, \"marker\": {\"line\": {\"color\": \"rgb(240, 240, 240)\", \"width\": 1.5}}, \"colorbar\": {\"autotick\": false, \"title\": \"Suicide rate (per 100K)\"}}], {\"title\": \"Suicide rates average since the 90's\", \"geo\": {\"showframe\": false, \"showcoastlines\": false, \"projection\": {\"type\": \"Mercator\"}}}, {\"showLink\": true, \"linkText\": \"Export to plot.ly\"})});</script>"
      ]
     },
     "metadata": {},
     "output_type": "display_data"
    }
   ],
   "source": [
    "data = [ dict(\n",
    "        type = 'choropleth',\n",
    "        locations = mapSince1990['Code'],\n",
    "        z = mapSince1990['Total suicide rate'],\n",
    "        text = mapSince1990['Country'],\n",
    "        colorscale = [[0,\"rgb(255, 60, 20)\"],[0.25,\"rgb(255, 100, 20)\"],[0.5,\"rgb(255, 140, 20)\"],[0.75,\"rgb(255, 200, 20)\"],[1,\"rgb(225, 255, 150)\"]],\n",
    "        autocolorscale = False,\n",
    "        reversescale = True,\n",
    "        marker = dict(\n",
    "            line = dict (\n",
    "                color = 'rgb(240, 240, 240)',\n",
    "                width = 1.5\n",
    "            ) ),\n",
    "        colorbar = dict(\n",
    "            autotick = False,\n",
    "            title = 'Suicide rate (per 100K)'),\n",
    "      ) ]\n",
    "\n",
    "layout = dict(\n",
    "    title = 'Suicide rates average since the 90\\'s',\n",
    "    geo = dict(\n",
    "        showframe = False,\n",
    "        showcoastlines = False,\n",
    "        projection = dict(\n",
    "            type = 'Mercator'\n",
    "        )\n",
    "    )\n",
    "    \n",
    ")\n",
    "\n",
    "fig = dict( data=data, layout=layout )\n",
    "py.iplot( fig, validate=False, filename='world-countries.json')"
   ]
  },
  {
   "cell_type": "markdown",
   "metadata": {},
   "source": [
    "## <a id='5.5'>5.5 Top countries with the highest or lowest male-female ratio of suicide rates</a>"
   ]
  },
  {
   "cell_type": "code",
   "execution_count": 50,
   "metadata": {
    "collapsed": true
   },
   "outputs": [],
   "source": [
    "ratio2000 = suicides[mask2000][['Country', 'Male-Female ratio']].sort_values(by='Male-Female ratio', ascending=False)\n",
    "ratio2005 = suicides[mask2005][['Country', 'Male-Female ratio']].sort_values(by='Male-Female ratio', ascending=False)\n",
    "ratio2010 = suicides[mask2010][['Country', 'Male-Female ratio']].sort_values(by='Male-Female ratio', ascending=False)\n",
    "ratio2015 = suicides[mask2015][['Country', 'Male-Female ratio']].sort_values(by='Male-Female ratio', ascending=False)"
   ]
  },
  {
   "cell_type": "code",
   "execution_count": 51,
   "metadata": {
    "collapsed": true
   },
   "outputs": [],
   "source": [
    "ratio2000 = ratio2000.replace([0, np.inf], np.nan)\n",
    "ratio2005 = ratio2005.replace([0, np.inf], np.nan)\n",
    "ratio2010 = ratio2010.replace([0, np.inf], np.nan)\n",
    "ratio2015 = ratio2015.replace([0, np.inf], np.nan)"
   ]
  },
  {
   "cell_type": "code",
   "execution_count": 52,
   "metadata": {
    "collapsed": true
   },
   "outputs": [],
   "source": [
    "ratio2000 = ratio2000.dropna()\n",
    "ratio2005 = ratio2005.dropna()\n",
    "ratio2010 = ratio2010.dropna()\n",
    "ratio2015 = ratio2015.dropna()"
   ]
  },
  {
   "cell_type": "markdown",
   "metadata": {},
   "source": [
    "**Male-Female suicides ratio in 2015**"
   ]
  },
  {
   "cell_type": "code",
   "execution_count": 53,
   "metadata": {
    "scrolled": false
   },
   "outputs": [
    {
     "data": {
      "application/vnd.plotly.v1+json": {
       "data": [
        {
         "marker": {
          "color": "rgb(255, 210, 119)",
          "line": {
           "color": "rgb(206, 142, 12)",
           "width": 1.5
          }
         },
         "opacity": 0.6,
         "type": "bar",
         "x": [
          "Saint Vincent and the Grenadines",
          "Qatar",
          "Panama",
          "Jamaica",
          "Bahamas",
          "Seychelles",
          "Saint Lucia",
          "Rwanda",
          "Cyprus",
          "Slovakia",
          "Oman",
          "Costa Rica",
          "Poland",
          "Belarus",
          "Romania",
          "Latvia",
          "Moldova",
          "Russia",
          "Belize",
          "Mongolia",
          "Lithuania",
          "Trinidad and Tobago",
          "Georgia",
          "Venezuela",
          "Argentina",
          "Kazakhstan",
          "Malta",
          "Chile",
          "Colombia",
          "Czech Republic"
         ],
         "y": [
          12.25,
          9.444444444444445,
          9,
          8.666666666666668,
          8,
          7.809523809523808,
          7.624999999999999,
          7.3809523809523805,
          6.666666666666667,
          6.558823529411765,
          6.5,
          6.285714285714285,
          6.125,
          5.857142857142857,
          5.694444444444445,
          5.666666666666667,
          5.608695652173914,
          5.507692307692308,
          5.391304347826088,
          5.252747252747253,
          5.178571428571429,
          5.125000000000001,
          5,
          4.9,
          4.877551020408163,
          4.875,
          4.761904761904762,
          4.742857142857143,
          4.636363636363636,
          4.54
         ]
        }
       ],
       "layout": {
        "title": "Top countries with the highest male-female suicides ratio in 2015",
        "xaxis": {
         "title": "Countries"
        },
        "yaxis": {
         "title": "Male-Female suicide rate ratio"
        }
       }
      },
      "text/html": [
       "<div id=\"5c2f1f86-7014-40fa-920b-dc31de4d3476\" style=\"height: 525px; width: 100%;\" class=\"plotly-graph-div\"></div><script type=\"text/javascript\">require([\"plotly\"], function(Plotly) { window.PLOTLYENV=window.PLOTLYENV || {};window.PLOTLYENV.BASE_URL=\"https://plot.ly\";Plotly.newPlot(\"5c2f1f86-7014-40fa-920b-dc31de4d3476\", [{\"type\": \"bar\", \"x\": [\"Saint Vincent and the Grenadines\", \"Qatar\", \"Panama\", \"Jamaica\", \"Bahamas\", \"Seychelles\", \"Saint Lucia\", \"Rwanda\", \"Cyprus\", \"Slovakia\", \"Oman\", \"Costa Rica\", \"Poland\", \"Belarus\", \"Romania\", \"Latvia\", \"Moldova\", \"Russia\", \"Belize\", \"Mongolia\", \"Lithuania\", \"Trinidad and Tobago\", \"Georgia\", \"Venezuela\", \"Argentina\", \"Kazakhstan\", \"Malta\", \"Chile\", \"Colombia\", \"Czech Republic\"], \"y\": [12.25, 9.444444444444445, 9.0, 8.666666666666668, 8.0, 7.809523809523808, 7.624999999999999, 7.3809523809523805, 6.666666666666667, 6.558823529411765, 6.5, 6.285714285714285, 6.125, 5.857142857142857, 5.694444444444445, 5.666666666666667, 5.608695652173914, 5.507692307692308, 5.391304347826088, 5.252747252747253, 5.178571428571429, 5.125000000000001, 5.0, 4.9, 4.877551020408163, 4.875, 4.761904761904762, 4.742857142857143, 4.636363636363636, 4.54], \"marker\": {\"color\": \"rgb(255, 210, 119)\", \"line\": {\"color\": \"rgb(206, 142, 12)\", \"width\": 1.5}}, \"opacity\": 0.6}], {\"title\": \"Top countries with the highest male-female suicides ratio in 2015\", \"xaxis\": {\"title\": \"Countries\"}, \"yaxis\": {\"title\": \"Male-Female suicide rate ratio\"}}, {\"showLink\": true, \"linkText\": \"Export to plot.ly\"})});</script>"
      ],
      "text/vnd.plotly.v1+html": [
       "<div id=\"5c2f1f86-7014-40fa-920b-dc31de4d3476\" style=\"height: 525px; width: 100%;\" class=\"plotly-graph-div\"></div><script type=\"text/javascript\">require([\"plotly\"], function(Plotly) { window.PLOTLYENV=window.PLOTLYENV || {};window.PLOTLYENV.BASE_URL=\"https://plot.ly\";Plotly.newPlot(\"5c2f1f86-7014-40fa-920b-dc31de4d3476\", [{\"type\": \"bar\", \"x\": [\"Saint Vincent and the Grenadines\", \"Qatar\", \"Panama\", \"Jamaica\", \"Bahamas\", \"Seychelles\", \"Saint Lucia\", \"Rwanda\", \"Cyprus\", \"Slovakia\", \"Oman\", \"Costa Rica\", \"Poland\", \"Belarus\", \"Romania\", \"Latvia\", \"Moldova\", \"Russia\", \"Belize\", \"Mongolia\", \"Lithuania\", \"Trinidad and Tobago\", \"Georgia\", \"Venezuela\", \"Argentina\", \"Kazakhstan\", \"Malta\", \"Chile\", \"Colombia\", \"Czech Republic\"], \"y\": [12.25, 9.444444444444445, 9.0, 8.666666666666668, 8.0, 7.809523809523808, 7.624999999999999, 7.3809523809523805, 6.666666666666667, 6.558823529411765, 6.5, 6.285714285714285, 6.125, 5.857142857142857, 5.694444444444445, 5.666666666666667, 5.608695652173914, 5.507692307692308, 5.391304347826088, 5.252747252747253, 5.178571428571429, 5.125000000000001, 5.0, 4.9, 4.877551020408163, 4.875, 4.761904761904762, 4.742857142857143, 4.636363636363636, 4.54], \"marker\": {\"color\": \"rgb(255, 210, 119)\", \"line\": {\"color\": \"rgb(206, 142, 12)\", \"width\": 1.5}}, \"opacity\": 0.6}], {\"title\": \"Top countries with the highest male-female suicides ratio in 2015\", \"xaxis\": {\"title\": \"Countries\"}, \"yaxis\": {\"title\": \"Male-Female suicide rate ratio\"}}, {\"showLink\": true, \"linkText\": \"Export to plot.ly\"})});</script>"
      ]
     },
     "metadata": {},
     "output_type": "display_data"
    }
   ],
   "source": [
    "data = [go.Bar(\n",
    "    x = ratio2015['Country'].head(30),\n",
    "    y = ratio2015['Male-Female ratio'].head(30),\n",
    "    marker=dict(color='rgb(255, 210, 119)', line=dict(color='rgb(206, 142, 12)', width=1.5)),opacity=0.6 \n",
    ")]\n",
    "\n",
    "layout = go.Layout(\n",
    "    title='Top countries with the highest male-female suicides ratio in 2015',\n",
    "    xaxis={'title':'Countries'},\n",
    "    yaxis={'title':'Male-Female suicide rate ratio'}\n",
    ")\n",
    "\n",
    "fig = go.Figure(data=data, layout=layout)\n",
    "py.iplot(fig, filename='basic-bar')"
   ]
  },
  {
   "cell_type": "markdown",
   "metadata": {},
   "source": [
    "**Top 5 Countries with the highest male-female suicides ratio in 2015:**\n",
    "* Saint Vincer - 12.25\n",
    "* Qatar - 9.44\n",
    "* Panama - 9\n",
    "* Jamaica - 8.66\n",
    "* The Bahamas - 8"
   ]
  },
  {
   "cell_type": "code",
   "execution_count": 54,
   "metadata": {},
   "outputs": [
    {
     "data": {
      "application/vnd.plotly.v1+json": {
       "data": [
        {
         "marker": {
          "color": "rgb(198, 141, 227)",
          "line": {
           "color": "rgb(127, 20, 181)",
           "width": 1.5
          }
         },
         "opacity": 0.6,
         "type": "bar",
         "x": [
          "Timor-Leste",
          "Gambia",
          "Niger",
          "Netherlands",
          "Luxembourg",
          "Mali",
          "Barbados",
          "Cambodia",
          "Lebanon",
          "Burkina Faso",
          "Morocco",
          "Bolivia",
          "Comoros",
          "Honduras",
          "Yemen",
          "Brunei",
          "Myanmar",
          "Laos",
          "Maldives",
          "Iran",
          "Tunisia",
          "Bhutan",
          "Tonga",
          "Iraq",
          "India",
          "Nepal",
          "Pakistan",
          "North Korea",
          "China",
          "Bangladesh"
         ],
         "y": [
          2.065217391304348,
          2.048780487804878,
          2.0370370370370368,
          2,
          2,
          2,
          2,
          1.9753086419753088,
          1.952380952380952,
          1.9365079365079365,
          1.9090909090909092,
          1.8549618320610688,
          1.846153846153846,
          1.8399999999999999,
          1.8275862068965518,
          1.777777777777778,
          1.6875,
          1.673913043478261,
          1.621212121212121,
          1.5357142857142858,
          1.477272727272727,
          1.4574468085106382,
          1.4137931034482758,
          1.259259259259259,
          1.1958041958041958,
          1.1818181818181819,
          1.1,
          1.0584415584415585,
          0.7565217391304347,
          0.7076923076923076
         ]
        }
       ],
       "layout": {
        "title": "Top countries with the lowest male-female suicides ratio in 2015",
        "xaxis": {
         "title": "Countries"
        },
        "yaxis": {
         "title": "Male-Female suicide rate ratio"
        }
       }
      },
      "text/html": [
       "<div id=\"f9ab66c8-0d1f-4327-93a0-3939d7942cc2\" style=\"height: 525px; width: 100%;\" class=\"plotly-graph-div\"></div><script type=\"text/javascript\">require([\"plotly\"], function(Plotly) { window.PLOTLYENV=window.PLOTLYENV || {};window.PLOTLYENV.BASE_URL=\"https://plot.ly\";Plotly.newPlot(\"f9ab66c8-0d1f-4327-93a0-3939d7942cc2\", [{\"type\": \"bar\", \"x\": [\"Timor-Leste\", \"Gambia\", \"Niger\", \"Netherlands\", \"Luxembourg\", \"Mali\", \"Barbados\", \"Cambodia\", \"Lebanon\", \"Burkina Faso\", \"Morocco\", \"Bolivia\", \"Comoros\", \"Honduras\", \"Yemen\", \"Brunei\", \"Myanmar\", \"Laos\", \"Maldives\", \"Iran\", \"Tunisia\", \"Bhutan\", \"Tonga\", \"Iraq\", \"India\", \"Nepal\", \"Pakistan\", \"North Korea\", \"China\", \"Bangladesh\"], \"y\": [2.065217391304348, 2.048780487804878, 2.0370370370370368, 2.0, 2.0, 2.0, 2.0, 1.9753086419753088, 1.952380952380952, 1.9365079365079365, 1.9090909090909092, 1.8549618320610688, 1.846153846153846, 1.8399999999999999, 1.8275862068965518, 1.777777777777778, 1.6875, 1.673913043478261, 1.621212121212121, 1.5357142857142858, 1.477272727272727, 1.4574468085106382, 1.4137931034482758, 1.259259259259259, 1.1958041958041958, 1.1818181818181819, 1.1, 1.0584415584415585, 0.7565217391304347, 0.7076923076923076], \"marker\": {\"color\": \"rgb(198, 141, 227)\", \"line\": {\"color\": \"rgb(127, 20, 181)\", \"width\": 1.5}}, \"opacity\": 0.6}], {\"title\": \"Top countries with the lowest male-female suicides ratio in 2015\", \"xaxis\": {\"title\": \"Countries\"}, \"yaxis\": {\"title\": \"Male-Female suicide rate ratio\"}}, {\"showLink\": true, \"linkText\": \"Export to plot.ly\"})});</script>"
      ],
      "text/vnd.plotly.v1+html": [
       "<div id=\"f9ab66c8-0d1f-4327-93a0-3939d7942cc2\" style=\"height: 525px; width: 100%;\" class=\"plotly-graph-div\"></div><script type=\"text/javascript\">require([\"plotly\"], function(Plotly) { window.PLOTLYENV=window.PLOTLYENV || {};window.PLOTLYENV.BASE_URL=\"https://plot.ly\";Plotly.newPlot(\"f9ab66c8-0d1f-4327-93a0-3939d7942cc2\", [{\"type\": \"bar\", \"x\": [\"Timor-Leste\", \"Gambia\", \"Niger\", \"Netherlands\", \"Luxembourg\", \"Mali\", \"Barbados\", \"Cambodia\", \"Lebanon\", \"Burkina Faso\", \"Morocco\", \"Bolivia\", \"Comoros\", \"Honduras\", \"Yemen\", \"Brunei\", \"Myanmar\", \"Laos\", \"Maldives\", \"Iran\", \"Tunisia\", \"Bhutan\", \"Tonga\", \"Iraq\", \"India\", \"Nepal\", \"Pakistan\", \"North Korea\", \"China\", \"Bangladesh\"], \"y\": [2.065217391304348, 2.048780487804878, 2.0370370370370368, 2.0, 2.0, 2.0, 2.0, 1.9753086419753088, 1.952380952380952, 1.9365079365079365, 1.9090909090909092, 1.8549618320610688, 1.846153846153846, 1.8399999999999999, 1.8275862068965518, 1.777777777777778, 1.6875, 1.673913043478261, 1.621212121212121, 1.5357142857142858, 1.477272727272727, 1.4574468085106382, 1.4137931034482758, 1.259259259259259, 1.1958041958041958, 1.1818181818181819, 1.1, 1.0584415584415585, 0.7565217391304347, 0.7076923076923076], \"marker\": {\"color\": \"rgb(198, 141, 227)\", \"line\": {\"color\": \"rgb(127, 20, 181)\", \"width\": 1.5}}, \"opacity\": 0.6}], {\"title\": \"Top countries with the lowest male-female suicides ratio in 2015\", \"xaxis\": {\"title\": \"Countries\"}, \"yaxis\": {\"title\": \"Male-Female suicide rate ratio\"}}, {\"showLink\": true, \"linkText\": \"Export to plot.ly\"})});</script>"
      ]
     },
     "metadata": {},
     "output_type": "display_data"
    }
   ],
   "source": [
    "data = [go.Bar(\n",
    "    x = ratio2015['Country'].tail(30),\n",
    "    y = ratio2015['Male-Female ratio'].tail(30),\n",
    "    marker=dict(color='rgb(198, 141, 227)', line=dict(color='rgb(127, 20, 181)', width=1.5)),opacity=0.6 \n",
    ")]\n",
    "\n",
    "layout = go.Layout(\n",
    "    title='Top countries with the lowest male-female suicides ratio in 2015',\n",
    "    xaxis={'title':'Countries'},\n",
    "    yaxis={'title':'Male-Female suicide rate ratio'}\n",
    ")\n",
    "\n",
    "fig = go.Figure(data=data, layout=layout)\n",
    "py.iplot(fig, filename='basic-bar')"
   ]
  },
  {
   "cell_type": "markdown",
   "metadata": {},
   "source": [
    "**Top 5 Countries with the lowest male-female suicides ratio in 2015:**\n",
    "* Bangladesh - 0.7 (Meaning the female-male ratio is 1.42)\n",
    "* China - 0.756 (Female-male ratio is 1.32)\n",
    "* North Korea - 1.06\n",
    "* Pakistan - 1.1\n",
    "* Nepal - 1.18\n",
    "\n",
    "We see that only two countries in the world have a male-female ratio which is below 1, meaning that the female suicide rate is higher than the male suicide rate.\n",
    "\n",
    "We also see that North Korea has one of the lowest male-female ratio in the world. We've seen earlier that North Korea also has one of the highest females suicide rate in the world."
   ]
  },
  {
   "cell_type": "markdown",
   "metadata": {},
   "source": [
    "**Male-Female suicides ratio in 2010**"
   ]
  },
  {
   "cell_type": "code",
   "execution_count": 55,
   "metadata": {},
   "outputs": [
    {
     "data": {
      "application/vnd.plotly.v1+json": {
       "data": [
        {
         "marker": {
          "color": "rgb(255, 210, 119)",
          "line": {
           "color": "rgb(206, 142, 12)",
           "width": 1.5
          }
         },
         "opacity": 0.6,
         "type": "bar",
         "x": [
          "Qatar",
          "Saint Vincent and the Grenadines",
          "Seychelles",
          "Malta",
          "Rwanda",
          "Latvia",
          "Poland",
          "Oman",
          "Panama",
          "Costa Rica",
          "Slovakia",
          "Moldova",
          "Belarus",
          "Ukraine",
          "Russia",
          "Colombia",
          "Saint Lucia",
          "Lithuania",
          "Romania",
          "Dominican Republic",
          "Czech Republic",
          "Georgia",
          "Kazakhstan",
          "Mongolia",
          "Estonia",
          "Barbados",
          "Chile",
          "Israel",
          "Argentina",
          "Jamaica"
         ],
         "y": [
          9,
          8.5,
          8,
          7.8235294117647065,
          7.217391304347827,
          7.114754098360656,
          6.7377049180327875,
          6.727272727272727,
          6.666666666666667,
          6.59090909090909,
          6.102564102564103,
          5.868852459016393,
          5.670454545454545,
          5.418918918918918,
          5.364705882352942,
          5.227272727272727,
          5.190476190476191,
          5.11965811965812,
          5.085106382978723,
          5,
          4.980392156862745,
          4.909090909090909,
          4.870967741935483,
          4.807017543859649,
          4.731343283582089,
          4.666666666666667,
          4.627906976744186,
          4.5600000000000005,
          4.553191489361701,
          4.5
         ]
        }
       ],
       "layout": {
        "title": "Top countries with the highest male-female suicides ratio in 2010",
        "xaxis": {
         "title": "Countries"
        },
        "yaxis": {
         "title": "Male-Female suicide rate ratio"
        }
       }
      },
      "text/html": [
       "<div id=\"e21590f5-f53a-428a-afbc-29db076bd271\" style=\"height: 525px; width: 100%;\" class=\"plotly-graph-div\"></div><script type=\"text/javascript\">require([\"plotly\"], function(Plotly) { window.PLOTLYENV=window.PLOTLYENV || {};window.PLOTLYENV.BASE_URL=\"https://plot.ly\";Plotly.newPlot(\"e21590f5-f53a-428a-afbc-29db076bd271\", [{\"type\": \"bar\", \"x\": [\"Qatar\", \"Saint Vincent and the Grenadines\", \"Seychelles\", \"Malta\", \"Rwanda\", \"Latvia\", \"Poland\", \"Oman\", \"Panama\", \"Costa Rica\", \"Slovakia\", \"Moldova\", \"Belarus\", \"Ukraine\", \"Russia\", \"Colombia\", \"Saint Lucia\", \"Lithuania\", \"Romania\", \"Dominican Republic\", \"Czech Republic\", \"Georgia\", \"Kazakhstan\", \"Mongolia\", \"Estonia\", \"Barbados\", \"Chile\", \"Israel\", \"Argentina\", \"Jamaica\"], \"y\": [9.0, 8.5, 8.0, 7.8235294117647065, 7.217391304347827, 7.114754098360656, 6.7377049180327875, 6.727272727272727, 6.666666666666667, 6.59090909090909, 6.102564102564103, 5.868852459016393, 5.670454545454545, 5.418918918918918, 5.364705882352942, 5.227272727272727, 5.190476190476191, 5.11965811965812, 5.085106382978723, 5.0, 4.980392156862745, 4.909090909090909, 4.870967741935483, 4.807017543859649, 4.731343283582089, 4.666666666666667, 4.627906976744186, 4.5600000000000005, 4.553191489361701, 4.5], \"marker\": {\"color\": \"rgb(255, 210, 119)\", \"line\": {\"color\": \"rgb(206, 142, 12)\", \"width\": 1.5}}, \"opacity\": 0.6}], {\"title\": \"Top countries with the highest male-female suicides ratio in 2010\", \"xaxis\": {\"title\": \"Countries\"}, \"yaxis\": {\"title\": \"Male-Female suicide rate ratio\"}}, {\"showLink\": true, \"linkText\": \"Export to plot.ly\"})});</script>"
      ],
      "text/vnd.plotly.v1+html": [
       "<div id=\"e21590f5-f53a-428a-afbc-29db076bd271\" style=\"height: 525px; width: 100%;\" class=\"plotly-graph-div\"></div><script type=\"text/javascript\">require([\"plotly\"], function(Plotly) { window.PLOTLYENV=window.PLOTLYENV || {};window.PLOTLYENV.BASE_URL=\"https://plot.ly\";Plotly.newPlot(\"e21590f5-f53a-428a-afbc-29db076bd271\", [{\"type\": \"bar\", \"x\": [\"Qatar\", \"Saint Vincent and the Grenadines\", \"Seychelles\", \"Malta\", \"Rwanda\", \"Latvia\", \"Poland\", \"Oman\", \"Panama\", \"Costa Rica\", \"Slovakia\", \"Moldova\", \"Belarus\", \"Ukraine\", \"Russia\", \"Colombia\", \"Saint Lucia\", \"Lithuania\", \"Romania\", \"Dominican Republic\", \"Czech Republic\", \"Georgia\", \"Kazakhstan\", \"Mongolia\", \"Estonia\", \"Barbados\", \"Chile\", \"Israel\", \"Argentina\", \"Jamaica\"], \"y\": [9.0, 8.5, 8.0, 7.8235294117647065, 7.217391304347827, 7.114754098360656, 6.7377049180327875, 6.727272727272727, 6.666666666666667, 6.59090909090909, 6.102564102564103, 5.868852459016393, 5.670454545454545, 5.418918918918918, 5.364705882352942, 5.227272727272727, 5.190476190476191, 5.11965811965812, 5.085106382978723, 5.0, 4.980392156862745, 4.909090909090909, 4.870967741935483, 4.807017543859649, 4.731343283582089, 4.666666666666667, 4.627906976744186, 4.5600000000000005, 4.553191489361701, 4.5], \"marker\": {\"color\": \"rgb(255, 210, 119)\", \"line\": {\"color\": \"rgb(206, 142, 12)\", \"width\": 1.5}}, \"opacity\": 0.6}], {\"title\": \"Top countries with the highest male-female suicides ratio in 2010\", \"xaxis\": {\"title\": \"Countries\"}, \"yaxis\": {\"title\": \"Male-Female suicide rate ratio\"}}, {\"showLink\": true, \"linkText\": \"Export to plot.ly\"})});</script>"
      ]
     },
     "metadata": {},
     "output_type": "display_data"
    }
   ],
   "source": [
    "data = [go.Bar(\n",
    "    x = ratio2010['Country'].head(30),\n",
    "    y = ratio2010['Male-Female ratio'].head(30),\n",
    "    marker=dict(color='rgb(255, 210, 119)', line=dict(color='rgb(206, 142, 12)', width=1.5)),opacity=0.6 \n",
    ")]\n",
    "\n",
    "layout = go.Layout(\n",
    "    title='Top countries with the highest male-female suicides ratio in 2010',\n",
    "    xaxis={'title':'Countries'},\n",
    "    yaxis={'title':'Male-Female suicide rate ratio'}\n",
    ")\n",
    "\n",
    "fig = go.Figure(data=data, layout=layout)\n",
    "py.iplot(fig, filename='basic-bar')"
   ]
  },
  {
   "cell_type": "markdown",
   "metadata": {},
   "source": [
    "**Top 5 Countries with the highest male-female suicides ratio in 2010:**\n",
    "* Qatar - 9\n",
    "* Saint Vincer - 8.5\n",
    "* Seychelles - 8\n",
    "* Malta - 7.82\n",
    "* Rwanda - 7.21"
   ]
  },
  {
   "cell_type": "code",
   "execution_count": 56,
   "metadata": {},
   "outputs": [
    {
     "data": {
      "application/vnd.plotly.v1+json": {
       "data": [
        {
         "marker": {
          "color": "rgb(198, 141, 227)",
          "line": {
           "color": "rgb(127, 20, 181)",
           "width": 1.5
          }
         },
         "opacity": 0.6,
         "type": "bar",
         "x": [
          "Mali",
          "Micronesia",
          "Djibouti",
          "Norway",
          "Paraguay",
          "South Korea",
          "Cape Verde",
          "Yemen",
          "Morocco",
          "Niger",
          "Singapore",
          "Honduras",
          "Bolivia",
          "Lebanon",
          "Comoros",
          "Iran",
          "Cambodia",
          "Laos",
          "Tunisia",
          "Myanmar",
          "Tonga",
          "Maldives",
          "Bhutan",
          "Iraq",
          "Nepal",
          "India",
          "North Korea",
          "Pakistan",
          "China",
          "Bangladesh"
         ],
         "y": [
          2.0789473684210527,
          2.0694444444444446,
          2.058823529411765,
          2.051948051948052,
          2,
          1.9868995633187774,
          1.95,
          1.9137931034482758,
          1.8918918918918919,
          1.8484848484848484,
          1.84,
          1.8148148148148149,
          1.8082191780821917,
          1.8,
          1.8,
          1.75,
          1.7349397590361444,
          1.5742574257425743,
          1.5609756097560978,
          1.5517241379310345,
          1.4333333333333333,
          1.4320987654320987,
          1.404255319148936,
          1.2608695652173914,
          1.129032258064516,
          1.125,
          1.0212765957446808,
          1,
          0.7500000000000001,
          0.5365853658536587
         ]
        }
       ],
       "layout": {
        "title": "Top countries with the lowest male-female suicides ratio in 2010",
        "xaxis": {
         "title": "Countries"
        },
        "yaxis": {
         "title": "Male-Female suicide rate ratio"
        }
       }
      },
      "text/html": [
       "<div id=\"60d5329e-68a4-4d80-8092-2690c3414307\" style=\"height: 525px; width: 100%;\" class=\"plotly-graph-div\"></div><script type=\"text/javascript\">require([\"plotly\"], function(Plotly) { window.PLOTLYENV=window.PLOTLYENV || {};window.PLOTLYENV.BASE_URL=\"https://plot.ly\";Plotly.newPlot(\"60d5329e-68a4-4d80-8092-2690c3414307\", [{\"type\": \"bar\", \"x\": [\"Mali\", \"Micronesia\", \"Djibouti\", \"Norway\", \"Paraguay\", \"South Korea\", \"Cape Verde\", \"Yemen\", \"Morocco\", \"Niger\", \"Singapore\", \"Honduras\", \"Bolivia\", \"Lebanon\", \"Comoros\", \"Iran\", \"Cambodia\", \"Laos\", \"Tunisia\", \"Myanmar\", \"Tonga\", \"Maldives\", \"Bhutan\", \"Iraq\", \"Nepal\", \"India\", \"North Korea\", \"Pakistan\", \"China\", \"Bangladesh\"], \"y\": [2.0789473684210527, 2.0694444444444446, 2.058823529411765, 2.051948051948052, 2.0, 1.9868995633187774, 1.95, 1.9137931034482758, 1.8918918918918919, 1.8484848484848484, 1.84, 1.8148148148148149, 1.8082191780821917, 1.8, 1.8, 1.75, 1.7349397590361444, 1.5742574257425743, 1.5609756097560978, 1.5517241379310345, 1.4333333333333333, 1.4320987654320987, 1.404255319148936, 1.2608695652173914, 1.129032258064516, 1.125, 1.0212765957446808, 1.0, 0.7500000000000001, 0.5365853658536587], \"marker\": {\"color\": \"rgb(198, 141, 227)\", \"line\": {\"color\": \"rgb(127, 20, 181)\", \"width\": 1.5}}, \"opacity\": 0.6}], {\"title\": \"Top countries with the lowest male-female suicides ratio in 2010\", \"xaxis\": {\"title\": \"Countries\"}, \"yaxis\": {\"title\": \"Male-Female suicide rate ratio\"}}, {\"showLink\": true, \"linkText\": \"Export to plot.ly\"})});</script>"
      ],
      "text/vnd.plotly.v1+html": [
       "<div id=\"60d5329e-68a4-4d80-8092-2690c3414307\" style=\"height: 525px; width: 100%;\" class=\"plotly-graph-div\"></div><script type=\"text/javascript\">require([\"plotly\"], function(Plotly) { window.PLOTLYENV=window.PLOTLYENV || {};window.PLOTLYENV.BASE_URL=\"https://plot.ly\";Plotly.newPlot(\"60d5329e-68a4-4d80-8092-2690c3414307\", [{\"type\": \"bar\", \"x\": [\"Mali\", \"Micronesia\", \"Djibouti\", \"Norway\", \"Paraguay\", \"South Korea\", \"Cape Verde\", \"Yemen\", \"Morocco\", \"Niger\", \"Singapore\", \"Honduras\", \"Bolivia\", \"Lebanon\", \"Comoros\", \"Iran\", \"Cambodia\", \"Laos\", \"Tunisia\", \"Myanmar\", \"Tonga\", \"Maldives\", \"Bhutan\", \"Iraq\", \"Nepal\", \"India\", \"North Korea\", \"Pakistan\", \"China\", \"Bangladesh\"], \"y\": [2.0789473684210527, 2.0694444444444446, 2.058823529411765, 2.051948051948052, 2.0, 1.9868995633187774, 1.95, 1.9137931034482758, 1.8918918918918919, 1.8484848484848484, 1.84, 1.8148148148148149, 1.8082191780821917, 1.8, 1.8, 1.75, 1.7349397590361444, 1.5742574257425743, 1.5609756097560978, 1.5517241379310345, 1.4333333333333333, 1.4320987654320987, 1.404255319148936, 1.2608695652173914, 1.129032258064516, 1.125, 1.0212765957446808, 1.0, 0.7500000000000001, 0.5365853658536587], \"marker\": {\"color\": \"rgb(198, 141, 227)\", \"line\": {\"color\": \"rgb(127, 20, 181)\", \"width\": 1.5}}, \"opacity\": 0.6}], {\"title\": \"Top countries with the lowest male-female suicides ratio in 2010\", \"xaxis\": {\"title\": \"Countries\"}, \"yaxis\": {\"title\": \"Male-Female suicide rate ratio\"}}, {\"showLink\": true, \"linkText\": \"Export to plot.ly\"})});</script>"
      ]
     },
     "metadata": {},
     "output_type": "display_data"
    }
   ],
   "source": [
    "data = [go.Bar(\n",
    "    x = ratio2010['Country'].tail(30),\n",
    "    y = ratio2010['Male-Female ratio'].tail(30),\n",
    "    marker=dict(color='rgb(198, 141, 227)', line=dict(color='rgb(127, 20, 181)', width=1.5)),opacity=0.6 \n",
    ")]\n",
    "\n",
    "layout = go.Layout(\n",
    "    title='Top countries with the lowest male-female suicides ratio in 2010',\n",
    "    xaxis={'title':'Countries'},\n",
    "    yaxis={'title':'Male-Female suicide rate ratio'}\n",
    ")\n",
    "\n",
    "fig = go.Figure(data=data, layout=layout)\n",
    "py.iplot(fig, filename='basic-bar')"
   ]
  },
  {
   "cell_type": "markdown",
   "metadata": {},
   "source": [
    "**Top 5 Countries with the lowest male-female suicides ratio in 2010:**\n",
    "* Bangladesh - 0.53 (Female-male ratio is 1.89)\n",
    "* China - 0.75 (Female-male ratio is 1.33)\n",
    "* Pakistan - 1\n",
    "* North Korea - 1.02\n",
    "* India - 1.125\n",
    "\n",
    "Pakistan's male-female suicide rate ratio is 1. That means the males suicide rate and the females suicide rate are roughly equal."
   ]
  },
  {
   "cell_type": "markdown",
   "metadata": {},
   "source": [
    "**Male-Female suicides ratio in 2005**"
   ]
  },
  {
   "cell_type": "code",
   "execution_count": 57,
   "metadata": {
    "scrolled": false
   },
   "outputs": [
    {
     "data": {
      "application/vnd.plotly.v1+json": {
       "data": [
        {
         "marker": {
          "color": "rgb(255, 210, 119)",
          "line": {
           "color": "rgb(206, 142, 12)",
           "width": 1.5
          }
         },
         "opacity": 0.6,
         "type": "bar",
         "x": [
          "Barbados",
          "Belize",
          "Seychelles",
          "Rwanda",
          "Grenada",
          "Slovakia",
          "Poland",
          "Panama",
          "Qatar",
          "Ukraine",
          "Dominican Republic",
          "Costa Rica",
          "Oman",
          "Kazakhstan",
          "Russia",
          "Bahamas",
          "Moldova",
          "Belarus",
          "Lithuania",
          "Mongolia",
          "Venezuela",
          "Chile",
          "Saint Vincent and the Grenadines",
          "Estonia",
          "Kyrgyzstan",
          "Mexico",
          "Romania",
          "Czech Republic",
          "Latvia",
          "Suriname"
         ],
         "y": [
          9,
          8.181818181818182,
          7.952380952380952,
          7.916666666666667,
          7.666666666666666,
          6.394736842105264,
          6.387096774193548,
          6.368421052631579,
          6.125,
          5.8625,
          5.653846153846153,
          5.6521739130434785,
          5.636363636363636,
          5.589473684210526,
          5.537037037037036,
          5.5,
          5.40625,
          5.3,
          5.268115942028985,
          5.2254901960784315,
          5.166666666666667,
          5.147058823529412,
          5.0344827586206895,
          4.776470588235294,
          4.736842105263158,
          4.714285714285714,
          4.704545454545454,
          4.525423728813559,
          4.523809523809524,
          4.446601941747573
         ]
        }
       ],
       "layout": {
        "title": "Top countries with the highest male-female suicides ratio in 2005",
        "xaxis": {
         "title": "Countries"
        },
        "yaxis": {
         "title": "Male-Female suicide rate ratio"
        }
       }
      },
      "text/html": [
       "<div id=\"c0f78edc-57df-4fa5-b629-255ec333b409\" style=\"height: 525px; width: 100%;\" class=\"plotly-graph-div\"></div><script type=\"text/javascript\">require([\"plotly\"], function(Plotly) { window.PLOTLYENV=window.PLOTLYENV || {};window.PLOTLYENV.BASE_URL=\"https://plot.ly\";Plotly.newPlot(\"c0f78edc-57df-4fa5-b629-255ec333b409\", [{\"type\": \"bar\", \"x\": [\"Barbados\", \"Belize\", \"Seychelles\", \"Rwanda\", \"Grenada\", \"Slovakia\", \"Poland\", \"Panama\", \"Qatar\", \"Ukraine\", \"Dominican Republic\", \"Costa Rica\", \"Oman\", \"Kazakhstan\", \"Russia\", \"Bahamas\", \"Moldova\", \"Belarus\", \"Lithuania\", \"Mongolia\", \"Venezuela\", \"Chile\", \"Saint Vincent and the Grenadines\", \"Estonia\", \"Kyrgyzstan\", \"Mexico\", \"Romania\", \"Czech Republic\", \"Latvia\", \"Suriname\"], \"y\": [9.0, 8.181818181818182, 7.952380952380952, 7.916666666666667, 7.666666666666666, 6.394736842105264, 6.387096774193548, 6.368421052631579, 6.125, 5.8625, 5.653846153846153, 5.6521739130434785, 5.636363636363636, 5.589473684210526, 5.537037037037036, 5.5, 5.40625, 5.3, 5.268115942028985, 5.2254901960784315, 5.166666666666667, 5.147058823529412, 5.0344827586206895, 4.776470588235294, 4.736842105263158, 4.714285714285714, 4.704545454545454, 4.525423728813559, 4.523809523809524, 4.446601941747573], \"marker\": {\"color\": \"rgb(255, 210, 119)\", \"line\": {\"color\": \"rgb(206, 142, 12)\", \"width\": 1.5}}, \"opacity\": 0.6}], {\"title\": \"Top countries with the highest male-female suicides ratio in 2005\", \"xaxis\": {\"title\": \"Countries\"}, \"yaxis\": {\"title\": \"Male-Female suicide rate ratio\"}}, {\"showLink\": true, \"linkText\": \"Export to plot.ly\"})});</script>"
      ],
      "text/vnd.plotly.v1+html": [
       "<div id=\"c0f78edc-57df-4fa5-b629-255ec333b409\" style=\"height: 525px; width: 100%;\" class=\"plotly-graph-div\"></div><script type=\"text/javascript\">require([\"plotly\"], function(Plotly) { window.PLOTLYENV=window.PLOTLYENV || {};window.PLOTLYENV.BASE_URL=\"https://plot.ly\";Plotly.newPlot(\"c0f78edc-57df-4fa5-b629-255ec333b409\", [{\"type\": \"bar\", \"x\": [\"Barbados\", \"Belize\", \"Seychelles\", \"Rwanda\", \"Grenada\", \"Slovakia\", \"Poland\", \"Panama\", \"Qatar\", \"Ukraine\", \"Dominican Republic\", \"Costa Rica\", \"Oman\", \"Kazakhstan\", \"Russia\", \"Bahamas\", \"Moldova\", \"Belarus\", \"Lithuania\", \"Mongolia\", \"Venezuela\", \"Chile\", \"Saint Vincent and the Grenadines\", \"Estonia\", \"Kyrgyzstan\", \"Mexico\", \"Romania\", \"Czech Republic\", \"Latvia\", \"Suriname\"], \"y\": [9.0, 8.181818181818182, 7.952380952380952, 7.916666666666667, 7.666666666666666, 6.394736842105264, 6.387096774193548, 6.368421052631579, 6.125, 5.8625, 5.653846153846153, 5.6521739130434785, 5.636363636363636, 5.589473684210526, 5.537037037037036, 5.5, 5.40625, 5.3, 5.268115942028985, 5.2254901960784315, 5.166666666666667, 5.147058823529412, 5.0344827586206895, 4.776470588235294, 4.736842105263158, 4.714285714285714, 4.704545454545454, 4.525423728813559, 4.523809523809524, 4.446601941747573], \"marker\": {\"color\": \"rgb(255, 210, 119)\", \"line\": {\"color\": \"rgb(206, 142, 12)\", \"width\": 1.5}}, \"opacity\": 0.6}], {\"title\": \"Top countries with the highest male-female suicides ratio in 2005\", \"xaxis\": {\"title\": \"Countries\"}, \"yaxis\": {\"title\": \"Male-Female suicide rate ratio\"}}, {\"showLink\": true, \"linkText\": \"Export to plot.ly\"})});</script>"
      ]
     },
     "metadata": {},
     "output_type": "display_data"
    }
   ],
   "source": [
    "data = [go.Bar(\n",
    "    x = ratio2005['Country'].head(30),\n",
    "    y = ratio2005['Male-Female ratio'].head(30),\n",
    "    marker=dict(color='rgb(255, 210, 119)', line=dict(color='rgb(206, 142, 12)', width=1.5)),opacity=0.6 \n",
    ")]\n",
    "\n",
    "layout = go.Layout(\n",
    "    title='Top countries with the highest male-female suicides ratio in 2005',\n",
    "    xaxis={'title':'Countries'},\n",
    "    yaxis={'title':'Male-Female suicide rate ratio'}\n",
    ")\n",
    "\n",
    "fig = go.Figure(data=data, layout=layout)\n",
    "py.iplot(fig, filename='basic-bar')"
   ]
  },
  {
   "cell_type": "markdown",
   "metadata": {},
   "source": [
    "**Top 5 Countries with the highest male-female suicides ratio in 2005:**\n",
    "* Barbados - 9\n",
    "* Belize - 8.18\n",
    "* Seychelles - 7.95\n",
    "* Rwanda - 7.92\n",
    "* Grenada - 7.66"
   ]
  },
  {
   "cell_type": "code",
   "execution_count": 58,
   "metadata": {},
   "outputs": [
    {
     "data": {
      "application/vnd.plotly.v1+json": {
       "data": [
        {
         "marker": {
          "color": "rgb(198, 141, 227)",
          "line": {
           "color": "rgb(127, 20, 181)",
           "width": 1.5
          }
         },
         "opacity": 0.6,
         "type": "bar",
         "x": [
          "South Korea",
          "Guinea-Bissau",
          "Sweden",
          "Djibouti",
          "Yemen",
          "Timor-Leste",
          "Egypt",
          "Norway",
          "Brunei",
          "Iceland",
          "Lebanon",
          "Honduras",
          "Comoros",
          "Bolivia",
          "Niger",
          "Cambodia",
          "Laos",
          "Tunisia",
          "Iran",
          "Maldives",
          "Bhutan",
          "Myanmar",
          "Tonga",
          "Iraq",
          "Pakistan",
          "Nepal",
          "India",
          "North Korea",
          "China",
          "Bangladesh"
         ],
         "y": [
          2.022222222222222,
          2.022222222222222,
          2.019230769230769,
          2,
          2,
          1.9591836734693875,
          1.9444444444444444,
          1.925925925925926,
          1.923076923076923,
          1.875,
          1.85,
          1.8148148148148149,
          1.7857142857142858,
          1.7515527950310557,
          1.7428571428571427,
          1.6477272727272725,
          1.6019417475728155,
          1.5526315789473686,
          1.5131578947368423,
          1.4731182795698923,
          1.4693877551020407,
          1.4137931034482758,
          1.2903225806451613,
          1.2857142857142858,
          1.1428571428571428,
          1.1285714285714286,
          1.0963855421686746,
          1.0339805825242718,
          0.7543859649122806,
          0.5054945054945055
         ]
        }
       ],
       "layout": {
        "title": "Top countries with the lowest male-female suicides ratio in 2005",
        "xaxis": {
         "title": "Countries"
        },
        "yaxis": {
         "title": "Male-Female suicide rate ratio"
        }
       }
      },
      "text/html": [
       "<div id=\"147ffcf6-7e6a-40b4-b96c-accfc7264920\" style=\"height: 525px; width: 100%;\" class=\"plotly-graph-div\"></div><script type=\"text/javascript\">require([\"plotly\"], function(Plotly) { window.PLOTLYENV=window.PLOTLYENV || {};window.PLOTLYENV.BASE_URL=\"https://plot.ly\";Plotly.newPlot(\"147ffcf6-7e6a-40b4-b96c-accfc7264920\", [{\"type\": \"bar\", \"x\": [\"South Korea\", \"Guinea-Bissau\", \"Sweden\", \"Djibouti\", \"Yemen\", \"Timor-Leste\", \"Egypt\", \"Norway\", \"Brunei\", \"Iceland\", \"Lebanon\", \"Honduras\", \"Comoros\", \"Bolivia\", \"Niger\", \"Cambodia\", \"Laos\", \"Tunisia\", \"Iran\", \"Maldives\", \"Bhutan\", \"Myanmar\", \"Tonga\", \"Iraq\", \"Pakistan\", \"Nepal\", \"India\", \"North Korea\", \"China\", \"Bangladesh\"], \"y\": [2.022222222222222, 2.022222222222222, 2.019230769230769, 2.0, 2.0, 1.9591836734693875, 1.9444444444444444, 1.925925925925926, 1.923076923076923, 1.875, 1.85, 1.8148148148148149, 1.7857142857142858, 1.7515527950310557, 1.7428571428571427, 1.6477272727272725, 1.6019417475728155, 1.5526315789473686, 1.5131578947368423, 1.4731182795698923, 1.4693877551020407, 1.4137931034482758, 1.2903225806451613, 1.2857142857142858, 1.1428571428571428, 1.1285714285714286, 1.0963855421686746, 1.0339805825242718, 0.7543859649122806, 0.5054945054945055], \"marker\": {\"color\": \"rgb(198, 141, 227)\", \"line\": {\"color\": \"rgb(127, 20, 181)\", \"width\": 1.5}}, \"opacity\": 0.6}], {\"title\": \"Top countries with the lowest male-female suicides ratio in 2005\", \"xaxis\": {\"title\": \"Countries\"}, \"yaxis\": {\"title\": \"Male-Female suicide rate ratio\"}}, {\"showLink\": true, \"linkText\": \"Export to plot.ly\"})});</script>"
      ],
      "text/vnd.plotly.v1+html": [
       "<div id=\"147ffcf6-7e6a-40b4-b96c-accfc7264920\" style=\"height: 525px; width: 100%;\" class=\"plotly-graph-div\"></div><script type=\"text/javascript\">require([\"plotly\"], function(Plotly) { window.PLOTLYENV=window.PLOTLYENV || {};window.PLOTLYENV.BASE_URL=\"https://plot.ly\";Plotly.newPlot(\"147ffcf6-7e6a-40b4-b96c-accfc7264920\", [{\"type\": \"bar\", \"x\": [\"South Korea\", \"Guinea-Bissau\", \"Sweden\", \"Djibouti\", \"Yemen\", \"Timor-Leste\", \"Egypt\", \"Norway\", \"Brunei\", \"Iceland\", \"Lebanon\", \"Honduras\", \"Comoros\", \"Bolivia\", \"Niger\", \"Cambodia\", \"Laos\", \"Tunisia\", \"Iran\", \"Maldives\", \"Bhutan\", \"Myanmar\", \"Tonga\", \"Iraq\", \"Pakistan\", \"Nepal\", \"India\", \"North Korea\", \"China\", \"Bangladesh\"], \"y\": [2.022222222222222, 2.022222222222222, 2.019230769230769, 2.0, 2.0, 1.9591836734693875, 1.9444444444444444, 1.925925925925926, 1.923076923076923, 1.875, 1.85, 1.8148148148148149, 1.7857142857142858, 1.7515527950310557, 1.7428571428571427, 1.6477272727272725, 1.6019417475728155, 1.5526315789473686, 1.5131578947368423, 1.4731182795698923, 1.4693877551020407, 1.4137931034482758, 1.2903225806451613, 1.2857142857142858, 1.1428571428571428, 1.1285714285714286, 1.0963855421686746, 1.0339805825242718, 0.7543859649122806, 0.5054945054945055], \"marker\": {\"color\": \"rgb(198, 141, 227)\", \"line\": {\"color\": \"rgb(127, 20, 181)\", \"width\": 1.5}}, \"opacity\": 0.6}], {\"title\": \"Top countries with the lowest male-female suicides ratio in 2005\", \"xaxis\": {\"title\": \"Countries\"}, \"yaxis\": {\"title\": \"Male-Female suicide rate ratio\"}}, {\"showLink\": true, \"linkText\": \"Export to plot.ly\"})});</script>"
      ]
     },
     "metadata": {},
     "output_type": "display_data"
    }
   ],
   "source": [
    "data = [go.Bar(\n",
    "    x = ratio2005['Country'].tail(30),\n",
    "    y = ratio2005['Male-Female ratio'].tail(30),\n",
    "    marker=dict(color='rgb(198, 141, 227)', line=dict(color='rgb(127, 20, 181)', width=1.5)),opacity=0.6 \n",
    ")]\n",
    "\n",
    "layout = go.Layout(\n",
    "    title='Top countries with the lowest male-female suicides ratio in 2005',\n",
    "    xaxis={'title':'Countries'},\n",
    "    yaxis={'title':'Male-Female suicide rate ratio'}\n",
    ")\n",
    "\n",
    "fig = go.Figure(data=data, layout=layout)\n",
    "py.iplot(fig, filename='basic-bar')"
   ]
  },
  {
   "cell_type": "markdown",
   "metadata": {},
   "source": [
    "**Top 5 Countries with the lowest male-female suicides ratio in 2005:**\n",
    "* Bangladesh - 0.5 (Female-male ratio is 2)\n",
    "* China - 0.754 (Female-male ratio is 1.32)\n",
    "* North Korea - 1.03\n",
    "* India - 1.09\n",
    "* Nepal - 1.12"
   ]
  },
  {
   "cell_type": "markdown",
   "metadata": {},
   "source": [
    "**Male-Female suicides ratio in 2000**"
   ]
  },
  {
   "cell_type": "code",
   "execution_count": 59,
   "metadata": {},
   "outputs": [
    {
     "data": {
      "application/vnd.plotly.v1+json": {
       "data": [
        {
         "marker": {
          "color": "rgb(255, 210, 119)",
          "line": {
           "color": "rgb(206, 142, 12)",
           "width": 1.5
          }
         },
         "opacity": 0.6,
         "type": "bar",
         "x": [
          "Antigua and Barbuda",
          "Saint Vincent and the Grenadines",
          "Rwanda",
          "Venezuela",
          "Seychelles",
          "Panama",
          "Costa Rica",
          "Moldova",
          "Chile",
          "Belarus",
          "Mexico",
          "Russia",
          "Poland",
          "Kazakhstan",
          "Belize",
          "Ukraine",
          "Qatar",
          "Uruguay",
          "Dominican Republic",
          "Latvia",
          "Kyrgyzstan",
          "Slovakia",
          "Georgia",
          "Lithuania",
          "Azerbaijan",
          "Oman",
          "Romania",
          "Afghanistan",
          "Barbados",
          "Grenada"
         ],
         "y": [
          49,
          17,
          9.409090909090908,
          7.611111111111111,
          7.6,
          7.533333333333334,
          7.529411764705883,
          6.531914893617021,
          6.032258064516129,
          5.843749999999999,
          5.8,
          5.532258064516128,
          5.492307692307692,
          5.247999999999999,
          5.115384615384616,
          5.0546875,
          5,
          4.964285714285714,
          4.91304347826087,
          4.781954887218045,
          4.7441860465116275,
          4.686274509803922,
          4.681818181818182,
          4.679347826086957,
          4.666666666666667,
          4.647058823529412,
          4.638297872340425,
          4.588235294117647,
          4.571428571428572,
          4.500000000000001
         ]
        }
       ],
       "layout": {
        "title": "Top countries with the highest male-female suicides ratio in 2000",
        "xaxis": {
         "title": "Countries"
        },
        "yaxis": {
         "title": "Male-Female suicide rate ratio"
        }
       }
      },
      "text/html": [
       "<div id=\"75c1bca4-54a6-44d1-98bb-9dd2189dee44\" style=\"height: 525px; width: 100%;\" class=\"plotly-graph-div\"></div><script type=\"text/javascript\">require([\"plotly\"], function(Plotly) { window.PLOTLYENV=window.PLOTLYENV || {};window.PLOTLYENV.BASE_URL=\"https://plot.ly\";Plotly.newPlot(\"75c1bca4-54a6-44d1-98bb-9dd2189dee44\", [{\"type\": \"bar\", \"x\": [\"Antigua and Barbuda\", \"Saint Vincent and the Grenadines\", \"Rwanda\", \"Venezuela\", \"Seychelles\", \"Panama\", \"Costa Rica\", \"Moldova\", \"Chile\", \"Belarus\", \"Mexico\", \"Russia\", \"Poland\", \"Kazakhstan\", \"Belize\", \"Ukraine\", \"Qatar\", \"Uruguay\", \"Dominican Republic\", \"Latvia\", \"Kyrgyzstan\", \"Slovakia\", \"Georgia\", \"Lithuania\", \"Azerbaijan\", \"Oman\", \"Romania\", \"Afghanistan\", \"Barbados\", \"Grenada\"], \"y\": [49.0, 17.0, 9.409090909090908, 7.611111111111111, 7.6, 7.533333333333334, 7.529411764705883, 6.531914893617021, 6.032258064516129, 5.843749999999999, 5.8, 5.532258064516128, 5.492307692307692, 5.247999999999999, 5.115384615384616, 5.0546875, 5.0, 4.964285714285714, 4.91304347826087, 4.781954887218045, 4.7441860465116275, 4.686274509803922, 4.681818181818182, 4.679347826086957, 4.666666666666667, 4.647058823529412, 4.638297872340425, 4.588235294117647, 4.571428571428572, 4.500000000000001], \"marker\": {\"color\": \"rgb(255, 210, 119)\", \"line\": {\"color\": \"rgb(206, 142, 12)\", \"width\": 1.5}}, \"opacity\": 0.6}], {\"title\": \"Top countries with the highest male-female suicides ratio in 2000\", \"xaxis\": {\"title\": \"Countries\"}, \"yaxis\": {\"title\": \"Male-Female suicide rate ratio\"}}, {\"showLink\": true, \"linkText\": \"Export to plot.ly\"})});</script>"
      ],
      "text/vnd.plotly.v1+html": [
       "<div id=\"75c1bca4-54a6-44d1-98bb-9dd2189dee44\" style=\"height: 525px; width: 100%;\" class=\"plotly-graph-div\"></div><script type=\"text/javascript\">require([\"plotly\"], function(Plotly) { window.PLOTLYENV=window.PLOTLYENV || {};window.PLOTLYENV.BASE_URL=\"https://plot.ly\";Plotly.newPlot(\"75c1bca4-54a6-44d1-98bb-9dd2189dee44\", [{\"type\": \"bar\", \"x\": [\"Antigua and Barbuda\", \"Saint Vincent and the Grenadines\", \"Rwanda\", \"Venezuela\", \"Seychelles\", \"Panama\", \"Costa Rica\", \"Moldova\", \"Chile\", \"Belarus\", \"Mexico\", \"Russia\", \"Poland\", \"Kazakhstan\", \"Belize\", \"Ukraine\", \"Qatar\", \"Uruguay\", \"Dominican Republic\", \"Latvia\", \"Kyrgyzstan\", \"Slovakia\", \"Georgia\", \"Lithuania\", \"Azerbaijan\", \"Oman\", \"Romania\", \"Afghanistan\", \"Barbados\", \"Grenada\"], \"y\": [49.0, 17.0, 9.409090909090908, 7.611111111111111, 7.6, 7.533333333333334, 7.529411764705883, 6.531914893617021, 6.032258064516129, 5.843749999999999, 5.8, 5.532258064516128, 5.492307692307692, 5.247999999999999, 5.115384615384616, 5.0546875, 5.0, 4.964285714285714, 4.91304347826087, 4.781954887218045, 4.7441860465116275, 4.686274509803922, 4.681818181818182, 4.679347826086957, 4.666666666666667, 4.647058823529412, 4.638297872340425, 4.588235294117647, 4.571428571428572, 4.500000000000001], \"marker\": {\"color\": \"rgb(255, 210, 119)\", \"line\": {\"color\": \"rgb(206, 142, 12)\", \"width\": 1.5}}, \"opacity\": 0.6}], {\"title\": \"Top countries with the highest male-female suicides ratio in 2000\", \"xaxis\": {\"title\": \"Countries\"}, \"yaxis\": {\"title\": \"Male-Female suicide rate ratio\"}}, {\"showLink\": true, \"linkText\": \"Export to plot.ly\"})});</script>"
      ]
     },
     "metadata": {},
     "output_type": "display_data"
    }
   ],
   "source": [
    "data = [go.Bar(\n",
    "    x = ratio2000['Country'].head(30),\n",
    "    y = ratio2000['Male-Female ratio'].head(30),\n",
    "    marker=dict(color='rgb(255, 210, 119)', line=dict(color='rgb(206, 142, 12)', width=1.5)),opacity=0.6 \n",
    ")]\n",
    "\n",
    "layout = go.Layout(\n",
    "    title='Top countries with the highest male-female suicides ratio in 2000',\n",
    "    xaxis={'title':'Countries'},\n",
    "    yaxis={'title':'Male-Female suicide rate ratio'}\n",
    ")\n",
    "\n",
    "fig = go.Figure(data=data, layout=layout)\n",
    "py.iplot(fig, filename='basic-bar')"
   ]
  },
  {
   "cell_type": "markdown",
   "metadata": {},
   "source": [
    "**Top 5 Countries with the highest male-female suicides ratio in 2000:**\n",
    "* Antigua and Barbuda - 49\n",
    "* Saint Vincent and the Grenadines - 17\n",
    "* Rwanda - 9.4\n",
    "* Venezuela - 7.61\n",
    "* Seychelles - 7.6"
   ]
  },
  {
   "cell_type": "code",
   "execution_count": 60,
   "metadata": {},
   "outputs": [
    {
     "data": {
      "application/vnd.plotly.v1+json": {
       "data": [
        {
         "marker": {
          "color": "rgb(198, 141, 227)",
          "line": {
           "color": "rgb(127, 20, 181)",
           "width": 1.5
          }
         },
         "opacity": 0.6,
         "type": "bar",
         "x": [
          "Netherlands",
          "Algeria",
          "Comoros",
          "Timor-Leste",
          "Djibouti",
          "Egypt",
          "Guinea-Bissau",
          "Bolivia",
          "Cyprus",
          "Singapore",
          "Niger",
          "Micronesia",
          "Thailand",
          "Lebanon",
          "Laos",
          "Iraq",
          "Tunisia",
          "Myanmar",
          "Jamaica",
          "Pakistan",
          "Cambodia",
          "Bhutan",
          "North Korea",
          "Maldives",
          "Iran",
          "Nepal",
          "India",
          "Tonga",
          "China",
          "Bangladesh"
         ],
         "y": [
          2.03125,
          2,
          1.9600000000000002,
          1.9583333333333333,
          1.9285714285714288,
          1.9,
          1.877551020408163,
          1.8773006134969326,
          1.846153846153846,
          1.8333333333333333,
          1.8124999999999998,
          1.7532467532467533,
          1.7435897435897436,
          1.7391304347826089,
          1.7047619047619047,
          1.6190476190476188,
          1.5675675675675675,
          1.5000000000000002,
          1.4999999999999998,
          1.4761904761904763,
          1.4680851063829787,
          1.4074074074074072,
          1.2738095238095237,
          1.2656249999999998,
          1.1975308641975309,
          1.1604938271604939,
          1.1385542168674696,
          1.1142857142857143,
          0.768,
          0.7195121951219513
         ]
        }
       ],
       "layout": {
        "title": "Top countries with the lowest male-female suicides ratio in 2000",
        "xaxis": {
         "title": "Countries"
        },
        "yaxis": {
         "title": "Male-Female suicide rate ratio"
        }
       }
      },
      "text/html": [
       "<div id=\"95df4c1f-60e5-44ec-b832-b5daab3f926a\" style=\"height: 525px; width: 100%;\" class=\"plotly-graph-div\"></div><script type=\"text/javascript\">require([\"plotly\"], function(Plotly) { window.PLOTLYENV=window.PLOTLYENV || {};window.PLOTLYENV.BASE_URL=\"https://plot.ly\";Plotly.newPlot(\"95df4c1f-60e5-44ec-b832-b5daab3f926a\", [{\"type\": \"bar\", \"x\": [\"Netherlands\", \"Algeria\", \"Comoros\", \"Timor-Leste\", \"Djibouti\", \"Egypt\", \"Guinea-Bissau\", \"Bolivia\", \"Cyprus\", \"Singapore\", \"Niger\", \"Micronesia\", \"Thailand\", \"Lebanon\", \"Laos\", \"Iraq\", \"Tunisia\", \"Myanmar\", \"Jamaica\", \"Pakistan\", \"Cambodia\", \"Bhutan\", \"North Korea\", \"Maldives\", \"Iran\", \"Nepal\", \"India\", \"Tonga\", \"China\", \"Bangladesh\"], \"y\": [2.03125, 2.0, 1.9600000000000002, 1.9583333333333333, 1.9285714285714288, 1.9, 1.877551020408163, 1.8773006134969326, 1.846153846153846, 1.8333333333333333, 1.8124999999999998, 1.7532467532467533, 1.7435897435897436, 1.7391304347826089, 1.7047619047619047, 1.6190476190476188, 1.5675675675675675, 1.5000000000000002, 1.4999999999999998, 1.4761904761904763, 1.4680851063829787, 1.4074074074074072, 1.2738095238095237, 1.2656249999999998, 1.1975308641975309, 1.1604938271604939, 1.1385542168674696, 1.1142857142857143, 0.768, 0.7195121951219513], \"marker\": {\"color\": \"rgb(198, 141, 227)\", \"line\": {\"color\": \"rgb(127, 20, 181)\", \"width\": 1.5}}, \"opacity\": 0.6}], {\"title\": \"Top countries with the lowest male-female suicides ratio in 2000\", \"xaxis\": {\"title\": \"Countries\"}, \"yaxis\": {\"title\": \"Male-Female suicide rate ratio\"}}, {\"showLink\": true, \"linkText\": \"Export to plot.ly\"})});</script>"
      ],
      "text/vnd.plotly.v1+html": [
       "<div id=\"95df4c1f-60e5-44ec-b832-b5daab3f926a\" style=\"height: 525px; width: 100%;\" class=\"plotly-graph-div\"></div><script type=\"text/javascript\">require([\"plotly\"], function(Plotly) { window.PLOTLYENV=window.PLOTLYENV || {};window.PLOTLYENV.BASE_URL=\"https://plot.ly\";Plotly.newPlot(\"95df4c1f-60e5-44ec-b832-b5daab3f926a\", [{\"type\": \"bar\", \"x\": [\"Netherlands\", \"Algeria\", \"Comoros\", \"Timor-Leste\", \"Djibouti\", \"Egypt\", \"Guinea-Bissau\", \"Bolivia\", \"Cyprus\", \"Singapore\", \"Niger\", \"Micronesia\", \"Thailand\", \"Lebanon\", \"Laos\", \"Iraq\", \"Tunisia\", \"Myanmar\", \"Jamaica\", \"Pakistan\", \"Cambodia\", \"Bhutan\", \"North Korea\", \"Maldives\", \"Iran\", \"Nepal\", \"India\", \"Tonga\", \"China\", \"Bangladesh\"], \"y\": [2.03125, 2.0, 1.9600000000000002, 1.9583333333333333, 1.9285714285714288, 1.9, 1.877551020408163, 1.8773006134969326, 1.846153846153846, 1.8333333333333333, 1.8124999999999998, 1.7532467532467533, 1.7435897435897436, 1.7391304347826089, 1.7047619047619047, 1.6190476190476188, 1.5675675675675675, 1.5000000000000002, 1.4999999999999998, 1.4761904761904763, 1.4680851063829787, 1.4074074074074072, 1.2738095238095237, 1.2656249999999998, 1.1975308641975309, 1.1604938271604939, 1.1385542168674696, 1.1142857142857143, 0.768, 0.7195121951219513], \"marker\": {\"color\": \"rgb(198, 141, 227)\", \"line\": {\"color\": \"rgb(127, 20, 181)\", \"width\": 1.5}}, \"opacity\": 0.6}], {\"title\": \"Top countries with the lowest male-female suicides ratio in 2000\", \"xaxis\": {\"title\": \"Countries\"}, \"yaxis\": {\"title\": \"Male-Female suicide rate ratio\"}}, {\"showLink\": true, \"linkText\": \"Export to plot.ly\"})});</script>"
      ]
     },
     "metadata": {},
     "output_type": "display_data"
    }
   ],
   "source": [
    "data = [go.Bar(\n",
    "    x = ratio2000['Country'].tail(30),\n",
    "    y = ratio2000['Male-Female ratio'].tail(30),\n",
    "    marker=dict(color='rgb(198, 141, 227)', line=dict(color='rgb(127, 20, 181)', width=1.5)),opacity=0.6 \n",
    ")]\n",
    "\n",
    "layout = go.Layout(\n",
    "    title='Top countries with the lowest male-female suicides ratio in 2000',\n",
    "    xaxis={'title':'Countries'},\n",
    "    yaxis={'title':'Male-Female suicide rate ratio'}\n",
    ")\n",
    "\n",
    "fig = go.Figure(data=data, layout=layout)\n",
    "py.iplot(fig, filename='basic-bar')"
   ]
  },
  {
   "cell_type": "markdown",
   "metadata": {},
   "source": [
    "**Top 5 Countries with the lowest male-female suicides ratio in 2000:**\n",
    "* Bangladesh - 0.72 (Female-male ratio is 2)\n",
    "* China - 0.77 (Female-male ratio is 1.32)\n",
    "* Tonga - 1.11\n",
    "* India - 1.14\n",
    "* Nepal - 1.16"
   ]
  },
  {
   "cell_type": "markdown",
   "metadata": {},
   "source": [
    "## <a id='5.6'>5.6 Further analysis on particular countries</a>"
   ]
  },
  {
   "cell_type": "markdown",
   "metadata": {},
   "source": [
    "After analyzing the top countries with the highest rates in the world, we will now look into particular countries which seem interesting after the analysis we made.\n",
    "\n",
    "Lithuania, Sri Lanka and Belarus have very high suicide rates generally. North Korea has relatively an exetremely low ratio between men and women but high female suicide rate. Japan and South Korea are both significant and large western countries with high suicidres in relation to other nations. Belguim is a European country with high suicide rates, particularly for women, and Poland is an East-European Country with high suicide rates, particularly for men."
   ]
  },
  {
   "cell_type": "markdown",
   "metadata": {},
   "source": [
    "Thus, the selected countries for further analysis are:\n",
    "\n",
    "* Lithuania\n",
    "* Sri Lanka\n",
    "* Belarus\n",
    "* North Korea\n",
    "* Japan\n",
    "* South Korea\n",
    "* Poland\n",
    "* Belguim"
   ]
  },
  {
   "cell_type": "markdown",
   "metadata": {},
   "source": [
    "We will use scatter graphs to present the rates of each country in the years 2000, 2005, 2010 and 2015. The data of each country will be presented as a line connecting the points which contain the data for each year, so we could either look into each country seperately or compare between the countries, by a single year or by the total trend."
   ]
  },
  {
   "cell_type": "code",
   "execution_count": 61,
   "metadata": {
    "collapsed": true
   },
   "outputs": [],
   "source": [
    "selected = ['Lithuania', 'Sri Lanka', 'Belarus', 'North Korea', 'Japan', 'South Korea', 'Poland', 'Belguim']\n",
    "selectedMasks = []\n",
    "for country in selected:\n",
    "    mask = suicides['Country'].str.contains(country)\n",
    "    selectedMasks.append(mask)"
   ]
  },
  {
   "cell_type": "markdown",
   "metadata": {},
   "source": [
    "**Total suicide rates of the selected countries**"
   ]
  },
  {
   "cell_type": "code",
   "execution_count": 62,
   "metadata": {},
   "outputs": [
    {
     "data": {
      "application/vnd.plotly.v1+json": {
       "data": [
        {
         "line": {
          "shape": "spline"
         },
         "name": "Lithuania",
         "type": "scatter",
         "x": [
          "2000",
          "2005",
          "2010",
          "2015"
         ],
         "y": [
          50.1,
          41.2,
          33.9,
          32.7
         ]
        },
        {
         "line": {
          "shape": "spline"
         },
         "name": "Sri Lanka",
         "type": "scatter",
         "x": [
          "2000",
          "2005",
          "2010",
          "2015"
         ],
         "y": [
          36.4,
          30.5,
          28.6,
          35.3
         ]
        },
        {
         "line": {
          "shape": "spline"
         },
         "name": "Belarus",
         "type": "scatter",
         "x": [
          "2000",
          "2005",
          "2010",
          "2015"
         ],
         "y": [
          41.9,
          36.1,
          27.9,
          22.8
         ]
        },
        {
         "line": {
          "shape": "spline"
         },
         "name": "North Korea",
         "type": "scatter",
         "x": [
          "2000",
          "2005",
          "2010",
          "2015"
         ],
         "y": [
          19,
          20.9,
          19,
          15.8
         ]
        },
        {
         "line": {
          "shape": "spline"
         },
         "name": "Japan",
         "type": "scatter",
         "x": [
          "2000",
          "2005",
          "2010",
          "2015"
         ],
         "y": [
          24.4,
          24.7,
          24.3,
          19.7
         ]
        },
        {
         "line": {
          "shape": "spline"
         },
         "name": "South Korea",
         "type": "scatter",
         "x": [
          "2000",
          "2005",
          "2010",
          "2015"
         ],
         "y": [
          14.8,
          27.2,
          34.1,
          28.3
         ]
        },
        {
         "line": {
          "shape": "spline"
         },
         "name": "Poland",
         "type": "scatter",
         "x": [
          "2000",
          "2005",
          "2010",
          "2015"
         ],
         "y": [
          20.7,
          22.4,
          23.1,
          22.3
         ]
        },
        {
         "line": {
          "shape": "spline"
         },
         "name": "Belguim",
         "type": "scatter",
         "x": [
          "2000",
          "2005",
          "2010",
          "2015"
         ],
         "y": []
        }
       ],
       "layout": {
        "title": "Total Suicide Rates of the Selected Countries",
        "xaxis": {
         "autotick": false,
         "dtick": 5,
         "tick0": 0,
         "ticks": "outside",
         "title": "Year"
        },
        "yaxis": {
         "dtick": 5,
         "rangemode": "tozero",
         "title": "Total Suicide Rate"
        }
       }
      },
      "text/html": [
       "<div id=\"3e6706b0-c65f-4174-af89-6b9169d53321\" style=\"height: 525px; width: 100%;\" class=\"plotly-graph-div\"></div><script type=\"text/javascript\">require([\"plotly\"], function(Plotly) { window.PLOTLYENV=window.PLOTLYENV || {};window.PLOTLYENV.BASE_URL=\"https://plot.ly\";Plotly.newPlot(\"3e6706b0-c65f-4174-af89-6b9169d53321\", [{\"type\": \"scatter\", \"x\": [\"2000\", \"2005\", \"2010\", \"2015\"], \"y\": [50.1, 41.2, 33.9, 32.7], \"name\": \"Lithuania\", \"line\": {\"shape\": \"spline\"}}, {\"type\": \"scatter\", \"x\": [\"2000\", \"2005\", \"2010\", \"2015\"], \"y\": [36.4, 30.5, 28.6, 35.3], \"name\": \"Sri Lanka\", \"line\": {\"shape\": \"spline\"}}, {\"type\": \"scatter\", \"x\": [\"2000\", \"2005\", \"2010\", \"2015\"], \"y\": [41.9, 36.1, 27.9, 22.8], \"name\": \"Belarus\", \"line\": {\"shape\": \"spline\"}}, {\"type\": \"scatter\", \"x\": [\"2000\", \"2005\", \"2010\", \"2015\"], \"y\": [19.0, 20.9, 19.0, 15.8], \"name\": \"North Korea\", \"line\": {\"shape\": \"spline\"}}, {\"type\": \"scatter\", \"x\": [\"2000\", \"2005\", \"2010\", \"2015\"], \"y\": [24.4, 24.7, 24.3, 19.7], \"name\": \"Japan\", \"line\": {\"shape\": \"spline\"}}, {\"type\": \"scatter\", \"x\": [\"2000\", \"2005\", \"2010\", \"2015\"], \"y\": [14.8, 27.2, 34.1, 28.3], \"name\": \"South Korea\", \"line\": {\"shape\": \"spline\"}}, {\"type\": \"scatter\", \"x\": [\"2000\", \"2005\", \"2010\", \"2015\"], \"y\": [20.7, 22.4, 23.1, 22.3], \"name\": \"Poland\", \"line\": {\"shape\": \"spline\"}}, {\"type\": \"scatter\", \"x\": [\"2000\", \"2005\", \"2010\", \"2015\"], \"y\": [], \"name\": \"Belguim\", \"line\": {\"shape\": \"spline\"}}], {\"title\": \"Total Suicide Rates of the Selected Countries\", \"xaxis\": {\"title\": \"Year\", \"autotick\": false, \"ticks\": \"outside\", \"tick0\": 0, \"dtick\": 5}, \"yaxis\": {\"title\": \"Total Suicide Rate\", \"rangemode\": \"tozero\", \"dtick\": 5}}, {\"showLink\": true, \"linkText\": \"Export to plot.ly\"})});</script>"
      ],
      "text/vnd.plotly.v1+html": [
       "<div id=\"3e6706b0-c65f-4174-af89-6b9169d53321\" style=\"height: 525px; width: 100%;\" class=\"plotly-graph-div\"></div><script type=\"text/javascript\">require([\"plotly\"], function(Plotly) { window.PLOTLYENV=window.PLOTLYENV || {};window.PLOTLYENV.BASE_URL=\"https://plot.ly\";Plotly.newPlot(\"3e6706b0-c65f-4174-af89-6b9169d53321\", [{\"type\": \"scatter\", \"x\": [\"2000\", \"2005\", \"2010\", \"2015\"], \"y\": [50.1, 41.2, 33.9, 32.7], \"name\": \"Lithuania\", \"line\": {\"shape\": \"spline\"}}, {\"type\": \"scatter\", \"x\": [\"2000\", \"2005\", \"2010\", \"2015\"], \"y\": [36.4, 30.5, 28.6, 35.3], \"name\": \"Sri Lanka\", \"line\": {\"shape\": \"spline\"}}, {\"type\": \"scatter\", \"x\": [\"2000\", \"2005\", \"2010\", \"2015\"], \"y\": [41.9, 36.1, 27.9, 22.8], \"name\": \"Belarus\", \"line\": {\"shape\": \"spline\"}}, {\"type\": \"scatter\", \"x\": [\"2000\", \"2005\", \"2010\", \"2015\"], \"y\": [19.0, 20.9, 19.0, 15.8], \"name\": \"North Korea\", \"line\": {\"shape\": \"spline\"}}, {\"type\": \"scatter\", \"x\": [\"2000\", \"2005\", \"2010\", \"2015\"], \"y\": [24.4, 24.7, 24.3, 19.7], \"name\": \"Japan\", \"line\": {\"shape\": \"spline\"}}, {\"type\": \"scatter\", \"x\": [\"2000\", \"2005\", \"2010\", \"2015\"], \"y\": [14.8, 27.2, 34.1, 28.3], \"name\": \"South Korea\", \"line\": {\"shape\": \"spline\"}}, {\"type\": \"scatter\", \"x\": [\"2000\", \"2005\", \"2010\", \"2015\"], \"y\": [20.7, 22.4, 23.1, 22.3], \"name\": \"Poland\", \"line\": {\"shape\": \"spline\"}}, {\"type\": \"scatter\", \"x\": [\"2000\", \"2005\", \"2010\", \"2015\"], \"y\": [], \"name\": \"Belguim\", \"line\": {\"shape\": \"spline\"}}], {\"title\": \"Total Suicide Rates of the Selected Countries\", \"xaxis\": {\"title\": \"Year\", \"autotick\": false, \"ticks\": \"outside\", \"tick0\": 0, \"dtick\": 5}, \"yaxis\": {\"title\": \"Total Suicide Rate\", \"rangemode\": \"tozero\", \"dtick\": 5}}, {\"showLink\": true, \"linkText\": \"Export to plot.ly\"})});</script>"
      ]
     },
     "metadata": {},
     "output_type": "display_data"
    }
   ],
   "source": [
    "data = []\n",
    "for i in range(len(selected)):\n",
    "    \n",
    "    trace = go.Scatter(\n",
    "        x = ['2000', '2005', '2010', '2015'],\n",
    "        y = suicides[selectedMasks[i]]['Total suicide rate'].values.tolist(),\n",
    "        name = selected[i],\n",
    "        line=dict(\n",
    "            shape='spline'\n",
    "        )\n",
    "    )\n",
    "    data.append(trace)\n",
    "    \n",
    "layout = go.Layout(\n",
    "    title='Total Suicide Rates of the Selected Countries',\n",
    "    xaxis=dict(\n",
    "        title='Year',\n",
    "        autotick=False,\n",
    "        ticks='outside',\n",
    "        tick0=0,\n",
    "        dtick=5\n",
    "    ),\n",
    "    yaxis=dict(\n",
    "        title='Total Suicide Rate',\n",
    "        rangemode='tozero',\n",
    "        dtick=5\n",
    "    )\n",
    ")\n",
    "\n",
    "fig = go.Figure(data=data, layout=layout)\n",
    "\n",
    "py.iplot(fig, filename='line-mode')"
   ]
  },
  {
   "cell_type": "markdown",
   "metadata": {},
   "source": [
    "**Males suicide rates of the selected countries**"
   ]
  },
  {
   "cell_type": "code",
   "execution_count": 63,
   "metadata": {},
   "outputs": [
    {
     "data": {
      "application/vnd.plotly.v1+json": {
       "data": [
        {
         "line": {
          "shape": "spline"
         },
         "name": "Lithuania",
         "type": "scatter",
         "x": [
          "2000",
          "2005",
          "2010",
          "2015"
         ],
         "y": [
          86.1,
          72.7,
          59.9,
          58
         ]
        },
        {
         "line": {
          "shape": "spline"
         },
         "name": "Sri Lanka",
         "type": "scatter",
         "x": [
          "2000",
          "2005",
          "2010",
          "2015"
         ],
         "y": [
          55.4,
          46.6,
          46.5,
          58.7
         ]
        },
        {
         "line": {
          "shape": "spline"
         },
         "name": "Belarus",
         "type": "scatter",
         "x": [
          "2000",
          "2005",
          "2010",
          "2015"
         ],
         "y": [
          74.8,
          63.6,
          49.9,
          41
         ]
        },
        {
         "line": {
          "shape": "spline"
         },
         "name": "North Korea",
         "type": "scatter",
         "x": [
          "2000",
          "2005",
          "2010",
          "2015"
         ],
         "y": [
          21.4,
          21.3,
          19.2,
          16.3
         ]
        },
        {
         "line": {
          "shape": "spline"
         },
         "name": "Japan",
         "type": "scatter",
         "x": [
          "2000",
          "2005",
          "2010",
          "2015"
         ],
         "y": [
          35.5,
          36.6,
          35.2,
          27.3
         ]
        },
        {
         "line": {
          "shape": "spline"
         },
         "name": "South Korea",
         "type": "scatter",
         "x": [
          "2000",
          "2005",
          "2010",
          "2015"
         ],
         "y": [
          20.3,
          36.4,
          45.5,
          40.4
         ]
        },
        {
         "line": {
          "shape": "spline"
         },
         "name": "Poland",
         "type": "scatter",
         "x": [
          "2000",
          "2005",
          "2010",
          "2015"
         ],
         "y": [
          35.7,
          39.6,
          41.1,
          39.2
         ]
        },
        {
         "line": {
          "shape": "spline"
         },
         "name": "Belguim",
         "type": "scatter",
         "x": [
          "2000",
          "2005",
          "2010",
          "2015"
         ],
         "y": []
        }
       ],
       "layout": {
        "title": "Males Suicide Rates of the Selected Countries",
        "xaxis": {
         "autotick": false,
         "dtick": 5,
         "tick0": 0,
         "ticks": "outside",
         "title": "Year"
        },
        "yaxis": {
         "rangemode": "tozero",
         "title": "Males Suicide Rate"
        }
       }
      },
      "text/html": [
       "<div id=\"fecfde5a-4ce4-4584-9526-85a19f8d1db8\" style=\"height: 525px; width: 100%;\" class=\"plotly-graph-div\"></div><script type=\"text/javascript\">require([\"plotly\"], function(Plotly) { window.PLOTLYENV=window.PLOTLYENV || {};window.PLOTLYENV.BASE_URL=\"https://plot.ly\";Plotly.newPlot(\"fecfde5a-4ce4-4584-9526-85a19f8d1db8\", [{\"type\": \"scatter\", \"x\": [\"2000\", \"2005\", \"2010\", \"2015\"], \"y\": [86.1, 72.7, 59.9, 58.0], \"name\": \"Lithuania\", \"line\": {\"shape\": \"spline\"}}, {\"type\": \"scatter\", \"x\": [\"2000\", \"2005\", \"2010\", \"2015\"], \"y\": [55.4, 46.6, 46.5, 58.7], \"name\": \"Sri Lanka\", \"line\": {\"shape\": \"spline\"}}, {\"type\": \"scatter\", \"x\": [\"2000\", \"2005\", \"2010\", \"2015\"], \"y\": [74.8, 63.6, 49.9, 41.0], \"name\": \"Belarus\", \"line\": {\"shape\": \"spline\"}}, {\"type\": \"scatter\", \"x\": [\"2000\", \"2005\", \"2010\", \"2015\"], \"y\": [21.4, 21.3, 19.2, 16.3], \"name\": \"North Korea\", \"line\": {\"shape\": \"spline\"}}, {\"type\": \"scatter\", \"x\": [\"2000\", \"2005\", \"2010\", \"2015\"], \"y\": [35.5, 36.6, 35.2, 27.3], \"name\": \"Japan\", \"line\": {\"shape\": \"spline\"}}, {\"type\": \"scatter\", \"x\": [\"2000\", \"2005\", \"2010\", \"2015\"], \"y\": [20.3, 36.4, 45.5, 40.4], \"name\": \"South Korea\", \"line\": {\"shape\": \"spline\"}}, {\"type\": \"scatter\", \"x\": [\"2000\", \"2005\", \"2010\", \"2015\"], \"y\": [35.7, 39.6, 41.1, 39.2], \"name\": \"Poland\", \"line\": {\"shape\": \"spline\"}}, {\"type\": \"scatter\", \"x\": [\"2000\", \"2005\", \"2010\", \"2015\"], \"y\": [], \"name\": \"Belguim\", \"line\": {\"shape\": \"spline\"}}], {\"title\": \"Males Suicide Rates of the Selected Countries\", \"xaxis\": {\"title\": \"Year\", \"autotick\": false, \"ticks\": \"outside\", \"tick0\": 0, \"dtick\": 5}, \"yaxis\": {\"title\": \"Males Suicide Rate\", \"rangemode\": \"tozero\"}}, {\"showLink\": true, \"linkText\": \"Export to plot.ly\"})});</script>"
      ],
      "text/vnd.plotly.v1+html": [
       "<div id=\"fecfde5a-4ce4-4584-9526-85a19f8d1db8\" style=\"height: 525px; width: 100%;\" class=\"plotly-graph-div\"></div><script type=\"text/javascript\">require([\"plotly\"], function(Plotly) { window.PLOTLYENV=window.PLOTLYENV || {};window.PLOTLYENV.BASE_URL=\"https://plot.ly\";Plotly.newPlot(\"fecfde5a-4ce4-4584-9526-85a19f8d1db8\", [{\"type\": \"scatter\", \"x\": [\"2000\", \"2005\", \"2010\", \"2015\"], \"y\": [86.1, 72.7, 59.9, 58.0], \"name\": \"Lithuania\", \"line\": {\"shape\": \"spline\"}}, {\"type\": \"scatter\", \"x\": [\"2000\", \"2005\", \"2010\", \"2015\"], \"y\": [55.4, 46.6, 46.5, 58.7], \"name\": \"Sri Lanka\", \"line\": {\"shape\": \"spline\"}}, {\"type\": \"scatter\", \"x\": [\"2000\", \"2005\", \"2010\", \"2015\"], \"y\": [74.8, 63.6, 49.9, 41.0], \"name\": \"Belarus\", \"line\": {\"shape\": \"spline\"}}, {\"type\": \"scatter\", \"x\": [\"2000\", \"2005\", \"2010\", \"2015\"], \"y\": [21.4, 21.3, 19.2, 16.3], \"name\": \"North Korea\", \"line\": {\"shape\": \"spline\"}}, {\"type\": \"scatter\", \"x\": [\"2000\", \"2005\", \"2010\", \"2015\"], \"y\": [35.5, 36.6, 35.2, 27.3], \"name\": \"Japan\", \"line\": {\"shape\": \"spline\"}}, {\"type\": \"scatter\", \"x\": [\"2000\", \"2005\", \"2010\", \"2015\"], \"y\": [20.3, 36.4, 45.5, 40.4], \"name\": \"South Korea\", \"line\": {\"shape\": \"spline\"}}, {\"type\": \"scatter\", \"x\": [\"2000\", \"2005\", \"2010\", \"2015\"], \"y\": [35.7, 39.6, 41.1, 39.2], \"name\": \"Poland\", \"line\": {\"shape\": \"spline\"}}, {\"type\": \"scatter\", \"x\": [\"2000\", \"2005\", \"2010\", \"2015\"], \"y\": [], \"name\": \"Belguim\", \"line\": {\"shape\": \"spline\"}}], {\"title\": \"Males Suicide Rates of the Selected Countries\", \"xaxis\": {\"title\": \"Year\", \"autotick\": false, \"ticks\": \"outside\", \"tick0\": 0, \"dtick\": 5}, \"yaxis\": {\"title\": \"Males Suicide Rate\", \"rangemode\": \"tozero\"}}, {\"showLink\": true, \"linkText\": \"Export to plot.ly\"})});</script>"
      ]
     },
     "metadata": {},
     "output_type": "display_data"
    }
   ],
   "source": [
    "data = []\n",
    "for i in range(len(selected)):\n",
    "    \n",
    "    trace = go.Scatter(\n",
    "        x = ['2000', '2005', '2010', '2015'],\n",
    "        y = suicides[selectedMasks[i]]['Male suicide rate'].values.tolist(),\n",
    "        name = selected[i],\n",
    "        line=dict(\n",
    "            shape='spline'\n",
    "        )\n",
    "    )\n",
    "    data.append(trace)\n",
    "    \n",
    "layout = go.Layout(\n",
    "    title='Males Suicide Rates of the Selected Countries',\n",
    "    xaxis=dict(\n",
    "        title='Year',\n",
    "        autotick=False,\n",
    "        ticks='outside',\n",
    "        tick0=0,\n",
    "        dtick=5\n",
    "    ),\n",
    "    yaxis=dict(\n",
    "        title='Males Suicide Rate',\n",
    "        rangemode='tozero'\n",
    "    )\n",
    ")\n",
    "\n",
    "fig = go.Figure(data=data, layout=layout)\n",
    "\n",
    "py.iplot(fig, filename='line-mode')"
   ]
  },
  {
   "cell_type": "markdown",
   "metadata": {},
   "source": [
    "**Females suicide rates of the selected countries**"
   ]
  },
  {
   "cell_type": "code",
   "execution_count": 64,
   "metadata": {},
   "outputs": [
    {
     "data": {
      "application/vnd.plotly.v1+json": {
       "data": [
        {
         "line": {
          "shape": "spline"
         },
         "name": "Lithuania",
         "type": "scatter",
         "x": [
          "2000",
          "2005",
          "2010",
          "2015"
         ],
         "y": [
          18.4,
          13.8,
          11.7,
          11.2
         ]
        },
        {
         "line": {
          "shape": "spline"
         },
         "name": "Sri Lanka",
         "type": "scatter",
         "x": [
          "2000",
          "2005",
          "2010",
          "2015"
         ],
         "y": [
          17.5,
          14.9,
          11.7,
          13.6
         ]
        },
        {
         "line": {
          "shape": "spline"
         },
         "name": "Belarus",
         "type": "scatter",
         "x": [
          "2000",
          "2005",
          "2010",
          "2015"
         ],
         "y": [
          12.8,
          12,
          8.8,
          7
         ]
        },
        {
         "line": {
          "shape": "spline"
         },
         "name": "North Korea",
         "type": "scatter",
         "x": [
          "2000",
          "2005",
          "2010",
          "2015"
         ],
         "y": [
          16.8,
          20.6,
          18.8,
          15.4
         ]
        },
        {
         "line": {
          "shape": "spline"
         },
         "name": "Japan",
         "type": "scatter",
         "x": [
          "2000",
          "2005",
          "2010",
          "2015"
         ],
         "y": [
          13.8,
          13.4,
          13.9,
          12.4
         ]
        },
        {
         "line": {
          "shape": "spline"
         },
         "name": "South Korea",
         "type": "scatter",
         "x": [
          "2000",
          "2005",
          "2010",
          "2015"
         ],
         "y": [
          9.3,
          18,
          22.9,
          16.4
         ]
        },
        {
         "line": {
          "shape": "spline"
         },
         "name": "Poland",
         "type": "scatter",
         "x": [
          "2000",
          "2005",
          "2010",
          "2015"
         ],
         "y": [
          6.5,
          6.2,
          6.1,
          6.4
         ]
        },
        {
         "line": {
          "shape": "spline"
         },
         "name": "Belguim",
         "type": "scatter",
         "x": [
          "2000",
          "2005",
          "2010",
          "2015"
         ],
         "y": []
        }
       ],
       "layout": {
        "title": "Females Suicide Rates of the Selected Countries",
        "xaxis": {
         "autotick": false,
         "dtick": 5,
         "tick0": 0,
         "ticks": "outside",
         "title": "Year"
        },
        "yaxis": {
         "rangemode": "tozero",
         "title": "Females Suicide Rate"
        }
       }
      },
      "text/html": [
       "<div id=\"b42a46bb-1fa6-48dc-8864-4343d735d4e0\" style=\"height: 525px; width: 100%;\" class=\"plotly-graph-div\"></div><script type=\"text/javascript\">require([\"plotly\"], function(Plotly) { window.PLOTLYENV=window.PLOTLYENV || {};window.PLOTLYENV.BASE_URL=\"https://plot.ly\";Plotly.newPlot(\"b42a46bb-1fa6-48dc-8864-4343d735d4e0\", [{\"type\": \"scatter\", \"x\": [\"2000\", \"2005\", \"2010\", \"2015\"], \"y\": [18.4, 13.8, 11.7, 11.2], \"name\": \"Lithuania\", \"line\": {\"shape\": \"spline\"}}, {\"type\": \"scatter\", \"x\": [\"2000\", \"2005\", \"2010\", \"2015\"], \"y\": [17.5, 14.9, 11.7, 13.6], \"name\": \"Sri Lanka\", \"line\": {\"shape\": \"spline\"}}, {\"type\": \"scatter\", \"x\": [\"2000\", \"2005\", \"2010\", \"2015\"], \"y\": [12.8, 12.0, 8.8, 7.0], \"name\": \"Belarus\", \"line\": {\"shape\": \"spline\"}}, {\"type\": \"scatter\", \"x\": [\"2000\", \"2005\", \"2010\", \"2015\"], \"y\": [16.8, 20.6, 18.8, 15.4], \"name\": \"North Korea\", \"line\": {\"shape\": \"spline\"}}, {\"type\": \"scatter\", \"x\": [\"2000\", \"2005\", \"2010\", \"2015\"], \"y\": [13.8, 13.4, 13.9, 12.4], \"name\": \"Japan\", \"line\": {\"shape\": \"spline\"}}, {\"type\": \"scatter\", \"x\": [\"2000\", \"2005\", \"2010\", \"2015\"], \"y\": [9.3, 18.0, 22.9, 16.4], \"name\": \"South Korea\", \"line\": {\"shape\": \"spline\"}}, {\"type\": \"scatter\", \"x\": [\"2000\", \"2005\", \"2010\", \"2015\"], \"y\": [6.5, 6.2, 6.1, 6.4], \"name\": \"Poland\", \"line\": {\"shape\": \"spline\"}}, {\"type\": \"scatter\", \"x\": [\"2000\", \"2005\", \"2010\", \"2015\"], \"y\": [], \"name\": \"Belguim\", \"line\": {\"shape\": \"spline\"}}], {\"title\": \"Females Suicide Rates of the Selected Countries\", \"xaxis\": {\"title\": \"Year\", \"autotick\": false, \"ticks\": \"outside\", \"tick0\": 0, \"dtick\": 5}, \"yaxis\": {\"title\": \"Females Suicide Rate\", \"rangemode\": \"tozero\"}}, {\"showLink\": true, \"linkText\": \"Export to plot.ly\"})});</script>"
      ],
      "text/vnd.plotly.v1+html": [
       "<div id=\"b42a46bb-1fa6-48dc-8864-4343d735d4e0\" style=\"height: 525px; width: 100%;\" class=\"plotly-graph-div\"></div><script type=\"text/javascript\">require([\"plotly\"], function(Plotly) { window.PLOTLYENV=window.PLOTLYENV || {};window.PLOTLYENV.BASE_URL=\"https://plot.ly\";Plotly.newPlot(\"b42a46bb-1fa6-48dc-8864-4343d735d4e0\", [{\"type\": \"scatter\", \"x\": [\"2000\", \"2005\", \"2010\", \"2015\"], \"y\": [18.4, 13.8, 11.7, 11.2], \"name\": \"Lithuania\", \"line\": {\"shape\": \"spline\"}}, {\"type\": \"scatter\", \"x\": [\"2000\", \"2005\", \"2010\", \"2015\"], \"y\": [17.5, 14.9, 11.7, 13.6], \"name\": \"Sri Lanka\", \"line\": {\"shape\": \"spline\"}}, {\"type\": \"scatter\", \"x\": [\"2000\", \"2005\", \"2010\", \"2015\"], \"y\": [12.8, 12.0, 8.8, 7.0], \"name\": \"Belarus\", \"line\": {\"shape\": \"spline\"}}, {\"type\": \"scatter\", \"x\": [\"2000\", \"2005\", \"2010\", \"2015\"], \"y\": [16.8, 20.6, 18.8, 15.4], \"name\": \"North Korea\", \"line\": {\"shape\": \"spline\"}}, {\"type\": \"scatter\", \"x\": [\"2000\", \"2005\", \"2010\", \"2015\"], \"y\": [13.8, 13.4, 13.9, 12.4], \"name\": \"Japan\", \"line\": {\"shape\": \"spline\"}}, {\"type\": \"scatter\", \"x\": [\"2000\", \"2005\", \"2010\", \"2015\"], \"y\": [9.3, 18.0, 22.9, 16.4], \"name\": \"South Korea\", \"line\": {\"shape\": \"spline\"}}, {\"type\": \"scatter\", \"x\": [\"2000\", \"2005\", \"2010\", \"2015\"], \"y\": [6.5, 6.2, 6.1, 6.4], \"name\": \"Poland\", \"line\": {\"shape\": \"spline\"}}, {\"type\": \"scatter\", \"x\": [\"2000\", \"2005\", \"2010\", \"2015\"], \"y\": [], \"name\": \"Belguim\", \"line\": {\"shape\": \"spline\"}}], {\"title\": \"Females Suicide Rates of the Selected Countries\", \"xaxis\": {\"title\": \"Year\", \"autotick\": false, \"ticks\": \"outside\", \"tick0\": 0, \"dtick\": 5}, \"yaxis\": {\"title\": \"Females Suicide Rate\", \"rangemode\": \"tozero\"}}, {\"showLink\": true, \"linkText\": \"Export to plot.ly\"})});</script>"
      ]
     },
     "metadata": {},
     "output_type": "display_data"
    }
   ],
   "source": [
    "data = []\n",
    "for i in range(len(selected)):\n",
    "    \n",
    "    trace = go.Scatter(\n",
    "        x = ['2000', '2005', '2010', '2015'],\n",
    "        y = suicides[selectedMasks[i]]['Female suicide rate'].values.tolist(),\n",
    "        name = selected[i],\n",
    "        line=dict(\n",
    "            shape='spline'\n",
    "        )\n",
    "    )  \n",
    "    data.append(trace)\n",
    "  \n",
    "layout = go.Layout(\n",
    "    title='Females Suicide Rates of the Selected Countries',\n",
    "    xaxis=dict(\n",
    "        title='Year',\n",
    "        autotick=False,\n",
    "        ticks='outside',\n",
    "        tick0=0,\n",
    "        dtick=5\n",
    "    ),\n",
    "    yaxis=dict(\n",
    "        title='Females Suicide Rate',\n",
    "        rangemode='tozero'\n",
    "    )\n",
    ")\n",
    "\n",
    "fig = go.Figure(data=data, layout=layout)\n",
    "\n",
    "py.iplot(fig, filename='line-mode')"
   ]
  },
  {
   "cell_type": "markdown",
   "metadata": {},
   "source": [
    "**Male-Female suicide rates ratio in the selected countries**"
   ]
  },
  {
   "cell_type": "code",
   "execution_count": 65,
   "metadata": {},
   "outputs": [
    {
     "data": {
      "application/vnd.plotly.v1+json": {
       "data": [
        {
         "line": {
          "shape": "spline"
         },
         "name": "Lithuania",
         "type": "scatter",
         "x": [
          "2000",
          "2005",
          "2010",
          "2015"
         ],
         "y": [
          4.679347826086957,
          5.268115942028985,
          5.11965811965812,
          5.178571428571429
         ]
        },
        {
         "line": {
          "shape": "spline"
         },
         "name": "Sri Lanka",
         "type": "scatter",
         "x": [
          "2000",
          "2005",
          "2010",
          "2015"
         ],
         "y": [
          3.1657142857142855,
          3.12751677852349,
          3.9743589743589745,
          4.3161764705882355
         ]
        },
        {
         "line": {
          "shape": "spline"
         },
         "name": "Belarus",
         "type": "scatter",
         "x": [
          "2000",
          "2005",
          "2010",
          "2015"
         ],
         "y": [
          5.843749999999999,
          5.3,
          5.670454545454545,
          5.857142857142857
         ]
        },
        {
         "line": {
          "shape": "spline"
         },
         "name": "North Korea",
         "type": "scatter",
         "x": [
          "2000",
          "2005",
          "2010",
          "2015"
         ],
         "y": [
          1.2738095238095237,
          1.0339805825242718,
          1.0212765957446808,
          1.0584415584415585
         ]
        },
        {
         "line": {
          "shape": "spline"
         },
         "name": "Japan",
         "type": "scatter",
         "x": [
          "2000",
          "2005",
          "2010",
          "2015"
         ],
         "y": [
          2.572463768115942,
          2.7313432835820897,
          2.5323741007194247,
          2.2016129032258065
         ]
        },
        {
         "line": {
          "shape": "spline"
         },
         "name": "South Korea",
         "type": "scatter",
         "x": [
          "2000",
          "2005",
          "2010",
          "2015"
         ],
         "y": [
          2.182795698924731,
          2.022222222222222,
          1.9868995633187774,
          2.4634146341463414
         ]
        },
        {
         "line": {
          "shape": "spline"
         },
         "name": "Poland",
         "type": "scatter",
         "x": [
          "2000",
          "2005",
          "2010",
          "2015"
         ],
         "y": [
          5.492307692307692,
          6.387096774193548,
          6.7377049180327875,
          6.125
         ]
        },
        {
         "line": {
          "shape": "spline"
         },
         "name": "Belguim",
         "type": "scatter",
         "x": [
          "2000",
          "2005",
          "2010",
          "2015"
         ],
         "y": []
        }
       ],
       "layout": {
        "title": "Male-Female Suicide Rates Ratio in the Selected Countries",
        "xaxis": {
         "autotick": false,
         "dtick": 5,
         "tick0": 0,
         "ticks": "outside",
         "title": "Year"
        },
        "yaxis": {
         "rangemode": "tozero",
         "title": "Male-Female Ratio"
        }
       }
      },
      "text/html": [
       "<div id=\"8b66828f-7424-48af-a3d2-9afbc3b0cb60\" style=\"height: 525px; width: 100%;\" class=\"plotly-graph-div\"></div><script type=\"text/javascript\">require([\"plotly\"], function(Plotly) { window.PLOTLYENV=window.PLOTLYENV || {};window.PLOTLYENV.BASE_URL=\"https://plot.ly\";Plotly.newPlot(\"8b66828f-7424-48af-a3d2-9afbc3b0cb60\", [{\"type\": \"scatter\", \"x\": [\"2000\", \"2005\", \"2010\", \"2015\"], \"y\": [4.679347826086957, 5.268115942028985, 5.11965811965812, 5.178571428571429], \"name\": \"Lithuania\", \"line\": {\"shape\": \"spline\"}}, {\"type\": \"scatter\", \"x\": [\"2000\", \"2005\", \"2010\", \"2015\"], \"y\": [3.1657142857142855, 3.12751677852349, 3.9743589743589745, 4.3161764705882355], \"name\": \"Sri Lanka\", \"line\": {\"shape\": \"spline\"}}, {\"type\": \"scatter\", \"x\": [\"2000\", \"2005\", \"2010\", \"2015\"], \"y\": [5.843749999999999, 5.3, 5.670454545454545, 5.857142857142857], \"name\": \"Belarus\", \"line\": {\"shape\": \"spline\"}}, {\"type\": \"scatter\", \"x\": [\"2000\", \"2005\", \"2010\", \"2015\"], \"y\": [1.2738095238095237, 1.0339805825242718, 1.0212765957446808, 1.0584415584415585], \"name\": \"North Korea\", \"line\": {\"shape\": \"spline\"}}, {\"type\": \"scatter\", \"x\": [\"2000\", \"2005\", \"2010\", \"2015\"], \"y\": [2.572463768115942, 2.7313432835820897, 2.5323741007194247, 2.2016129032258065], \"name\": \"Japan\", \"line\": {\"shape\": \"spline\"}}, {\"type\": \"scatter\", \"x\": [\"2000\", \"2005\", \"2010\", \"2015\"], \"y\": [2.182795698924731, 2.022222222222222, 1.9868995633187774, 2.4634146341463414], \"name\": \"South Korea\", \"line\": {\"shape\": \"spline\"}}, {\"type\": \"scatter\", \"x\": [\"2000\", \"2005\", \"2010\", \"2015\"], \"y\": [5.492307692307692, 6.387096774193548, 6.7377049180327875, 6.125], \"name\": \"Poland\", \"line\": {\"shape\": \"spline\"}}, {\"type\": \"scatter\", \"x\": [\"2000\", \"2005\", \"2010\", \"2015\"], \"y\": [], \"name\": \"Belguim\", \"line\": {\"shape\": \"spline\"}}], {\"title\": \"Male-Female Suicide Rates Ratio in the Selected Countries\", \"xaxis\": {\"title\": \"Year\", \"autotick\": false, \"ticks\": \"outside\", \"tick0\": 0, \"dtick\": 5}, \"yaxis\": {\"title\": \"Male-Female Ratio\", \"rangemode\": \"tozero\"}}, {\"showLink\": true, \"linkText\": \"Export to plot.ly\"})});</script>"
      ],
      "text/vnd.plotly.v1+html": [
       "<div id=\"8b66828f-7424-48af-a3d2-9afbc3b0cb60\" style=\"height: 525px; width: 100%;\" class=\"plotly-graph-div\"></div><script type=\"text/javascript\">require([\"plotly\"], function(Plotly) { window.PLOTLYENV=window.PLOTLYENV || {};window.PLOTLYENV.BASE_URL=\"https://plot.ly\";Plotly.newPlot(\"8b66828f-7424-48af-a3d2-9afbc3b0cb60\", [{\"type\": \"scatter\", \"x\": [\"2000\", \"2005\", \"2010\", \"2015\"], \"y\": [4.679347826086957, 5.268115942028985, 5.11965811965812, 5.178571428571429], \"name\": \"Lithuania\", \"line\": {\"shape\": \"spline\"}}, {\"type\": \"scatter\", \"x\": [\"2000\", \"2005\", \"2010\", \"2015\"], \"y\": [3.1657142857142855, 3.12751677852349, 3.9743589743589745, 4.3161764705882355], \"name\": \"Sri Lanka\", \"line\": {\"shape\": \"spline\"}}, {\"type\": \"scatter\", \"x\": [\"2000\", \"2005\", \"2010\", \"2015\"], \"y\": [5.843749999999999, 5.3, 5.670454545454545, 5.857142857142857], \"name\": \"Belarus\", \"line\": {\"shape\": \"spline\"}}, {\"type\": \"scatter\", \"x\": [\"2000\", \"2005\", \"2010\", \"2015\"], \"y\": [1.2738095238095237, 1.0339805825242718, 1.0212765957446808, 1.0584415584415585], \"name\": \"North Korea\", \"line\": {\"shape\": \"spline\"}}, {\"type\": \"scatter\", \"x\": [\"2000\", \"2005\", \"2010\", \"2015\"], \"y\": [2.572463768115942, 2.7313432835820897, 2.5323741007194247, 2.2016129032258065], \"name\": \"Japan\", \"line\": {\"shape\": \"spline\"}}, {\"type\": \"scatter\", \"x\": [\"2000\", \"2005\", \"2010\", \"2015\"], \"y\": [2.182795698924731, 2.022222222222222, 1.9868995633187774, 2.4634146341463414], \"name\": \"South Korea\", \"line\": {\"shape\": \"spline\"}}, {\"type\": \"scatter\", \"x\": [\"2000\", \"2005\", \"2010\", \"2015\"], \"y\": [5.492307692307692, 6.387096774193548, 6.7377049180327875, 6.125], \"name\": \"Poland\", \"line\": {\"shape\": \"spline\"}}, {\"type\": \"scatter\", \"x\": [\"2000\", \"2005\", \"2010\", \"2015\"], \"y\": [], \"name\": \"Belguim\", \"line\": {\"shape\": \"spline\"}}], {\"title\": \"Male-Female Suicide Rates Ratio in the Selected Countries\", \"xaxis\": {\"title\": \"Year\", \"autotick\": false, \"ticks\": \"outside\", \"tick0\": 0, \"dtick\": 5}, \"yaxis\": {\"title\": \"Male-Female Ratio\", \"rangemode\": \"tozero\"}}, {\"showLink\": true, \"linkText\": \"Export to plot.ly\"})});</script>"
      ]
     },
     "metadata": {},
     "output_type": "display_data"
    }
   ],
   "source": [
    "data = []\n",
    "for i in range(len(selected)):\n",
    "    \n",
    "    trace = go.Scatter(\n",
    "        x = ['2000', '2005', '2010', '2015'],\n",
    "        y = suicides[selectedMasks[i]]['Male-Female ratio'].values.tolist(),\n",
    "        name = selected[i],\n",
    "        line=dict(\n",
    "            shape='spline'\n",
    "        )\n",
    "    )\n",
    "    data.append(trace)\n",
    "\n",
    "layout = go.Layout(\n",
    "    title='Male-Female Suicide Rates Ratio in the Selected Countries',\n",
    "    xaxis=dict(\n",
    "        title='Year',\n",
    "        autotick=False,\n",
    "        ticks='outside',\n",
    "        tick0=0,\n",
    "        dtick=5\n",
    "    ),\n",
    "    yaxis=dict(\n",
    "        title='Male-Female Ratio',\n",
    "        rangemode='tozero'\n",
    "    )\n",
    ")\n",
    "\n",
    "fig = go.Figure(data=data, layout=layout)\n",
    "\n",
    "py.iplot(fig, filename='line-mode')"
   ]
  },
  {
   "cell_type": "markdown",
   "metadata": {},
   "source": [
    "# <a id='6'>6. Summary and Conculsions</a>"
   ]
  },
  {
   "cell_type": "markdown",
   "metadata": {},
   "source": [
    "## <a id='6.1'>6.1 Summary of the data presented in the notebook</a>"
   ]
  },
  {
   "cell_type": "markdown",
   "metadata": {},
   "source": [
    "**Top 10 countries with the highest suicide rates for both sexes:**\n",
    "\n",
    "*(Top 10 in 2015, although data is shown for 2000, 2005, 2010 and 2015 and ordered by the data from 2000)*\n",
    "\n",
    "* Lithuania\n",
    "* Belarus\n",
    "* Kazakhstan\n",
    "* Sri Lanka\n",
    "* Mongolia\n",
    "* Suriname\n",
    "* Equatorial Guinea\n",
    "* Guyana\n",
    "* Poland\n",
    "* South Korea"
   ]
  },
  {
   "cell_type": "markdown",
   "metadata": {},
   "source": [
    "**Top 10 countries with the highest suicide rates for males:**\n",
    "\n",
    "*(Top 10 in 2015, although data is shown for 2000, 2005, 2010 and 2015 and ordered by the data from 2000)*\n",
    "\n",
    "* Lithuania\n",
    "* Belarus\n",
    "* Kazakhstan\n",
    "* Latvia\n",
    "* Sri Lanka\n",
    "* Mongolia\n",
    "* Suriname\n",
    "* Poland\n",
    "* Guyana\n",
    "* South Korea"
   ]
  },
  {
   "cell_type": "markdown",
   "metadata": {},
   "source": [
    "**Top 10 countries with the highest suicide rates for females:**\n",
    "\n",
    "*(Top 10 in 2015, although data is shown for 2000, 2005, 2010 and 2015 and ordered by the data from 2000)*\n",
    "\n",
    "* Sri Lanka\n",
    "* North Korea\n",
    "* India\n",
    "* Bolivia\n",
    "* Japan\n",
    "* Belguim\n",
    "* Guyana\n",
    "* Suriname\n",
    "* Angola\n",
    "* South Korea"
   ]
  },
  {
   "cell_type": "markdown",
   "metadata": {},
   "source": [
    "**Top 5 Countries with the highest suicide rates for both sexes in 2015:**\n",
    "* Sri Lanka - 35.3\n",
    "* Lithuania - 32.7\n",
    "* Guyana - 29\n",
    "* Mongolia - 28.3\n",
    "* South Korea - 28.3"
   ]
  },
  {
   "cell_type": "markdown",
   "metadata": {},
   "source": [
    "**Top 5 Countries with the lowest suicide rates for both sexes in 2015:**\n",
    "* Barbados - 0.4\n",
    "* Grenda - 0.5\n",
    "* Brunei - 1.3\n",
    "* Jamaica - 1.4\n",
    "* The Bahamas - 1.8"
   ]
  },
  {
   "cell_type": "markdown",
   "metadata": {},
   "source": [
    "**Top 5 Countries with the highest suicide rates for males in 2015:**\n",
    "* Sri Lanka - 58.7\n",
    "* Lithuania - 58\n",
    "* Mongolia - 47.8\n",
    "* Kazakhstan - 46.8\n",
    "* Guyana - 42.4"
   ]
  },
  {
   "cell_type": "markdown",
   "metadata": {},
   "source": [
    "**Top 5 Countries with the highest suicide rates for females in 2015:**\n",
    "* South Korea - 16.4\n",
    "* Guyana - 15.5\n",
    "* North Korea - 15.4\n",
    "* India - 14.3\n",
    "* Sri Lanka - 13.6\n",
    "\n"
   ]
  },
  {
   "cell_type": "markdown",
   "metadata": {},
   "source": [
    "**Top 5 Countries with the highest suicide rates average since the 90's for both sexes:**\n",
    "\n",
    "*(The average is calculated only for years for which data was provided)*\n",
    "\n",
    "* Lithuania - 38.32\n",
    "* Guyana - 35.75\n",
    "* Russia - 33\n",
    "* Somalia - 29.86\n",
    "* Latvia - 29"
   ]
  },
  {
   "cell_type": "markdown",
   "metadata": {},
   "source": [
    "**Top 5 Countries with the lowest suicide rates average since the 90's for both sexes:**\n",
    "\n",
    "*(The average is calculated only for years for which data was provided)*\n",
    "\n",
    "* Jordan - 0.2\n",
    "* Syria - 0.52\n",
    "* Cyprus - 0.61\n",
    "* Egypt - 0.94\n",
    "* Brunei - 1.37"
   ]
  },
  {
   "cell_type": "markdown",
   "metadata": {},
   "source": [
    "**Top 5 Countries with the highest male-female suicides ratio in 2015:**\n",
    "* Saint Vincer - 12.25\n",
    "* Qatar - 9.44\n",
    "* Panama - 9\n",
    "* Jamaica - 8.66\n",
    "* The Bahamas - 8"
   ]
  },
  {
   "cell_type": "markdown",
   "metadata": {},
   "source": [
    "**Top 5 Countries with the lowest male-female suicides ratio in 2015:**\n",
    "* Bangladesh - 0.7 (Meaning the female-male ratio is 1.42)\n",
    "* China - 0.756 (Female-male ratio is 1.32)\n",
    "* North Korea - 1.06\n",
    "* Pakistan - 1.1\n",
    "* Nepal - 1.18"
   ]
  },
  {
   "cell_type": "markdown",
   "metadata": {},
   "source": [
    "**Top 5 Countries with the highest male-female suicides ratio in 2010:**\n",
    "* Qatar - 9\n",
    "* Saint Vincer - 8.5\n",
    "* Seychelles - 8\n",
    "* Malta - 7.82\n",
    "* Rwanda - 7.21"
   ]
  },
  {
   "cell_type": "markdown",
   "metadata": {},
   "source": [
    "**Top 5 Countries with the lowest male-female suicides ratio in 2010:**\n",
    "* Bangladesh - 0.53 (Female-male ratio is 1.89)\n",
    "* China - 0.75 (Female-male ratio is 1.33)\n",
    "* Pakistan - 1\n",
    "* North Korea - 1.02\n",
    "* India - 1.125\n",
    "\n"
   ]
  },
  {
   "cell_type": "markdown",
   "metadata": {},
   "source": [
    "**Top 5 Countries with the highest male-female suicides ratio in 2005:**\n",
    "* Barbados - 9\n",
    "* Belize - 8.18\n",
    "* Seychelles - 7.95\n",
    "* Rwanda - 7.92\n",
    "* Grenada - 7.66"
   ]
  },
  {
   "cell_type": "markdown",
   "metadata": {},
   "source": [
    "**Top 5 Countries with the lowest male-female suicides ratio in 2005:**\n",
    "* Bangladesh - 0.5 (Female-male ratio is 2)\n",
    "* China - 0.754 (Female-male ratio is 1.32)\n",
    "* North Korea - 1.03\n",
    "* India - 1.09\n",
    "* Nepal - 1.12"
   ]
  },
  {
   "cell_type": "markdown",
   "metadata": {},
   "source": [
    "**Top 5 Countries with the highest male-female suicides ratio in 2000:**\n",
    "* Antigua and Barbuda - 49\n",
    "* Saint Vincent and the Grenadines - 17\n",
    "* Rwanda - 9.4\n",
    "* Venezuela - 7.61\n",
    "* Seychelles - 7.6"
   ]
  },
  {
   "cell_type": "markdown",
   "metadata": {},
   "source": [
    "**Top 5 Countries with the lowest male-female suicides ratio in 2000:**\n",
    "* Bangladesh - 0.72 (Female-male ratio is 2)\n",
    "* China - 0.77 (Female-male ratio is 1.32)\n",
    "* Tonga - 1.11\n",
    "* India - 1.14\n",
    "* Nepal - 1.16"
   ]
  },
  {
   "cell_type": "markdown",
   "metadata": {},
   "source": [
    "## <a id='6.2'>6.2 Conclusions</a>"
   ]
  },
  {
   "cell_type": "markdown",
   "metadata": {},
   "source": [
    "* The highest males suicide rates in specific countries can reach up to 4 times the highest females suicide rates in specific countries.\n",
    "\n",
    "* Only two countries in the world have a male-female suicide rates ratio which is below 1, meaning that the female suicide rate is higher than the male suicide rate.\n",
    "\n",
    "* North Korea has one of the lowest male-female ratio in the world but also has one of the highest females suicide rate in the world.\n",
    "\n",
    "* Pakistan's male-female suicide rate ratio in 2010 was 1. That means the males suicide rate and the females suicide rate were roughly equal."
   ]
  },
  {
   "cell_type": "markdown",
   "metadata": {},
   "source": [
    "**It is highly recommended to look through the data in the specific countries we've gone through in section 5.6.**"
   ]
  },
  {
   "cell_type": "markdown",
   "metadata": {},
   "source": [
    "## Thanks for reading the notebook!"
   ]
  }
 ],
 "metadata": {
  "kernelspec": {
   "display_name": "Python 3",
   "language": "python",
   "name": "python3"
  },
  "language_info": {
   "codemirror_mode": {
    "name": "ipython",
    "version": 3
   },
   "file_extension": ".py",
   "mimetype": "text/x-python",
   "name": "python",
   "nbconvert_exporter": "python",
   "pygments_lexer": "ipython3",
   "version": "3.6.1"
  }
 },
 "nbformat": 4,
 "nbformat_minor": 2
}
